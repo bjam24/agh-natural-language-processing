{
 "cells": [
  {
   "cell_type": "markdown",
   "id": "707877e4-c069-42ac-a66d-baf4a2b3035a",
   "metadata": {
    "id": "707877e4-c069-42ac-a66d-baf4a2b3035a"
   },
   "source": [
    "# NLP Lab5 - Text classification\n",
    "\n",
    "**Author: Bartłomiej Jamiołkowski**"
   ]
  },
  {
   "cell_type": "markdown",
   "id": "96df51b0-5297-4a24-a927-b923c1e025e1",
   "metadata": {
    "id": "96df51b0-5297-4a24-a927-b923c1e025e1"
   },
   "source": [
    "The task concentrates on classification of sentence pairs.\n",
    "\n",
    "This type of classification is useful for problems such as determining the similarity of sentences or checking if a text passage contains an answer to a question."
   ]
  },
  {
   "cell_type": "code",
   "execution_count": 1,
   "id": "ddd04456-5783-4935-8780-09d87053003a",
   "metadata": {
    "executionInfo": {
     "elapsed": 216,
     "status": "ok",
     "timestamp": 1733089350033,
     "user": {
      "displayName": "Bartek Jamiołkowski",
      "userId": "12147853541531476383"
     },
     "user_tz": -60
    },
    "id": "ddd04456-5783-4935-8780-09d87053003a"
   },
   "outputs": [],
   "source": [
    "from datasets import load_dataset, Dataset, DatasetDict\n",
    "from elasticsearch import Elasticsearch, helpers\n",
    "from sklearn.model_selection import train_test_split\n",
    "from transformers import AutoTokenizer, AutoModelForSequenceClassification, TrainingArguments, Trainer, TextClassificationPipeline\n",
    "from sklearn.metrics import accuracy_score, precision_score, recall_score, f1_score, confusion_matrix\n",
    "import seaborn as sns\n",
    "import matplotlib.pyplot as plt\n",
    "import numpy as np\n",
    "import pandas as pd\n",
    "import evaluate\n",
    "import math\n",
    "import json\n",
    "\n",
    "import warnings\n",
    "warnings.filterwarnings('ignore')"
   ]
  },
  {
   "cell_type": "markdown",
   "id": "97991688-e3fd-45f9-a9c2-ebab515f88f4",
   "metadata": {
    "id": "97991688-e3fd-45f9-a9c2-ebab515f88f4"
   },
   "source": [
    "## Task 1"
   ]
  },
  {
   "cell_type": "markdown",
   "id": "0c10f263-341a-4b11-b4cf-bc25d39fd5e5",
   "metadata": {
    "id": "0c10f263-341a-4b11-b4cf-bc25d39fd5e5"
   },
   "source": [
    "Use the FIQA-PL dataset that was used in lab 1 **and** lab 2 (so we need the passages, the questions and their relations)."
   ]
  },
  {
   "cell_type": "code",
   "execution_count": 2,
   "id": "3eb77681-20ff-4c6f-9246-3d750dd4756b",
   "metadata": {
    "colab": {
     "base_uri": "https://localhost:8080/",
     "height": 145,
     "referenced_widgets": [
      "5387e3c220774024b2487e22c7f0172f",
      "e3ce81eca39e498f90ed719030982ca1",
      "ce1ba9c8fddf44f0bf5357988c12c3dd",
      "a50906b6afd444b3942218e0fd5c3b44",
      "1b6f6d66ae9447128787885f73f2b837",
      "6329a12329e64cb2af9af9d617e962ce",
      "b6d99431e81f43f7b096c4763259ace0",
      "7d0b9e22dcdf412cae3c6d0a5f70a02c",
      "38b3f9a6e5d44592ab6c695f9d6e098b",
      "1161e5c70d294e65bac0b6ef265e9ef5",
      "87e10ac9c3ea4751bb94f1617e931e19",
      "cc1cbf52387c4b70b6b418e403f17cdc",
      "a5e3546dbb984273b3edd490be017305",
      "d799f3461d6144119960dbee822a8be1",
      "d25a81aca0414a8e949669bc5d1fbea8",
      "542b45b91e194ab0a910dcf2c44124e5",
      "eae676ce0a494e1c97ed8957d31b31ca",
      "a73587a378da49c2ad4f78fb3f0e3757",
      "a3aea67f98664eefabfd1a427f559c8c",
      "827edaa014a14ffd92739ad2834fcef3",
      "57ff8b33fc9a47c6aecb04aa084abe8c",
      "260452e5822c47fc8d22acf1b274d11a",
      "2cf1563942264f448eff4c7f3af3e9cf",
      "d1f0c5f3758f46daaac483ee333bad12",
      "b4add610995c46259d2e9a7f5b6d710f",
      "8bfac02e504848118b2a490ad4687099",
      "b044b319c4da49e08596862ddeddaa7e",
      "11ce03a5c350437a827600dc410448e3",
      "29e48a877ac742c79a28cb27de480e99",
      "748ee24316d4474ca825480a64341bbd",
      "2178f65ce5d7478e9154ca69dc63ba14",
      "b3602976d5fb4a788af7bdf07ec23f25",
      "c6a15006165444a88409775cd443f409",
      "f03ea36c68514a97bb6776d5ec851ea8",
      "4106f7d0d7e745efabee5a4d2f2f21f2",
      "25b30e28179f4f78b07c2ab4397bc427",
      "fd378b8036d04e4c87acf60c79260458",
      "bec787deafec48efbe15c045cb8068fb",
      "309a4db4090d4088838588100627876e",
      "3625790f60ef49059ddcb611a6ea5255",
      "742e6a6032644a358eb52abb282372e9",
      "f3d49899844d4acea30d96e2e715e519",
      "04b2ddf2a11a4f3889f8bcf7428c32fc",
      "50189f753cbb4a238221c74aed543fc5"
     ]
    },
    "executionInfo": {
     "elapsed": 3654,
     "status": "ok",
     "timestamp": 1733089745563,
     "user": {
      "displayName": "Bartek Jamiołkowski",
      "userId": "12147853541531476383"
     },
     "user_tz": -60
    },
    "id": "3eb77681-20ff-4c6f-9246-3d750dd4756b",
    "outputId": "f1961c7d-25f2-495b-858a-e7a7e56c9eb4"
   },
   "outputs": [],
   "source": [
    "fiqa_pl_df = load_dataset('clarin-knext/fiqa-pl', 'corpus')['corpus'].to_pandas()"
   ]
  },
  {
   "cell_type": "code",
   "execution_count": 3,
   "id": "ab9c660e-3257-4031-a7eb-66b522bc91ca",
   "metadata": {
    "colab": {
     "base_uri": "https://localhost:8080/",
     "height": 178
    },
    "executionInfo": {
     "elapsed": 230,
     "status": "ok",
     "timestamp": 1733089746832,
     "user": {
      "displayName": "Bartek Jamiołkowski",
      "userId": "12147853541531476383"
     },
     "user_tz": -60
    },
    "id": "ab9c660e-3257-4031-a7eb-66b522bc91ca",
    "outputId": "d4b74e76-bf8b-4028-b21d-414c2fd01a75"
   },
   "outputs": [
    {
     "name": "stdout",
     "output_type": "stream",
     "text": [
      "<class 'pandas.core.frame.DataFrame'>\n",
      "RangeIndex: 57638 entries, 0 to 57637\n",
      "Data columns (total 3 columns):\n",
      " #   Column  Non-Null Count  Dtype \n",
      "---  ------  --------------  ----- \n",
      " 0   _id     57638 non-null  object\n",
      " 1   title   57638 non-null  object\n",
      " 2   text    57638 non-null  object\n",
      "dtypes: object(3)\n",
      "memory usage: 1.3+ MB\n"
     ]
    }
   ],
   "source": [
    "fiqa_pl_df.info()"
   ]
  },
  {
   "cell_type": "code",
   "execution_count": 4,
   "id": "1caee1f8-895a-4c85-ab69-62a0ed33d71c",
   "metadata": {
    "colab": {
     "base_uri": "https://localhost:8080/",
     "height": 206
    },
    "executionInfo": {
     "elapsed": 763,
     "status": "ok",
     "timestamp": 1733089748991,
     "user": {
      "displayName": "Bartek Jamiołkowski",
      "userId": "12147853541531476383"
     },
     "user_tz": -60
    },
    "id": "1caee1f8-895a-4c85-ab69-62a0ed33d71c",
    "outputId": "a7a1be67-c4a6-4d71-a745-0498c66ada2d"
   },
   "outputs": [
    {
     "data": {
      "text/html": [
       "<div>\n",
       "<style scoped>\n",
       "    .dataframe tbody tr th:only-of-type {\n",
       "        vertical-align: middle;\n",
       "    }\n",
       "\n",
       "    .dataframe tbody tr th {\n",
       "        vertical-align: top;\n",
       "    }\n",
       "\n",
       "    .dataframe thead th {\n",
       "        text-align: right;\n",
       "    }\n",
       "</style>\n",
       "<table border=\"1\" class=\"dataframe\">\n",
       "  <thead>\n",
       "    <tr style=\"text-align: right;\">\n",
       "      <th></th>\n",
       "      <th>_id</th>\n",
       "      <th>title</th>\n",
       "      <th>text</th>\n",
       "    </tr>\n",
       "  </thead>\n",
       "  <tbody>\n",
       "    <tr>\n",
       "      <th>0</th>\n",
       "      <td>3</td>\n",
       "      <td></td>\n",
       "      <td>Nie mówię, że nie podoba mi się też pomysł szk...</td>\n",
       "    </tr>\n",
       "    <tr>\n",
       "      <th>1</th>\n",
       "      <td>31</td>\n",
       "      <td></td>\n",
       "      <td>Tak więc nic nie zapobiega fałszywym ocenom po...</td>\n",
       "    </tr>\n",
       "    <tr>\n",
       "      <th>2</th>\n",
       "      <td>56</td>\n",
       "      <td></td>\n",
       "      <td>Nigdy nie możesz korzystać z FSA dla indywidua...</td>\n",
       "    </tr>\n",
       "    <tr>\n",
       "      <th>3</th>\n",
       "      <td>59</td>\n",
       "      <td></td>\n",
       "      <td>Samsung stworzył LCD i inne technologie płaski...</td>\n",
       "    </tr>\n",
       "    <tr>\n",
       "      <th>4</th>\n",
       "      <td>63</td>\n",
       "      <td></td>\n",
       "      <td>Oto wymagania SEC: Federalne przepisy dotycząc...</td>\n",
       "    </tr>\n",
       "  </tbody>\n",
       "</table>\n",
       "</div>"
      ],
      "text/plain": [
       "   _id title                                               text\n",
       "0    3        Nie mówię, że nie podoba mi się też pomysł szk...\n",
       "1   31        Tak więc nic nie zapobiega fałszywym ocenom po...\n",
       "2   56        Nigdy nie możesz korzystać z FSA dla indywidua...\n",
       "3   59        Samsung stworzył LCD i inne technologie płaski...\n",
       "4   63        Oto wymagania SEC: Federalne przepisy dotycząc..."
      ]
     },
     "execution_count": 4,
     "metadata": {},
     "output_type": "execute_result"
    }
   ],
   "source": [
    "fiqa_pl_df['_id'] = fiqa_pl_df['_id'].apply(lambda id: int(id))\n",
    "fiqa_pl_df.head()"
   ]
  },
  {
   "cell_type": "code",
   "execution_count": 5,
   "id": "e6e808fa-5c4f-4f4e-b40d-ffbc64558db2",
   "metadata": {
    "executionInfo": {
     "elapsed": 1092,
     "status": "ok",
     "timestamp": 1733090159604,
     "user": {
      "displayName": "Bartek Jamiołkowski",
      "userId": "12147853541531476383"
     },
     "user_tz": -60
    },
    "id": "e6e808fa-5c4f-4f4e-b40d-ffbc64558db2"
   },
   "outputs": [],
   "source": [
    "fiqa_pl_queries_df = load_dataset('clarin-knext/fiqa-pl', 'queries')['queries'].to_pandas()"
   ]
  },
  {
   "cell_type": "code",
   "execution_count": 6,
   "id": "7545a2c8-831c-4e9e-a850-f72495ff9af2",
   "metadata": {
    "colab": {
     "base_uri": "https://localhost:8080/",
     "height": 178
    },
    "executionInfo": {
     "elapsed": 411,
     "status": "ok",
     "timestamp": 1733089753890,
     "user": {
      "displayName": "Bartek Jamiołkowski",
      "userId": "12147853541531476383"
     },
     "user_tz": -60
    },
    "id": "7545a2c8-831c-4e9e-a850-f72495ff9af2",
    "outputId": "f9eb29be-ba81-4d0d-83bd-5d48caa4ed3f"
   },
   "outputs": [
    {
     "name": "stdout",
     "output_type": "stream",
     "text": [
      "<class 'pandas.core.frame.DataFrame'>\n",
      "RangeIndex: 6648 entries, 0 to 6647\n",
      "Data columns (total 3 columns):\n",
      " #   Column  Non-Null Count  Dtype \n",
      "---  ------  --------------  ----- \n",
      " 0   _id     6648 non-null   object\n",
      " 1   title   6648 non-null   object\n",
      " 2   text    6648 non-null   object\n",
      "dtypes: object(3)\n",
      "memory usage: 155.9+ KB\n"
     ]
    }
   ],
   "source": [
    "fiqa_pl_queries_df.info()"
   ]
  },
  {
   "cell_type": "code",
   "execution_count": 7,
   "id": "a50f0c62-0f26-482a-864c-5410355fcb0b",
   "metadata": {
    "colab": {
     "base_uri": "https://localhost:8080/",
     "height": 206
    },
    "executionInfo": {
     "elapsed": 253,
     "status": "ok",
     "timestamp": 1733089755248,
     "user": {
      "displayName": "Bartek Jamiołkowski",
      "userId": "12147853541531476383"
     },
     "user_tz": -60
    },
    "id": "a50f0c62-0f26-482a-864c-5410355fcb0b",
    "outputId": "d2481b9f-efdb-42f1-dc4b-918f3da113fa"
   },
   "outputs": [
    {
     "data": {
      "text/html": [
       "<div>\n",
       "<style scoped>\n",
       "    .dataframe tbody tr th:only-of-type {\n",
       "        vertical-align: middle;\n",
       "    }\n",
       "\n",
       "    .dataframe tbody tr th {\n",
       "        vertical-align: top;\n",
       "    }\n",
       "\n",
       "    .dataframe thead th {\n",
       "        text-align: right;\n",
       "    }\n",
       "</style>\n",
       "<table border=\"1\" class=\"dataframe\">\n",
       "  <thead>\n",
       "    <tr style=\"text-align: right;\">\n",
       "      <th></th>\n",
       "      <th>_id</th>\n",
       "      <th>title</th>\n",
       "      <th>text</th>\n",
       "    </tr>\n",
       "  </thead>\n",
       "  <tbody>\n",
       "    <tr>\n",
       "      <th>0</th>\n",
       "      <td>0</td>\n",
       "      <td></td>\n",
       "      <td>Co jest uważane za wydatek służbowy w podróży ...</td>\n",
       "    </tr>\n",
       "    <tr>\n",
       "      <th>1</th>\n",
       "      <td>4</td>\n",
       "      <td></td>\n",
       "      <td>Wydatki służbowe - ubezpieczenie samochodu pod...</td>\n",
       "    </tr>\n",
       "    <tr>\n",
       "      <th>2</th>\n",
       "      <td>5</td>\n",
       "      <td></td>\n",
       "      <td>Rozpoczęcie nowego biznesu online</td>\n",
       "    </tr>\n",
       "    <tr>\n",
       "      <th>3</th>\n",
       "      <td>6</td>\n",
       "      <td></td>\n",
       "      <td>„Dzień roboczy” i „termin płatności” rachunków</td>\n",
       "    </tr>\n",
       "    <tr>\n",
       "      <th>4</th>\n",
       "      <td>7</td>\n",
       "      <td></td>\n",
       "      <td>Nowy właściciel firmy – Jak działają podatki d...</td>\n",
       "    </tr>\n",
       "  </tbody>\n",
       "</table>\n",
       "</div>"
      ],
      "text/plain": [
       "   _id title                                               text\n",
       "0    0        Co jest uważane za wydatek służbowy w podróży ...\n",
       "1    4        Wydatki służbowe - ubezpieczenie samochodu pod...\n",
       "2    5                        Rozpoczęcie nowego biznesu online\n",
       "3    6           „Dzień roboczy” i „termin płatności” rachunków\n",
       "4    7        Nowy właściciel firmy – Jak działają podatki d..."
      ]
     },
     "execution_count": 7,
     "metadata": {},
     "output_type": "execute_result"
    }
   ],
   "source": [
    "fiqa_pl_queries_df['_id'] = fiqa_pl_queries_df['_id'].apply(lambda id: int(id))\n",
    "fiqa_pl_queries_df.head()"
   ]
  },
  {
   "cell_type": "code",
   "execution_count": 8,
   "id": "61d2f74d-e853-49ed-943e-2b77590819d3",
   "metadata": {
    "colab": {
     "base_uri": "https://localhost:8080/",
     "height": 241,
     "referenced_widgets": [
      "5f403157a8554e6a900c0d7d6b32f83b",
      "d3b31e6e568e487697755cf60d38855a",
      "c44fc88dd4e04998b64b18d577368c34",
      "a64151eb219f4fbea6ff1fa4a06a059b",
      "ee5ff0e20fee4d069dc83e8cb9ebf91e",
      "d69a76535f094d0ebf251609470dfe3e",
      "16aa2d6965784ba4acb80ef4c8349ce7",
      "c5e54257f65a431398f38d58eaa196ff",
      "da6eadebe77c4ce2a1aedd975b8b00a5",
      "83307d434a374360b4436bf34894a10d",
      "fb6f4ca39e8b4fea9453b32980ffdc06",
      "573b2cb91e4f4a27bebf48a113cec06d",
      "a0e5a464e3f64885a995eea806b3ce0b",
      "50fa2f39258f4ac09feeccd9b1e731bb",
      "b773890a4f27495a8be68e699d86a563",
      "3e7c5f64e9ef42939e4ac4867f6bf4dd",
      "49759703a7604eb3ad2d061d7e092dd3",
      "6e60772497024930897e60698f4fac59",
      "390d763860f240a4b5cea628169c63c3",
      "cb6c3a89f79e459095a66efb7eee3e1e",
      "e7ec87d45ebd4e3e9cb5bc7d4435eda9",
      "fa60a03da87848fbbd238db76acb30e7",
      "b6b9e49b63a241de9dafe193f6607ddf",
      "593c614ea55447a598896b76a385a294",
      "e0fe9a713dd44827a3fef81755d7f999",
      "d8bebb533e3f4b3d9381dc147c4b894c",
      "5fbb9b30a31d4b339f98b7de620ea0a2",
      "c1bf3c2d17fd4de9a5eda259e461f4f5",
      "2ffe4f8e8eba45bd97e847ecbda30165",
      "b6b20293693a4fadb28dce75a5290c4b",
      "187729371c244d3980d56dd88ea4983f",
      "2b9eb69292374298925c35e18a075664",
      "88804b0b944749028469dc243d352d0e",
      "e7905f6a202844678996a99d0448cd2e",
      "1e666cd4d2ac44b4ac48be6505b94e47",
      "472df9ee8416465bb16439aa05f260d5",
      "980a7bd1d35f4f0e8629dc325974a524",
      "51b7b121ce1c43499c7b533b37ef7dcc",
      "c32d03c0e1364d5e8a8b2d8a330b5b6e",
      "ef7892e8d3e5404db4413961765ac204",
      "05846fff70f547b0a77eb78a63c034f5",
      "a77f807376f04aa6b82b7c98462290d5",
      "99c1c35e3d124b1a90435cb23ff4662d",
      "8849ffe226a74b78b2326ad304c6a182",
      "764bdbabe4d749a1bf4abd6a07fd8d3d",
      "7ea492e6b29148a2bf52b0848151a2ef",
      "c2c490ca81fc4e469cb0938349a7280c",
      "a3042dcaf5c541599b0360a628ed73bb",
      "5fb24f5b433043719d9571b28a1adc34",
      "294f1878d89c49a6801af7466ab0f215",
      "93b898ffc99a44209f2098177dfd77e4",
      "503b9ee6f5fb47a394a58dde85f68d03",
      "10c31d17c5734fefa20ce8a61bf8aae3",
      "d0e4f8c1997a47778242096569f4eb90",
      "5d2eb73b1fc74c0e9da1a922d22e1b66",
      "c4ef8194810d4343bd109c9d44bc0fdf",
      "5e5b0e75a6674001b11655f68abd8a3a",
      "8de0b8acc20947228c24adb7cea078bf",
      "ab838c2ad42b467ead3b108f0c8f803e",
      "e8b512c6b97d4635b00a759048094984",
      "8bb3eedc54e047fa9f33d9c1ef88eb33",
      "57286bdc4ec144528833b659fc91a02f",
      "adc0a2100db940ec8ef34915e06235d2",
      "ecca979bd0fe4acca961d96c9b1c984a",
      "d58bdf16014e4ce5b278f53f9e75240a",
      "356fb350bd914c7887d18312774739df",
      "ae65bb51c7ba41d8b4f83d83f1bc13af",
      "42dbf1e239c94362ac083b99fce3728d",
      "4951ce45d2c747518ae9b1d483a093e4",
      "f6ee1f5d0a8c45fa8c225105855cb7f2",
      "5f5dc6c644194b8b8ed3756ebb7fd919",
      "9cf7939847ac4e81b10c5f2f4a2db8a5",
      "464a78cbf3d84f66a795ce08b8ef396d",
      "e55dd3b7fa564625a6233bd6b21fd2d8",
      "fb452b3759da415a86be41e01edd3229",
      "96db99f8964e4c1aa67482bdbf95eb96",
      "f10d1bf9fffd4498bf388a91923c614f"
     ]
    },
    "executionInfo": {
     "elapsed": 4135,
     "status": "ok",
     "timestamp": 1733089762698,
     "user": {
      "displayName": "Bartek Jamiołkowski",
      "userId": "12147853541531476383"
     },
     "user_tz": -60
    },
    "id": "61d2f74d-e853-49ed-943e-2b77590819d3",
    "outputId": "18858d0e-0fd6-43f5-abe5-120ce5d087c7"
   },
   "outputs": [],
   "source": [
    "fiqa_pl_train_df = load_dataset('clarin-knext/fiqa-pl-qrels', 'default')['train'].to_pandas()\n",
    "fiqa_pl_validation_df = load_dataset('clarin-knext/fiqa-pl-qrels', 'default')['validation'].to_pandas()\n",
    "fiqa_pl_test_df = load_dataset('clarin-knext/fiqa-pl-qrels', 'default')['test'].to_pandas()\n",
    "\n",
    "fiqa_pl_relations_df = pd.concat([fiqa_pl_train_df, fiqa_pl_validation_df, fiqa_pl_test_df])"
   ]
  },
  {
   "cell_type": "code",
   "execution_count": 9,
   "id": "6a28f5da-fb99-4eec-98d1-893efa04cd46",
   "metadata": {
    "colab": {
     "base_uri": "https://localhost:8080/",
     "height": 178
    },
    "executionInfo": {
     "elapsed": 11,
     "status": "ok",
     "timestamp": 1733089762699,
     "user": {
      "displayName": "Bartek Jamiołkowski",
      "userId": "12147853541531476383"
     },
     "user_tz": -60
    },
    "id": "6a28f5da-fb99-4eec-98d1-893efa04cd46",
    "outputId": "60ec9d69-f18f-45a3-e982-215ff29faab6"
   },
   "outputs": [
    {
     "name": "stdout",
     "output_type": "stream",
     "text": [
      "<class 'pandas.core.frame.DataFrame'>\n",
      "Index: 17110 entries, 0 to 1705\n",
      "Data columns (total 3 columns):\n",
      " #   Column     Non-Null Count  Dtype\n",
      "---  ------     --------------  -----\n",
      " 0   query-id   17110 non-null  int64\n",
      " 1   corpus-id  17110 non-null  int64\n",
      " 2   score      17110 non-null  int64\n",
      "dtypes: int64(3)\n",
      "memory usage: 534.7 KB\n"
     ]
    }
   ],
   "source": [
    "fiqa_pl_relations_df.info()"
   ]
  },
  {
   "cell_type": "code",
   "execution_count": 10,
   "id": "fe8a71a8-1ea4-432d-a381-20a19d13ca25",
   "metadata": {
    "colab": {
     "base_uri": "https://localhost:8080/",
     "height": 206
    },
    "executionInfo": {
     "elapsed": 237,
     "status": "ok",
     "timestamp": 1733089764813,
     "user": {
      "displayName": "Bartek Jamiołkowski",
      "userId": "12147853541531476383"
     },
     "user_tz": -60
    },
    "id": "fe8a71a8-1ea4-432d-a381-20a19d13ca25",
    "outputId": "3b220f99-7c63-4255-e64e-3dbdb8fc8848"
   },
   "outputs": [
    {
     "data": {
      "text/html": [
       "<div>\n",
       "<style scoped>\n",
       "    .dataframe tbody tr th:only-of-type {\n",
       "        vertical-align: middle;\n",
       "    }\n",
       "\n",
       "    .dataframe tbody tr th {\n",
       "        vertical-align: top;\n",
       "    }\n",
       "\n",
       "    .dataframe thead th {\n",
       "        text-align: right;\n",
       "    }\n",
       "</style>\n",
       "<table border=\"1\" class=\"dataframe\">\n",
       "  <thead>\n",
       "    <tr style=\"text-align: right;\">\n",
       "      <th></th>\n",
       "      <th>query-id</th>\n",
       "      <th>corpus-id</th>\n",
       "      <th>score</th>\n",
       "    </tr>\n",
       "  </thead>\n",
       "  <tbody>\n",
       "    <tr>\n",
       "      <th>0</th>\n",
       "      <td>0</td>\n",
       "      <td>18850</td>\n",
       "      <td>1</td>\n",
       "    </tr>\n",
       "    <tr>\n",
       "      <th>1</th>\n",
       "      <td>4</td>\n",
       "      <td>196463</td>\n",
       "      <td>1</td>\n",
       "    </tr>\n",
       "    <tr>\n",
       "      <th>2</th>\n",
       "      <td>5</td>\n",
       "      <td>69306</td>\n",
       "      <td>1</td>\n",
       "    </tr>\n",
       "    <tr>\n",
       "      <th>3</th>\n",
       "      <td>6</td>\n",
       "      <td>560251</td>\n",
       "      <td>1</td>\n",
       "    </tr>\n",
       "    <tr>\n",
       "      <th>4</th>\n",
       "      <td>6</td>\n",
       "      <td>188530</td>\n",
       "      <td>1</td>\n",
       "    </tr>\n",
       "  </tbody>\n",
       "</table>\n",
       "</div>"
      ],
      "text/plain": [
       "   query-id  corpus-id  score\n",
       "0         0      18850      1\n",
       "1         4     196463      1\n",
       "2         5      69306      1\n",
       "3         6     560251      1\n",
       "4         6     188530      1"
      ]
     },
     "execution_count": 10,
     "metadata": {},
     "output_type": "execute_result"
    }
   ],
   "source": [
    "fiqa_pl_relations_df.head()"
   ]
  },
  {
   "cell_type": "markdown",
   "id": "e592f355-f5c7-4275-85a3-d428e7604c4f",
   "metadata": {
    "id": "e592f355-f5c7-4275-85a3-d428e7604c4f"
   },
   "source": [
    "## Task 2"
   ]
  },
  {
   "cell_type": "markdown",
   "id": "aa94036e-cd1b-40a4-b0c0-a4860aabb69c",
   "metadata": {
    "id": "aa94036e-cd1b-40a4-b0c0-a4860aabb69c"
   },
   "source": [
    "Create a dataset of positive and negative sentence pairs.\n",
    "- In each pair the first element is a question and the second element is a passage, i.e. \"{question} {separator} {passage}\", where `separator` should be a separator taken from the model's tokenizer.\n",
    "- Use the relations to mark the positive pairs (i.e. pairs where the question is answered by the passage).\n",
    "- Use your own strategy to mark negative pairs (i.e. you can draw the negative examples, but there are better strategies to define the negative examples). The number of negative examples should be larger than the number of positive examples."
   ]
  },
  {
   "cell_type": "markdown",
   "id": "c3e43a43-5e90-4cd9-beab-1afbc8791299",
   "metadata": {},
   "source": [
    "I decided to create a dataset using FTS and Elasticsearch. By doing this, I intend to select incorrect answers that are as similar as possible to the correct ones."
   ]
  },
  {
   "cell_type": "code",
   "execution_count": 13,
   "id": "933392f7-a7a9-487d-87ba-0f3d26ff7c2c",
   "metadata": {
    "colab": {
     "base_uri": "https://localhost:8080/",
     "height": 1000
    },
    "executionInfo": {
     "elapsed": 262,
     "status": "error",
     "timestamp": 1733090274504,
     "user": {
      "displayName": "Bartek Jamiołkowski",
      "userId": "12147853541531476383"
     },
     "user_tz": -60
    },
    "id": "933392f7-a7a9-487d-87ba-0f3d26ff7c2c",
    "outputId": "5f055ae7-e8cf-4602-ef1d-650c9a139175"
   },
   "outputs": [
    {
     "name": "stdout",
     "output_type": "stream",
     "text": [
      "{'name': 'db5b00ccdaa3', 'cluster_name': 'docker-cluster', 'cluster_uuid': 'SjT3xS9LRKOClcBPPMzEfw', 'version': {'number': '8.16.1', 'build_flavor': 'default', 'build_type': 'docker', 'build_hash': 'ffe992aa682c1968b5df375b5095b3a21f122bf3', 'build_date': '2024-11-19T16:00:31.793213192Z', 'build_snapshot': False, 'lucene_version': '9.12.0', 'minimum_wire_compatibility_version': '7.17.0', 'minimum_index_compatibility_version': '7.0.0'}, 'tagline': 'You Know, for Search'}\n"
     ]
    }
   ],
   "source": [
    "es = Elasticsearch(\n",
    "    'https://host.docker.internal:9200',\n",
    "    verify_certs = False,\n",
    "    basic_auth = ('elastic', 'X9dVZZhr53SgmKtVumrn'))\n",
    "\n",
    "print(es.info())"
   ]
  },
  {
   "cell_type": "code",
   "execution_count": 14,
   "id": "81469c9f-0a06-49c9-b958-e76f1c23cd51",
   "metadata": {
    "executionInfo": {
     "elapsed": 215,
     "status": "ok",
     "timestamp": 1733090445802,
     "user": {
      "displayName": "Bartek Jamiołkowski",
      "userId": "12147853541531476383"
     },
     "user_tz": -60
    },
    "id": "81469c9f-0a06-49c9-b958-e76f1c23cd51"
   },
   "outputs": [],
   "source": [
    "index_configuration = {\n",
    "    'settings': {\n",
    "        'analysis': {\n",
    "            'analyzer': {\n",
    "                'polish_analyzer_lemmatization': {\n",
    "                    'type': 'custom',\n",
    "                    'tokenizer': 'standard',\n",
    "                    'filter': [\n",
    "                        'lowercase',\n",
    "                        'morfologik_stem',\n",
    "                        'lowercase'\n",
    "                    ]\n",
    "                },\n",
    "            }\n",
    "        }\n",
    "    },\n",
    "    'mappings': {\n",
    "        'properties': {\n",
    "            'text_with_lemmatization': {\n",
    "                'type': 'text',\n",
    "                'analyzer': 'polish_analyzer_lemmatization'\n",
    "            }\n",
    "        }\n",
    "    }\n",
    "}"
   ]
  },
  {
   "cell_type": "code",
   "execution_count": 15,
   "id": "07685cf6-f481-455c-8ed7-2b085e1190d7",
   "metadata": {
    "colab": {
     "base_uri": "https://localhost:8080/",
     "height": 1000
    },
    "executionInfo": {
     "elapsed": 464,
     "status": "error",
     "timestamp": 1733090452492,
     "user": {
      "displayName": "Bartek Jamiołkowski",
      "userId": "12147853541531476383"
     },
     "user_tz": -60
    },
    "id": "07685cf6-f481-455c-8ed7-2b085e1190d7",
    "outputId": "2bab7d66-ea81-4b6b-8e3f-1daf8d7ddf03"
   },
   "outputs": [
    {
     "data": {
      "text/plain": [
       "ObjectApiResponse({'acknowledged': True})"
      ]
     },
     "execution_count": 15,
     "metadata": {},
     "output_type": "execute_result"
    }
   ],
   "source": [
    "es.indices.delete(index = 'fiqa_pl_index')"
   ]
  },
  {
   "cell_type": "code",
   "execution_count": 16,
   "id": "818e7540-6b2d-4fea-b08f-9160fe09c7d4",
   "metadata": {
    "colab": {
     "base_uri": "https://localhost:8080/",
     "height": 1000
    },
    "executionInfo": {
     "elapsed": 407,
     "status": "error",
     "timestamp": 1733090450666,
     "user": {
      "displayName": "Bartek Jamiołkowski",
      "userId": "12147853541531476383"
     },
     "user_tz": -60
    },
    "id": "818e7540-6b2d-4fea-b08f-9160fe09c7d4",
    "outputId": "cdb65b3d-e580-49b6-8dba-7f7cceab0e68"
   },
   "outputs": [
    {
     "data": {
      "text/plain": [
       "ObjectApiResponse({'acknowledged': True, 'shards_acknowledged': True, 'index': 'fiqa_pl_index'})"
      ]
     },
     "execution_count": 16,
     "metadata": {},
     "output_type": "execute_result"
    }
   ],
   "source": [
    "#es.indices.delete(index = 'fiqa_pl_index')\n",
    "es.indices.create(index = 'fiqa_pl_index', body = index_configuration)"
   ]
  },
  {
   "cell_type": "code",
   "execution_count": 17,
   "id": "28c21fe0-4c5b-484b-8f13-8c06b229d271",
   "metadata": {
    "executionInfo": {
     "elapsed": 229,
     "status": "ok",
     "timestamp": 1733090487466,
     "user": {
      "displayName": "Bartek Jamiołkowski",
      "userId": "12147853541531476383"
     },
     "user_tz": -60
    },
    "id": "28c21fe0-4c5b-484b-8f13-8c06b229d271"
   },
   "outputs": [],
   "source": [
    "fiqa_pl_text_list = fiqa_pl_df.to_dict('records')"
   ]
  },
  {
   "cell_type": "code",
   "execution_count": 18,
   "id": "1f4f2cb3-20b2-4396-8ad7-52e08f4c3bbb",
   "metadata": {
    "colab": {
     "base_uri": "https://localhost:8080/",
     "height": 1000
    },
    "executionInfo": {
     "elapsed": 357,
     "status": "error",
     "timestamp": 1733090489220,
     "user": {
      "displayName": "Bartek Jamiołkowski",
      "userId": "12147853541531476383"
     },
     "user_tz": -60
    },
    "id": "1f4f2cb3-20b2-4396-8ad7-52e08f4c3bbb",
    "outputId": "77b8d367-71c8-458b-a02f-c155431539f1"
   },
   "outputs": [
    {
     "data": {
      "text/plain": [
       "(57638, [])"
      ]
     },
     "execution_count": 18,
     "metadata": {},
     "output_type": "execute_result"
    }
   ],
   "source": [
    "def index_textual_data(iterable_data):\n",
    "    iterable_actions = [\n",
    "    {'_op_type': 'index',\n",
    "     '_index': 'fiqa_pl_index',\n",
    "     '_source': {\n",
    "        'text_with_lemmatization': element['text'],\n",
    "        'title': element['title'],\n",
    "        'id': element['_id']\n",
    "        }\n",
    "    }\n",
    "    for element in iterable_data]\n",
    "\n",
    "    return iterable_actions\n",
    "\n",
    "helpers.bulk(es, index_textual_data(fiqa_pl_text_list))"
   ]
  },
  {
   "cell_type": "code",
   "execution_count": 20,
   "id": "ab798bee-bb7b-4a8c-a59e-5dfdebec0c5b",
   "metadata": {
    "id": "ab798bee-bb7b-4a8c-a59e-5dfdebec0c5b"
   },
   "outputs": [],
   "source": [
    "def search_k_answers_ids(es, query, k):\n",
    "    body_query = {\n",
    "        'query': {\n",
    "            'match': {\n",
    "                'text_with_lemmatization': {\n",
    "                    'query': query,\n",
    "                    'analyzer': 'polish_analyzer_lemmatization'\n",
    "                }\n",
    "            }\n",
    "        },\n",
    "        '_source': ['id']\n",
    "    }\n",
    "\n",
    "    response = es.search(index = 'fiqa_pl_index', body = body_query)['hits']['hits'][:k]\n",
    "    return [hit['_source']['id'] for hit in response]"
   ]
  },
  {
   "cell_type": "code",
   "execution_count": 21,
   "id": "b6d707af-786f-41df-a0b2-9bc10f8aa1df",
   "metadata": {
    "id": "b6d707af-786f-41df-a0b2-9bc10f8aa1df",
    "scrolled": true
   },
   "outputs": [],
   "source": [
    "def create_positive_negative_pairs(k):\n",
    "    dataset_df = pd.DataFrame(columns=['_id', 'title', 'text', 'label'])\n",
    "    pairs_frames = []\n",
    "\n",
    "    for query_id in fiqa_pl_relations_df['query-id'].unique():\n",
    "        query = fiqa_pl_queries_df[fiqa_pl_queries_df['_id'] == query_id]['text'].iloc[0]\n",
    "        answers_ids = search_k_answers_ids(es, query, k)\n",
    "\n",
    "        proper_answers_ids = fiqa_pl_relations_df[fiqa_pl_relations_df['query-id'] == query_id]['corpus-id'].tolist()\n",
    "        negative_answers_ids = list(set(answers_ids) - set(proper_answers_ids))\n",
    "\n",
    "        proper_answers_df = pd.merge(fiqa_pl_df, pd.DataFrame({'_id': proper_answers_ids, 'label': 1}), on = '_id', how = 'inner')\n",
    "        proper_answers_df['text'] = proper_answers_df['text'].map(lambda answer: f'Query: {query} Answer: {answer}')\n",
    "\n",
    "        negative_answers_df = pd.merge(fiqa_pl_df, pd.DataFrame({'_id': negative_answers_ids, 'label': 0}), on = '_id', how = 'inner')\n",
    "        negative_answers_df['text'] = negative_answers_df['text'].map(lambda answer: f'Query: {query} Answer: {answer}')\n",
    "\n",
    "        pairs_frames.append(pd.concat([proper_answers_df, negative_answers_df], ignore_index = True))\n",
    "\n",
    "    dataset_df = pd.concat(pairs_frames, ignore_index = True).sample(frac = 1).drop(columns = ['_id', 'title']).reset_index(drop = True)\n",
    "\n",
    "    return dataset_df"
   ]
  },
  {
   "cell_type": "code",
   "execution_count": 22,
   "id": "c57bd519-a3c7-46c0-a1c3-02508faa1aea",
   "metadata": {
    "id": "c57bd519-a3c7-46c0-a1c3-02508faa1aea"
   },
   "outputs": [],
   "source": [
    "dataset_df = create_positive_negative_pairs(k = 20)"
   ]
  },
  {
   "cell_type": "code",
   "execution_count": 23,
   "id": "81c707d2-a206-4684-b958-5b90dd223e5b",
   "metadata": {
    "id": "81c707d2-a206-4684-b958-5b90dd223e5b",
    "outputId": "31eefe5a-cd73-4237-9776-51f0f8181dae"
   },
   "outputs": [
    {
     "data": {
      "text/html": [
       "<div>\n",
       "<style scoped>\n",
       "    .dataframe tbody tr th:only-of-type {\n",
       "        vertical-align: middle;\n",
       "    }\n",
       "\n",
       "    .dataframe tbody tr th {\n",
       "        vertical-align: top;\n",
       "    }\n",
       "\n",
       "    .dataframe thead th {\n",
       "        text-align: right;\n",
       "    }\n",
       "</style>\n",
       "<table border=\"1\" class=\"dataframe\">\n",
       "  <thead>\n",
       "    <tr style=\"text-align: right;\">\n",
       "      <th></th>\n",
       "      <th>text</th>\n",
       "      <th>label</th>\n",
       "    </tr>\n",
       "  </thead>\n",
       "  <tbody>\n",
       "    <tr>\n",
       "      <th>0</th>\n",
       "      <td>Query: Jak stosunkowo łatwo wykazać, że fundus...</td>\n",
       "      <td>0</td>\n",
       "    </tr>\n",
       "    <tr>\n",
       "      <th>1</th>\n",
       "      <td>Query: Czy rozszerzona gwarancja Chryslera jes...</td>\n",
       "      <td>0</td>\n",
       "    </tr>\n",
       "    <tr>\n",
       "      <th>2</th>\n",
       "      <td>Query: Czy będę mógł kupić ziemię? Answer: „W ...</td>\n",
       "      <td>0</td>\n",
       "    </tr>\n",
       "    <tr>\n",
       "      <th>3</th>\n",
       "      <td>Query: Jak ryzykowne jest utrzymywanie mojego ...</td>\n",
       "      <td>0</td>\n",
       "    </tr>\n",
       "    <tr>\n",
       "      <th>4</th>\n",
       "      <td>Query: Planowanie emerytury: Emerytura czy osz...</td>\n",
       "      <td>0</td>\n",
       "    </tr>\n",
       "  </tbody>\n",
       "</table>\n",
       "</div>"
      ],
      "text/plain": [
       "                                                text  label\n",
       "0  Query: Jak stosunkowo łatwo wykazać, że fundus...      0\n",
       "1  Query: Czy rozszerzona gwarancja Chryslera jes...      0\n",
       "2  Query: Czy będę mógł kupić ziemię? Answer: „W ...      0\n",
       "3  Query: Jak ryzykowne jest utrzymywanie mojego ...      0\n",
       "4  Query: Planowanie emerytury: Emerytura czy osz...      0"
      ]
     },
     "execution_count": 23,
     "metadata": {},
     "output_type": "execute_result"
    }
   ],
   "source": [
    "dataset_df.head()"
   ]
  },
  {
   "cell_type": "code",
   "execution_count": 24,
   "id": "45f270db-79e2-46bd-9784-8c2d34c676ad",
   "metadata": {
    "id": "45f270db-79e2-46bd-9784-8c2d34c676ad",
    "outputId": "e8a4eb29-2421-4022-fdbd-452cad43788b"
   },
   "outputs": [
    {
     "data": {
      "text/plain": [
       "label\n",
       "0    62816\n",
       "1    17110\n",
       "Name: count, dtype: int64"
      ]
     },
     "execution_count": 24,
     "metadata": {},
     "output_type": "execute_result"
    }
   ],
   "source": [
    "dataset_df['label'].value_counts()"
   ]
  },
  {
   "cell_type": "markdown",
   "id": "d20c05c2-a234-4a82-8c56-b1ee2bed7084",
   "metadata": {},
   "source": [
    "Values presented above prove that the number of negative examples significantly exceedes the number of positive examples."
   ]
  },
  {
   "cell_type": "markdown",
   "id": "469aa4dc-b482-4af1-9c63-b3965454b6eb",
   "metadata": {
    "id": "469aa4dc-b482-4af1-9c63-b3965454b6eb"
   },
   "source": [
    "## Task 3"
   ]
  },
  {
   "cell_type": "markdown",
   "id": "96c4fb19-ee06-4a53-bdb4-20902db99fd0",
   "metadata": {
    "id": "96c4fb19-ee06-4a53-bdb4-20902db99fd0"
   },
   "source": [
    "The dataset from point 2 should be split into training, evaluation and testing subsets."
   ]
  },
  {
   "cell_type": "markdown",
   "id": "4f78baa2-75d9-4519-86f2-ab80bd7cd500",
   "metadata": {},
   "source": [
    "I decided to use a popular dataset split in the following proportions: 80% for training, 10% for validation and 10% for testing."
   ]
  },
  {
   "cell_type": "code",
   "execution_count": 25,
   "id": "4d723e20-f3f0-47cf-a0b6-b6f4a24b84fb",
   "metadata": {
    "id": "4d723e20-f3f0-47cf-a0b6-b6f4a24b84fb"
   },
   "outputs": [],
   "source": [
    "train_subset_df, test_subset_df = train_test_split(dataset_df, test_size = 0.3, random_state = 24)\n",
    "validation_subset_df, test_subset_df = train_test_split(test_subset_df, test_size = 0.5, random_state = 24)"
   ]
  },
  {
   "cell_type": "code",
   "execution_count": 26,
   "id": "c1811aa4-cbc6-42a1-9adc-f078322e2f95",
   "metadata": {
    "id": "c1811aa4-cbc6-42a1-9adc-f078322e2f95",
    "outputId": "2354cf04-438e-4749-e998-7618368cd084"
   },
   "outputs": [
    {
     "name": "stdout",
     "output_type": "stream",
     "text": [
      "Training subset shape: (55948, 2)\n",
      "Validation subset shape: (11989, 2)\n",
      "Testing subset shape: (11989, 2)\n"
     ]
    }
   ],
   "source": [
    "print(f'Training subset shape: {train_subset_df.shape}')\n",
    "print(f'Validation subset shape: {validation_subset_df.shape}')\n",
    "print(f'Testing subset shape: {test_subset_df.shape}')"
   ]
  },
  {
   "cell_type": "code",
   "execution_count": 27,
   "id": "2c6bc99e-4147-40d6-9dbd-5a517ebcaf18",
   "metadata": {
    "id": "2c6bc99e-4147-40d6-9dbd-5a517ebcaf18",
    "outputId": "cd90f93f-250e-4a2c-d609-0d8276c857dd"
   },
   "outputs": [
    {
     "data": {
      "text/html": [
       "<div>\n",
       "<style scoped>\n",
       "    .dataframe tbody tr th:only-of-type {\n",
       "        vertical-align: middle;\n",
       "    }\n",
       "\n",
       "    .dataframe tbody tr th {\n",
       "        vertical-align: top;\n",
       "    }\n",
       "\n",
       "    .dataframe thead th {\n",
       "        text-align: right;\n",
       "    }\n",
       "</style>\n",
       "<table border=\"1\" class=\"dataframe\">\n",
       "  <thead>\n",
       "    <tr style=\"text-align: right;\">\n",
       "      <th></th>\n",
       "      <th>text</th>\n",
       "      <th>label</th>\n",
       "    </tr>\n",
       "  </thead>\n",
       "  <tbody>\n",
       "    <tr>\n",
       "      <th>64216</th>\n",
       "      <td>Query: Jakie są główne strategie inwestycyjne ...</td>\n",
       "      <td>0</td>\n",
       "    </tr>\n",
       "    <tr>\n",
       "      <th>66355</th>\n",
       "      <td>Query: Optymalny sposób wykorzystania karty kr...</td>\n",
       "      <td>1</td>\n",
       "    </tr>\n",
       "    <tr>\n",
       "      <th>2699</th>\n",
       "      <td>Query: Co to jest „konsolidacja” zadłużenia i ...</td>\n",
       "      <td>0</td>\n",
       "    </tr>\n",
       "    <tr>\n",
       "      <th>30887</th>\n",
       "      <td>Query: Potrzebujesz pomysłów na małą firmę z b...</td>\n",
       "      <td>1</td>\n",
       "    </tr>\n",
       "    <tr>\n",
       "      <th>11165</th>\n",
       "      <td>Query: Zrozumienie różnic między funduszami ET...</td>\n",
       "      <td>0</td>\n",
       "    </tr>\n",
       "  </tbody>\n",
       "</table>\n",
       "</div>"
      ],
      "text/plain": [
       "                                                    text  label\n",
       "64216  Query: Jakie są główne strategie inwestycyjne ...      0\n",
       "66355  Query: Optymalny sposób wykorzystania karty kr...      1\n",
       "2699   Query: Co to jest „konsolidacja” zadłużenia i ...      0\n",
       "30887  Query: Potrzebujesz pomysłów na małą firmę z b...      1\n",
       "11165  Query: Zrozumienie różnic między funduszami ET...      0"
      ]
     },
     "execution_count": 27,
     "metadata": {},
     "output_type": "execute_result"
    }
   ],
   "source": [
    "train_subset_df.head()"
   ]
  },
  {
   "cell_type": "code",
   "execution_count": 28,
   "id": "204c0f78-ca37-4a65-ba7d-0fa030323ce7",
   "metadata": {
    "id": "204c0f78-ca37-4a65-ba7d-0fa030323ce7",
    "outputId": "ea80a7c0-a1db-45c7-c254-b01cde939448"
   },
   "outputs": [
    {
     "data": {
      "text/html": [
       "<div>\n",
       "<style scoped>\n",
       "    .dataframe tbody tr th:only-of-type {\n",
       "        vertical-align: middle;\n",
       "    }\n",
       "\n",
       "    .dataframe tbody tr th {\n",
       "        vertical-align: top;\n",
       "    }\n",
       "\n",
       "    .dataframe thead th {\n",
       "        text-align: right;\n",
       "    }\n",
       "</style>\n",
       "<table border=\"1\" class=\"dataframe\">\n",
       "  <thead>\n",
       "    <tr style=\"text-align: right;\">\n",
       "      <th></th>\n",
       "      <th>text</th>\n",
       "      <th>label</th>\n",
       "    </tr>\n",
       "  </thead>\n",
       "  <tbody>\n",
       "    <tr>\n",
       "      <th>73411</th>\n",
       "      <td>Query: 4 miesiące na 30-miesięczną pożyczkę na...</td>\n",
       "      <td>0</td>\n",
       "    </tr>\n",
       "    <tr>\n",
       "      <th>54167</th>\n",
       "      <td>Query: Czy ceny akcji spadają z powodu dywiden...</td>\n",
       "      <td>0</td>\n",
       "    </tr>\n",
       "    <tr>\n",
       "      <th>71917</th>\n",
       "      <td>Query: Wczesne ćwiczenia i 83(b) Wybory Answer...</td>\n",
       "      <td>0</td>\n",
       "    </tr>\n",
       "    <tr>\n",
       "      <th>21515</th>\n",
       "      <td>Query: Czym mogę zastąpić Microsoft Money, sko...</td>\n",
       "      <td>1</td>\n",
       "    </tr>\n",
       "    <tr>\n",
       "      <th>77971</th>\n",
       "      <td>Query: Czy ktoś porównał osobistego doradcę po...</td>\n",
       "      <td>0</td>\n",
       "    </tr>\n",
       "  </tbody>\n",
       "</table>\n",
       "</div>"
      ],
      "text/plain": [
       "                                                    text  label\n",
       "73411  Query: 4 miesiące na 30-miesięczną pożyczkę na...      0\n",
       "54167  Query: Czy ceny akcji spadają z powodu dywiden...      0\n",
       "71917  Query: Wczesne ćwiczenia i 83(b) Wybory Answer...      0\n",
       "21515  Query: Czym mogę zastąpić Microsoft Money, sko...      1\n",
       "77971  Query: Czy ktoś porównał osobistego doradcę po...      0"
      ]
     },
     "execution_count": 28,
     "metadata": {},
     "output_type": "execute_result"
    }
   ],
   "source": [
    "validation_subset_df.head()"
   ]
  },
  {
   "cell_type": "code",
   "execution_count": 29,
   "id": "03d98cb4-96a9-4384-ba28-01a08f59db0b",
   "metadata": {
    "id": "03d98cb4-96a9-4384-ba28-01a08f59db0b",
    "outputId": "55def56c-7b7b-4951-ac1b-34653023ffb7"
   },
   "outputs": [
    {
     "data": {
      "text/html": [
       "<div>\n",
       "<style scoped>\n",
       "    .dataframe tbody tr th:only-of-type {\n",
       "        vertical-align: middle;\n",
       "    }\n",
       "\n",
       "    .dataframe tbody tr th {\n",
       "        vertical-align: top;\n",
       "    }\n",
       "\n",
       "    .dataframe thead th {\n",
       "        text-align: right;\n",
       "    }\n",
       "</style>\n",
       "<table border=\"1\" class=\"dataframe\">\n",
       "  <thead>\n",
       "    <tr style=\"text-align: right;\">\n",
       "      <th></th>\n",
       "      <th>text</th>\n",
       "      <th>label</th>\n",
       "    </tr>\n",
       "  </thead>\n",
       "  <tbody>\n",
       "    <tr>\n",
       "      <th>23382</th>\n",
       "      <td>Query: Posiadany dom krócej niż 2 lata - 1031 ...</td>\n",
       "      <td>0</td>\n",
       "    </tr>\n",
       "    <tr>\n",
       "      <th>32361</th>\n",
       "      <td>Query: Jak mogę zaoszczędzić na kosztach zamkn...</td>\n",
       "      <td>0</td>\n",
       "    </tr>\n",
       "    <tr>\n",
       "      <th>35825</th>\n",
       "      <td>Query: Skutki podatkowe i finansowe dzielenia ...</td>\n",
       "      <td>0</td>\n",
       "    </tr>\n",
       "    <tr>\n",
       "      <th>33688</th>\n",
       "      <td>Query: Dlaczego akcje wycenione na ASX powyżej...</td>\n",
       "      <td>0</td>\n",
       "    </tr>\n",
       "    <tr>\n",
       "      <th>56562</th>\n",
       "      <td>Query: Jak mogę znaleźć zagubione 401K od popr...</td>\n",
       "      <td>0</td>\n",
       "    </tr>\n",
       "  </tbody>\n",
       "</table>\n",
       "</div>"
      ],
      "text/plain": [
       "                                                    text  label\n",
       "23382  Query: Posiadany dom krócej niż 2 lata - 1031 ...      0\n",
       "32361  Query: Jak mogę zaoszczędzić na kosztach zamkn...      0\n",
       "35825  Query: Skutki podatkowe i finansowe dzielenia ...      0\n",
       "33688  Query: Dlaczego akcje wycenione na ASX powyżej...      0\n",
       "56562  Query: Jak mogę znaleźć zagubione 401K od popr...      0"
      ]
     },
     "execution_count": 29,
     "metadata": {},
     "output_type": "execute_result"
    }
   ],
   "source": [
    "test_subset_df.head()"
   ]
  },
  {
   "cell_type": "markdown",
   "id": "45d61092-95ad-47be-85ff-a853a5a83f4f",
   "metadata": {
    "id": "45d61092-95ad-47be-85ff-a853a5a83f4f"
   },
   "source": [
    "## Task 4 - 5"
   ]
  },
  {
   "cell_type": "markdown",
   "id": "f0cc730c-eec2-4683-96ea-1579d9e4ada4",
   "metadata": {
    "id": "f0cc730c-eec2-4683-96ea-1579d9e4ada4"
   },
   "source": [
    "Train a text classifier using the Transformers library that distinguishes between the positive and the negative  pairs. To make the process manageable use models of size `base` and a runtime providing GPU/TPU acceleration. Consult the discussions related to fine-tuning Transformer models to select sensible set of parameter. You can also run several trainings with different hyper-parameters, if you have access to large computing resources.\n",
    "\n",
    "Make sure you monitor the relevant metrics on the validation set during training. The last saved model might not be the  one with the best performance."
   ]
  },
  {
   "cell_type": "code",
   "execution_count": 30,
   "id": "8282a719-646f-4883-850e-d0e4e530a0e6",
   "metadata": {
    "id": "8282a719-646f-4883-850e-d0e4e530a0e6"
   },
   "outputs": [],
   "source": [
    "datasets = DatasetDict({\n",
    "    'train': Dataset.from_pandas(train_subset_df, preserve_index = False),\n",
    "    'validation': Dataset.from_pandas(validation_subset_df, preserve_index = False),\n",
    "    'test': Dataset.from_pandas(test_subset_df, preserve_index = False)\n",
    "})"
   ]
  },
  {
   "cell_type": "code",
   "execution_count": 31,
   "id": "b398c346-2836-4daf-8061-3c17c2cbb074",
   "metadata": {
    "id": "b398c346-2836-4daf-8061-3c17c2cbb074",
    "outputId": "38a032c5-2b7c-413e-8c62-de9066e179b4"
   },
   "outputs": [
    {
     "data": {
      "text/plain": [
       "DatasetDict({\n",
       "    train: Dataset({\n",
       "        features: ['text', 'label'],\n",
       "        num_rows: 55948\n",
       "    })\n",
       "    validation: Dataset({\n",
       "        features: ['text', 'label'],\n",
       "        num_rows: 11989\n",
       "    })\n",
       "    test: Dataset({\n",
       "        features: ['text', 'label'],\n",
       "        num_rows: 11989\n",
       "    })\n",
       "})"
      ]
     },
     "execution_count": 31,
     "metadata": {},
     "output_type": "execute_result"
    }
   ],
   "source": [
    "datasets"
   ]
  },
  {
   "cell_type": "code",
   "execution_count": 32,
   "id": "c521a05e-7ba0-4034-ad58-d53707a376bf",
   "metadata": {
    "colab": {
     "base_uri": "https://localhost:8080/",
     "height": 159
    },
    "executionInfo": {
     "elapsed": 1522,
     "status": "error",
     "timestamp": 1733089695608,
     "user": {
      "displayName": "Bartek Jamiołkowski",
      "userId": "12147853541531476383"
     },
     "user_tz": -60
    },
    "id": "c521a05e-7ba0-4034-ad58-d53707a376bf",
    "outputId": "104fae31-23a5-4e53-afd9-a2d23f91a433"
   },
   "outputs": [
    {
     "data": {
      "application/vnd.jupyter.widget-view+json": {
       "model_id": "bf0a747371ff4c1697402dc0b76432c3",
       "version_major": 2,
       "version_minor": 0
      },
      "text/plain": [
       "Map:   0%|          | 0/55948 [00:00<?, ? examples/s]"
      ]
     },
     "metadata": {},
     "output_type": "display_data"
    },
    {
     "data": {
      "application/vnd.jupyter.widget-view+json": {
       "model_id": "a6d854953645487882531972606f3a66",
       "version_major": 2,
       "version_minor": 0
      },
      "text/plain": [
       "Map:   0%|          | 0/11989 [00:00<?, ? examples/s]"
      ]
     },
     "metadata": {},
     "output_type": "display_data"
    },
    {
     "data": {
      "application/vnd.jupyter.widget-view+json": {
       "model_id": "2d508210d0964c2aad8ef79e6a5c9acd",
       "version_major": 2,
       "version_minor": 0
      },
      "text/plain": [
       "Map:   0%|          | 0/11989 [00:00<?, ? examples/s]"
      ]
     },
     "metadata": {},
     "output_type": "display_data"
    }
   ],
   "source": [
    "tokenizer = AutoTokenizer.from_pretrained('allegro/herbert-base-cased')\n",
    "tokenized_datasets = datasets.map(lambda example: tokenizer(example['text'], truncation = True, padding = 'max_length'), batched = True)"
   ]
  },
  {
   "cell_type": "code",
   "execution_count": 33,
   "id": "b41e8096-6908-4e65-a3a1-7b38dbb18f7f",
   "metadata": {
    "id": "b41e8096-6908-4e65-a3a1-7b38dbb18f7f",
    "outputId": "25bfbe20-3dd1-4bed-fbcc-2a809cfa95da"
   },
   "outputs": [
    {
     "data": {
      "text/plain": [
       "DatasetDict({\n",
       "    train: Dataset({\n",
       "        features: ['text', 'label', 'input_ids', 'token_type_ids', 'attention_mask'],\n",
       "        num_rows: 55948\n",
       "    })\n",
       "    validation: Dataset({\n",
       "        features: ['text', 'label', 'input_ids', 'token_type_ids', 'attention_mask'],\n",
       "        num_rows: 11989\n",
       "    })\n",
       "    test: Dataset({\n",
       "        features: ['text', 'label', 'input_ids', 'token_type_ids', 'attention_mask'],\n",
       "        num_rows: 11989\n",
       "    })\n",
       "})"
      ]
     },
     "execution_count": 33,
     "metadata": {},
     "output_type": "execute_result"
    }
   ],
   "source": [
    "tokenized_datasets"
   ]
  },
  {
   "cell_type": "markdown",
   "id": "df5dfeff-90b6-450d-8e8e-c09c4ad086fc",
   "metadata": {},
   "source": [
    "It is wise to save all datasets in Parquet format before using Google Colab. This decision helps me avoid restarting the notebook from the beginning and wasting GPU resources, which should instead be used for model training."
   ]
  },
  {
   "cell_type": "code",
   "execution_count": 34,
   "id": "c1338c76-617a-406e-8fdf-d3e8a96110e4",
   "metadata": {
    "colab": {
     "referenced_widgets": [
      "65240f1824bd450ca5b5a49f54fa2978",
      "ce7e60e4c2c9424e80017cc328199738",
      "b2abf897a649482ca220560130a7d786"
     ]
    },
    "id": "c1338c76-617a-406e-8fdf-d3e8a96110e4",
    "outputId": "363659a1-2b69-4f30-c2d2-8eba8b39c7fd"
   },
   "outputs": [
    {
     "data": {
      "application/vnd.jupyter.widget-view+json": {
       "model_id": "d99dae93f8554fbb949d2aa1e825b37a",
       "version_major": 2,
       "version_minor": 0
      },
      "text/plain": [
       "Creating parquet from Arrow format:   0%|          | 0/56 [00:00<?, ?ba/s]"
      ]
     },
     "metadata": {},
     "output_type": "display_data"
    },
    {
     "data": {
      "application/vnd.jupyter.widget-view+json": {
       "model_id": "7a23db9f26d14fb7a2406744b8f662cb",
       "version_major": 2,
       "version_minor": 0
      },
      "text/plain": [
       "Creating parquet from Arrow format:   0%|          | 0/12 [00:00<?, ?ba/s]"
      ]
     },
     "metadata": {},
     "output_type": "display_data"
    },
    {
     "data": {
      "application/vnd.jupyter.widget-view+json": {
       "model_id": "781fa57b51c8485ca54ed8efc32e7cc7",
       "version_major": 2,
       "version_minor": 0
      },
      "text/plain": [
       "Creating parquet from Arrow format:   0%|          | 0/12 [00:00<?, ?ba/s]"
      ]
     },
     "metadata": {},
     "output_type": "display_data"
    }
   ],
   "source": [
    "for dataset_name in ['train', 'validation', 'test']:\n",
    "    tokenized_datasets[dataset_name].to_parquet(f'data/{dataset_name}/{dataset_name}_data.parquet')"
   ]
  },
  {
   "cell_type": "markdown",
   "id": "156fcf3a-9070-40ea-b93b-39851e2fd3d3",
   "metadata": {},
   "source": [
    "In Google Colab I read previously saved data."
   ]
  },
  {
   "cell_type": "code",
   "execution_count": 37,
   "id": "dc16e727-881f-4440-9e0c-e0cc2f909f45",
   "metadata": {
    "executionInfo": {
     "elapsed": 243,
     "status": "ok",
     "timestamp": 1733084892198,
     "user": {
      "displayName": "Bartek Jamiołkowski",
      "userId": "12147853541531476383"
     },
     "user_tz": -60
    },
    "id": "dc16e727-881f-4440-9e0c-e0cc2f909f45"
   },
   "outputs": [
    {
     "data": {
      "application/vnd.jupyter.widget-view+json": {
       "model_id": "8e839a9d81294ad8875a41195e603e8c",
       "version_major": 2,
       "version_minor": 0
      },
      "text/plain": [
       "Generating train split: 0 examples [00:00, ? examples/s]"
      ]
     },
     "metadata": {},
     "output_type": "display_data"
    },
    {
     "data": {
      "application/vnd.jupyter.widget-view+json": {
       "model_id": "e10c89ed499f43909fa330fa21d15905",
       "version_major": 2,
       "version_minor": 0
      },
      "text/plain": [
       "Generating train split: 0 examples [00:00, ? examples/s]"
      ]
     },
     "metadata": {},
     "output_type": "display_data"
    }
   ],
   "source": [
    "tokenized_datasets = DatasetDict()\n",
    "\n",
    "for dataset_name in ['train', 'validation', 'test']:\n",
    "    tokenized_datasets[dataset_name] = Dataset.from_parquet(f'./data/{dataset_name}/{dataset_name}_data.parquet') # ./drive/MyDrive/Lab5/data/"
   ]
  },
  {
   "cell_type": "markdown",
   "id": "8efbfb5e-a472-453e-b6aa-223ea55400c4",
   "metadata": {},
   "source": [
    "Because the dataset is imbalanced, I am using the F1 score as a metric during model training. I also save checkpoints. From my prior experiences with Google Colab, I know it can turn off when the GPU limit is exceeded or when there is no user activity. To avoid losing all progress, I save checkpoints, which allow me to continue model training after such incidents."
   ]
  },
  {
   "cell_type": "code",
   "execution_count": null,
   "id": "4631843c-5cec-47bb-8386-9120ea42b34b",
   "metadata": {
    "colab": {
     "base_uri": "https://localhost:8080/",
     "height": 1000,
     "referenced_widgets": [
      "3cca91dd12f4475998678dd26753ab80",
      "8cddedc26a1f4ef5bcdd0c0363709de3",
      "5ef15ae00e5d4ff6aabcbce054dabc43",
      "52dde8315e84412b8ec75b7c7667a65c",
      "29c03b5c2b7a4ac1a8209fdf7feddb03",
      "4311c373334b4019b851732bb6413ff9",
      "1ab1c58de66b49ddb04c986c855d9120",
      "99c1caa100fe464fb248c86509418c92",
      "54d0a18305164d67ad3864708b3f03cf",
      "46cf4fa073ad48c2820fbe0e0f411cba",
      "59709d9371754d55807ae8c1e6b4f09c",
      "051944ee6f484ef6abf8038539f8ad69",
      "3ef10b5116f545c999392832b6beb1ff",
      "bc50ab838956481c89b9498208374d35",
      "a747de9bb63945fa84fa7d0ee6303a6e",
      "ca35e1e449a04360bb813ba8e8f108b3",
      "f1dbdd8f0f4a49df9ad8bfafdf09c4ac",
      "6158f34c41a5479d99fdf12751413705",
      "4ac8a371763a4e1aa9ae6e54c1f3022d",
      "08ab79fefada4fbfa66a55a0c55b17e9",
      "00644570d52347518197b096bdcf27b8",
      "af4fe905a886430a972887114a0101b9",
      "8c90ac7536224469be12fde9b7101f8b",
      "83ce464f10d846759c62e2b13de64290",
      "fa38a88951824d37a668dfd80c88e249",
      "e5592d2539354681be532b37530f844a",
      "f52649f7d5624d53a7600962cb996345",
      "5e4ce08a51d54e5fb36d7912e1d8c775",
      "c89a9ded61b44740b1fa077fa6176fe8",
      "2ba91d2ca338442b82054ce5e6b847a4",
      "e12bf894dd574912950ae2c7e9372464",
      "02f3bc4a22304c8993d8e17101e00f6c",
      "5ab4cbd2dec346bb80e28748450a0cc0"
     ]
    },
    "id": "4631843c-5cec-47bb-8386-9120ea42b34b",
    "outputId": "b75dd948-df4c-4e3b-b15e-9159295ecc28"
   },
   "outputs": [
    {
     "data": {
      "application/vnd.jupyter.widget-view+json": {
       "model_id": "3cca91dd12f4475998678dd26753ab80",
       "version_major": 2,
       "version_minor": 0
      },
      "text/plain": [
       "config.json:   0%|          | 0.00/472 [00:00<?, ?B/s]"
      ]
     },
     "metadata": {},
     "output_type": "display_data"
    },
    {
     "data": {
      "application/vnd.jupyter.widget-view+json": {
       "model_id": "051944ee6f484ef6abf8038539f8ad69",
       "version_major": 2,
       "version_minor": 0
      },
      "text/plain": [
       "pytorch_model.bin:   0%|          | 0.00/654M [00:00<?, ?B/s]"
      ]
     },
     "metadata": {},
     "output_type": "display_data"
    },
    {
     "name": "stderr",
     "output_type": "stream",
     "text": [
      "Some weights of BertForSequenceClassification were not initialized from the model checkpoint at allegro/herbert-base-cased and are newly initialized: ['classifier.bias', 'classifier.weight']\n",
      "You should probably TRAIN this model on a down-stream task to be able to use it for predictions and inference.\n",
      "\u001b[34m\u001b[1mwandb\u001b[0m: \u001b[33mWARNING\u001b[0m The `run_name` is currently set to the same value as `TrainingArguments.output_dir`. If this was not intended, please specify a different run name by setting the `TrainingArguments.run_name` parameter.\n",
      "\u001b[34m\u001b[1mwandb\u001b[0m: Using wandb-core as the SDK backend.  Please refer to https://wandb.me/wandb-core for more information.\n"
     ]
    },
    {
     "data": {
      "application/javascript": [
       "\n",
       "        window._wandbApiKey = new Promise((resolve, reject) => {\n",
       "            function loadScript(url) {\n",
       "            return new Promise(function(resolve, reject) {\n",
       "                let newScript = document.createElement(\"script\");\n",
       "                newScript.onerror = reject;\n",
       "                newScript.onload = resolve;\n",
       "                document.body.appendChild(newScript);\n",
       "                newScript.src = url;\n",
       "            });\n",
       "            }\n",
       "            loadScript(\"https://cdn.jsdelivr.net/npm/postmate/build/postmate.min.js\").then(() => {\n",
       "            const iframe = document.createElement('iframe')\n",
       "            iframe.style.cssText = \"width:0;height:0;border:none\"\n",
       "            document.body.appendChild(iframe)\n",
       "            const handshake = new Postmate({\n",
       "                container: iframe,\n",
       "                url: 'https://wandb.ai/authorize'\n",
       "            });\n",
       "            const timeout = setTimeout(() => reject(\"Couldn't auto authenticate\"), 5000)\n",
       "            handshake.then(function(child) {\n",
       "                child.on('authorize', data => {\n",
       "                    clearTimeout(timeout)\n",
       "                    resolve(data)\n",
       "                });\n",
       "            });\n",
       "            })\n",
       "        });\n",
       "    "
      ],
      "text/plain": [
       "<IPython.core.display.Javascript object>"
      ]
     },
     "metadata": {},
     "output_type": "display_data"
    },
    {
     "name": "stderr",
     "output_type": "stream",
     "text": [
      "\u001b[34m\u001b[1mwandb\u001b[0m: Logging into wandb.ai. (Learn how to deploy a W&B server locally: https://wandb.me/wandb-server)\n",
      "\u001b[34m\u001b[1mwandb\u001b[0m: You can find your API key in your browser here: https://wandb.ai/authorize\n",
      "wandb: Paste an API key from your profile and hit enter, or press ctrl+c to quit:"
     ]
    },
    {
     "name": "stdout",
     "output_type": "stream",
     "text": [
      " ··········\n"
     ]
    },
    {
     "name": "stderr",
     "output_type": "stream",
     "text": [
      "\u001b[34m\u001b[1mwandb\u001b[0m: Appending key for api.wandb.ai to your netrc file: /root/.netrc\n"
     ]
    },
    {
     "data": {
      "text/html": [
       "Tracking run with wandb version 0.18.7"
      ],
      "text/plain": [
       "<IPython.core.display.HTML object>"
      ]
     },
     "metadata": {},
     "output_type": "display_data"
    },
    {
     "data": {
      "text/html": [
       "Run data is saved locally in <code>/content/wandb/run-20241201_130819-f3den7f8</code>"
      ],
      "text/plain": [
       "<IPython.core.display.HTML object>"
      ]
     },
     "metadata": {},
     "output_type": "display_data"
    },
    {
     "data": {
      "text/html": [
       "Syncing run <strong><a href='https://wandb.ai/pythoncourseai-agh-university-of-science-and-technology/huggingface/runs/f3den7f8' target=\"_blank\">./drive/MyDrive/Lab5/checkpoints</a></strong> to <a href='https://wandb.ai/pythoncourseai-agh-university-of-science-and-technology/huggingface' target=\"_blank\">Weights & Biases</a> (<a href='https://wandb.me/developer-guide' target=\"_blank\">docs</a>)<br/>"
      ],
      "text/plain": [
       "<IPython.core.display.HTML object>"
      ]
     },
     "metadata": {},
     "output_type": "display_data"
    },
    {
     "data": {
      "text/html": [
       " View project at <a href='https://wandb.ai/pythoncourseai-agh-university-of-science-and-technology/huggingface' target=\"_blank\">https://wandb.ai/pythoncourseai-agh-university-of-science-and-technology/huggingface</a>"
      ],
      "text/plain": [
       "<IPython.core.display.HTML object>"
      ]
     },
     "metadata": {},
     "output_type": "display_data"
    },
    {
     "data": {
      "text/html": [
       " View run at <a href='https://wandb.ai/pythoncourseai-agh-university-of-science-and-technology/huggingface/runs/f3den7f8' target=\"_blank\">https://wandb.ai/pythoncourseai-agh-university-of-science-and-technology/huggingface/runs/f3den7f8</a>"
      ],
      "text/plain": [
       "<IPython.core.display.HTML object>"
      ]
     },
     "metadata": {},
     "output_type": "display_data"
    },
    {
     "data": {
      "text/html": [
       "\n",
       "    <div>\n",
       "      \n",
       "      <progress value='12582' max='12728' style='width:300px; height:20px; vertical-align: middle;'></progress>\n",
       "      [12582/12728 4:11:20 < 02:55, 0.83 it/s, Epoch 3.95/4]\n",
       "    </div>\n",
       "    <table border=\"1\" class=\"dataframe\">\n",
       "  <thead>\n",
       " <tr style=\"text-align: left;\">\n",
       "      <th>Step</th>\n",
       "      <th>Training Loss</th>\n",
       "      <th>Validation Loss</th>\n",
       "      <th>F1</th>\n",
       "    </tr>\n",
       "  </thead>\n",
       "  <tbody>\n",
       "    <tr>\n",
       "      <td>500</td>\n",
       "      <td>0.328300</td>\n",
       "      <td>0.358624</td>\n",
       "      <td>0.013825</td>\n",
       "    </tr>\n",
       "    <tr>\n",
       "      <td>1000</td>\n",
       "      <td>0.326000</td>\n",
       "      <td>0.345808</td>\n",
       "      <td>0.066517</td>\n",
       "    </tr>\n",
       "    <tr>\n",
       "      <td>1500</td>\n",
       "      <td>0.294300</td>\n",
       "      <td>0.291735</td>\n",
       "      <td>0.459601</td>\n",
       "    </tr>\n",
       "    <tr>\n",
       "      <td>2000</td>\n",
       "      <td>0.269900</td>\n",
       "      <td>0.328428</td>\n",
       "      <td>0.176450</td>\n",
       "    </tr>\n",
       "    <tr>\n",
       "      <td>2500</td>\n",
       "      <td>0.272700</td>\n",
       "      <td>0.259498</td>\n",
       "      <td>0.510477</td>\n",
       "    </tr>\n",
       "    <tr>\n",
       "      <td>3000</td>\n",
       "      <td>0.265500</td>\n",
       "      <td>0.251326</td>\n",
       "      <td>0.510106</td>\n",
       "    </tr>\n",
       "    <tr>\n",
       "      <td>3500</td>\n",
       "      <td>0.252100</td>\n",
       "      <td>0.237495</td>\n",
       "      <td>0.513767</td>\n",
       "    </tr>\n",
       "    <tr>\n",
       "      <td>4000</td>\n",
       "      <td>0.242500</td>\n",
       "      <td>0.233582</td>\n",
       "      <td>0.556754</td>\n",
       "    </tr>\n",
       "    <tr>\n",
       "      <td>4500</td>\n",
       "      <td>0.213700</td>\n",
       "      <td>0.239396</td>\n",
       "      <td>0.601263</td>\n",
       "    </tr>\n",
       "    <tr>\n",
       "      <td>5000</td>\n",
       "      <td>0.227200</td>\n",
       "      <td>0.214171</td>\n",
       "      <td>0.609528</td>\n",
       "    </tr>\n",
       "    <tr>\n",
       "      <td>5500</td>\n",
       "      <td>0.205900</td>\n",
       "      <td>0.237085</td>\n",
       "      <td>0.598726</td>\n",
       "    </tr>\n",
       "    <tr>\n",
       "      <td>6000</td>\n",
       "      <td>0.212500</td>\n",
       "      <td>0.228527</td>\n",
       "      <td>0.597367</td>\n",
       "    </tr>\n",
       "    <tr>\n",
       "      <td>6500</td>\n",
       "      <td>0.165800</td>\n",
       "      <td>0.271499</td>\n",
       "      <td>0.559358</td>\n",
       "    </tr>\n",
       "    <tr>\n",
       "      <td>7000</td>\n",
       "      <td>0.169100</td>\n",
       "      <td>0.223429</td>\n",
       "      <td>0.614395</td>\n",
       "    </tr>\n",
       "    <tr>\n",
       "      <td>7500</td>\n",
       "      <td>0.184100</td>\n",
       "      <td>0.221196</td>\n",
       "      <td>0.641679</td>\n",
       "    </tr>\n",
       "    <tr>\n",
       "      <td>8000</td>\n",
       "      <td>0.171800</td>\n",
       "      <td>0.222542</td>\n",
       "      <td>0.636342</td>\n",
       "    </tr>\n",
       "    <tr>\n",
       "      <td>8500</td>\n",
       "      <td>0.159300</td>\n",
       "      <td>0.209268</td>\n",
       "      <td>0.649080</td>\n",
       "    </tr>\n",
       "    <tr>\n",
       "      <td>9000</td>\n",
       "      <td>0.159800</td>\n",
       "      <td>0.231653</td>\n",
       "      <td>0.621988</td>\n",
       "    </tr>\n",
       "    <tr>\n",
       "      <td>9500</td>\n",
       "      <td>0.152500</td>\n",
       "      <td>0.228056</td>\n",
       "      <td>0.665658</td>\n",
       "    </tr>\n",
       "    <tr>\n",
       "      <td>10000</td>\n",
       "      <td>0.126700</td>\n",
       "      <td>0.225982</td>\n",
       "      <td>0.677135</td>\n",
       "    </tr>\n",
       "    <tr>\n",
       "      <td>10500</td>\n",
       "      <td>0.103900</td>\n",
       "      <td>0.265431</td>\n",
       "      <td>0.669698</td>\n",
       "    </tr>\n",
       "    <tr>\n",
       "      <td>11000</td>\n",
       "      <td>0.117600</td>\n",
       "      <td>0.236183</td>\n",
       "      <td>0.664410</td>\n",
       "    </tr>\n",
       "    <tr>\n",
       "      <td>11500</td>\n",
       "      <td>0.122200</td>\n",
       "      <td>0.236177</td>\n",
       "      <td>0.680731</td>\n",
       "    </tr>\n",
       "    <tr>\n",
       "      <td>12000</td>\n",
       "      <td>0.119600</td>\n",
       "      <td>0.245181</td>\n",
       "      <td>0.682536</td>\n",
       "    </tr>\n",
       "    <tr>\n",
       "      <td>12500</td>\n",
       "      <td>0.109600</td>\n",
       "      <td>0.250354</td>\n",
       "      <td>0.680730</td>\n",
       "    </tr>\n",
       "  </tbody>\n",
       "</table><p>"
      ],
      "text/plain": [
       "<IPython.core.display.HTML object>"
      ]
     },
     "metadata": {},
     "output_type": "display_data"
    },
    {
     "data": {
      "application/vnd.jupyter.widget-view+json": {
       "model_id": "8c90ac7536224469be12fde9b7101f8b",
       "version_major": 2,
       "version_minor": 0
      },
      "text/plain": [
       "Downloading builder script:   0%|          | 0.00/6.77k [00:00<?, ?B/s]"
      ]
     },
     "metadata": {},
     "output_type": "display_data"
    }
   ],
   "source": [
    "def compute_metrics(eval_pred):\n",
    "    logits, labels = eval_pred\n",
    "    predictions = np.argmax(logits, axis = 1)\n",
    "    return evaluate.load('f1').compute(predictions = predictions, references = labels)\n",
    "\n",
    "model = AutoModelForSequenceClassification.from_pretrained('allegro/herbert-base-cased', num_labels = 2)\n",
    "\n",
    "training_args = TrainingArguments(\n",
    "    output_dir = './drive/MyDrive/Lab5/checkpoints',\n",
    "    do_train = True,\n",
    "    do_eval = True,\n",
    "    evaluation_strategy = 'steps',\n",
    "    eval_steps = 500,\n",
    "    per_device_train_batch_size = 32,\n",
    "    per_device_eval_batch_size = 32,\n",
    "    learning_rate = 5e-05,\n",
    "    warmup_ratio = 0.1,\n",
    "    weight_decay = 1e-3,\n",
    "    num_train_epochs = 4,\n",
    "    logging_first_step = True,\n",
    "    logging_strategy = 'steps',\n",
    "    logging_steps = 100,\n",
    "    save_strategy = 'steps',\n",
    "    save_steps = 500,\n",
    "    fp16 = True,\n",
    ")\n",
    "\n",
    "trainer = Trainer(\n",
    "    model = model,\n",
    "    args = training_args,\n",
    "    train_dataset = tokenized_datasets['train'].shuffle(seed = 24),\n",
    "    eval_dataset = tokenized_datasets['validation'].shuffle(seed = 24),\n",
    "    compute_metrics = compute_metrics,\n",
    ")\n",
    "\n",
    "trainer.train()\n",
    "\n",
    "model.save_pretrained('./drive/MyDrive/Lab5/model')"
   ]
  },
  {
   "cell_type": "markdown",
   "id": "59e8482b-9b6a-4224-86e9-c5a005ccecc8",
   "metadata": {},
   "source": [
    "Using a Google account with maximum free disk space was not enough to store all the saved data, resulting in the loss of information about a few of the last checkpoints. Moreover, on one account, the GPU limit was exceeded and as I predicted, everything was turned off. I had to use the last valid checkpoint (Checkpoint-9500) to continue training on another Google account."
   ]
  },
  {
   "cell_type": "code",
   "execution_count": 15,
   "id": "vYCLH-uv4ciJ",
   "metadata": {
    "colab": {
     "base_uri": "https://localhost:8080/",
     "height": 559,
     "referenced_widgets": [
      "2252930d400a4fd0af5e8f0e93bd12bf",
      "104eb9ccaf8547efb3069436bdb6ef65",
      "4f3e459d6d9f4d61914f2a0319ee5386",
      "04228f17fc0046908943ad63eb46e33c",
      "d0ea688098bd4e9d8392e1cb56f482be",
      "e12f552af14d45308cd16b7fd4c349a2",
      "c41324fcbd7c4bf0bf061ba10c65c31d",
      "ac36f9f30ca34658a9af9101529ece8c",
      "7451dd5411be4cc0b027d255c4dee93c",
      "60a8cb9aff7e46c99e2d729cbf93ea9f",
      "3547dd4348b843309285a0f04886ec71"
     ]
    },
    "executionInfo": {
     "elapsed": 3414514,
     "status": "ok",
     "timestamp": 1733088329201,
     "user": {
      "displayName": "Bartek Jamiołkowski",
      "userId": "12147853541531476383"
     },
     "user_tz": -60
    },
    "id": "vYCLH-uv4ciJ",
    "outputId": "7493c412-70f2-4f16-db23-4cfc3f56b44e"
   },
   "outputs": [
    {
     "name": "stderr",
     "output_type": "stream",
     "text": [
      "\u001b[34m\u001b[1mwandb\u001b[0m: \u001b[33mWARNING\u001b[0m The `run_name` is currently set to the same value as `TrainingArguments.output_dir`. If this was not intended, please specify a different run name by setting the `TrainingArguments.run_name` parameter.\n",
      "\u001b[34m\u001b[1mwandb\u001b[0m: Using wandb-core as the SDK backend.  Please refer to https://wandb.me/wandb-core for more information.\n"
     ]
    },
    {
     "data": {
      "application/javascript": [
       "\n",
       "        window._wandbApiKey = new Promise((resolve, reject) => {\n",
       "            function loadScript(url) {\n",
       "            return new Promise(function(resolve, reject) {\n",
       "                let newScript = document.createElement(\"script\");\n",
       "                newScript.onerror = reject;\n",
       "                newScript.onload = resolve;\n",
       "                document.body.appendChild(newScript);\n",
       "                newScript.src = url;\n",
       "            });\n",
       "            }\n",
       "            loadScript(\"https://cdn.jsdelivr.net/npm/postmate/build/postmate.min.js\").then(() => {\n",
       "            const iframe = document.createElement('iframe')\n",
       "            iframe.style.cssText = \"width:0;height:0;border:none\"\n",
       "            document.body.appendChild(iframe)\n",
       "            const handshake = new Postmate({\n",
       "                container: iframe,\n",
       "                url: 'https://wandb.ai/authorize'\n",
       "            });\n",
       "            const timeout = setTimeout(() => reject(\"Couldn't auto authenticate\"), 5000)\n",
       "            handshake.then(function(child) {\n",
       "                child.on('authorize', data => {\n",
       "                    clearTimeout(timeout)\n",
       "                    resolve(data)\n",
       "                });\n",
       "            });\n",
       "            })\n",
       "        });\n",
       "    "
      ],
      "text/plain": [
       "<IPython.core.display.Javascript object>"
      ]
     },
     "metadata": {},
     "output_type": "display_data"
    },
    {
     "name": "stderr",
     "output_type": "stream",
     "text": [
      "\u001b[34m\u001b[1mwandb\u001b[0m: Logging into wandb.ai. (Learn how to deploy a W&B server locally: https://wandb.me/wandb-server)\n",
      "\u001b[34m\u001b[1mwandb\u001b[0m: You can find your API key in your browser here: https://wandb.ai/authorize\n",
      "wandb: Paste an API key from your profile and hit enter, or press ctrl+c to quit:"
     ]
    },
    {
     "name": "stdout",
     "output_type": "stream",
     "text": [
      " ··········\n"
     ]
    },
    {
     "name": "stderr",
     "output_type": "stream",
     "text": [
      "\u001b[34m\u001b[1mwandb\u001b[0m: Appending key for api.wandb.ai to your netrc file: /root/.netrc\n"
     ]
    },
    {
     "data": {
      "text/html": [
       "Tracking run with wandb version 0.18.7"
      ],
      "text/plain": [
       "<IPython.core.display.HTML object>"
      ]
     },
     "metadata": {},
     "output_type": "display_data"
    },
    {
     "data": {
      "text/html": [
       "Run data is saved locally in <code>/content/wandb/run-20241201_202913-c07x3l5g</code>"
      ],
      "text/plain": [
       "<IPython.core.display.HTML object>"
      ]
     },
     "metadata": {},
     "output_type": "display_data"
    },
    {
     "data": {
      "text/html": [
       "Syncing run <strong><a href='https://wandb.ai/pythoncourseai-agh-university-of-science-and-technology/huggingface/runs/c07x3l5g' target=\"_blank\">./drive/MyDrive/Lab5/checkpoints</a></strong> to <a href='https://wandb.ai/pythoncourseai-agh-university-of-science-and-technology/huggingface' target=\"_blank\">Weights & Biases</a> (<a href='https://wandb.me/developer-guide' target=\"_blank\">docs</a>)<br/>"
      ],
      "text/plain": [
       "<IPython.core.display.HTML object>"
      ]
     },
     "metadata": {},
     "output_type": "display_data"
    },
    {
     "data": {
      "text/html": [
       " View project at <a href='https://wandb.ai/pythoncourseai-agh-university-of-science-and-technology/huggingface' target=\"_blank\">https://wandb.ai/pythoncourseai-agh-university-of-science-and-technology/huggingface</a>"
      ],
      "text/plain": [
       "<IPython.core.display.HTML object>"
      ]
     },
     "metadata": {},
     "output_type": "display_data"
    },
    {
     "data": {
      "text/html": [
       " View run at <a href='https://wandb.ai/pythoncourseai-agh-university-of-science-and-technology/huggingface/runs/c07x3l5g' target=\"_blank\">https://wandb.ai/pythoncourseai-agh-university-of-science-and-technology/huggingface/runs/c07x3l5g</a>"
      ],
      "text/plain": [
       "<IPython.core.display.HTML object>"
      ]
     },
     "metadata": {},
     "output_type": "display_data"
    },
    {
     "data": {
      "text/html": [
       "\n",
       "    <div>\n",
       "      \n",
       "      <progress value='12728' max='12728' style='width:300px; height:20px; vertical-align: middle;'></progress>\n",
       "      [12728/12728 56:10, Epoch 4/4]\n",
       "    </div>\n",
       "    <table border=\"1\" class=\"dataframe\">\n",
       "  <thead>\n",
       " <tr style=\"text-align: left;\">\n",
       "      <th>Step</th>\n",
       "      <th>Training Loss</th>\n",
       "      <th>Validation Loss</th>\n",
       "      <th>F1</th>\n",
       "    </tr>\n",
       "  </thead>\n",
       "  <tbody>\n",
       "    <tr>\n",
       "      <td>10000</td>\n",
       "      <td>0.131300</td>\n",
       "      <td>0.224788</td>\n",
       "      <td>0.667557</td>\n",
       "    </tr>\n",
       "    <tr>\n",
       "      <td>10500</td>\n",
       "      <td>0.147000</td>\n",
       "      <td>0.281515</td>\n",
       "      <td>0.649938</td>\n",
       "    </tr>\n",
       "    <tr>\n",
       "      <td>11000</td>\n",
       "      <td>0.191200</td>\n",
       "      <td>0.274620</td>\n",
       "      <td>0.591121</td>\n",
       "    </tr>\n",
       "    <tr>\n",
       "      <td>11500</td>\n",
       "      <td>0.195700</td>\n",
       "      <td>0.259890</td>\n",
       "      <td>0.595098</td>\n",
       "    </tr>\n",
       "    <tr>\n",
       "      <td>12000</td>\n",
       "      <td>0.180800</td>\n",
       "      <td>0.252655</td>\n",
       "      <td>0.595735</td>\n",
       "    </tr>\n",
       "    <tr>\n",
       "      <td>12500</td>\n",
       "      <td>0.182300</td>\n",
       "      <td>0.262304</td>\n",
       "      <td>0.618887</td>\n",
       "    </tr>\n",
       "  </tbody>\n",
       "</table><p>"
      ],
      "text/plain": [
       "<IPython.core.display.HTML object>"
      ]
     },
     "metadata": {},
     "output_type": "display_data"
    },
    {
     "data": {
      "application/vnd.jupyter.widget-view+json": {
       "model_id": "2252930d400a4fd0af5e8f0e93bd12bf",
       "version_major": 2,
       "version_minor": 0
      },
      "text/plain": [
       "Downloading builder script:   0%|          | 0.00/6.77k [00:00<?, ?B/s]"
      ]
     },
     "metadata": {},
     "output_type": "display_data"
    },
    {
     "data": {
      "text/plain": [
       "TrainOutput(global_step=12728, training_loss=0.04264065632649295, metrics={'train_runtime': 3399.8176, 'train_samples_per_second': 119.769, 'train_steps_per_second': 3.744, 'total_flos': 1.0713671685414912e+17, 'train_loss': 0.04264065632649295, 'epoch': 4.0})"
      ]
     },
     "execution_count": 15,
     "metadata": {},
     "output_type": "execute_result"
    }
   ],
   "source": [
    "trainer.train(resume_from_checkpoint = './drive/MyDrive/Lab5/checkpoints/checkpoint-9500')"
   ]
  },
  {
   "cell_type": "markdown",
   "id": "bb7bdad1-222b-4349-8f30-7b65ea64069b",
   "metadata": {},
   "source": [
    "Under such conditions, Checkpoint-10000 turned out to be the best option for setting the final model."
   ]
  },
  {
   "cell_type": "code",
   "execution_count": 16,
   "id": "241cf0cb-4d68-416a-ada2-29cfd2670f66",
   "metadata": {
    "executionInfo": {
     "elapsed": 5280,
     "status": "ok",
     "timestamp": 1733088408946,
     "user": {
      "displayName": "Bartek Jamiołkowski",
      "userId": "12147853541531476383"
     },
     "user_tz": -60
    },
    "id": "241cf0cb-4d68-416a-ada2-29cfd2670f66"
   },
   "outputs": [],
   "source": [
    "model = AutoModelForSequenceClassification.from_pretrained('./drive/MyDrive/Lab5/checkpoints/checkpoint-10000')\n",
    "model.save_pretrained('./drive/MyDrive/Lab5/model')"
   ]
  },
  {
   "cell_type": "code",
   "execution_count": 18,
   "id": "wFiPlU6EJOq4",
   "metadata": {
    "colab": {
     "base_uri": "https://localhost:8080/",
     "height": 17
    },
    "executionInfo": {
     "elapsed": 158942,
     "status": "ok",
     "timestamp": 1733089239104,
     "user": {
      "displayName": "Bartek Jamiołkowski",
      "userId": "12147853541531476383"
     },
     "user_tz": -60
    },
    "id": "wFiPlU6EJOq4",
    "outputId": "6632fc31-e14b-41fe-9918-3735b396da19"
   },
   "outputs": [
    {
     "data": {
      "text/html": [],
      "text/plain": [
       "<IPython.core.display.HTML object>"
      ]
     },
     "metadata": {},
     "output_type": "display_data"
    }
   ],
   "source": [
    "predictions = trainer.predict(tokenized_datasets['test'])\n",
    "y_pred = np.argmax(predictions.predictions, axis = -1)\n",
    "y_true = predictions.label_ids"
   ]
  },
  {
   "cell_type": "code",
   "execution_count": 22,
   "id": "7ySumI3YLVJm",
   "metadata": {
    "colab": {
     "base_uri": "https://localhost:8080/",
     "height": 206
    },
    "executionInfo": {
     "elapsed": 727,
     "status": "ok",
     "timestamp": 1733089567569,
     "user": {
      "displayName": "Bartek Jamiołkowski",
      "userId": "12147853541531476383"
     },
     "user_tz": -60
    },
    "id": "7ySumI3YLVJm",
    "outputId": "fa78ae3c-80ec-4494-be1d-16c30a837f16"
   },
   "outputs": [
    {
     "data": {
      "application/vnd.google.colaboratory.intrinsic+json": {
       "summary": "{\n  \"name\": \"results_df\",\n  \"rows\": 21814,\n  \"fields\": [\n    {\n      \"column\": \"text\",\n      \"properties\": {\n        \"dtype\": \"string\",\n        \"num_unique_values\": 21812,\n        \"samples\": [\n          \"Query: ubezpieczenie najemcy za spowodowanie szk\\u00f3d maj\\u0105tkowych Answer: Kolejny zabawny fakt: tylko ~10% nieruchomo\\u015bci w po\\u0142udniowej Kalifornii jest obj\\u0119te ubezpieczeniem od trz\\u0119sie\\u0144 ziemi. Czemu? Z tego samego powodu, co tutaj. 1) Trudno jest zmierzy\\u0107 ryzyko. Pomy\\u015bl: Teksas do\\u015bwiadczy\\u0142 3 100-letnich powodzi w ci\\u0105gu 18 miesi\\u0119cy. Taka ilo\\u015b\\u0107 deszczu mog\\u0142a spowodowa\\u0107 wiele r\\u00f3\\u017cnych skutk\\u00f3w (od dziesi\\u0105tek milion\\u00f3w do dziesi\\u0105tek miliard\\u00f3w szk\\u00f3d) w zale\\u017cno\\u015bci od lokalizacji, nasycenia gleby, integralno\\u015bci strukturalnej zap\\u00f3r, kierunku wiatru, system\\u00f3w odwadniaj\\u0105cych / kanalizacyjnych itp. Ubezpieczyciele, kt\\u00f3rzy uwzgl\\u0119dni\\u0142y tego rodzaju kl\\u0119ski \\u017cywio\\u0142owe, zanim wyp\\u0142aci\\u0142y wi\\u0119cej roszcze\\u0144 ni\\u017c pobiera\\u0142y sk\\u0142adki. 2) Jest drogi. Tak, mo\\u017cesz reasekurowa\\u0107, ale wi\\u0119kszo\\u015b\\u0107 reasekurator\\u00f3w nie podejmie tego rodzaju ryzyka w swoim portfelu nieruchomo\\u015bci na tak mi\\u0119kkim rynku, kt\\u00f3ry utrzymuje si\\u0119 od mniej wi\\u0119cej dekady. Konsumenci nie chc\\u0105 p\\u0142aci\\u0107 za ubezpieczenie, poniewa\\u017c jest ono drogie, nawet z rz\\u0105dowymi mechanizmami ochronnymi. Inteligentne pieni\\u0105dze by\\u0142yby inwestowane w programy odporno\\u015bciowe (infrastruktur\\u0119), kt\\u00f3re \\u0142agodzi\\u0142yby szkody we wra\\u017cliwych obszarach, co z kolei obni\\u017cy\\u0142oby sk\\u0142adki. Ale to wymaga od rz\\u0105d\\u00f3w, obywateli i przedsi\\u0119biorstw zaanga\\u017cowania w d\\u0142ugofalowe my\\u015blenie i realizacj\\u0119. Niekt\\u00f3re obszary omawia\\u0142y tego typu plany (przychodzi mi na my\\u015bl Nowy Orlean), ale wi\\u0119kszo\\u015b\\u0107 naszych linii brzegowych musi mie\\u0107 takie plany, bior\\u0105c pod uwag\\u0119 podnoszenie si\\u0119 poziomu m\\u00f3rz, wysokie koncentracje cennych aktyw\\u00f3w na liniach brzegowych i cieplejsze oceany, kt\\u00f3re mog\\u0105 generowa\\u0107 wi\\u0119cej intensywne burze. tl;dr to nie jest nowy problem. To niczyja wina, ale wszyscy s\\u0105 odpowiedzialni. Pieprzy\\u0107 natur\\u0119, cz\\u0142owieku\",\n          \"Query: Sk\\u0142adanie zlece\\u0144 z limitem i stop loss na tym samym magazynie w tym samym czasie Answer: Celem zlecenia rynkowego jest zagwarantowanie, \\u017ce Twoje zlecenie zostanie zrealizowane. Je\\u015bli spr\\u00f3bujesz z\\u0142o\\u017cy\\u0107 zlecenie z limitem po cenie kupna lub zapytaj, do czasu wprowadzenia zlecenia cena mog\\u0142a si\\u0119 zmieni\\u0107 i by\\u0107 mo\\u017ce b\\u0119dziesz musia\\u0142 zmienia\\u0107 swoje zlecenie z limitem w celu kupna lub sprzeda\\u017cy, i dlatego zaczynasz goni\\u0107 za rynek. Zlecenie rynkowe zagwarantuje, \\u017ce Twoje zlecenie zostanie zrealizowane. Wa\\u017cn\\u0105 kwesti\\u0105 do rozwa\\u017cenia jest r\\u00f3wnie\\u017c to, \\u017ce zlecenia rynkowe s\\u0105 cz\\u0119sto u\\u017cywane w po\\u0142\\u0105czeniu z innymi zleceniami, takimi jak zlecenia warunkowe. Na przyk\\u0142ad, je\\u015bli masz stop loss (zlecenie warunkowe) ustawione na powiedzmy 10% poni\\u017cej ceny kupna, mo\\u017cesz chcie\\u0107 u\\u017cy\\u0107 zlecenia rynkowego, aby upewni\\u0107 si\\u0119, \\u017ce twoje zlecenie zostanie zrealizowane, je\\u015bli cena spadnie o 10% i uruchomi si\\u0119 stop loss, upewniaj\\u0105c si\\u0119, \\u017ce wyjdziesz z akcji, zamiast utkn\\u0105\\u0107 ze zleceniem z limitem 10% poni\\u017cej ceny kupna, podczas gdy akcje b\\u0119d\\u0105 dalej spada\\u0107.\",\n          \"Query: Dlaczego podatki od aktywnie zarz\\u0105dzanych funduszy s\\u0105 wy\\u017csze ni\\u017c od funduszy indeksowych? Answer: Moim zdaniem stawianie zak\\u0142ad\\u00f3w na wybrane sektory rynku ma ca\\u0142kowicie sens. Zw\\u0142aszcza je\\u015bli przeprowadzi\\u0142e\\u015b badania bez uprzedze\\u0144, kt\\u00f3re przekonaj\\u0105 Ci\\u0119, \\u017ce te sektory b\\u0119d\\u0105 nadal osi\\u0105ga\\u0107 lepsze wyniki. Jednak fundusze, kt\\u00f3re zaznaczy\\u0142e\\u015b na czerwono, wydaj\\u0105 si\\u0119 by\\u0107 funduszami aktywnie zarz\\u0105dzanymi (sprawdzi\\u0142em tylko raz pierwszy). Istnieje troch\\u0119 bada\\u0144 pokazuj\\u0105cych, \\u017ce bardzo niewielu aktywnych mened\\u017cer\\u00f3w konsekwentnie pokonuje indeks w d\\u0142ugim okresie. Kupuj\\u0105c te fundusze, zw\\u0142aszcza, \\u017ce \\u200b\\u200bmasz nadziej\\u0119 utrzyma\\u0107 je przez dziesi\\u0119ciolecia, obstawiasz, \\u017ce ci mened\\u017cerowie utrzymaj\\u0105 przewag\\u0119 nad r\\u00f3wnowa\\u017cnym indeksem. Wydaje si\\u0119 ma\\u0142o prawdopodobne, aby zak\\u0142ad by\\u0142 zwyci\\u0119ski, im d\\u0142u\\u017cej utrzymujesz pozycj\\u0119. By\\u0107 mo\\u017ce nie ma funduszy indeksowych dla sektor\\u00f3w lub cel\\u00f3w, kt\\u00f3re posiadasz? Ale gdyby tak by\\u0142o, a to by\\u0142y moje pieni\\u0105dze, kt\\u00f3re planowa\\u0142em zatrzyma\\u0107 na d\\u0142u\\u017csz\\u0105 met\\u0119, wybra\\u0142bym fundusz indeksowy zamiast aktywnego funduszu zarz\\u0105dzanego. Fundusze indeksowe maj\\u0105 r\\u00f3wnie\\u017c przewag\\u0119 pod wzgl\\u0119dem koszt\\u00f3w lub op\\u0142at. Mog\\u0105 pobiera\\u0107 znacznie mniej ni\\u017c aktywnie zarz\\u0105dzany fundusz. A op\\u0142aty mog\\u0105 by\\u0107 du\\u017c\\u0105 przeszkod\\u0105 w ca\\u0142kowitym zwrocie.\"\n        ],\n        \"semantic_type\": \"\",\n        \"description\": \"\"\n      }\n    },\n    {\n      \"column\": \"label\",\n      \"properties\": {\n        \"dtype\": \"number\",\n        \"std\": 0,\n        \"min\": 0,\n        \"max\": 1,\n        \"num_unique_values\": 2,\n        \"samples\": [\n          1,\n          0\n        ],\n        \"semantic_type\": \"\",\n        \"description\": \"\"\n      }\n    },\n    {\n      \"column\": \"label_pred\",\n      \"properties\": {\n        \"dtype\": \"number\",\n        \"std\": 0,\n        \"min\": 0,\n        \"max\": 1,\n        \"num_unique_values\": 2,\n        \"samples\": [\n          1,\n          0\n        ],\n        \"semantic_type\": \"\",\n        \"description\": \"\"\n      }\n    }\n  ]\n}",
       "type": "dataframe",
       "variable_name": "results_df"
      },
      "text/html": [
       "\n",
       "  <div id=\"df-c70b373f-4c77-4883-b3ec-ee7f37c9a2a4\" class=\"colab-df-container\">\n",
       "    <div>\n",
       "<style scoped>\n",
       "    .dataframe tbody tr th:only-of-type {\n",
       "        vertical-align: middle;\n",
       "    }\n",
       "\n",
       "    .dataframe tbody tr th {\n",
       "        vertical-align: top;\n",
       "    }\n",
       "\n",
       "    .dataframe thead th {\n",
       "        text-align: right;\n",
       "    }\n",
       "</style>\n",
       "<table border=\"1\" class=\"dataframe\">\n",
       "  <thead>\n",
       "    <tr style=\"text-align: right;\">\n",
       "      <th></th>\n",
       "      <th>text</th>\n",
       "      <th>label</th>\n",
       "      <th>label_pred</th>\n",
       "    </tr>\n",
       "  </thead>\n",
       "  <tbody>\n",
       "    <tr>\n",
       "      <th>0</th>\n",
       "      <td>Query: Jak odliczyć stratę operacyjną od podat...</td>\n",
       "      <td>0</td>\n",
       "      <td>0</td>\n",
       "    </tr>\n",
       "    <tr>\n",
       "      <th>1</th>\n",
       "      <td>Query: Jak działają stopy procentowe i spłaty ...</td>\n",
       "      <td>0</td>\n",
       "      <td>0</td>\n",
       "    </tr>\n",
       "    <tr>\n",
       "      <th>2</th>\n",
       "      <td>Query: ~75 tysięcy dolarów oszczędności - spła...</td>\n",
       "      <td>0</td>\n",
       "      <td>0</td>\n",
       "    </tr>\n",
       "    <tr>\n",
       "      <th>3</th>\n",
       "      <td>Query: Jak zaoszczędzić na ubraniach i butach ...</td>\n",
       "      <td>1</td>\n",
       "      <td>1</td>\n",
       "    </tr>\n",
       "    <tr>\n",
       "      <th>4</th>\n",
       "      <td>Query: Czy osoby prowadzące działalność na wła...</td>\n",
       "      <td>0</td>\n",
       "      <td>0</td>\n",
       "    </tr>\n",
       "  </tbody>\n",
       "</table>\n",
       "</div>\n",
       "    <div class=\"colab-df-buttons\">\n",
       "\n",
       "  <div class=\"colab-df-container\">\n",
       "    <button class=\"colab-df-convert\" onclick=\"convertToInteractive('df-c70b373f-4c77-4883-b3ec-ee7f37c9a2a4')\"\n",
       "            title=\"Convert this dataframe to an interactive table.\"\n",
       "            style=\"display:none;\">\n",
       "\n",
       "  <svg xmlns=\"http://www.w3.org/2000/svg\" height=\"24px\" viewBox=\"0 -960 960 960\">\n",
       "    <path d=\"M120-120v-720h720v720H120Zm60-500h600v-160H180v160Zm220 220h160v-160H400v160Zm0 220h160v-160H400v160ZM180-400h160v-160H180v160Zm440 0h160v-160H620v160ZM180-180h160v-160H180v160Zm440 0h160v-160H620v160Z\"/>\n",
       "  </svg>\n",
       "    </button>\n",
       "\n",
       "  <style>\n",
       "    .colab-df-container {\n",
       "      display:flex;\n",
       "      gap: 12px;\n",
       "    }\n",
       "\n",
       "    .colab-df-convert {\n",
       "      background-color: #E8F0FE;\n",
       "      border: none;\n",
       "      border-radius: 50%;\n",
       "      cursor: pointer;\n",
       "      display: none;\n",
       "      fill: #1967D2;\n",
       "      height: 32px;\n",
       "      padding: 0 0 0 0;\n",
       "      width: 32px;\n",
       "    }\n",
       "\n",
       "    .colab-df-convert:hover {\n",
       "      background-color: #E2EBFA;\n",
       "      box-shadow: 0px 1px 2px rgba(60, 64, 67, 0.3), 0px 1px 3px 1px rgba(60, 64, 67, 0.15);\n",
       "      fill: #174EA6;\n",
       "    }\n",
       "\n",
       "    .colab-df-buttons div {\n",
       "      margin-bottom: 4px;\n",
       "    }\n",
       "\n",
       "    [theme=dark] .colab-df-convert {\n",
       "      background-color: #3B4455;\n",
       "      fill: #D2E3FC;\n",
       "    }\n",
       "\n",
       "    [theme=dark] .colab-df-convert:hover {\n",
       "      background-color: #434B5C;\n",
       "      box-shadow: 0px 1px 3px 1px rgba(0, 0, 0, 0.15);\n",
       "      filter: drop-shadow(0px 1px 2px rgba(0, 0, 0, 0.3));\n",
       "      fill: #FFFFFF;\n",
       "    }\n",
       "  </style>\n",
       "\n",
       "    <script>\n",
       "      const buttonEl =\n",
       "        document.querySelector('#df-c70b373f-4c77-4883-b3ec-ee7f37c9a2a4 button.colab-df-convert');\n",
       "      buttonEl.style.display =\n",
       "        google.colab.kernel.accessAllowed ? 'block' : 'none';\n",
       "\n",
       "      async function convertToInteractive(key) {\n",
       "        const element = document.querySelector('#df-c70b373f-4c77-4883-b3ec-ee7f37c9a2a4');\n",
       "        const dataTable =\n",
       "          await google.colab.kernel.invokeFunction('convertToInteractive',\n",
       "                                                    [key], {});\n",
       "        if (!dataTable) return;\n",
       "\n",
       "        const docLinkHtml = 'Like what you see? Visit the ' +\n",
       "          '<a target=\"_blank\" href=https://colab.research.google.com/notebooks/data_table.ipynb>data table notebook</a>'\n",
       "          + ' to learn more about interactive tables.';\n",
       "        element.innerHTML = '';\n",
       "        dataTable['output_type'] = 'display_data';\n",
       "        await google.colab.output.renderOutput(dataTable, element);\n",
       "        const docLink = document.createElement('div');\n",
       "        docLink.innerHTML = docLinkHtml;\n",
       "        element.appendChild(docLink);\n",
       "      }\n",
       "    </script>\n",
       "  </div>\n",
       "\n",
       "\n",
       "<div id=\"df-c51caf5a-0ac9-41d1-89c3-421735d0f9be\">\n",
       "  <button class=\"colab-df-quickchart\" onclick=\"quickchart('df-c51caf5a-0ac9-41d1-89c3-421735d0f9be')\"\n",
       "            title=\"Suggest charts\"\n",
       "            style=\"display:none;\">\n",
       "\n",
       "<svg xmlns=\"http://www.w3.org/2000/svg\" height=\"24px\"viewBox=\"0 0 24 24\"\n",
       "     width=\"24px\">\n",
       "    <g>\n",
       "        <path d=\"M19 3H5c-1.1 0-2 .9-2 2v14c0 1.1.9 2 2 2h14c1.1 0 2-.9 2-2V5c0-1.1-.9-2-2-2zM9 17H7v-7h2v7zm4 0h-2V7h2v10zm4 0h-2v-4h2v4z\"/>\n",
       "    </g>\n",
       "</svg>\n",
       "  </button>\n",
       "\n",
       "<style>\n",
       "  .colab-df-quickchart {\n",
       "      --bg-color: #E8F0FE;\n",
       "      --fill-color: #1967D2;\n",
       "      --hover-bg-color: #E2EBFA;\n",
       "      --hover-fill-color: #174EA6;\n",
       "      --disabled-fill-color: #AAA;\n",
       "      --disabled-bg-color: #DDD;\n",
       "  }\n",
       "\n",
       "  [theme=dark] .colab-df-quickchart {\n",
       "      --bg-color: #3B4455;\n",
       "      --fill-color: #D2E3FC;\n",
       "      --hover-bg-color: #434B5C;\n",
       "      --hover-fill-color: #FFFFFF;\n",
       "      --disabled-bg-color: #3B4455;\n",
       "      --disabled-fill-color: #666;\n",
       "  }\n",
       "\n",
       "  .colab-df-quickchart {\n",
       "    background-color: var(--bg-color);\n",
       "    border: none;\n",
       "    border-radius: 50%;\n",
       "    cursor: pointer;\n",
       "    display: none;\n",
       "    fill: var(--fill-color);\n",
       "    height: 32px;\n",
       "    padding: 0;\n",
       "    width: 32px;\n",
       "  }\n",
       "\n",
       "  .colab-df-quickchart:hover {\n",
       "    background-color: var(--hover-bg-color);\n",
       "    box-shadow: 0 1px 2px rgba(60, 64, 67, 0.3), 0 1px 3px 1px rgba(60, 64, 67, 0.15);\n",
       "    fill: var(--button-hover-fill-color);\n",
       "  }\n",
       "\n",
       "  .colab-df-quickchart-complete:disabled,\n",
       "  .colab-df-quickchart-complete:disabled:hover {\n",
       "    background-color: var(--disabled-bg-color);\n",
       "    fill: var(--disabled-fill-color);\n",
       "    box-shadow: none;\n",
       "  }\n",
       "\n",
       "  .colab-df-spinner {\n",
       "    border: 2px solid var(--fill-color);\n",
       "    border-color: transparent;\n",
       "    border-bottom-color: var(--fill-color);\n",
       "    animation:\n",
       "      spin 1s steps(1) infinite;\n",
       "  }\n",
       "\n",
       "  @keyframes spin {\n",
       "    0% {\n",
       "      border-color: transparent;\n",
       "      border-bottom-color: var(--fill-color);\n",
       "      border-left-color: var(--fill-color);\n",
       "    }\n",
       "    20% {\n",
       "      border-color: transparent;\n",
       "      border-left-color: var(--fill-color);\n",
       "      border-top-color: var(--fill-color);\n",
       "    }\n",
       "    30% {\n",
       "      border-color: transparent;\n",
       "      border-left-color: var(--fill-color);\n",
       "      border-top-color: var(--fill-color);\n",
       "      border-right-color: var(--fill-color);\n",
       "    }\n",
       "    40% {\n",
       "      border-color: transparent;\n",
       "      border-right-color: var(--fill-color);\n",
       "      border-top-color: var(--fill-color);\n",
       "    }\n",
       "    60% {\n",
       "      border-color: transparent;\n",
       "      border-right-color: var(--fill-color);\n",
       "    }\n",
       "    80% {\n",
       "      border-color: transparent;\n",
       "      border-right-color: var(--fill-color);\n",
       "      border-bottom-color: var(--fill-color);\n",
       "    }\n",
       "    90% {\n",
       "      border-color: transparent;\n",
       "      border-bottom-color: var(--fill-color);\n",
       "    }\n",
       "  }\n",
       "</style>\n",
       "\n",
       "  <script>\n",
       "    async function quickchart(key) {\n",
       "      const quickchartButtonEl =\n",
       "        document.querySelector('#' + key + ' button');\n",
       "      quickchartButtonEl.disabled = true;  // To prevent multiple clicks.\n",
       "      quickchartButtonEl.classList.add('colab-df-spinner');\n",
       "      try {\n",
       "        const charts = await google.colab.kernel.invokeFunction(\n",
       "            'suggestCharts', [key], {});\n",
       "      } catch (error) {\n",
       "        console.error('Error during call to suggestCharts:', error);\n",
       "      }\n",
       "      quickchartButtonEl.classList.remove('colab-df-spinner');\n",
       "      quickchartButtonEl.classList.add('colab-df-quickchart-complete');\n",
       "    }\n",
       "    (() => {\n",
       "      let quickchartButtonEl =\n",
       "        document.querySelector('#df-c51caf5a-0ac9-41d1-89c3-421735d0f9be button');\n",
       "      quickchartButtonEl.style.display =\n",
       "        google.colab.kernel.accessAllowed ? 'block' : 'none';\n",
       "    })();\n",
       "  </script>\n",
       "</div>\n",
       "\n",
       "    </div>\n",
       "  </div>\n"
      ],
      "text/plain": [
       "                                                text  label  label_pred\n",
       "0  Query: Jak odliczyć stratę operacyjną od podat...      0           0\n",
       "1  Query: Jak działają stopy procentowe i spłaty ...      0           0\n",
       "2  Query: ~75 tysięcy dolarów oszczędności - spła...      0           0\n",
       "3  Query: Jak zaoszczędzić na ubraniach i butach ...      1           1\n",
       "4  Query: Czy osoby prowadzące działalność na wła...      0           0"
      ]
     },
     "execution_count": 22,
     "metadata": {},
     "output_type": "execute_result"
    }
   ],
   "source": [
    "results_df = pd.DataFrame({\n",
    "    'text': tokenized_datasets['test']['text'],\n",
    "    'label': y_true,\n",
    "    'label_pred': y_pred\n",
    "})\n",
    "\n",
    "results_df.head()"
   ]
  },
  {
   "cell_type": "markdown",
   "id": "aaff6e03-8205-4a7c-9c5a-009e27bc976c",
   "metadata": {
    "id": "aaff6e03-8205-4a7c-9c5a-009e27bc976c"
   },
   "source": [
    "## Task 6"
   ]
  },
  {
   "cell_type": "markdown",
   "id": "ed8b5056-225d-4963-8ada-ad3861b36bf6",
   "metadata": {
    "id": "ed8b5056-225d-4963-8ada-ad3861b36bf6"
   },
   "source": [
    "Report the results you have obtained for the model. Use appropriate measures, since the dataset is not balanced."
   ]
  },
  {
   "cell_type": "code",
   "execution_count": 19,
   "id": "80aa3940-d8f9-4a9f-97f4-a69d29572d91",
   "metadata": {
    "colab": {
     "base_uri": "https://localhost:8080/"
    },
    "executionInfo": {
     "elapsed": 211,
     "status": "ok",
     "timestamp": 1733089277229,
     "user": {
      "displayName": "Bartek Jamiołkowski",
      "userId": "12147853541531476383"
     },
     "user_tz": -60
    },
    "id": "80aa3940-d8f9-4a9f-97f4-a69d29572d91",
    "outputId": "17e00e67-ad91-4c25-cbda-f3e81f997a28"
   },
   "outputs": [
    {
     "name": "stdout",
     "output_type": "stream",
     "text": [
      "Accuracy: 0.9111121298248831\n",
      "Precision: 0.625243474873393\n",
      "Recall: 0.6216111541440743\n",
      "F1: 0.6234220236939212\n"
     ]
    }
   ],
   "source": [
    "evaluation_metrics_dict = {'accuracy': accuracy_score, 'precision': precision_score, 'recall': recall_score, 'f1': f1_score}\n",
    "\n",
    "for metric_name, metric in evaluation_metrics_dict.items():\n",
    "  print(f'{metric_name.capitalize()}: {metric(y_true, y_pred)}')"
   ]
  },
  {
   "cell_type": "code",
   "execution_count": 20,
   "id": "b5ef96a2-5cbd-407e-87cc-4cae69607bdc",
   "metadata": {
    "colab": {
     "base_uri": "https://localhost:8080/",
     "height": 607
    },
    "executionInfo": {
     "elapsed": 508,
     "status": "ok",
     "timestamp": 1733089320764,
     "user": {
      "displayName": "Bartek Jamiołkowski",
      "userId": "12147853541531476383"
     },
     "user_tz": -60
    },
    "id": "b5ef96a2-5cbd-407e-87cc-4cae69607bdc",
    "outputId": "06d5328a-5bce-4887-8f64-5a9bf5f6777e"
   },
   "outputs": [
    {
     "data": {
      "image/png": "[encoded data removed]",
      "text/plain": [
       "<Figure size 800x600 with 2 Axes>"
      ]
     },
     "metadata": {},
     "output_type": "display_data"
    }
   ],
   "source": [
    "cm = confusion_matrix(y_true, y_pred)\n",
    "\n",
    "plt.figure(figsize = (8, 6))\n",
    "sns.heatmap(cm, annot = True, fmt = 'd', cmap = 'viridis', xticklabels = [0, 1], yticklabels = [0, 1], cbar_kws = {'label': 'Count'})\n",
    "plt.title('Confusion Matrix', fontsize = 16)\n",
    "plt.xlabel('Predicted Label', fontsize = 12)\n",
    "plt.ylabel('True Label', fontsize = 12)\n",
    "plt.xticks(fontsize = 12)\n",
    "plt.yticks(fontsize = 12)\n",
    "plt.tight_layout()\n",
    "plt.show()"
   ]
  },
  {
   "cell_type": "markdown",
   "id": "44aa836f-8f71-42ea-9812-de209ab5563e",
   "metadata": {},
   "source": [
    "Accuracy = 91.11% - obtained accuracy is quite good, however it should be interpreted cautiously, because of dataset's imbalance.\n",
    "\n",
    "\n",
    "Precision = 62.52% - indicates that the model exhibits an moderate proportion of correct positive classifications among the predicted positives\n",
    "\n",
    "\r\n",
    "Recall = 62.16% - indicates a relatively moderate performance in capturing true positive instances\n",
    "\n",
    " \r\n",
    "F1 score = 62.34% - indicates there’s room for improvement, as it’s not very high but indicates a decent trade-off between precision and recall.\r\n",
    "\r\n",
    "Calculated metrics indicate that the model has moderate performance and there is room for improvement."
   ]
  },
  {
   "cell_type": "markdown",
   "id": "766311a5-f29f-46e0-9347-f06a2b5da339",
   "metadata": {
    "id": "766311a5-f29f-46e0-9347-f06a2b5da339"
   },
   "source": [
    "## Task 7 - 8"
   ]
  },
  {
   "cell_type": "markdown",
   "id": "bc9df698-9117-4401-ab09-d8b13608f47c",
   "metadata": {
    "id": "bc9df698-9117-4401-ab09-d8b13608f47c"
   },
   "source": [
    "Use the classifier as a re-ranker for finding the answers to the questions. Since the re-ranker is slow, you  have to limit the subset of possible passages to top-n (10, 50 or 100 - depending on your GPU) texts returned by much faster model, e.g. FTS.\n",
    "\n",
    "The scheme for re-ranking is as follows:\n",
    "- Find passage candidates using FTS, where the query is the question.\n",
    "- Take top-n results returned by FTS.\n",
    "- Use the model to classify all pairs, where the first sentence is the question (query) and the second sentence is the passage returned by the FTS.\n",
    "- Use the score returned by the model (i.e. the probability of the **positive** outcome) to re-rank the passages."
   ]
  },
  {
   "cell_type": "code",
   "execution_count": 38,
   "id": "b875f84e-2355-4b1e-897c-c56a3e981753",
   "metadata": {},
   "outputs": [],
   "source": [
    "model = AutoModelForSequenceClassification.from_pretrained('./checkpoints/checkpoint-10000')"
   ]
  },
  {
   "cell_type": "code",
   "execution_count": 39,
   "id": "eec4aa84-1256-45a9-9d40-96424434a1cd",
   "metadata": {},
   "outputs": [],
   "source": [
    "fiqa_pl_queries_df = load_dataset('clarin-knext/fiqa-pl', 'queries')['queries'].to_pandas()"
   ]
  },
  {
   "cell_type": "code",
   "execution_count": 51,
   "id": "ad81419c-ac96-48e2-b999-66b7387e6558",
   "metadata": {
    "colab": {
     "base_uri": "https://localhost:8080/"
    },
    "executionInfo": {
     "elapsed": 344,
     "status": "ok",
     "timestamp": 1733089724882,
     "user": {
      "displayName": "Bartek Jamiołkowski",
      "userId": "12147853541531476383"
     },
     "user_tz": -60
    },
    "id": "ad81419c-ac96-48e2-b999-66b7387e6558",
    "outputId": "cc77efab-d660-4bd4-acfe-bc9c2d63b689"
   },
   "outputs": [],
   "source": [
    "pipe = TextClassificationPipeline(model = model, tokenizer = tokenizer, return_all_scores = False, truncation = True, padding = 'max_length')\n",
    "\n",
    "def search_answers_ids(es, query, k, reranking):\n",
    "    body_query = {\n",
    "        'query': {\n",
    "            'match': {\n",
    "                'text_with_lemmatization': {\n",
    "                    'query': query,\n",
    "                    'analyzer': 'polish_analyzer_lemmatization'\n",
    "                }\n",
    "            }\n",
    "        },\n",
    "        '_source': ['id', 'text_with_lemmatization']\n",
    "    }\n",
    "\n",
    "    response = es.search(index = 'fiqa_pl_index', body = body_query)['hits']['hits'][:k]\n",
    "\n",
    "    if reranking:\n",
    "        response = sorted(response, key = lambda doc: -float(pipe(f\"Query: {query} Answer: {doc['_source']['text_with_lemmatization']}\")[0]['score']))\n",
    "        return [hit['_source']['id'] for hit in response]\n",
    "\n",
    "    return [hit['_source']['id'] for hit in response]\n",
    "\n",
    "def compute_ncdgk(answers_ids, revelant_ids, k):\n",
    "    dcg = sum(1 / math.log(i + 2, 2) for i in range(k) if int(answers_ids[i]) in revelant_ids)\n",
    "    idcg = sum(1 / math.log(i + 2, 2) for i in range(min(len(revelant_ids), k)))\n",
    "\n",
    "    return dcg / idcg\n",
    "\n",
    "def compute_analyzer_mean_ncdgn(analysed_col, k, reranking):\n",
    "    ncdgk_scores = []\n",
    "\n",
    "    for query_id in fiqa_pl_test_df['query-id'].unique():\n",
    "        query = fiqa_pl_queries_df[str(query_id) == fiqa_pl_queries_df['_id']].iloc[0][analysed_col]\n",
    "        answers_ids = search_answers_ids(es, query, k, reranking)\n",
    "        relevant_ids = fiqa_pl_test_df[query_id == fiqa_pl_test_df['query-id']]['corpus-id'].tolist()\n",
    "        ncdgk_score = compute_ncdgk(answers_ids, relevant_ids, k = k)\n",
    "        ncdgk_scores.append(ncdgk_score)\n",
    "\n",
    "    return np.mean(ncdgk_scores)"
   ]
  },
  {
   "cell_type": "markdown",
   "id": "5d261a01-b87f-49b7-b021-03cfeb305453",
   "metadata": {
    "id": "5d261a01-b87f-49b7-b021-03cfeb305453"
   },
   "source": [
    "## Task 9"
   ]
  },
  {
   "cell_type": "markdown",
   "id": "f33286b6-12fe-4e72-a2e8-331257e96e3c",
   "metadata": {
    "id": "f33286b6-12fe-4e72-a2e8-331257e96e3c"
   },
   "source": [
    "Compute how much the result of searching the passages improved over the results from lab 2. Use NDCG to compare the  results."
   ]
  },
  {
   "cell_type": "code",
   "execution_count": 45,
   "id": "618f425e-1ef4-4f9e-b37d-5400bb6268d9",
   "metadata": {
    "colab": {
     "base_uri": "https://localhost:8080/",
     "height": 1000
    },
    "executionInfo": {
     "elapsed": 239,
     "status": "error",
     "timestamp": 1733090676931,
     "user": {
      "displayName": "Bartek Jamiołkowski",
      "userId": "12147853541531476383"
     },
     "user_tz": -60
    },
    "id": "618f425e-1ef4-4f9e-b37d-5400bb6268d9",
    "outputId": "8e9a9ad2-e0ad-4b89-ae7a-e63eed1e077f"
   },
   "outputs": [
    {
     "name": "stdout",
     "output_type": "stream",
     "text": [
      "NDCG@10 without reranking: 0.20705719453326424\n"
     ]
    }
   ],
   "source": [
    "print(f\"NDCG@10 without reranking: {compute_analyzer_mean_ncdgn('text', 10, reranking = False)}\")"
   ]
  },
  {
   "cell_type": "code",
   "execution_count": 44,
   "id": "1c7b9498-d2a3-4e92-abe6-7fb3c5dd1cc9",
   "metadata": {
    "id": "1c7b9498-d2a3-4e92-abe6-7fb3c5dd1cc9"
   },
   "outputs": [
    {
     "name": "stdout",
     "output_type": "stream",
     "text": [
      "NDCG@10 with reranking: 0.10136132505006878\n"
     ]
    }
   ],
   "source": [
    "print(f\"NDCG@10 with reranking: {compute_analyzer_mean_ncdgn('text', 10, reranking = True)}\")"
   ]
  },
  {
   "cell_type": "markdown",
   "id": "a3aaa2a5-2e51-4dfa-83a0-67e88d7b9dec",
   "metadata": {},
   "source": [
    "In theory, the results of searching for passages should have improved over the results from Lab 2, thanks to the application of re-ranking based on a neural network model. However, due to limited computational resources and the use of a suboptimal model, the results deteriorated, leading to lower performance in the passage search. The error caused by misclassifications from the model propagated over time, resulting in a lower NDCG@10 score."
   ]
  },
  {
   "cell_type": "markdown",
   "id": "2590f0af-435a-4a6b-8fed-d39ba7f3f8a2",
   "metadata": {
    "id": "2590f0af-435a-4a6b-8fed-d39ba7f3f8a2"
   },
   "source": [
    "## Questions"
   ]
  },
  {
   "cell_type": "markdown",
   "id": "3ecbdfb5-3db7-4348-8be7-4e716ac90a59",
   "metadata": {
    "id": "3ecbdfb5-3db7-4348-8be7-4e716ac90a59"
   },
   "source": [
    "### Question 1\n",
    "Do you think simpler methods, like Bayesian bag-of-words model, would work for sentence-pair classification? Justify  your answer."
   ]
  },
  {
   "cell_type": "markdown",
   "id": "U40hO-MaEXKT",
   "metadata": {
    "id": "U40hO-MaEXKT"
   },
   "source": [
    "In my opinion, simpler methods like the Bayesian bag-of-words model are generally ineffective for sentence-pair classification. By relying only on word frequencies and ignoring other aspects like: context, word order and semantic relationships, they fail to capture the nuanced connections crucial for tasks like entailment or semantic similarity. While computationally efficient, their limitations in contextual and syntactic representation lead to poorer performance compared to neural network-based models."
   ]
  },
  {
   "cell_type": "markdown",
   "id": "7a903878-ef5a-4e7a-8d53-e5ef1ea5cfa0",
   "metadata": {
    "id": "7a903878-ef5a-4e7a-8d53-e5ef1ea5cfa0"
   },
   "source": [
    "### Question 2\n",
    "What hyper-parameters you have selected for the training? What resources (papers, tutorial) you have consulted to  select these hyper-parameters?"
   ]
  },
  {
   "cell_type": "markdown",
   "id": "sgQWhyraEWcx",
   "metadata": {
    "id": "sgQWhyraEWcx"
   },
   "source": [
    "For training purposes, I selected parameters from a [tutorial](https://github.com/apohllo/sztuczna-inteligencja/tree/master/lab5) provided in the hints section of the laboratory description. I also referred to the official documentation to apply more useful parameters. In most cases, the parameter values were left as they were initially. However, some were adjusted based on my personal experience. The role of selected parameters is as follows:\n",
    "- `output_dir`: Specifies the directory where checkpoints are saved.  \n",
    "- `do_train`: Indicates whether the model should perform training.  \n",
    "- `do_eval`: Indicates whether the model should perform evaluation.  \n",
    "- `evaluation_strategy`: Defines the strategy for evaluating the model during training.  \n",
    "- `eval_steps`: The number of steps after which the evaluation process should be run. The lower the number, the more frequently evaluations are performed. I chose 500 steps because I needed to balance having numerous checkpoints with finding the best parameter values.  \n",
    "- `per_device_train_batch_size`: The batch size for training on each device. A larger batch size generally leads to faster training. I chose a value of 32 because it often appears in experiments described in scientific articles.  \n",
    "- `per_device_eval_batch_size`: The batch size for evaluation on each device. It determines how many samples are evaluated simultaneously. I chose a value of 32 for the same reason as above.  \n",
    "- `learning_rate`: Controls how much the model updates its weights during training. I chose 5e-05, which is a typical value for this kind of task.  \n",
    "- `warmup_ratio`: The fraction of total training steps used for a warmup phase. I chose 0.1 to prevent large updates early in training.  \n",
    "- `weight_decay`: A penalty applied to the model's weights during optimization to prevent overfitting.  \n",
    "- `num_train_epochs`: The number of complete passes through the dataset during training.  \n",
    "- `logging_first_step`: Indicates whether to log metrics during the very first training step.  \n",
    "- `logging_strategy`: Specifies when to log metrics during training.  \n",
    "- `logging_steps`: Specifies how often metrics like loss and accuracy are logged during training.  \n",
    "- `save_strategy`: Specifies when to save model checkpoints.  \n",
    "- `save_steps`: The interval (in training steps) at which checkpoints are saved.  \n",
    "- `fp16`: Enables mixed precision training, reducing memory usage and speeding up training without significantly affecting model accuracy. \n",
    "rzegawczych."
   ]
  },
  {
   "cell_type": "markdown",
   "id": "0b65ca4e-eb15-49cf-83ce-325fa3c6cb64",
   "metadata": {
    "id": "0b65ca4e-eb15-49cf-83ce-325fa3c6cb64"
   },
   "source": [
    "### Question 3\n",
    "Think about pros and cons of the neural-network models with respect to natural language processing. Provide at least  2 pros and 2 cons."
   ]
  },
  {
   "cell_type": "markdown",
   "id": "eed205dd-ba03-40c7-b0c5-6a0d4b43ca83",
   "metadata": {},
   "source": [
    "Like many tools in the universe, neural-network models have both advantages and disadvantages. These are as follows:  \r\n",
    "\r\n",
    "**a) Advantages**:  \r\n",
    "- Neural-network models excel at capturing the context of sentences, leading to highly promising results in natural language processing tasks.  \r\n",
    "- They enable users without linguistic expertise to perform language modeling and train models for tasks like question classification and answering.  \r\n",
    "- Neural networks can adapt to a variety of NLP tasks, offering flexibility and applicability to numerous domains.  \r\n",
    "\r\n",
    "**b) Disadvantages**:  \r\n",
    "- Training or fine-tuning neural-network models requires significant time, data, and computational resources. Even with a good GPU, these tasks can be challenging, and free platforms like Google Colab offer limited computational power, often taking hours to process large datasets. For optimal results, access to supercomputers may be necessary.  \r\n",
    "- Neural networks often demand substantial storage, as datasets and checkpoints can occupy many gigabytes of memory.  \r\n",
    "- These models function as black boxes, making it difficult to interpret how specific factors influence the quality of the results.  \r\n",
    "\r\n",
    "**Summary**:  \r\n",
    "Despite these challenges, the advantages of neural-network models outweigh their disadvantages. Their ability to perform a wide range of tasks and eliminate the need for domain-specific expertise makes them invaluable in natural language processing and beyond.  "
   ]
  }
 ],
 "metadata": {
  "accelerator": "GPU",
  "colab": {
   "gpuType": "T4",
   "provenance": []
  },
  "kernelspec": {
   "display_name": "nlp_venv",
   "language": "python",
   "name": "nlp_venv"
  },
  "language_info": {
   "codemirror_mode": {
    "name": "ipython",
    "version": 3
   },
   "file_extension": ".py",
   "mimetype": "text/x-python",
   "name": "python",
   "nbconvert_exporter": "python",
   "pygments_lexer": "ipython3",
   "version": "3.9.20"
  },
  "widgets": {
   "application/vnd.jupyter.widget-state+json": {
    "00644570d52347518197b096bdcf27b8": {
     "model_module": "@jupyter-widgets/base",
     "model_module_version": "1.2.0",
     "model_name": "LayoutModel",
     "state": {
      "_model_module": "@jupyter-widgets/base",
      "_model_module_version": "1.2.0",
      "_model_name": "LayoutModel",
      "_view_count": null,
      "_view_module": "@jupyter-widgets/base",
      "_view_module_version": "1.2.0",
      "_view_name": "LayoutView",
      "align_content": null,
      "align_items": null,
      "align_self": null,
      "border": null,
      "bottom": null,
      "display": null,
      "flex": null,
      "flex_flow": null,
      "grid_area": null,
      "grid_auto_columns": null,
      "grid_auto_flow": null,
      "grid_auto_rows": null,
      "grid_column": null,
      "grid_gap": null,
      "grid_row": null,
      "grid_template_areas": null,
      "grid_template_columns": null,
      "grid_template_rows": null,
      "height": null,
      "justify_content": null,
      "justify_items": null,
      "left": null,
      "margin": null,
      "max_height": null,
      "max_width": null,
      "min_height": null,
      "min_width": null,
      "object_fit": null,
      "object_position": null,
      "order": null,
      "overflow": null,
      "overflow_x": null,
      "overflow_y": null,
      "padding": null,
      "right": null,
      "top": null,
      "visibility": null,
      "width": null
     }
    },
    "02f3bc4a22304c8993d8e17101e00f6c": {
     "model_module": "@jupyter-widgets/base",
     "model_module_version": "1.2.0",
     "model_name": "LayoutModel",
     "state": {
      "_model_module": "@jupyter-widgets/base",
      "_model_module_version": "1.2.0",
      "_model_name": "LayoutModel",
      "_view_count": null,
      "_view_module": "@jupyter-widgets/base",
      "_view_module_version": "1.2.0",
      "_view_name": "LayoutView",
      "align_content": null,
      "align_items": null,
      "align_self": null,
      "border": null,
      "bottom": null,
      "display": null,
      "flex": null,
      "flex_flow": null,
      "grid_area": null,
      "grid_auto_columns": null,
      "grid_auto_flow": null,
      "grid_auto_rows": null,
      "grid_column": null,
      "grid_gap": null,
      "grid_row": null,
      "grid_template_areas": null,
      "grid_template_columns": null,
      "grid_template_rows": null,
      "height": null,
      "justify_content": null,
      "justify_items": null,
      "left": null,
      "margin": null,
      "max_height": null,
      "max_width": null,
      "min_height": null,
      "min_width": null,
      "object_fit": null,
      "object_position": null,
      "order": null,
      "overflow": null,
      "overflow_x": null,
      "overflow_y": null,
      "padding": null,
      "right": null,
      "top": null,
      "visibility": null,
      "width": null
     }
    },
    "04228f17fc0046908943ad63eb46e33c": {
     "model_module": "@jupyter-widgets/controls",
     "model_module_version": "1.5.0",
     "model_name": "HTMLModel",
     "state": {
      "_dom_classes": [],
      "_model_module": "@jupyter-widgets/controls",
      "_model_module_version": "1.5.0",
      "_model_name": "HTMLModel",
      "_view_count": null,
      "_view_module": "@jupyter-widgets/controls",
      "_view_module_version": "1.5.0",
      "_view_name": "HTMLView",
      "description": "",
      "description_tooltip": null,
      "layout": "IPY_MODEL_60a8cb9aff7e46c99e2d729cbf93ea9f",
      "placeholder": "​",
      "style": "IPY_MODEL_3547dd4348b843309285a0f04886ec71",
      "value": " 6.77k/6.77k [00:00&lt;00:00, 334kB/s]"
     }
    },
    "04b2ddf2a11a4f3889f8bcf7428c32fc": {
     "model_module": "@jupyter-widgets/base",
     "model_module_version": "1.2.0",
     "model_name": "LayoutModel",
     "state": {
      "_model_module": "@jupyter-widgets/base",
      "_model_module_version": "1.2.0",
      "_model_name": "LayoutModel",
      "_view_count": null,
      "_view_module": "@jupyter-widgets/base",
      "_view_module_version": "1.2.0",
      "_view_name": "LayoutView",
      "align_content": null,
      "align_items": null,
      "align_self": null,
      "border": null,
      "bottom": null,
      "display": null,
      "flex": null,
      "flex_flow": null,
      "grid_area": null,
      "grid_auto_columns": null,
      "grid_auto_flow": null,
      "grid_auto_rows": null,
      "grid_column": null,
      "grid_gap": null,
      "grid_row": null,
      "grid_template_areas": null,
      "grid_template_columns": null,
      "grid_template_rows": null,
      "height": null,
      "justify_content": null,
      "justify_items": null,
      "left": null,
      "margin": null,
      "max_height": null,
      "max_width": null,
      "min_height": null,
      "min_width": null,
      "object_fit": null,
      "object_position": null,
      "order": null,
      "overflow": null,
      "overflow_x": null,
      "overflow_y": null,
      "padding": null,
      "right": null,
      "top": null,
      "visibility": null,
      "width": null
     }
    },
    "051944ee6f484ef6abf8038539f8ad69": {
     "model_module": "@jupyter-widgets/controls",
     "model_module_version": "1.5.0",
     "model_name": "HBoxModel",
     "state": {
      "_dom_classes": [],
      "_model_module": "@jupyter-widgets/controls",
      "_model_module_version": "1.5.0",
      "_model_name": "HBoxModel",
      "_view_count": null,
      "_view_module": "@jupyter-widgets/controls",
      "_view_module_version": "1.5.0",
      "_view_name": "HBoxView",
      "box_style": "",
      "children": [
       "IPY_MODEL_3ef10b5116f545c999392832b6beb1ff",
       "IPY_MODEL_bc50ab838956481c89b9498208374d35",
       "IPY_MODEL_a747de9bb63945fa84fa7d0ee6303a6e"
      ],
      "layout": "IPY_MODEL_ca35e1e449a04360bb813ba8e8f108b3"
     }
    },
    "05846fff70f547b0a77eb78a63c034f5": {
     "model_module": "@jupyter-widgets/base",
     "model_module_version": "1.2.0",
     "model_name": "LayoutModel",
     "state": {
      "_model_module": "@jupyter-widgets/base",
      "_model_module_version": "1.2.0",
      "_model_name": "LayoutModel",
      "_view_count": null,
      "_view_module": "@jupyter-widgets/base",
      "_view_module_version": "1.2.0",
      "_view_name": "LayoutView",
      "align_content": null,
      "align_items": null,
      "align_self": null,
      "border": null,
      "bottom": null,
      "display": null,
      "flex": null,
      "flex_flow": null,
      "grid_area": null,
      "grid_auto_columns": null,
      "grid_auto_flow": null,
      "grid_auto_rows": null,
      "grid_column": null,
      "grid_gap": null,
      "grid_row": null,
      "grid_template_areas": null,
      "grid_template_columns": null,
      "grid_template_rows": null,
      "height": null,
      "justify_content": null,
      "justify_items": null,
      "left": null,
      "margin": null,
      "max_height": null,
      "max_width": null,
      "min_height": null,
      "min_width": null,
      "object_fit": null,
      "object_position": null,
      "order": null,
      "overflow": null,
      "overflow_x": null,
      "overflow_y": null,
      "padding": null,
      "right": null,
      "top": null,
      "visibility": null,
      "width": null
     }
    },
    "08ab79fefada4fbfa66a55a0c55b17e9": {
     "model_module": "@jupyter-widgets/controls",
     "model_module_version": "1.5.0",
     "model_name": "ProgressStyleModel",
     "state": {
      "_model_module": "@jupyter-widgets/controls",
      "_model_module_version": "1.5.0",
      "_model_name": "ProgressStyleModel",
      "_view_count": null,
      "_view_module": "@jupyter-widgets/base",
      "_view_module_version": "1.2.0",
      "_view_name": "StyleView",
      "bar_color": null,
      "description_width": ""
     }
    },
    "104eb9ccaf8547efb3069436bdb6ef65": {
     "model_module": "@jupyter-widgets/controls",
     "model_module_version": "1.5.0",
     "model_name": "HTMLModel",
     "state": {
      "_dom_classes": [],
      "_model_module": "@jupyter-widgets/controls",
      "_model_module_version": "1.5.0",
      "_model_name": "HTMLModel",
      "_view_count": null,
      "_view_module": "@jupyter-widgets/controls",
      "_view_module_version": "1.5.0",
      "_view_name": "HTMLView",
      "description": "",
      "description_tooltip": null,
      "layout": "IPY_MODEL_e12f552af14d45308cd16b7fd4c349a2",
      "placeholder": "​",
      "style": "IPY_MODEL_c41324fcbd7c4bf0bf061ba10c65c31d",
      "value": "Downloading builder script: 100%"
     }
    },
    "10c31d17c5734fefa20ce8a61bf8aae3": {
     "model_module": "@jupyter-widgets/controls",
     "model_module_version": "1.5.0",
     "model_name": "ProgressStyleModel",
     "state": {
      "_model_module": "@jupyter-widgets/controls",
      "_model_module_version": "1.5.0",
      "_model_name": "ProgressStyleModel",
      "_view_count": null,
      "_view_module": "@jupyter-widgets/base",
      "_view_module_version": "1.2.0",
      "_view_name": "StyleView",
      "bar_color": null,
      "description_width": ""
     }
    },
    "1161e5c70d294e65bac0b6ef265e9ef5": {
     "model_module": "@jupyter-widgets/base",
     "model_module_version": "1.2.0",
     "model_name": "LayoutModel",
     "state": {
      "_model_module": "@jupyter-widgets/base",
      "_model_module_version": "1.2.0",
      "_model_name": "LayoutModel",
      "_view_count": null,
      "_view_module": "@jupyter-widgets/base",
      "_view_module_version": "1.2.0",
      "_view_name": "LayoutView",
      "align_content": null,
      "align_items": null,
      "align_self": null,
      "border": null,
      "bottom": null,
      "display": null,
      "flex": null,
      "flex_flow": null,
      "grid_area": null,
      "grid_auto_columns": null,
      "grid_auto_flow": null,
      "grid_auto_rows": null,
      "grid_column": null,
      "grid_gap": null,
      "grid_row": null,
      "grid_template_areas": null,
      "grid_template_columns": null,
      "grid_template_rows": null,
      "height": null,
      "justify_content": null,
      "justify_items": null,
      "left": null,
      "margin": null,
      "max_height": null,
      "max_width": null,
      "min_height": null,
      "min_width": null,
      "object_fit": null,
      "object_position": null,
      "order": null,
      "overflow": null,
      "overflow_x": null,
      "overflow_y": null,
      "padding": null,
      "right": null,
      "top": null,
      "visibility": null,
      "width": null
     }
    },
    "11ce03a5c350437a827600dc410448e3": {
     "model_module": "@jupyter-widgets/base",
     "model_module_version": "1.2.0",
     "model_name": "LayoutModel",
     "state": {
      "_model_module": "@jupyter-widgets/base",
      "_model_module_version": "1.2.0",
      "_model_name": "LayoutModel",
      "_view_count": null,
      "_view_module": "@jupyter-widgets/base",
      "_view_module_version": "1.2.0",
      "_view_name": "LayoutView",
      "align_content": null,
      "align_items": null,
      "align_self": null,
      "border": null,
      "bottom": null,
      "display": null,
      "flex": null,
      "flex_flow": null,
      "grid_area": null,
      "grid_auto_columns": null,
      "grid_auto_flow": null,
      "grid_auto_rows": null,
      "grid_column": null,
      "grid_gap": null,
      "grid_row": null,
      "grid_template_areas": null,
      "grid_template_columns": null,
      "grid_template_rows": null,
      "height": null,
      "justify_content": null,
      "justify_items": null,
      "left": null,
      "margin": null,
      "max_height": null,
      "max_width": null,
      "min_height": null,
      "min_width": null,
      "object_fit": null,
      "object_position": null,
      "order": null,
      "overflow": null,
      "overflow_x": null,
      "overflow_y": null,
      "padding": null,
      "right": null,
      "top": null,
      "visibility": null,
      "width": null
     }
    },
    "16aa2d6965784ba4acb80ef4c8349ce7": {
     "model_module": "@jupyter-widgets/controls",
     "model_module_version": "1.5.0",
     "model_name": "DescriptionStyleModel",
     "state": {
      "_model_module": "@jupyter-widgets/controls",
      "_model_module_version": "1.5.0",
      "_model_name": "DescriptionStyleModel",
      "_view_count": null,
      "_view_module": "@jupyter-widgets/base",
      "_view_module_version": "1.2.0",
      "_view_name": "StyleView",
      "description_width": ""
     }
    },
    "187729371c244d3980d56dd88ea4983f": {
     "model_module": "@jupyter-widgets/controls",
     "model_module_version": "1.5.0",
     "model_name": "ProgressStyleModel",
     "state": {
      "_model_module": "@jupyter-widgets/controls",
      "_model_module_version": "1.5.0",
      "_model_name": "ProgressStyleModel",
      "_view_count": null,
      "_view_module": "@jupyter-widgets/base",
      "_view_module_version": "1.2.0",
      "_view_name": "StyleView",
      "bar_color": null,
      "description_width": ""
     }
    },
    "1ab1c58de66b49ddb04c986c855d9120": {
     "model_module": "@jupyter-widgets/controls",
     "model_module_version": "1.5.0",
     "model_name": "DescriptionStyleModel",
     "state": {
      "_model_module": "@jupyter-widgets/controls",
      "_model_module_version": "1.5.0",
      "_model_name": "DescriptionStyleModel",
      "_view_count": null,
      "_view_module": "@jupyter-widgets/base",
      "_view_module_version": "1.2.0",
      "_view_name": "StyleView",
      "description_width": ""
     }
    },
    "1b6f6d66ae9447128787885f73f2b837": {
     "model_module": "@jupyter-widgets/base",
     "model_module_version": "1.2.0",
     "model_name": "LayoutModel",
     "state": {
      "_model_module": "@jupyter-widgets/base",
      "_model_module_version": "1.2.0",
      "_model_name": "LayoutModel",
      "_view_count": null,
      "_view_module": "@jupyter-widgets/base",
      "_view_module_version": "1.2.0",
      "_view_name": "LayoutView",
      "align_content": null,
      "align_items": null,
      "align_self": null,
      "border": null,
      "bottom": null,
      "display": null,
      "flex": null,
      "flex_flow": null,
      "grid_area": null,
      "grid_auto_columns": null,
      "grid_auto_flow": null,
      "grid_auto_rows": null,
      "grid_column": null,
      "grid_gap": null,
      "grid_row": null,
      "grid_template_areas": null,
      "grid_template_columns": null,
      "grid_template_rows": null,
      "height": null,
      "justify_content": null,
      "justify_items": null,
      "left": null,
      "margin": null,
      "max_height": null,
      "max_width": null,
      "min_height": null,
      "min_width": null,
      "object_fit": null,
      "object_position": null,
      "order": null,
      "overflow": null,
      "overflow_x": null,
      "overflow_y": null,
      "padding": null,
      "right": null,
      "top": null,
      "visibility": null,
      "width": null
     }
    },
    "1e666cd4d2ac44b4ac48be6505b94e47": {
     "model_module": "@jupyter-widgets/controls",
     "model_module_version": "1.5.0",
     "model_name": "HTMLModel",
     "state": {
      "_dom_classes": [],
      "_model_module": "@jupyter-widgets/controls",
      "_model_module_version": "1.5.0",
      "_model_name": "HTMLModel",
      "_view_count": null,
      "_view_module": "@jupyter-widgets/controls",
      "_view_module_version": "1.5.0",
      "_view_name": "HTMLView",
      "description": "",
      "description_tooltip": null,
      "layout": "IPY_MODEL_c32d03c0e1364d5e8a8b2d8a330b5b6e",
      "placeholder": "​",
      "style": "IPY_MODEL_ef7892e8d3e5404db4413961765ac204",
      "value": "test.tsv: 100%"
     }
    },
    "2178f65ce5d7478e9154ca69dc63ba14": {
     "model_module": "@jupyter-widgets/controls",
     "model_module_version": "1.5.0",
     "model_name": "ProgressStyleModel",
     "state": {
      "_model_module": "@jupyter-widgets/controls",
      "_model_module_version": "1.5.0",
      "_model_name": "ProgressStyleModel",
      "_view_count": null,
      "_view_module": "@jupyter-widgets/base",
      "_view_module_version": "1.2.0",
      "_view_name": "StyleView",
      "bar_color": null,
      "description_width": ""
     }
    },
    "2252930d400a4fd0af5e8f0e93bd12bf": {
     "model_module": "@jupyter-widgets/controls",
     "model_module_version": "1.5.0",
     "model_name": "HBoxModel",
     "state": {
      "_dom_classes": [],
      "_model_module": "@jupyter-widgets/controls",
      "_model_module_version": "1.5.0",
      "_model_name": "HBoxModel",
      "_view_count": null,
      "_view_module": "@jupyter-widgets/controls",
      "_view_module_version": "1.5.0",
      "_view_name": "HBoxView",
      "box_style": "",
      "children": [
       "IPY_MODEL_104eb9ccaf8547efb3069436bdb6ef65",
       "IPY_MODEL_4f3e459d6d9f4d61914f2a0319ee5386",
       "IPY_MODEL_04228f17fc0046908943ad63eb46e33c"
      ],
      "layout": "IPY_MODEL_d0ea688098bd4e9d8392e1cb56f482be"
     }
    },
    "25b30e28179f4f78b07c2ab4397bc427": {
     "model_module": "@jupyter-widgets/controls",
     "model_module_version": "1.5.0",
     "model_name": "FloatProgressModel",
     "state": {
      "_dom_classes": [],
      "_model_module": "@jupyter-widgets/controls",
      "_model_module_version": "1.5.0",
      "_model_name": "FloatProgressModel",
      "_view_count": null,
      "_view_module": "@jupyter-widgets/controls",
      "_view_module_version": "1.5.0",
      "_view_name": "ProgressView",
      "bar_style": "success",
      "description": "",
      "description_tooltip": null,
      "layout": "IPY_MODEL_742e6a6032644a358eb52abb282372e9",
      "max": 57638,
      "min": 0,
      "orientation": "horizontal",
      "style": "IPY_MODEL_f3d49899844d4acea30d96e2e715e519",
      "value": 57638
     }
    },
    "260452e5822c47fc8d22acf1b274d11a": {
     "model_module": "@jupyter-widgets/controls",
     "model_module_version": "1.5.0",
     "model_name": "DescriptionStyleModel",
     "state": {
      "_model_module": "@jupyter-widgets/controls",
      "_model_module_version": "1.5.0",
      "_model_name": "DescriptionStyleModel",
      "_view_count": null,
      "_view_module": "@jupyter-widgets/base",
      "_view_module_version": "1.2.0",
      "_view_name": "StyleView",
      "description_width": ""
     }
    },
    "294f1878d89c49a6801af7466ab0f215": {
     "model_module": "@jupyter-widgets/base",
     "model_module_version": "1.2.0",
     "model_name": "LayoutModel",
     "state": {
      "_model_module": "@jupyter-widgets/base",
      "_model_module_version": "1.2.0",
      "_model_name": "LayoutModel",
      "_view_count": null,
      "_view_module": "@jupyter-widgets/base",
      "_view_module_version": "1.2.0",
      "_view_name": "LayoutView",
      "align_content": null,
      "align_items": null,
      "align_self": null,
      "border": null,
      "bottom": null,
      "display": null,
      "flex": null,
      "flex_flow": null,
      "grid_area": null,
      "grid_auto_columns": null,
      "grid_auto_flow": null,
      "grid_auto_rows": null,
      "grid_column": null,
      "grid_gap": null,
      "grid_row": null,
      "grid_template_areas": null,
      "grid_template_columns": null,
      "grid_template_rows": null,
      "height": null,
      "justify_content": null,
      "justify_items": null,
      "left": null,
      "margin": null,
      "max_height": null,
      "max_width": null,
      "min_height": null,
      "min_width": null,
      "object_fit": null,
      "object_position": null,
      "order": null,
      "overflow": null,
      "overflow_x": null,
      "overflow_y": null,
      "padding": null,
      "right": null,
      "top": null,
      "visibility": null,
      "width": null
     }
    },
    "29c03b5c2b7a4ac1a8209fdf7feddb03": {
     "model_module": "@jupyter-widgets/base",
     "model_module_version": "1.2.0",
     "model_name": "LayoutModel",
     "state": {
      "_model_module": "@jupyter-widgets/base",
      "_model_module_version": "1.2.0",
      "_model_name": "LayoutModel",
      "_view_count": null,
      "_view_module": "@jupyter-widgets/base",
      "_view_module_version": "1.2.0",
      "_view_name": "LayoutView",
      "align_content": null,
      "align_items": null,
      "align_self": null,
      "border": null,
      "bottom": null,
      "display": null,
      "flex": null,
      "flex_flow": null,
      "grid_area": null,
      "grid_auto_columns": null,
      "grid_auto_flow": null,
      "grid_auto_rows": null,
      "grid_column": null,
      "grid_gap": null,
      "grid_row": null,
      "grid_template_areas": null,
      "grid_template_columns": null,
      "grid_template_rows": null,
      "height": null,
      "justify_content": null,
      "justify_items": null,
      "left": null,
      "margin": null,
      "max_height": null,
      "max_width": null,
      "min_height": null,
      "min_width": null,
      "object_fit": null,
      "object_position": null,
      "order": null,
      "overflow": null,
      "overflow_x": null,
      "overflow_y": null,
      "padding": null,
      "right": null,
      "top": null,
      "visibility": null,
      "width": null
     }
    },
    "29e48a877ac742c79a28cb27de480e99": {
     "model_module": "@jupyter-widgets/controls",
     "model_module_version": "1.5.0",
     "model_name": "DescriptionStyleModel",
     "state": {
      "_model_module": "@jupyter-widgets/controls",
      "_model_module_version": "1.5.0",
      "_model_name": "DescriptionStyleModel",
      "_view_count": null,
      "_view_module": "@jupyter-widgets/base",
      "_view_module_version": "1.2.0",
      "_view_name": "StyleView",
      "description_width": ""
     }
    },
    "2b9eb69292374298925c35e18a075664": {
     "model_module": "@jupyter-widgets/base",
     "model_module_version": "1.2.0",
     "model_name": "LayoutModel",
     "state": {
      "_model_module": "@jupyter-widgets/base",
      "_model_module_version": "1.2.0",
      "_model_name": "LayoutModel",
      "_view_count": null,
      "_view_module": "@jupyter-widgets/base",
      "_view_module_version": "1.2.0",
      "_view_name": "LayoutView",
      "align_content": null,
      "align_items": null,
      "align_self": null,
      "border": null,
      "bottom": null,
      "display": null,
      "flex": null,
      "flex_flow": null,
      "grid_area": null,
      "grid_auto_columns": null,
      "grid_auto_flow": null,
      "grid_auto_rows": null,
      "grid_column": null,
      "grid_gap": null,
      "grid_row": null,
      "grid_template_areas": null,
      "grid_template_columns": null,
      "grid_template_rows": null,
      "height": null,
      "justify_content": null,
      "justify_items": null,
      "left": null,
      "margin": null,
      "max_height": null,
      "max_width": null,
      "min_height": null,
      "min_width": null,
      "object_fit": null,
      "object_position": null,
      "order": null,
      "overflow": null,
      "overflow_x": null,
      "overflow_y": null,
      "padding": null,
      "right": null,
      "top": null,
      "visibility": null,
      "width": null
     }
    },
    "2ba91d2ca338442b82054ce5e6b847a4": {
     "model_module": "@jupyter-widgets/base",
     "model_module_version": "1.2.0",
     "model_name": "LayoutModel",
     "state": {
      "_model_module": "@jupyter-widgets/base",
      "_model_module_version": "1.2.0",
      "_model_name": "LayoutModel",
      "_view_count": null,
      "_view_module": "@jupyter-widgets/base",
      "_view_module_version": "1.2.0",
      "_view_name": "LayoutView",
      "align_content": null,
      "align_items": null,
      "align_self": null,
      "border": null,
      "bottom": null,
      "display": null,
      "flex": null,
      "flex_flow": null,
      "grid_area": null,
      "grid_auto_columns": null,
      "grid_auto_flow": null,
      "grid_auto_rows": null,
      "grid_column": null,
      "grid_gap": null,
      "grid_row": null,
      "grid_template_areas": null,
      "grid_template_columns": null,
      "grid_template_rows": null,
      "height": null,
      "justify_content": null,
      "justify_items": null,
      "left": null,
      "margin": null,
      "max_height": null,
      "max_width": null,
      "min_height": null,
      "min_width": null,
      "object_fit": null,
      "object_position": null,
      "order": null,
      "overflow": null,
      "overflow_x": null,
      "overflow_y": null,
      "padding": null,
      "right": null,
      "top": null,
      "visibility": null,
      "width": null
     }
    },
    "2cf1563942264f448eff4c7f3af3e9cf": {
     "model_module": "@jupyter-widgets/controls",
     "model_module_version": "1.5.0",
     "model_name": "HBoxModel",
     "state": {
      "_dom_classes": [],
      "_model_module": "@jupyter-widgets/controls",
      "_model_module_version": "1.5.0",
      "_model_name": "HBoxModel",
      "_view_count": null,
      "_view_module": "@jupyter-widgets/controls",
      "_view_module_version": "1.5.0",
      "_view_name": "HBoxView",
      "box_style": "",
      "children": [
       "IPY_MODEL_d1f0c5f3758f46daaac483ee333bad12",
       "IPY_MODEL_b4add610995c46259d2e9a7f5b6d710f",
       "IPY_MODEL_8bfac02e504848118b2a490ad4687099"
      ],
      "layout": "IPY_MODEL_b044b319c4da49e08596862ddeddaa7e"
     }
    },
    "2ffe4f8e8eba45bd97e847ecbda30165": {
     "model_module": "@jupyter-widgets/controls",
     "model_module_version": "1.5.0",
     "model_name": "DescriptionStyleModel",
     "state": {
      "_model_module": "@jupyter-widgets/controls",
      "_model_module_version": "1.5.0",
      "_model_name": "DescriptionStyleModel",
      "_view_count": null,
      "_view_module": "@jupyter-widgets/base",
      "_view_module_version": "1.2.0",
      "_view_name": "StyleView",
      "description_width": ""
     }
    },
    "309a4db4090d4088838588100627876e": {
     "model_module": "@jupyter-widgets/base",
     "model_module_version": "1.2.0",
     "model_name": "LayoutModel",
     "state": {
      "_model_module": "@jupyter-widgets/base",
      "_model_module_version": "1.2.0",
      "_model_name": "LayoutModel",
      "_view_count": null,
      "_view_module": "@jupyter-widgets/base",
      "_view_module_version": "1.2.0",
      "_view_name": "LayoutView",
      "align_content": null,
      "align_items": null,
      "align_self": null,
      "border": null,
      "bottom": null,
      "display": null,
      "flex": null,
      "flex_flow": null,
      "grid_area": null,
      "grid_auto_columns": null,
      "grid_auto_flow": null,
      "grid_auto_rows": null,
      "grid_column": null,
      "grid_gap": null,
      "grid_row": null,
      "grid_template_areas": null,
      "grid_template_columns": null,
      "grid_template_rows": null,
      "height": null,
      "justify_content": null,
      "justify_items": null,
      "left": null,
      "margin": null,
      "max_height": null,
      "max_width": null,
      "min_height": null,
      "min_width": null,
      "object_fit": null,
      "object_position": null,
      "order": null,
      "overflow": null,
      "overflow_x": null,
      "overflow_y": null,
      "padding": null,
      "right": null,
      "top": null,
      "visibility": null,
      "width": null
     }
    },
    "3547dd4348b843309285a0f04886ec71": {
     "model_module": "@jupyter-widgets/controls",
     "model_module_version": "1.5.0",
     "model_name": "DescriptionStyleModel",
     "state": {
      "_model_module": "@jupyter-widgets/controls",
      "_model_module_version": "1.5.0",
      "_model_name": "DescriptionStyleModel",
      "_view_count": null,
      "_view_module": "@jupyter-widgets/base",
      "_view_module_version": "1.2.0",
      "_view_name": "StyleView",
      "description_width": ""
     }
    },
    "356fb350bd914c7887d18312774739df": {
     "model_module": "@jupyter-widgets/controls",
     "model_module_version": "1.5.0",
     "model_name": "DescriptionStyleModel",
     "state": {
      "_model_module": "@jupyter-widgets/controls",
      "_model_module_version": "1.5.0",
      "_model_name": "DescriptionStyleModel",
      "_view_count": null,
      "_view_module": "@jupyter-widgets/base",
      "_view_module_version": "1.2.0",
      "_view_name": "StyleView",
      "description_width": ""
     }
    },
    "3625790f60ef49059ddcb611a6ea5255": {
     "model_module": "@jupyter-widgets/controls",
     "model_module_version": "1.5.0",
     "model_name": "DescriptionStyleModel",
     "state": {
      "_model_module": "@jupyter-widgets/controls",
      "_model_module_version": "1.5.0",
      "_model_name": "DescriptionStyleModel",
      "_view_count": null,
      "_view_module": "@jupyter-widgets/base",
      "_view_module_version": "1.2.0",
      "_view_name": "StyleView",
      "description_width": ""
     }
    },
    "38b3f9a6e5d44592ab6c695f9d6e098b": {
     "model_module": "@jupyter-widgets/controls",
     "model_module_version": "1.5.0",
     "model_name": "ProgressStyleModel",
     "state": {
      "_model_module": "@jupyter-widgets/controls",
      "_model_module_version": "1.5.0",
      "_model_name": "ProgressStyleModel",
      "_view_count": null,
      "_view_module": "@jupyter-widgets/base",
      "_view_module_version": "1.2.0",
      "_view_name": "StyleView",
      "bar_color": null,
      "description_width": ""
     }
    },
    "390d763860f240a4b5cea628169c63c3": {
     "model_module": "@jupyter-widgets/base",
     "model_module_version": "1.2.0",
     "model_name": "LayoutModel",
     "state": {
      "_model_module": "@jupyter-widgets/base",
      "_model_module_version": "1.2.0",
      "_model_name": "LayoutModel",
      "_view_count": null,
      "_view_module": "@jupyter-widgets/base",
      "_view_module_version": "1.2.0",
      "_view_name": "LayoutView",
      "align_content": null,
      "align_items": null,
      "align_self": null,
      "border": null,
      "bottom": null,
      "display": null,
      "flex": null,
      "flex_flow": null,
      "grid_area": null,
      "grid_auto_columns": null,
      "grid_auto_flow": null,
      "grid_auto_rows": null,
      "grid_column": null,
      "grid_gap": null,
      "grid_row": null,
      "grid_template_areas": null,
      "grid_template_columns": null,
      "grid_template_rows": null,
      "height": null,
      "justify_content": null,
      "justify_items": null,
      "left": null,
      "margin": null,
      "max_height": null,
      "max_width": null,
      "min_height": null,
      "min_width": null,
      "object_fit": null,
      "object_position": null,
      "order": null,
      "overflow": null,
      "overflow_x": null,
      "overflow_y": null,
      "padding": null,
      "right": null,
      "top": null,
      "visibility": null,
      "width": null
     }
    },
    "3cca91dd12f4475998678dd26753ab80": {
     "model_module": "@jupyter-widgets/controls",
     "model_module_version": "1.5.0",
     "model_name": "HBoxModel",
     "state": {
      "_dom_classes": [],
      "_model_module": "@jupyter-widgets/controls",
      "_model_module_version": "1.5.0",
      "_model_name": "HBoxModel",
      "_view_count": null,
      "_view_module": "@jupyter-widgets/controls",
      "_view_module_version": "1.5.0",
      "_view_name": "HBoxView",
      "box_style": "",
      "children": [
       "IPY_MODEL_8cddedc26a1f4ef5bcdd0c0363709de3",
       "IPY_MODEL_5ef15ae00e5d4ff6aabcbce054dabc43",
       "IPY_MODEL_52dde8315e84412b8ec75b7c7667a65c"
      ],
      "layout": "IPY_MODEL_29c03b5c2b7a4ac1a8209fdf7feddb03"
     }
    },
    "3e7c5f64e9ef42939e4ac4867f6bf4dd": {
     "model_module": "@jupyter-widgets/base",
     "model_module_version": "1.2.0",
     "model_name": "LayoutModel",
     "state": {
      "_model_module": "@jupyter-widgets/base",
      "_model_module_version": "1.2.0",
      "_model_name": "LayoutModel",
      "_view_count": null,
      "_view_module": "@jupyter-widgets/base",
      "_view_module_version": "1.2.0",
      "_view_name": "LayoutView",
      "align_content": null,
      "align_items": null,
      "align_self": null,
      "border": null,
      "bottom": null,
      "display": null,
      "flex": null,
      "flex_flow": null,
      "grid_area": null,
      "grid_auto_columns": null,
      "grid_auto_flow": null,
      "grid_auto_rows": null,
      "grid_column": null,
      "grid_gap": null,
      "grid_row": null,
      "grid_template_areas": null,
      "grid_template_columns": null,
      "grid_template_rows": null,
      "height": null,
      "justify_content": null,
      "justify_items": null,
      "left": null,
      "margin": null,
      "max_height": null,
      "max_width": null,
      "min_height": null,
      "min_width": null,
      "object_fit": null,
      "object_position": null,
      "order": null,
      "overflow": null,
      "overflow_x": null,
      "overflow_y": null,
      "padding": null,
      "right": null,
      "top": null,
      "visibility": null,
      "width": null
     }
    },
    "3ef10b5116f545c999392832b6beb1ff": {
     "model_module": "@jupyter-widgets/controls",
     "model_module_version": "1.5.0",
     "model_name": "HTMLModel",
     "state": {
      "_dom_classes": [],
      "_model_module": "@jupyter-widgets/controls",
      "_model_module_version": "1.5.0",
      "_model_name": "HTMLModel",
      "_view_count": null,
      "_view_module": "@jupyter-widgets/controls",
      "_view_module_version": "1.5.0",
      "_view_name": "HTMLView",
      "description": "",
      "description_tooltip": null,
      "layout": "IPY_MODEL_f1dbdd8f0f4a49df9ad8bfafdf09c4ac",
      "placeholder": "​",
      "style": "IPY_MODEL_6158f34c41a5479d99fdf12751413705",
      "value": "pytorch_model.bin: 100%"
     }
    },
    "4106f7d0d7e745efabee5a4d2f2f21f2": {
     "model_module": "@jupyter-widgets/controls",
     "model_module_version": "1.5.0",
     "model_name": "HTMLModel",
     "state": {
      "_dom_classes": [],
      "_model_module": "@jupyter-widgets/controls",
      "_model_module_version": "1.5.0",
      "_model_name": "HTMLModel",
      "_view_count": null,
      "_view_module": "@jupyter-widgets/controls",
      "_view_module_version": "1.5.0",
      "_view_name": "HTMLView",
      "description": "",
      "description_tooltip": null,
      "layout": "IPY_MODEL_309a4db4090d4088838588100627876e",
      "placeholder": "​",
      "style": "IPY_MODEL_3625790f60ef49059ddcb611a6ea5255",
      "value": "Generating corpus split: 100%"
     }
    },
    "42dbf1e239c94362ac083b99fce3728d": {
     "model_module": "@jupyter-widgets/controls",
     "model_module_version": "1.5.0",
     "model_name": "HTMLModel",
     "state": {
      "_dom_classes": [],
      "_model_module": "@jupyter-widgets/controls",
      "_model_module_version": "1.5.0",
      "_model_name": "HTMLModel",
      "_view_count": null,
      "_view_module": "@jupyter-widgets/controls",
      "_view_module_version": "1.5.0",
      "_view_name": "HTMLView",
      "description": "",
      "description_tooltip": null,
      "layout": "IPY_MODEL_9cf7939847ac4e81b10c5f2f4a2db8a5",
      "placeholder": "​",
      "style": "IPY_MODEL_464a78cbf3d84f66a795ce08b8ef396d",
      "value": "Generating test split: 100%"
     }
    },
    "4311c373334b4019b851732bb6413ff9": {
     "model_module": "@jupyter-widgets/base",
     "model_module_version": "1.2.0",
     "model_name": "LayoutModel",
     "state": {
      "_model_module": "@jupyter-widgets/base",
      "_model_module_version": "1.2.0",
      "_model_name": "LayoutModel",
      "_view_count": null,
      "_view_module": "@jupyter-widgets/base",
      "_view_module_version": "1.2.0",
      "_view_name": "LayoutView",
      "align_content": null,
      "align_items": null,
      "align_self": null,
      "border": null,
      "bottom": null,
      "display": null,
      "flex": null,
      "flex_flow": null,
      "grid_area": null,
      "grid_auto_columns": null,
      "grid_auto_flow": null,
      "grid_auto_rows": null,
      "grid_column": null,
      "grid_gap": null,
      "grid_row": null,
      "grid_template_areas": null,
      "grid_template_columns": null,
      "grid_template_rows": null,
      "height": null,
      "justify_content": null,
      "justify_items": null,
      "left": null,
      "margin": null,
      "max_height": null,
      "max_width": null,
      "min_height": null,
      "min_width": null,
      "object_fit": null,
      "object_position": null,
      "order": null,
      "overflow": null,
      "overflow_x": null,
      "overflow_y": null,
      "padding": null,
      "right": null,
      "top": null,
      "visibility": null,
      "width": null
     }
    },
    "464a78cbf3d84f66a795ce08b8ef396d": {
     "model_module": "@jupyter-widgets/controls",
     "model_module_version": "1.5.0",
     "model_name": "DescriptionStyleModel",
     "state": {
      "_model_module": "@jupyter-widgets/controls",
      "_model_module_version": "1.5.0",
      "_model_name": "DescriptionStyleModel",
      "_view_count": null,
      "_view_module": "@jupyter-widgets/base",
      "_view_module_version": "1.2.0",
      "_view_name": "StyleView",
      "description_width": ""
     }
    },
    "46cf4fa073ad48c2820fbe0e0f411cba": {
     "model_module": "@jupyter-widgets/base",
     "model_module_version": "1.2.0",
     "model_name": "LayoutModel",
     "state": {
      "_model_module": "@jupyter-widgets/base",
      "_model_module_version": "1.2.0",
      "_model_name": "LayoutModel",
      "_view_count": null,
      "_view_module": "@jupyter-widgets/base",
      "_view_module_version": "1.2.0",
      "_view_name": "LayoutView",
      "align_content": null,
      "align_items": null,
      "align_self": null,
      "border": null,
      "bottom": null,
      "display": null,
      "flex": null,
      "flex_flow": null,
      "grid_area": null,
      "grid_auto_columns": null,
      "grid_auto_flow": null,
      "grid_auto_rows": null,
      "grid_column": null,
      "grid_gap": null,
      "grid_row": null,
      "grid_template_areas": null,
      "grid_template_columns": null,
      "grid_template_rows": null,
      "height": null,
      "justify_content": null,
      "justify_items": null,
      "left": null,
      "margin": null,
      "max_height": null,
      "max_width": null,
      "min_height": null,
      "min_width": null,
      "object_fit": null,
      "object_position": null,
      "order": null,
      "overflow": null,
      "overflow_x": null,
      "overflow_y": null,
      "padding": null,
      "right": null,
      "top": null,
      "visibility": null,
      "width": null
     }
    },
    "472df9ee8416465bb16439aa05f260d5": {
     "model_module": "@jupyter-widgets/controls",
     "model_module_version": "1.5.0",
     "model_name": "FloatProgressModel",
     "state": {
      "_dom_classes": [],
      "_model_module": "@jupyter-widgets/controls",
      "_model_module_version": "1.5.0",
      "_model_name": "FloatProgressModel",
      "_view_count": null,
      "_view_module": "@jupyter-widgets/controls",
      "_view_module_version": "1.5.0",
      "_view_name": "ProgressView",
      "bar_style": "success",
      "description": "",
      "description_tooltip": null,
      "layout": "IPY_MODEL_05846fff70f547b0a77eb78a63c034f5",
      "max": 25256,
      "min": 0,
      "orientation": "horizontal",
      "style": "IPY_MODEL_a77f807376f04aa6b82b7c98462290d5",
      "value": 25256
     }
    },
    "4951ce45d2c747518ae9b1d483a093e4": {
     "model_module": "@jupyter-widgets/controls",
     "model_module_version": "1.5.0",
     "model_name": "FloatProgressModel",
     "state": {
      "_dom_classes": [],
      "_model_module": "@jupyter-widgets/controls",
      "_model_module_version": "1.5.0",
      "_model_name": "FloatProgressModel",
      "_view_count": null,
      "_view_module": "@jupyter-widgets/controls",
      "_view_module_version": "1.5.0",
      "_view_name": "ProgressView",
      "bar_style": "success",
      "description": "",
      "description_tooltip": null,
      "layout": "IPY_MODEL_e55dd3b7fa564625a6233bd6b21fd2d8",
      "max": 1706,
      "min": 0,
      "orientation": "horizontal",
      "style": "IPY_MODEL_fb452b3759da415a86be41e01edd3229",
      "value": 1706
     }
    },
    "49759703a7604eb3ad2d061d7e092dd3": {
     "model_module": "@jupyter-widgets/base",
     "model_module_version": "1.2.0",
     "model_name": "LayoutModel",
     "state": {
      "_model_module": "@jupyter-widgets/base",
      "_model_module_version": "1.2.0",
      "_model_name": "LayoutModel",
      "_view_count": null,
      "_view_module": "@jupyter-widgets/base",
      "_view_module_version": "1.2.0",
      "_view_name": "LayoutView",
      "align_content": null,
      "align_items": null,
      "align_self": null,
      "border": null,
      "bottom": null,
      "display": null,
      "flex": null,
      "flex_flow": null,
      "grid_area": null,
      "grid_auto_columns": null,
      "grid_auto_flow": null,
      "grid_auto_rows": null,
      "grid_column": null,
      "grid_gap": null,
      "grid_row": null,
      "grid_template_areas": null,
      "grid_template_columns": null,
      "grid_template_rows": null,
      "height": null,
      "justify_content": null,
      "justify_items": null,
      "left": null,
      "margin": null,
      "max_height": null,
      "max_width": null,
      "min_height": null,
      "min_width": null,
      "object_fit": null,
      "object_position": null,
      "order": null,
      "overflow": null,
      "overflow_x": null,
      "overflow_y": null,
      "padding": null,
      "right": null,
      "top": null,
      "visibility": null,
      "width": null
     }
    },
    "4ac8a371763a4e1aa9ae6e54c1f3022d": {
     "model_module": "@jupyter-widgets/base",
     "model_module_version": "1.2.0",
     "model_name": "LayoutModel",
     "state": {
      "_model_module": "@jupyter-widgets/base",
      "_model_module_version": "1.2.0",
      "_model_name": "LayoutModel",
      "_view_count": null,
      "_view_module": "@jupyter-widgets/base",
      "_view_module_version": "1.2.0",
      "_view_name": "LayoutView",
      "align_content": null,
      "align_items": null,
      "align_self": null,
      "border": null,
      "bottom": null,
      "display": null,
      "flex": null,
      "flex_flow": null,
      "grid_area": null,
      "grid_auto_columns": null,
      "grid_auto_flow": null,
      "grid_auto_rows": null,
      "grid_column": null,
      "grid_gap": null,
      "grid_row": null,
      "grid_template_areas": null,
      "grid_template_columns": null,
      "grid_template_rows": null,
      "height": null,
      "justify_content": null,
      "justify_items": null,
      "left": null,
      "margin": null,
      "max_height": null,
      "max_width": null,
      "min_height": null,
      "min_width": null,
      "object_fit": null,
      "object_position": null,
      "order": null,
      "overflow": null,
      "overflow_x": null,
      "overflow_y": null,
      "padding": null,
      "right": null,
      "top": null,
      "visibility": null,
      "width": null
     }
    },
    "4f3e459d6d9f4d61914f2a0319ee5386": {
     "model_module": "@jupyter-widgets/controls",
     "model_module_version": "1.5.0",
     "model_name": "FloatProgressModel",
     "state": {
      "_dom_classes": [],
      "_model_module": "@jupyter-widgets/controls",
      "_model_module_version": "1.5.0",
      "_model_name": "FloatProgressModel",
      "_view_count": null,
      "_view_module": "@jupyter-widgets/controls",
      "_view_module_version": "1.5.0",
      "_view_name": "ProgressView",
      "bar_style": "success",
      "description": "",
      "description_tooltip": null,
      "layout": "IPY_MODEL_ac36f9f30ca34658a9af9101529ece8c",
      "max": 6771,
      "min": 0,
      "orientation": "horizontal",
      "style": "IPY_MODEL_7451dd5411be4cc0b027d255c4dee93c",
      "value": 6771
     }
    },
    "50189f753cbb4a238221c74aed543fc5": {
     "model_module": "@jupyter-widgets/controls",
     "model_module_version": "1.5.0",
     "model_name": "DescriptionStyleModel",
     "state": {
      "_model_module": "@jupyter-widgets/controls",
      "_model_module_version": "1.5.0",
      "_model_name": "DescriptionStyleModel",
      "_view_count": null,
      "_view_module": "@jupyter-widgets/base",
      "_view_module_version": "1.2.0",
      "_view_name": "StyleView",
      "description_width": ""
     }
    },
    "503b9ee6f5fb47a394a58dde85f68d03": {
     "model_module": "@jupyter-widgets/base",
     "model_module_version": "1.2.0",
     "model_name": "LayoutModel",
     "state": {
      "_model_module": "@jupyter-widgets/base",
      "_model_module_version": "1.2.0",
      "_model_name": "LayoutModel",
      "_view_count": null,
      "_view_module": "@jupyter-widgets/base",
      "_view_module_version": "1.2.0",
      "_view_name": "LayoutView",
      "align_content": null,
      "align_items": null,
      "align_self": null,
      "border": null,
      "bottom": null,
      "display": null,
      "flex": null,
      "flex_flow": null,
      "grid_area": null,
      "grid_auto_columns": null,
      "grid_auto_flow": null,
      "grid_auto_rows": null,
      "grid_column": null,
      "grid_gap": null,
      "grid_row": null,
      "grid_template_areas": null,
      "grid_template_columns": null,
      "grid_template_rows": null,
      "height": null,
      "justify_content": null,
      "justify_items": null,
      "left": null,
      "margin": null,
      "max_height": null,
      "max_width": null,
      "min_height": null,
      "min_width": null,
      "object_fit": null,
      "object_position": null,
      "order": null,
      "overflow": null,
      "overflow_x": null,
      "overflow_y": null,
      "padding": null,
      "right": null,
      "top": null,
      "visibility": null,
      "width": null
     }
    },
    "50fa2f39258f4ac09feeccd9b1e731bb": {
     "model_module": "@jupyter-widgets/controls",
     "model_module_version": "1.5.0",
     "model_name": "FloatProgressModel",
     "state": {
      "_dom_classes": [],
      "_model_module": "@jupyter-widgets/controls",
      "_model_module_version": "1.5.0",
      "_model_name": "FloatProgressModel",
      "_view_count": null,
      "_view_module": "@jupyter-widgets/controls",
      "_view_module_version": "1.5.0",
      "_view_name": "ProgressView",
      "bar_style": "success",
      "description": "",
      "description_tooltip": null,
      "layout": "IPY_MODEL_390d763860f240a4b5cea628169c63c3",
      "max": 209842,
      "min": 0,
      "orientation": "horizontal",
      "style": "IPY_MODEL_cb6c3a89f79e459095a66efb7eee3e1e",
      "value": 209842
     }
    },
    "51b7b121ce1c43499c7b533b37ef7dcc": {
     "model_module": "@jupyter-widgets/base",
     "model_module_version": "1.2.0",
     "model_name": "LayoutModel",
     "state": {
      "_model_module": "@jupyter-widgets/base",
      "_model_module_version": "1.2.0",
      "_model_name": "LayoutModel",
      "_view_count": null,
      "_view_module": "@jupyter-widgets/base",
      "_view_module_version": "1.2.0",
      "_view_name": "LayoutView",
      "align_content": null,
      "align_items": null,
      "align_self": null,
      "border": null,
      "bottom": null,
      "display": null,
      "flex": null,
      "flex_flow": null,
      "grid_area": null,
      "grid_auto_columns": null,
      "grid_auto_flow": null,
      "grid_auto_rows": null,
      "grid_column": null,
      "grid_gap": null,
      "grid_row": null,
      "grid_template_areas": null,
      "grid_template_columns": null,
      "grid_template_rows": null,
      "height": null,
      "justify_content": null,
      "justify_items": null,
      "left": null,
      "margin": null,
      "max_height": null,
      "max_width": null,
      "min_height": null,
      "min_width": null,
      "object_fit": null,
      "object_position": null,
      "order": null,
      "overflow": null,
      "overflow_x": null,
      "overflow_y": null,
      "padding": null,
      "right": null,
      "top": null,
      "visibility": null,
      "width": null
     }
    },
    "52dde8315e84412b8ec75b7c7667a65c": {
     "model_module": "@jupyter-widgets/controls",
     "model_module_version": "1.5.0",
     "model_name": "HTMLModel",
     "state": {
      "_dom_classes": [],
      "_model_module": "@jupyter-widgets/controls",
      "_model_module_version": "1.5.0",
      "_model_name": "HTMLModel",
      "_view_count": null,
      "_view_module": "@jupyter-widgets/controls",
      "_view_module_version": "1.5.0",
      "_view_name": "HTMLView",
      "description": "",
      "description_tooltip": null,
      "layout": "IPY_MODEL_46cf4fa073ad48c2820fbe0e0f411cba",
      "placeholder": "​",
      "style": "IPY_MODEL_59709d9371754d55807ae8c1e6b4f09c",
      "value": " 472/472 [00:00&lt;00:00, 13.1kB/s]"
     }
    },
    "5387e3c220774024b2487e22c7f0172f": {
     "model_module": "@jupyter-widgets/controls",
     "model_module_version": "1.5.0",
     "model_name": "HBoxModel",
     "state": {
      "_dom_classes": [],
      "_model_module": "@jupyter-widgets/controls",
      "_model_module_version": "1.5.0",
      "_model_name": "HBoxModel",
      "_view_count": null,
      "_view_module": "@jupyter-widgets/controls",
      "_view_module_version": "1.5.0",
      "_view_name": "HBoxView",
      "box_style": "",
      "children": [
       "IPY_MODEL_e3ce81eca39e498f90ed719030982ca1",
       "IPY_MODEL_ce1ba9c8fddf44f0bf5357988c12c3dd",
       "IPY_MODEL_a50906b6afd444b3942218e0fd5c3b44"
      ],
      "layout": "IPY_MODEL_1b6f6d66ae9447128787885f73f2b837"
     }
    },
    "542b45b91e194ab0a910dcf2c44124e5": {
     "model_module": "@jupyter-widgets/base",
     "model_module_version": "1.2.0",
     "model_name": "LayoutModel",
     "state": {
      "_model_module": "@jupyter-widgets/base",
      "_model_module_version": "1.2.0",
      "_model_name": "LayoutModel",
      "_view_count": null,
      "_view_module": "@jupyter-widgets/base",
      "_view_module_version": "1.2.0",
      "_view_name": "LayoutView",
      "align_content": null,
      "align_items": null,
      "align_self": null,
      "border": null,
      "bottom": null,
      "display": null,
      "flex": null,
      "flex_flow": null,
      "grid_area": null,
      "grid_auto_columns": null,
      "grid_auto_flow": null,
      "grid_auto_rows": null,
      "grid_column": null,
      "grid_gap": null,
      "grid_row": null,
      "grid_template_areas": null,
      "grid_template_columns": null,
      "grid_template_rows": null,
      "height": null,
      "justify_content": null,
      "justify_items": null,
      "left": null,
      "margin": null,
      "max_height": null,
      "max_width": null,
      "min_height": null,
      "min_width": null,
      "object_fit": null,
      "object_position": null,
      "order": null,
      "overflow": null,
      "overflow_x": null,
      "overflow_y": null,
      "padding": null,
      "right": null,
      "top": null,
      "visibility": null,
      "width": null
     }
    },
    "54d0a18305164d67ad3864708b3f03cf": {
     "model_module": "@jupyter-widgets/controls",
     "model_module_version": "1.5.0",
     "model_name": "ProgressStyleModel",
     "state": {
      "_model_module": "@jupyter-widgets/controls",
      "_model_module_version": "1.5.0",
      "_model_name": "ProgressStyleModel",
      "_view_count": null,
      "_view_module": "@jupyter-widgets/base",
      "_view_module_version": "1.2.0",
      "_view_name": "StyleView",
      "bar_color": null,
      "description_width": ""
     }
    },
    "57286bdc4ec144528833b659fc91a02f": {
     "model_module": "@jupyter-widgets/controls",
     "model_module_version": "1.5.0",
     "model_name": "DescriptionStyleModel",
     "state": {
      "_model_module": "@jupyter-widgets/controls",
      "_model_module_version": "1.5.0",
      "_model_name": "DescriptionStyleModel",
      "_view_count": null,
      "_view_module": "@jupyter-widgets/base",
      "_view_module_version": "1.2.0",
      "_view_name": "StyleView",
      "description_width": ""
     }
    },
    "573b2cb91e4f4a27bebf48a113cec06d": {
     "model_module": "@jupyter-widgets/controls",
     "model_module_version": "1.5.0",
     "model_name": "HBoxModel",
     "state": {
      "_dom_classes": [],
      "_model_module": "@jupyter-widgets/controls",
      "_model_module_version": "1.5.0",
      "_model_name": "HBoxModel",
      "_view_count": null,
      "_view_module": "@jupyter-widgets/controls",
      "_view_module_version": "1.5.0",
      "_view_name": "HBoxView",
      "box_style": "",
      "children": [
       "IPY_MODEL_a0e5a464e3f64885a995eea806b3ce0b",
       "IPY_MODEL_50fa2f39258f4ac09feeccd9b1e731bb",
       "IPY_MODEL_b773890a4f27495a8be68e699d86a563"
      ],
      "layout": "IPY_MODEL_3e7c5f64e9ef42939e4ac4867f6bf4dd"
     }
    },
    "57ff8b33fc9a47c6aecb04aa084abe8c": {
     "model_module": "@jupyter-widgets/base",
     "model_module_version": "1.2.0",
     "model_name": "LayoutModel",
     "state": {
      "_model_module": "@jupyter-widgets/base",
      "_model_module_version": "1.2.0",
      "_model_name": "LayoutModel",
      "_view_count": null,
      "_view_module": "@jupyter-widgets/base",
      "_view_module_version": "1.2.0",
      "_view_name": "LayoutView",
      "align_content": null,
      "align_items": null,
      "align_self": null,
      "border": null,
      "bottom": null,
      "display": null,
      "flex": null,
      "flex_flow": null,
      "grid_area": null,
      "grid_auto_columns": null,
      "grid_auto_flow": null,
      "grid_auto_rows": null,
      "grid_column": null,
      "grid_gap": null,
      "grid_row": null,
      "grid_template_areas": null,
      "grid_template_columns": null,
      "grid_template_rows": null,
      "height": null,
      "justify_content": null,
      "justify_items": null,
      "left": null,
      "margin": null,
      "max_height": null,
      "max_width": null,
      "min_height": null,
      "min_width": null,
      "object_fit": null,
      "object_position": null,
      "order": null,
      "overflow": null,
      "overflow_x": null,
      "overflow_y": null,
      "padding": null,
      "right": null,
      "top": null,
      "visibility": null,
      "width": null
     }
    },
    "593c614ea55447a598896b76a385a294": {
     "model_module": "@jupyter-widgets/controls",
     "model_module_version": "1.5.0",
     "model_name": "HTMLModel",
     "state": {
      "_dom_classes": [],
      "_model_module": "@jupyter-widgets/controls",
      "_model_module_version": "1.5.0",
      "_model_name": "HTMLModel",
      "_view_count": null,
      "_view_module": "@jupyter-widgets/controls",
      "_view_module_version": "1.5.0",
      "_view_name": "HTMLView",
      "description": "",
      "description_tooltip": null,
      "layout": "IPY_MODEL_c1bf3c2d17fd4de9a5eda259e461f4f5",
      "placeholder": "​",
      "style": "IPY_MODEL_2ffe4f8e8eba45bd97e847ecbda30165",
      "value": "dev.tsv: 100%"
     }
    },
    "59709d9371754d55807ae8c1e6b4f09c": {
     "model_module": "@jupyter-widgets/controls",
     "model_module_version": "1.5.0",
     "model_name": "DescriptionStyleModel",
     "state": {
      "_model_module": "@jupyter-widgets/controls",
      "_model_module_version": "1.5.0",
      "_model_name": "DescriptionStyleModel",
      "_view_count": null,
      "_view_module": "@jupyter-widgets/base",
      "_view_module_version": "1.2.0",
      "_view_name": "StyleView",
      "description_width": ""
     }
    },
    "5ab4cbd2dec346bb80e28748450a0cc0": {
     "model_module": "@jupyter-widgets/controls",
     "model_module_version": "1.5.0",
     "model_name": "DescriptionStyleModel",
     "state": {
      "_model_module": "@jupyter-widgets/controls",
      "_model_module_version": "1.5.0",
      "_model_name": "DescriptionStyleModel",
      "_view_count": null,
      "_view_module": "@jupyter-widgets/base",
      "_view_module_version": "1.2.0",
      "_view_name": "StyleView",
      "description_width": ""
     }
    },
    "5d2eb73b1fc74c0e9da1a922d22e1b66": {
     "model_module": "@jupyter-widgets/controls",
     "model_module_version": "1.5.0",
     "model_name": "DescriptionStyleModel",
     "state": {
      "_model_module": "@jupyter-widgets/controls",
      "_model_module_version": "1.5.0",
      "_model_name": "DescriptionStyleModel",
      "_view_count": null,
      "_view_module": "@jupyter-widgets/base",
      "_view_module_version": "1.2.0",
      "_view_name": "StyleView",
      "description_width": ""
     }
    },
    "5e4ce08a51d54e5fb36d7912e1d8c775": {
     "model_module": "@jupyter-widgets/base",
     "model_module_version": "1.2.0",
     "model_name": "LayoutModel",
     "state": {
      "_model_module": "@jupyter-widgets/base",
      "_model_module_version": "1.2.0",
      "_model_name": "LayoutModel",
      "_view_count": null,
      "_view_module": "@jupyter-widgets/base",
      "_view_module_version": "1.2.0",
      "_view_name": "LayoutView",
      "align_content": null,
      "align_items": null,
      "align_self": null,
      "border": null,
      "bottom": null,
      "display": null,
      "flex": null,
      "flex_flow": null,
      "grid_area": null,
      "grid_auto_columns": null,
      "grid_auto_flow": null,
      "grid_auto_rows": null,
      "grid_column": null,
      "grid_gap": null,
      "grid_row": null,
      "grid_template_areas": null,
      "grid_template_columns": null,
      "grid_template_rows": null,
      "height": null,
      "justify_content": null,
      "justify_items": null,
      "left": null,
      "margin": null,
      "max_height": null,
      "max_width": null,
      "min_height": null,
      "min_width": null,
      "object_fit": null,
      "object_position": null,
      "order": null,
      "overflow": null,
      "overflow_x": null,
      "overflow_y": null,
      "padding": null,
      "right": null,
      "top": null,
      "visibility": null,
      "width": null
     }
    },
    "5e5b0e75a6674001b11655f68abd8a3a": {
     "model_module": "@jupyter-widgets/controls",
     "model_module_version": "1.5.0",
     "model_name": "HTMLModel",
     "state": {
      "_dom_classes": [],
      "_model_module": "@jupyter-widgets/controls",
      "_model_module_version": "1.5.0",
      "_model_name": "HTMLModel",
      "_view_count": null,
      "_view_module": "@jupyter-widgets/controls",
      "_view_module_version": "1.5.0",
      "_view_name": "HTMLView",
      "description": "",
      "description_tooltip": null,
      "layout": "IPY_MODEL_8bb3eedc54e047fa9f33d9c1ef88eb33",
      "placeholder": "​",
      "style": "IPY_MODEL_57286bdc4ec144528833b659fc91a02f",
      "value": "Generating validation split: 100%"
     }
    },
    "5ef15ae00e5d4ff6aabcbce054dabc43": {
     "model_module": "@jupyter-widgets/controls",
     "model_module_version": "1.5.0",
     "model_name": "FloatProgressModel",
     "state": {
      "_dom_classes": [],
      "_model_module": "@jupyter-widgets/controls",
      "_model_module_version": "1.5.0",
      "_model_name": "FloatProgressModel",
      "_view_count": null,
      "_view_module": "@jupyter-widgets/controls",
      "_view_module_version": "1.5.0",
      "_view_name": "ProgressView",
      "bar_style": "success",
      "description": "",
      "description_tooltip": null,
      "layout": "IPY_MODEL_99c1caa100fe464fb248c86509418c92",
      "max": 472,
      "min": 0,
      "orientation": "horizontal",
      "style": "IPY_MODEL_54d0a18305164d67ad3864708b3f03cf",
      "value": 472
     }
    },
    "5f403157a8554e6a900c0d7d6b32f83b": {
     "model_module": "@jupyter-widgets/controls",
     "model_module_version": "1.5.0",
     "model_name": "HBoxModel",
     "state": {
      "_dom_classes": [],
      "_model_module": "@jupyter-widgets/controls",
      "_model_module_version": "1.5.0",
      "_model_name": "HBoxModel",
      "_view_count": null,
      "_view_module": "@jupyter-widgets/controls",
      "_view_module_version": "1.5.0",
      "_view_name": "HBoxView",
      "box_style": "",
      "children": [
       "IPY_MODEL_d3b31e6e568e487697755cf60d38855a",
       "IPY_MODEL_c44fc88dd4e04998b64b18d577368c34",
       "IPY_MODEL_a64151eb219f4fbea6ff1fa4a06a059b"
      ],
      "layout": "IPY_MODEL_ee5ff0e20fee4d069dc83e8cb9ebf91e"
     }
    },
    "5f5dc6c644194b8b8ed3756ebb7fd919": {
     "model_module": "@jupyter-widgets/base",
     "model_module_version": "1.2.0",
     "model_name": "LayoutModel",
     "state": {
      "_model_module": "@jupyter-widgets/base",
      "_model_module_version": "1.2.0",
      "_model_name": "LayoutModel",
      "_view_count": null,
      "_view_module": "@jupyter-widgets/base",
      "_view_module_version": "1.2.0",
      "_view_name": "LayoutView",
      "align_content": null,
      "align_items": null,
      "align_self": null,
      "border": null,
      "bottom": null,
      "display": null,
      "flex": null,
      "flex_flow": null,
      "grid_area": null,
      "grid_auto_columns": null,
      "grid_auto_flow": null,
      "grid_auto_rows": null,
      "grid_column": null,
      "grid_gap": null,
      "grid_row": null,
      "grid_template_areas": null,
      "grid_template_columns": null,
      "grid_template_rows": null,
      "height": null,
      "justify_content": null,
      "justify_items": null,
      "left": null,
      "margin": null,
      "max_height": null,
      "max_width": null,
      "min_height": null,
      "min_width": null,
      "object_fit": null,
      "object_position": null,
      "order": null,
      "overflow": null,
      "overflow_x": null,
      "overflow_y": null,
      "padding": null,
      "right": null,
      "top": null,
      "visibility": null,
      "width": null
     }
    },
    "5fb24f5b433043719d9571b28a1adc34": {
     "model_module": "@jupyter-widgets/base",
     "model_module_version": "1.2.0",
     "model_name": "LayoutModel",
     "state": {
      "_model_module": "@jupyter-widgets/base",
      "_model_module_version": "1.2.0",
      "_model_name": "LayoutModel",
      "_view_count": null,
      "_view_module": "@jupyter-widgets/base",
      "_view_module_version": "1.2.0",
      "_view_name": "LayoutView",
      "align_content": null,
      "align_items": null,
      "align_self": null,
      "border": null,
      "bottom": null,
      "display": null,
      "flex": null,
      "flex_flow": null,
      "grid_area": null,
      "grid_auto_columns": null,
      "grid_auto_flow": null,
      "grid_auto_rows": null,
      "grid_column": null,
      "grid_gap": null,
      "grid_row": null,
      "grid_template_areas": null,
      "grid_template_columns": null,
      "grid_template_rows": null,
      "height": null,
      "justify_content": null,
      "justify_items": null,
      "left": null,
      "margin": null,
      "max_height": null,
      "max_width": null,
      "min_height": null,
      "min_width": null,
      "object_fit": null,
      "object_position": null,
      "order": null,
      "overflow": null,
      "overflow_x": null,
      "overflow_y": null,
      "padding": null,
      "right": null,
      "top": null,
      "visibility": null,
      "width": null
     }
    },
    "5fbb9b30a31d4b339f98b7de620ea0a2": {
     "model_module": "@jupyter-widgets/base",
     "model_module_version": "1.2.0",
     "model_name": "LayoutModel",
     "state": {
      "_model_module": "@jupyter-widgets/base",
      "_model_module_version": "1.2.0",
      "_model_name": "LayoutModel",
      "_view_count": null,
      "_view_module": "@jupyter-widgets/base",
      "_view_module_version": "1.2.0",
      "_view_name": "LayoutView",
      "align_content": null,
      "align_items": null,
      "align_self": null,
      "border": null,
      "bottom": null,
      "display": null,
      "flex": null,
      "flex_flow": null,
      "grid_area": null,
      "grid_auto_columns": null,
      "grid_auto_flow": null,
      "grid_auto_rows": null,
      "grid_column": null,
      "grid_gap": null,
      "grid_row": null,
      "grid_template_areas": null,
      "grid_template_columns": null,
      "grid_template_rows": null,
      "height": null,
      "justify_content": null,
      "justify_items": null,
      "left": null,
      "margin": null,
      "max_height": null,
      "max_width": null,
      "min_height": null,
      "min_width": null,
      "object_fit": null,
      "object_position": null,
      "order": null,
      "overflow": null,
      "overflow_x": null,
      "overflow_y": null,
      "padding": null,
      "right": null,
      "top": null,
      "visibility": null,
      "width": null
     }
    },
    "60a8cb9aff7e46c99e2d729cbf93ea9f": {
     "model_module": "@jupyter-widgets/base",
     "model_module_version": "1.2.0",
     "model_name": "LayoutModel",
     "state": {
      "_model_module": "@jupyter-widgets/base",
      "_model_module_version": "1.2.0",
      "_model_name": "LayoutModel",
      "_view_count": null,
      "_view_module": "@jupyter-widgets/base",
      "_view_module_version": "1.2.0",
      "_view_name": "LayoutView",
      "align_content": null,
      "align_items": null,
      "align_self": null,
      "border": null,
      "bottom": null,
      "display": null,
      "flex": null,
      "flex_flow": null,
      "grid_area": null,
      "grid_auto_columns": null,
      "grid_auto_flow": null,
      "grid_auto_rows": null,
      "grid_column": null,
      "grid_gap": null,
      "grid_row": null,
      "grid_template_areas": null,
      "grid_template_columns": null,
      "grid_template_rows": null,
      "height": null,
      "justify_content": null,
      "justify_items": null,
      "left": null,
      "margin": null,
      "max_height": null,
      "max_width": null,
      "min_height": null,
      "min_width": null,
      "object_fit": null,
      "object_position": null,
      "order": null,
      "overflow": null,
      "overflow_x": null,
      "overflow_y": null,
      "padding": null,
      "right": null,
      "top": null,
      "visibility": null,
      "width": null
     }
    },
    "6158f34c41a5479d99fdf12751413705": {
     "model_module": "@jupyter-widgets/controls",
     "model_module_version": "1.5.0",
     "model_name": "DescriptionStyleModel",
     "state": {
      "_model_module": "@jupyter-widgets/controls",
      "_model_module_version": "1.5.0",
      "_model_name": "DescriptionStyleModel",
      "_view_count": null,
      "_view_module": "@jupyter-widgets/base",
      "_view_module_version": "1.2.0",
      "_view_name": "StyleView",
      "description_width": ""
     }
    },
    "6329a12329e64cb2af9af9d617e962ce": {
     "model_module": "@jupyter-widgets/base",
     "model_module_version": "1.2.0",
     "model_name": "LayoutModel",
     "state": {
      "_model_module": "@jupyter-widgets/base",
      "_model_module_version": "1.2.0",
      "_model_name": "LayoutModel",
      "_view_count": null,
      "_view_module": "@jupyter-widgets/base",
      "_view_module_version": "1.2.0",
      "_view_name": "LayoutView",
      "align_content": null,
      "align_items": null,
      "align_self": null,
      "border": null,
      "bottom": null,
      "display": null,
      "flex": null,
      "flex_flow": null,
      "grid_area": null,
      "grid_auto_columns": null,
      "grid_auto_flow": null,
      "grid_auto_rows": null,
      "grid_column": null,
      "grid_gap": null,
      "grid_row": null,
      "grid_template_areas": null,
      "grid_template_columns": null,
      "grid_template_rows": null,
      "height": null,
      "justify_content": null,
      "justify_items": null,
      "left": null,
      "margin": null,
      "max_height": null,
      "max_width": null,
      "min_height": null,
      "min_width": null,
      "object_fit": null,
      "object_position": null,
      "order": null,
      "overflow": null,
      "overflow_x": null,
      "overflow_y": null,
      "padding": null,
      "right": null,
      "top": null,
      "visibility": null,
      "width": null
     }
    },
    "6e60772497024930897e60698f4fac59": {
     "model_module": "@jupyter-widgets/controls",
     "model_module_version": "1.5.0",
     "model_name": "DescriptionStyleModel",
     "state": {
      "_model_module": "@jupyter-widgets/controls",
      "_model_module_version": "1.5.0",
      "_model_name": "DescriptionStyleModel",
      "_view_count": null,
      "_view_module": "@jupyter-widgets/base",
      "_view_module_version": "1.2.0",
      "_view_name": "StyleView",
      "description_width": ""
     }
    },
    "742e6a6032644a358eb52abb282372e9": {
     "model_module": "@jupyter-widgets/base",
     "model_module_version": "1.2.0",
     "model_name": "LayoutModel",
     "state": {
      "_model_module": "@jupyter-widgets/base",
      "_model_module_version": "1.2.0",
      "_model_name": "LayoutModel",
      "_view_count": null,
      "_view_module": "@jupyter-widgets/base",
      "_view_module_version": "1.2.0",
      "_view_name": "LayoutView",
      "align_content": null,
      "align_items": null,
      "align_self": null,
      "border": null,
      "bottom": null,
      "display": null,
      "flex": null,
      "flex_flow": null,
      "grid_area": null,
      "grid_auto_columns": null,
      "grid_auto_flow": null,
      "grid_auto_rows": null,
      "grid_column": null,
      "grid_gap": null,
      "grid_row": null,
      "grid_template_areas": null,
      "grid_template_columns": null,
      "grid_template_rows": null,
      "height": null,
      "justify_content": null,
      "justify_items": null,
      "left": null,
      "margin": null,
      "max_height": null,
      "max_width": null,
      "min_height": null,
      "min_width": null,
      "object_fit": null,
      "object_position": null,
      "order": null,
      "overflow": null,
      "overflow_x": null,
      "overflow_y": null,
      "padding": null,
      "right": null,
      "top": null,
      "visibility": null,
      "width": null
     }
    },
    "7451dd5411be4cc0b027d255c4dee93c": {
     "model_module": "@jupyter-widgets/controls",
     "model_module_version": "1.5.0",
     "model_name": "ProgressStyleModel",
     "state": {
      "_model_module": "@jupyter-widgets/controls",
      "_model_module_version": "1.5.0",
      "_model_name": "ProgressStyleModel",
      "_view_count": null,
      "_view_module": "@jupyter-widgets/base",
      "_view_module_version": "1.2.0",
      "_view_name": "StyleView",
      "bar_color": null,
      "description_width": ""
     }
    },
    "748ee24316d4474ca825480a64341bbd": {
     "model_module": "@jupyter-widgets/base",
     "model_module_version": "1.2.0",
     "model_name": "LayoutModel",
     "state": {
      "_model_module": "@jupyter-widgets/base",
      "_model_module_version": "1.2.0",
      "_model_name": "LayoutModel",
      "_view_count": null,
      "_view_module": "@jupyter-widgets/base",
      "_view_module_version": "1.2.0",
      "_view_name": "LayoutView",
      "align_content": null,
      "align_items": null,
      "align_self": null,
      "border": null,
      "bottom": null,
      "display": null,
      "flex": null,
      "flex_flow": null,
      "grid_area": null,
      "grid_auto_columns": null,
      "grid_auto_flow": null,
      "grid_auto_rows": null,
      "grid_column": null,
      "grid_gap": null,
      "grid_row": null,
      "grid_template_areas": null,
      "grid_template_columns": null,
      "grid_template_rows": null,
      "height": null,
      "justify_content": null,
      "justify_items": null,
      "left": null,
      "margin": null,
      "max_height": null,
      "max_width": null,
      "min_height": null,
      "min_width": null,
      "object_fit": null,
      "object_position": null,
      "order": null,
      "overflow": null,
      "overflow_x": null,
      "overflow_y": null,
      "padding": null,
      "right": null,
      "top": null,
      "visibility": null,
      "width": null
     }
    },
    "764bdbabe4d749a1bf4abd6a07fd8d3d": {
     "model_module": "@jupyter-widgets/controls",
     "model_module_version": "1.5.0",
     "model_name": "HBoxModel",
     "state": {
      "_dom_classes": [],
      "_model_module": "@jupyter-widgets/controls",
      "_model_module_version": "1.5.0",
      "_model_name": "HBoxModel",
      "_view_count": null,
      "_view_module": "@jupyter-widgets/controls",
      "_view_module_version": "1.5.0",
      "_view_name": "HBoxView",
      "box_style": "",
      "children": [
       "IPY_MODEL_7ea492e6b29148a2bf52b0848151a2ef",
       "IPY_MODEL_c2c490ca81fc4e469cb0938349a7280c",
       "IPY_MODEL_a3042dcaf5c541599b0360a628ed73bb"
      ],
      "layout": "IPY_MODEL_5fb24f5b433043719d9571b28a1adc34"
     }
    },
    "7d0b9e22dcdf412cae3c6d0a5f70a02c": {
     "model_module": "@jupyter-widgets/base",
     "model_module_version": "1.2.0",
     "model_name": "LayoutModel",
     "state": {
      "_model_module": "@jupyter-widgets/base",
      "_model_module_version": "1.2.0",
      "_model_name": "LayoutModel",
      "_view_count": null,
      "_view_module": "@jupyter-widgets/base",
      "_view_module_version": "1.2.0",
      "_view_name": "LayoutView",
      "align_content": null,
      "align_items": null,
      "align_self": null,
      "border": null,
      "bottom": null,
      "display": null,
      "flex": null,
      "flex_flow": null,
      "grid_area": null,
      "grid_auto_columns": null,
      "grid_auto_flow": null,
      "grid_auto_rows": null,
      "grid_column": null,
      "grid_gap": null,
      "grid_row": null,
      "grid_template_areas": null,
      "grid_template_columns": null,
      "grid_template_rows": null,
      "height": null,
      "justify_content": null,
      "justify_items": null,
      "left": null,
      "margin": null,
      "max_height": null,
      "max_width": null,
      "min_height": null,
      "min_width": null,
      "object_fit": null,
      "object_position": null,
      "order": null,
      "overflow": null,
      "overflow_x": null,
      "overflow_y": null,
      "padding": null,
      "right": null,
      "top": null,
      "visibility": null,
      "width": null
     }
    },
    "7ea492e6b29148a2bf52b0848151a2ef": {
     "model_module": "@jupyter-widgets/controls",
     "model_module_version": "1.5.0",
     "model_name": "HTMLModel",
     "state": {
      "_dom_classes": [],
      "_model_module": "@jupyter-widgets/controls",
      "_model_module_version": "1.5.0",
      "_model_name": "HTMLModel",
      "_view_count": null,
      "_view_module": "@jupyter-widgets/controls",
      "_view_module_version": "1.5.0",
      "_view_name": "HTMLView",
      "description": "",
      "description_tooltip": null,
      "layout": "IPY_MODEL_294f1878d89c49a6801af7466ab0f215",
      "placeholder": "​",
      "style": "IPY_MODEL_93b898ffc99a44209f2098177dfd77e4",
      "value": "Generating train split: 100%"
     }
    },
    "827edaa014a14ffd92739ad2834fcef3": {
     "model_module": "@jupyter-widgets/controls",
     "model_module_version": "1.5.0",
     "model_name": "ProgressStyleModel",
     "state": {
      "_model_module": "@jupyter-widgets/controls",
      "_model_module_version": "1.5.0",
      "_model_name": "ProgressStyleModel",
      "_view_count": null,
      "_view_module": "@jupyter-widgets/base",
      "_view_module_version": "1.2.0",
      "_view_name": "StyleView",
      "bar_color": null,
      "description_width": ""
     }
    },
    "83307d434a374360b4436bf34894a10d": {
     "model_module": "@jupyter-widgets/base",
     "model_module_version": "1.2.0",
     "model_name": "LayoutModel",
     "state": {
      "_model_module": "@jupyter-widgets/base",
      "_model_module_version": "1.2.0",
      "_model_name": "LayoutModel",
      "_view_count": null,
      "_view_module": "@jupyter-widgets/base",
      "_view_module_version": "1.2.0",
      "_view_name": "LayoutView",
      "align_content": null,
      "align_items": null,
      "align_self": null,
      "border": null,
      "bottom": null,
      "display": null,
      "flex": null,
      "flex_flow": null,
      "grid_area": null,
      "grid_auto_columns": null,
      "grid_auto_flow": null,
      "grid_auto_rows": null,
      "grid_column": null,
      "grid_gap": null,
      "grid_row": null,
      "grid_template_areas": null,
      "grid_template_columns": null,
      "grid_template_rows": null,
      "height": null,
      "justify_content": null,
      "justify_items": null,
      "left": null,
      "margin": null,
      "max_height": null,
      "max_width": null,
      "min_height": null,
      "min_width": null,
      "object_fit": null,
      "object_position": null,
      "order": null,
      "overflow": null,
      "overflow_x": null,
      "overflow_y": null,
      "padding": null,
      "right": null,
      "top": null,
      "visibility": null,
      "width": null
     }
    },
    "83ce464f10d846759c62e2b13de64290": {
     "model_module": "@jupyter-widgets/controls",
     "model_module_version": "1.5.0",
     "model_name": "HTMLModel",
     "state": {
      "_dom_classes": [],
      "_model_module": "@jupyter-widgets/controls",
      "_model_module_version": "1.5.0",
      "_model_name": "HTMLModel",
      "_view_count": null,
      "_view_module": "@jupyter-widgets/controls",
      "_view_module_version": "1.5.0",
      "_view_name": "HTMLView",
      "description": "",
      "description_tooltip": null,
      "layout": "IPY_MODEL_5e4ce08a51d54e5fb36d7912e1d8c775",
      "placeholder": "​",
      "style": "IPY_MODEL_c89a9ded61b44740b1fa077fa6176fe8",
      "value": "Downloading builder script: 100%"
     }
    },
    "87e10ac9c3ea4751bb94f1617e931e19": {
     "model_module": "@jupyter-widgets/controls",
     "model_module_version": "1.5.0",
     "model_name": "DescriptionStyleModel",
     "state": {
      "_model_module": "@jupyter-widgets/controls",
      "_model_module_version": "1.5.0",
      "_model_name": "DescriptionStyleModel",
      "_view_count": null,
      "_view_module": "@jupyter-widgets/base",
      "_view_module_version": "1.2.0",
      "_view_name": "StyleView",
      "description_width": ""
     }
    },
    "8849ffe226a74b78b2326ad304c6a182": {
     "model_module": "@jupyter-widgets/controls",
     "model_module_version": "1.5.0",
     "model_name": "DescriptionStyleModel",
     "state": {
      "_model_module": "@jupyter-widgets/controls",
      "_model_module_version": "1.5.0",
      "_model_name": "DescriptionStyleModel",
      "_view_count": null,
      "_view_module": "@jupyter-widgets/base",
      "_view_module_version": "1.2.0",
      "_view_name": "StyleView",
      "description_width": ""
     }
    },
    "88804b0b944749028469dc243d352d0e": {
     "model_module": "@jupyter-widgets/controls",
     "model_module_version": "1.5.0",
     "model_name": "DescriptionStyleModel",
     "state": {
      "_model_module": "@jupyter-widgets/controls",
      "_model_module_version": "1.5.0",
      "_model_name": "DescriptionStyleModel",
      "_view_count": null,
      "_view_module": "@jupyter-widgets/base",
      "_view_module_version": "1.2.0",
      "_view_name": "StyleView",
      "description_width": ""
     }
    },
    "8bb3eedc54e047fa9f33d9c1ef88eb33": {
     "model_module": "@jupyter-widgets/base",
     "model_module_version": "1.2.0",
     "model_name": "LayoutModel",
     "state": {
      "_model_module": "@jupyter-widgets/base",
      "_model_module_version": "1.2.0",
      "_model_name": "LayoutModel",
      "_view_count": null,
      "_view_module": "@jupyter-widgets/base",
      "_view_module_version": "1.2.0",
      "_view_name": "LayoutView",
      "align_content": null,
      "align_items": null,
      "align_self": null,
      "border": null,
      "bottom": null,
      "display": null,
      "flex": null,
      "flex_flow": null,
      "grid_area": null,
      "grid_auto_columns": null,
      "grid_auto_flow": null,
      "grid_auto_rows": null,
      "grid_column": null,
      "grid_gap": null,
      "grid_row": null,
      "grid_template_areas": null,
      "grid_template_columns": null,
      "grid_template_rows": null,
      "height": null,
      "justify_content": null,
      "justify_items": null,
      "left": null,
      "margin": null,
      "max_height": null,
      "max_width": null,
      "min_height": null,
      "min_width": null,
      "object_fit": null,
      "object_position": null,
      "order": null,
      "overflow": null,
      "overflow_x": null,
      "overflow_y": null,
      "padding": null,
      "right": null,
      "top": null,
      "visibility": null,
      "width": null
     }
    },
    "8bfac02e504848118b2a490ad4687099": {
     "model_module": "@jupyter-widgets/controls",
     "model_module_version": "1.5.0",
     "model_name": "HTMLModel",
     "state": {
      "_dom_classes": [],
      "_model_module": "@jupyter-widgets/controls",
      "_model_module_version": "1.5.0",
      "_model_name": "HTMLModel",
      "_view_count": null,
      "_view_module": "@jupyter-widgets/controls",
      "_view_module_version": "1.5.0",
      "_view_name": "HTMLView",
      "description": "",
      "description_tooltip": null,
      "layout": "IPY_MODEL_b3602976d5fb4a788af7bdf07ec23f25",
      "placeholder": "​",
      "style": "IPY_MODEL_c6a15006165444a88409775cd443f409",
      "value": " 32.3M/32.3M [00:00&lt;00:00, 84.6MB/s]"
     }
    },
    "8c90ac7536224469be12fde9b7101f8b": {
     "model_module": "@jupyter-widgets/controls",
     "model_module_version": "1.5.0",
     "model_name": "HBoxModel",
     "state": {
      "_dom_classes": [],
      "_model_module": "@jupyter-widgets/controls",
      "_model_module_version": "1.5.0",
      "_model_name": "HBoxModel",
      "_view_count": null,
      "_view_module": "@jupyter-widgets/controls",
      "_view_module_version": "1.5.0",
      "_view_name": "HBoxView",
      "box_style": "",
      "children": [
       "IPY_MODEL_83ce464f10d846759c62e2b13de64290",
       "IPY_MODEL_fa38a88951824d37a668dfd80c88e249",
       "IPY_MODEL_e5592d2539354681be532b37530f844a"
      ],
      "layout": "IPY_MODEL_f52649f7d5624d53a7600962cb996345"
     }
    },
    "8cddedc26a1f4ef5bcdd0c0363709de3": {
     "model_module": "@jupyter-widgets/controls",
     "model_module_version": "1.5.0",
     "model_name": "HTMLModel",
     "state": {
      "_dom_classes": [],
      "_model_module": "@jupyter-widgets/controls",
      "_model_module_version": "1.5.0",
      "_model_name": "HTMLModel",
      "_view_count": null,
      "_view_module": "@jupyter-widgets/controls",
      "_view_module_version": "1.5.0",
      "_view_name": "HTMLView",
      "description": "",
      "description_tooltip": null,
      "layout": "IPY_MODEL_4311c373334b4019b851732bb6413ff9",
      "placeholder": "​",
      "style": "IPY_MODEL_1ab1c58de66b49ddb04c986c855d9120",
      "value": "config.json: 100%"
     }
    },
    "8de0b8acc20947228c24adb7cea078bf": {
     "model_module": "@jupyter-widgets/controls",
     "model_module_version": "1.5.0",
     "model_name": "FloatProgressModel",
     "state": {
      "_dom_classes": [],
      "_model_module": "@jupyter-widgets/controls",
      "_model_module_version": "1.5.0",
      "_model_name": "FloatProgressModel",
      "_view_count": null,
      "_view_module": "@jupyter-widgets/controls",
      "_view_module_version": "1.5.0",
      "_view_name": "ProgressView",
      "bar_style": "success",
      "description": "",
      "description_tooltip": null,
      "layout": "IPY_MODEL_adc0a2100db940ec8ef34915e06235d2",
      "max": 1238,
      "min": 0,
      "orientation": "horizontal",
      "style": "IPY_MODEL_ecca979bd0fe4acca961d96c9b1c984a",
      "value": 1238
     }
    },
    "93b898ffc99a44209f2098177dfd77e4": {
     "model_module": "@jupyter-widgets/controls",
     "model_module_version": "1.5.0",
     "model_name": "DescriptionStyleModel",
     "state": {
      "_model_module": "@jupyter-widgets/controls",
      "_model_module_version": "1.5.0",
      "_model_name": "DescriptionStyleModel",
      "_view_count": null,
      "_view_module": "@jupyter-widgets/base",
      "_view_module_version": "1.2.0",
      "_view_name": "StyleView",
      "description_width": ""
     }
    },
    "96db99f8964e4c1aa67482bdbf95eb96": {
     "model_module": "@jupyter-widgets/base",
     "model_module_version": "1.2.0",
     "model_name": "LayoutModel",
     "state": {
      "_model_module": "@jupyter-widgets/base",
      "_model_module_version": "1.2.0",
      "_model_name": "LayoutModel",
      "_view_count": null,
      "_view_module": "@jupyter-widgets/base",
      "_view_module_version": "1.2.0",
      "_view_name": "LayoutView",
      "align_content": null,
      "align_items": null,
      "align_self": null,
      "border": null,
      "bottom": null,
      "display": null,
      "flex": null,
      "flex_flow": null,
      "grid_area": null,
      "grid_auto_columns": null,
      "grid_auto_flow": null,
      "grid_auto_rows": null,
      "grid_column": null,
      "grid_gap": null,
      "grid_row": null,
      "grid_template_areas": null,
      "grid_template_columns": null,
      "grid_template_rows": null,
      "height": null,
      "justify_content": null,
      "justify_items": null,
      "left": null,
      "margin": null,
      "max_height": null,
      "max_width": null,
      "min_height": null,
      "min_width": null,
      "object_fit": null,
      "object_position": null,
      "order": null,
      "overflow": null,
      "overflow_x": null,
      "overflow_y": null,
      "padding": null,
      "right": null,
      "top": null,
      "visibility": null,
      "width": null
     }
    },
    "980a7bd1d35f4f0e8629dc325974a524": {
     "model_module": "@jupyter-widgets/controls",
     "model_module_version": "1.5.0",
     "model_name": "HTMLModel",
     "state": {
      "_dom_classes": [],
      "_model_module": "@jupyter-widgets/controls",
      "_model_module_version": "1.5.0",
      "_model_name": "HTMLModel",
      "_view_count": null,
      "_view_module": "@jupyter-widgets/controls",
      "_view_module_version": "1.5.0",
      "_view_name": "HTMLView",
      "description": "",
      "description_tooltip": null,
      "layout": "IPY_MODEL_99c1c35e3d124b1a90435cb23ff4662d",
      "placeholder": "​",
      "style": "IPY_MODEL_8849ffe226a74b78b2326ad304c6a182",
      "value": " 25.3k/25.3k [00:00&lt;00:00, 1.66MB/s]"
     }
    },
    "99c1c35e3d124b1a90435cb23ff4662d": {
     "model_module": "@jupyter-widgets/base",
     "model_module_version": "1.2.0",
     "model_name": "LayoutModel",
     "state": {
      "_model_module": "@jupyter-widgets/base",
      "_model_module_version": "1.2.0",
      "_model_name": "LayoutModel",
      "_view_count": null,
      "_view_module": "@jupyter-widgets/base",
      "_view_module_version": "1.2.0",
      "_view_name": "LayoutView",
      "align_content": null,
      "align_items": null,
      "align_self": null,
      "border": null,
      "bottom": null,
      "display": null,
      "flex": null,
      "flex_flow": null,
      "grid_area": null,
      "grid_auto_columns": null,
      "grid_auto_flow": null,
      "grid_auto_rows": null,
      "grid_column": null,
      "grid_gap": null,
      "grid_row": null,
      "grid_template_areas": null,
      "grid_template_columns": null,
      "grid_template_rows": null,
      "height": null,
      "justify_content": null,
      "justify_items": null,
      "left": null,
      "margin": null,
      "max_height": null,
      "max_width": null,
      "min_height": null,
      "min_width": null,
      "object_fit": null,
      "object_position": null,
      "order": null,
      "overflow": null,
      "overflow_x": null,
      "overflow_y": null,
      "padding": null,
      "right": null,
      "top": null,
      "visibility": null,
      "width": null
     }
    },
    "99c1caa100fe464fb248c86509418c92": {
     "model_module": "@jupyter-widgets/base",
     "model_module_version": "1.2.0",
     "model_name": "LayoutModel",
     "state": {
      "_model_module": "@jupyter-widgets/base",
      "_model_module_version": "1.2.0",
      "_model_name": "LayoutModel",
      "_view_count": null,
      "_view_module": "@jupyter-widgets/base",
      "_view_module_version": "1.2.0",
      "_view_name": "LayoutView",
      "align_content": null,
      "align_items": null,
      "align_self": null,
      "border": null,
      "bottom": null,
      "display": null,
      "flex": null,
      "flex_flow": null,
      "grid_area": null,
      "grid_auto_columns": null,
      "grid_auto_flow": null,
      "grid_auto_rows": null,
      "grid_column": null,
      "grid_gap": null,
      "grid_row": null,
      "grid_template_areas": null,
      "grid_template_columns": null,
      "grid_template_rows": null,
      "height": null,
      "justify_content": null,
      "justify_items": null,
      "left": null,
      "margin": null,
      "max_height": null,
      "max_width": null,
      "min_height": null,
      "min_width": null,
      "object_fit": null,
      "object_position": null,
      "order": null,
      "overflow": null,
      "overflow_x": null,
      "overflow_y": null,
      "padding": null,
      "right": null,
      "top": null,
      "visibility": null,
      "width": null
     }
    },
    "9cf7939847ac4e81b10c5f2f4a2db8a5": {
     "model_module": "@jupyter-widgets/base",
     "model_module_version": "1.2.0",
     "model_name": "LayoutModel",
     "state": {
      "_model_module": "@jupyter-widgets/base",
      "_model_module_version": "1.2.0",
      "_model_name": "LayoutModel",
      "_view_count": null,
      "_view_module": "@jupyter-widgets/base",
      "_view_module_version": "1.2.0",
      "_view_name": "LayoutView",
      "align_content": null,
      "align_items": null,
      "align_self": null,
      "border": null,
      "bottom": null,
      "display": null,
      "flex": null,
      "flex_flow": null,
      "grid_area": null,
      "grid_auto_columns": null,
      "grid_auto_flow": null,
      "grid_auto_rows": null,
      "grid_column": null,
      "grid_gap": null,
      "grid_row": null,
      "grid_template_areas": null,
      "grid_template_columns": null,
      "grid_template_rows": null,
      "height": null,
      "justify_content": null,
      "justify_items": null,
      "left": null,
      "margin": null,
      "max_height": null,
      "max_width": null,
      "min_height": null,
      "min_width": null,
      "object_fit": null,
      "object_position": null,
      "order": null,
      "overflow": null,
      "overflow_x": null,
      "overflow_y": null,
      "padding": null,
      "right": null,
      "top": null,
      "visibility": null,
      "width": null
     }
    },
    "a0e5a464e3f64885a995eea806b3ce0b": {
     "model_module": "@jupyter-widgets/controls",
     "model_module_version": "1.5.0",
     "model_name": "HTMLModel",
     "state": {
      "_dom_classes": [],
      "_model_module": "@jupyter-widgets/controls",
      "_model_module_version": "1.5.0",
      "_model_name": "HTMLModel",
      "_view_count": null,
      "_view_module": "@jupyter-widgets/controls",
      "_view_module_version": "1.5.0",
      "_view_name": "HTMLView",
      "description": "",
      "description_tooltip": null,
      "layout": "IPY_MODEL_49759703a7604eb3ad2d061d7e092dd3",
      "placeholder": "​",
      "style": "IPY_MODEL_6e60772497024930897e60698f4fac59",
      "value": "train.tsv: 100%"
     }
    },
    "a3042dcaf5c541599b0360a628ed73bb": {
     "model_module": "@jupyter-widgets/controls",
     "model_module_version": "1.5.0",
     "model_name": "HTMLModel",
     "state": {
      "_dom_classes": [],
      "_model_module": "@jupyter-widgets/controls",
      "_model_module_version": "1.5.0",
      "_model_name": "HTMLModel",
      "_view_count": null,
      "_view_module": "@jupyter-widgets/controls",
      "_view_module_version": "1.5.0",
      "_view_name": "HTMLView",
      "description": "",
      "description_tooltip": null,
      "layout": "IPY_MODEL_d0e4f8c1997a47778242096569f4eb90",
      "placeholder": "​",
      "style": "IPY_MODEL_5d2eb73b1fc74c0e9da1a922d22e1b66",
      "value": " 14166/14166 [00:00&lt;00:00, 276426.58 examples/s]"
     }
    },
    "a3aea67f98664eefabfd1a427f559c8c": {
     "model_module": "@jupyter-widgets/base",
     "model_module_version": "1.2.0",
     "model_name": "LayoutModel",
     "state": {
      "_model_module": "@jupyter-widgets/base",
      "_model_module_version": "1.2.0",
      "_model_name": "LayoutModel",
      "_view_count": null,
      "_view_module": "@jupyter-widgets/base",
      "_view_module_version": "1.2.0",
      "_view_name": "LayoutView",
      "align_content": null,
      "align_items": null,
      "align_self": null,
      "border": null,
      "bottom": null,
      "display": null,
      "flex": null,
      "flex_flow": null,
      "grid_area": null,
      "grid_auto_columns": null,
      "grid_auto_flow": null,
      "grid_auto_rows": null,
      "grid_column": null,
      "grid_gap": null,
      "grid_row": null,
      "grid_template_areas": null,
      "grid_template_columns": null,
      "grid_template_rows": null,
      "height": null,
      "justify_content": null,
      "justify_items": null,
      "left": null,
      "margin": null,
      "max_height": null,
      "max_width": null,
      "min_height": null,
      "min_width": null,
      "object_fit": null,
      "object_position": null,
      "order": null,
      "overflow": null,
      "overflow_x": null,
      "overflow_y": null,
      "padding": null,
      "right": null,
      "top": null,
      "visibility": null,
      "width": null
     }
    },
    "a50906b6afd444b3942218e0fd5c3b44": {
     "model_module": "@jupyter-widgets/controls",
     "model_module_version": "1.5.0",
     "model_name": "HTMLModel",
     "state": {
      "_dom_classes": [],
      "_model_module": "@jupyter-widgets/controls",
      "_model_module_version": "1.5.0",
      "_model_name": "HTMLModel",
      "_view_count": null,
      "_view_module": "@jupyter-widgets/controls",
      "_view_module_version": "1.5.0",
      "_view_name": "HTMLView",
      "description": "",
      "description_tooltip": null,
      "layout": "IPY_MODEL_1161e5c70d294e65bac0b6ef265e9ef5",
      "placeholder": "​",
      "style": "IPY_MODEL_87e10ac9c3ea4751bb94f1617e931e19",
      "value": " 201/201 [00:00&lt;00:00, 14.0kB/s]"
     }
    },
    "a5e3546dbb984273b3edd490be017305": {
     "model_module": "@jupyter-widgets/controls",
     "model_module_version": "1.5.0",
     "model_name": "HTMLModel",
     "state": {
      "_dom_classes": [],
      "_model_module": "@jupyter-widgets/controls",
      "_model_module_version": "1.5.0",
      "_model_name": "HTMLModel",
      "_view_count": null,
      "_view_module": "@jupyter-widgets/controls",
      "_view_module_version": "1.5.0",
      "_view_name": "HTMLView",
      "description": "",
      "description_tooltip": null,
      "layout": "IPY_MODEL_eae676ce0a494e1c97ed8957d31b31ca",
      "placeholder": "​",
      "style": "IPY_MODEL_a73587a378da49c2ad4f78fb3f0e3757",
      "value": "fiqa-pl.py: 100%"
     }
    },
    "a64151eb219f4fbea6ff1fa4a06a059b": {
     "model_module": "@jupyter-widgets/controls",
     "model_module_version": "1.5.0",
     "model_name": "HTMLModel",
     "state": {
      "_dom_classes": [],
      "_model_module": "@jupyter-widgets/controls",
      "_model_module_version": "1.5.0",
      "_model_name": "HTMLModel",
      "_view_count": null,
      "_view_module": "@jupyter-widgets/controls",
      "_view_module_version": "1.5.0",
      "_view_name": "HTMLView",
      "description": "",
      "description_tooltip": null,
      "layout": "IPY_MODEL_83307d434a374360b4436bf34894a10d",
      "placeholder": "​",
      "style": "IPY_MODEL_fb6f4ca39e8b4fea9453b32980ffdc06",
      "value": " 201/201 [00:00&lt;00:00, 10.3kB/s]"
     }
    },
    "a73587a378da49c2ad4f78fb3f0e3757": {
     "model_module": "@jupyter-widgets/controls",
     "model_module_version": "1.5.0",
     "model_name": "DescriptionStyleModel",
     "state": {
      "_model_module": "@jupyter-widgets/controls",
      "_model_module_version": "1.5.0",
      "_model_name": "DescriptionStyleModel",
      "_view_count": null,
      "_view_module": "@jupyter-widgets/base",
      "_view_module_version": "1.2.0",
      "_view_name": "StyleView",
      "description_width": ""
     }
    },
    "a747de9bb63945fa84fa7d0ee6303a6e": {
     "model_module": "@jupyter-widgets/controls",
     "model_module_version": "1.5.0",
     "model_name": "HTMLModel",
     "state": {
      "_dom_classes": [],
      "_model_module": "@jupyter-widgets/controls",
      "_model_module_version": "1.5.0",
      "_model_name": "HTMLModel",
      "_view_count": null,
      "_view_module": "@jupyter-widgets/controls",
      "_view_module_version": "1.5.0",
      "_view_name": "HTMLView",
      "description": "",
      "description_tooltip": null,
      "layout": "IPY_MODEL_00644570d52347518197b096bdcf27b8",
      "placeholder": "​",
      "style": "IPY_MODEL_af4fe905a886430a972887114a0101b9",
      "value": " 654M/654M [00:05&lt;00:00, 175MB/s]"
     }
    },
    "a77f807376f04aa6b82b7c98462290d5": {
     "model_module": "@jupyter-widgets/controls",
     "model_module_version": "1.5.0",
     "model_name": "ProgressStyleModel",
     "state": {
      "_model_module": "@jupyter-widgets/controls",
      "_model_module_version": "1.5.0",
      "_model_name": "ProgressStyleModel",
      "_view_count": null,
      "_view_module": "@jupyter-widgets/base",
      "_view_module_version": "1.2.0",
      "_view_name": "StyleView",
      "bar_color": null,
      "description_width": ""
     }
    },
    "ab838c2ad42b467ead3b108f0c8f803e": {
     "model_module": "@jupyter-widgets/controls",
     "model_module_version": "1.5.0",
     "model_name": "HTMLModel",
     "state": {
      "_dom_classes": [],
      "_model_module": "@jupyter-widgets/controls",
      "_model_module_version": "1.5.0",
      "_model_name": "HTMLModel",
      "_view_count": null,
      "_view_module": "@jupyter-widgets/controls",
      "_view_module_version": "1.5.0",
      "_view_name": "HTMLView",
      "description": "",
      "description_tooltip": null,
      "layout": "IPY_MODEL_d58bdf16014e4ce5b278f53f9e75240a",
      "placeholder": "​",
      "style": "IPY_MODEL_356fb350bd914c7887d18312774739df",
      "value": " 1238/1238 [00:00&lt;00:00, 43988.24 examples/s]"
     }
    },
    "ac36f9f30ca34658a9af9101529ece8c": {
     "model_module": "@jupyter-widgets/base",
     "model_module_version": "1.2.0",
     "model_name": "LayoutModel",
     "state": {
      "_model_module": "@jupyter-widgets/base",
      "_model_module_version": "1.2.0",
      "_model_name": "LayoutModel",
      "_view_count": null,
      "_view_module": "@jupyter-widgets/base",
      "_view_module_version": "1.2.0",
      "_view_name": "LayoutView",
      "align_content": null,
      "align_items": null,
      "align_self": null,
      "border": null,
      "bottom": null,
      "display": null,
      "flex": null,
      "flex_flow": null,
      "grid_area": null,
      "grid_auto_columns": null,
      "grid_auto_flow": null,
      "grid_auto_rows": null,
      "grid_column": null,
      "grid_gap": null,
      "grid_row": null,
      "grid_template_areas": null,
      "grid_template_columns": null,
      "grid_template_rows": null,
      "height": null,
      "justify_content": null,
      "justify_items": null,
      "left": null,
      "margin": null,
      "max_height": null,
      "max_width": null,
      "min_height": null,
      "min_width": null,
      "object_fit": null,
      "object_position": null,
      "order": null,
      "overflow": null,
      "overflow_x": null,
      "overflow_y": null,
      "padding": null,
      "right": null,
      "top": null,
      "visibility": null,
      "width": null
     }
    },
    "adc0a2100db940ec8ef34915e06235d2": {
     "model_module": "@jupyter-widgets/base",
     "model_module_version": "1.2.0",
     "model_name": "LayoutModel",
     "state": {
      "_model_module": "@jupyter-widgets/base",
      "_model_module_version": "1.2.0",
      "_model_name": "LayoutModel",
      "_view_count": null,
      "_view_module": "@jupyter-widgets/base",
      "_view_module_version": "1.2.0",
      "_view_name": "LayoutView",
      "align_content": null,
      "align_items": null,
      "align_self": null,
      "border": null,
      "bottom": null,
      "display": null,
      "flex": null,
      "flex_flow": null,
      "grid_area": null,
      "grid_auto_columns": null,
      "grid_auto_flow": null,
      "grid_auto_rows": null,
      "grid_column": null,
      "grid_gap": null,
      "grid_row": null,
      "grid_template_areas": null,
      "grid_template_columns": null,
      "grid_template_rows": null,
      "height": null,
      "justify_content": null,
      "justify_items": null,
      "left": null,
      "margin": null,
      "max_height": null,
      "max_width": null,
      "min_height": null,
      "min_width": null,
      "object_fit": null,
      "object_position": null,
      "order": null,
      "overflow": null,
      "overflow_x": null,
      "overflow_y": null,
      "padding": null,
      "right": null,
      "top": null,
      "visibility": null,
      "width": null
     }
    },
    "ae65bb51c7ba41d8b4f83d83f1bc13af": {
     "model_module": "@jupyter-widgets/controls",
     "model_module_version": "1.5.0",
     "model_name": "HBoxModel",
     "state": {
      "_dom_classes": [],
      "_model_module": "@jupyter-widgets/controls",
      "_model_module_version": "1.5.0",
      "_model_name": "HBoxModel",
      "_view_count": null,
      "_view_module": "@jupyter-widgets/controls",
      "_view_module_version": "1.5.0",
      "_view_name": "HBoxView",
      "box_style": "",
      "children": [
       "IPY_MODEL_42dbf1e239c94362ac083b99fce3728d",
       "IPY_MODEL_4951ce45d2c747518ae9b1d483a093e4",
       "IPY_MODEL_f6ee1f5d0a8c45fa8c225105855cb7f2"
      ],
      "layout": "IPY_MODEL_5f5dc6c644194b8b8ed3756ebb7fd919"
     }
    },
    "af4fe905a886430a972887114a0101b9": {
     "model_module": "@jupyter-widgets/controls",
     "model_module_version": "1.5.0",
     "model_name": "DescriptionStyleModel",
     "state": {
      "_model_module": "@jupyter-widgets/controls",
      "_model_module_version": "1.5.0",
      "_model_name": "DescriptionStyleModel",
      "_view_count": null,
      "_view_module": "@jupyter-widgets/base",
      "_view_module_version": "1.2.0",
      "_view_name": "StyleView",
      "description_width": ""
     }
    },
    "b044b319c4da49e08596862ddeddaa7e": {
     "model_module": "@jupyter-widgets/base",
     "model_module_version": "1.2.0",
     "model_name": "LayoutModel",
     "state": {
      "_model_module": "@jupyter-widgets/base",
      "_model_module_version": "1.2.0",
      "_model_name": "LayoutModel",
      "_view_count": null,
      "_view_module": "@jupyter-widgets/base",
      "_view_module_version": "1.2.0",
      "_view_name": "LayoutView",
      "align_content": null,
      "align_items": null,
      "align_self": null,
      "border": null,
      "bottom": null,
      "display": null,
      "flex": null,
      "flex_flow": null,
      "grid_area": null,
      "grid_auto_columns": null,
      "grid_auto_flow": null,
      "grid_auto_rows": null,
      "grid_column": null,
      "grid_gap": null,
      "grid_row": null,
      "grid_template_areas": null,
      "grid_template_columns": null,
      "grid_template_rows": null,
      "height": null,
      "justify_content": null,
      "justify_items": null,
      "left": null,
      "margin": null,
      "max_height": null,
      "max_width": null,
      "min_height": null,
      "min_width": null,
      "object_fit": null,
      "object_position": null,
      "order": null,
      "overflow": null,
      "overflow_x": null,
      "overflow_y": null,
      "padding": null,
      "right": null,
      "top": null,
      "visibility": null,
      "width": null
     }
    },
    "b3602976d5fb4a788af7bdf07ec23f25": {
     "model_module": "@jupyter-widgets/base",
     "model_module_version": "1.2.0",
     "model_name": "LayoutModel",
     "state": {
      "_model_module": "@jupyter-widgets/base",
      "_model_module_version": "1.2.0",
      "_model_name": "LayoutModel",
      "_view_count": null,
      "_view_module": "@jupyter-widgets/base",
      "_view_module_version": "1.2.0",
      "_view_name": "LayoutView",
      "align_content": null,
      "align_items": null,
      "align_self": null,
      "border": null,
      "bottom": null,
      "display": null,
      "flex": null,
      "flex_flow": null,
      "grid_area": null,
      "grid_auto_columns": null,
      "grid_auto_flow": null,
      "grid_auto_rows": null,
      "grid_column": null,
      "grid_gap": null,
      "grid_row": null,
      "grid_template_areas": null,
      "grid_template_columns": null,
      "grid_template_rows": null,
      "height": null,
      "justify_content": null,
      "justify_items": null,
      "left": null,
      "margin": null,
      "max_height": null,
      "max_width": null,
      "min_height": null,
      "min_width": null,
      "object_fit": null,
      "object_position": null,
      "order": null,
      "overflow": null,
      "overflow_x": null,
      "overflow_y": null,
      "padding": null,
      "right": null,
      "top": null,
      "visibility": null,
      "width": null
     }
    },
    "b4add610995c46259d2e9a7f5b6d710f": {
     "model_module": "@jupyter-widgets/controls",
     "model_module_version": "1.5.0",
     "model_name": "FloatProgressModel",
     "state": {
      "_dom_classes": [],
      "_model_module": "@jupyter-widgets/controls",
      "_model_module_version": "1.5.0",
      "_model_name": "FloatProgressModel",
      "_view_count": null,
      "_view_module": "@jupyter-widgets/controls",
      "_view_module_version": "1.5.0",
      "_view_name": "ProgressView",
      "bar_style": "success",
      "description": "",
      "description_tooltip": null,
      "layout": "IPY_MODEL_748ee24316d4474ca825480a64341bbd",
      "max": 32328951,
      "min": 0,
      "orientation": "horizontal",
      "style": "IPY_MODEL_2178f65ce5d7478e9154ca69dc63ba14",
      "value": 32328951
     }
    },
    "b6b20293693a4fadb28dce75a5290c4b": {
     "model_module": "@jupyter-widgets/base",
     "model_module_version": "1.2.0",
     "model_name": "LayoutModel",
     "state": {
      "_model_module": "@jupyter-widgets/base",
      "_model_module_version": "1.2.0",
      "_model_name": "LayoutModel",
      "_view_count": null,
      "_view_module": "@jupyter-widgets/base",
      "_view_module_version": "1.2.0",
      "_view_name": "LayoutView",
      "align_content": null,
      "align_items": null,
      "align_self": null,
      "border": null,
      "bottom": null,
      "display": null,
      "flex": null,
      "flex_flow": null,
      "grid_area": null,
      "grid_auto_columns": null,
      "grid_auto_flow": null,
      "grid_auto_rows": null,
      "grid_column": null,
      "grid_gap": null,
      "grid_row": null,
      "grid_template_areas": null,
      "grid_template_columns": null,
      "grid_template_rows": null,
      "height": null,
      "justify_content": null,
      "justify_items": null,
      "left": null,
      "margin": null,
      "max_height": null,
      "max_width": null,
      "min_height": null,
      "min_width": null,
      "object_fit": null,
      "object_position": null,
      "order": null,
      "overflow": null,
      "overflow_x": null,
      "overflow_y": null,
      "padding": null,
      "right": null,
      "top": null,
      "visibility": null,
      "width": null
     }
    },
    "b6b9e49b63a241de9dafe193f6607ddf": {
     "model_module": "@jupyter-widgets/controls",
     "model_module_version": "1.5.0",
     "model_name": "HBoxModel",
     "state": {
      "_dom_classes": [],
      "_model_module": "@jupyter-widgets/controls",
      "_model_module_version": "1.5.0",
      "_model_name": "HBoxModel",
      "_view_count": null,
      "_view_module": "@jupyter-widgets/controls",
      "_view_module_version": "1.5.0",
      "_view_name": "HBoxView",
      "box_style": "",
      "children": [
       "IPY_MODEL_593c614ea55447a598896b76a385a294",
       "IPY_MODEL_e0fe9a713dd44827a3fef81755d7f999",
       "IPY_MODEL_d8bebb533e3f4b3d9381dc147c4b894c"
      ],
      "layout": "IPY_MODEL_5fbb9b30a31d4b339f98b7de620ea0a2"
     }
    },
    "b6d99431e81f43f7b096c4763259ace0": {
     "model_module": "@jupyter-widgets/controls",
     "model_module_version": "1.5.0",
     "model_name": "DescriptionStyleModel",
     "state": {
      "_model_module": "@jupyter-widgets/controls",
      "_model_module_version": "1.5.0",
      "_model_name": "DescriptionStyleModel",
      "_view_count": null,
      "_view_module": "@jupyter-widgets/base",
      "_view_module_version": "1.2.0",
      "_view_name": "StyleView",
      "description_width": ""
     }
    },
    "b773890a4f27495a8be68e699d86a563": {
     "model_module": "@jupyter-widgets/controls",
     "model_module_version": "1.5.0",
     "model_name": "HTMLModel",
     "state": {
      "_dom_classes": [],
      "_model_module": "@jupyter-widgets/controls",
      "_model_module_version": "1.5.0",
      "_model_name": "HTMLModel",
      "_view_count": null,
      "_view_module": "@jupyter-widgets/controls",
      "_view_module_version": "1.5.0",
      "_view_name": "HTMLView",
      "description": "",
      "description_tooltip": null,
      "layout": "IPY_MODEL_e7ec87d45ebd4e3e9cb5bc7d4435eda9",
      "placeholder": "​",
      "style": "IPY_MODEL_fa60a03da87848fbbd238db76acb30e7",
      "value": " 210k/210k [00:00&lt;00:00, 11.7MB/s]"
     }
    },
    "bc50ab838956481c89b9498208374d35": {
     "model_module": "@jupyter-widgets/controls",
     "model_module_version": "1.5.0",
     "model_name": "FloatProgressModel",
     "state": {
      "_dom_classes": [],
      "_model_module": "@jupyter-widgets/controls",
      "_model_module_version": "1.5.0",
      "_model_name": "FloatProgressModel",
      "_view_count": null,
      "_view_module": "@jupyter-widgets/controls",
      "_view_module_version": "1.5.0",
      "_view_name": "ProgressView",
      "bar_style": "success",
      "description": "",
      "description_tooltip": null,
      "layout": "IPY_MODEL_4ac8a371763a4e1aa9ae6e54c1f3022d",
      "max": 654201076,
      "min": 0,
      "orientation": "horizontal",
      "style": "IPY_MODEL_08ab79fefada4fbfa66a55a0c55b17e9",
      "value": 654201076
     }
    },
    "bec787deafec48efbe15c045cb8068fb": {
     "model_module": "@jupyter-widgets/base",
     "model_module_version": "1.2.0",
     "model_name": "LayoutModel",
     "state": {
      "_model_module": "@jupyter-widgets/base",
      "_model_module_version": "1.2.0",
      "_model_name": "LayoutModel",
      "_view_count": null,
      "_view_module": "@jupyter-widgets/base",
      "_view_module_version": "1.2.0",
      "_view_name": "LayoutView",
      "align_content": null,
      "align_items": null,
      "align_self": null,
      "border": null,
      "bottom": null,
      "display": null,
      "flex": null,
      "flex_flow": null,
      "grid_area": null,
      "grid_auto_columns": null,
      "grid_auto_flow": null,
      "grid_auto_rows": null,
      "grid_column": null,
      "grid_gap": null,
      "grid_row": null,
      "grid_template_areas": null,
      "grid_template_columns": null,
      "grid_template_rows": null,
      "height": null,
      "justify_content": null,
      "justify_items": null,
      "left": null,
      "margin": null,
      "max_height": null,
      "max_width": null,
      "min_height": null,
      "min_width": null,
      "object_fit": null,
      "object_position": null,
      "order": null,
      "overflow": null,
      "overflow_x": null,
      "overflow_y": null,
      "padding": null,
      "right": null,
      "top": null,
      "visibility": null,
      "width": null
     }
    },
    "c1bf3c2d17fd4de9a5eda259e461f4f5": {
     "model_module": "@jupyter-widgets/base",
     "model_module_version": "1.2.0",
     "model_name": "LayoutModel",
     "state": {
      "_model_module": "@jupyter-widgets/base",
      "_model_module_version": "1.2.0",
      "_model_name": "LayoutModel",
      "_view_count": null,
      "_view_module": "@jupyter-widgets/base",
      "_view_module_version": "1.2.0",
      "_view_name": "LayoutView",
      "align_content": null,
      "align_items": null,
      "align_self": null,
      "border": null,
      "bottom": null,
      "display": null,
      "flex": null,
      "flex_flow": null,
      "grid_area": null,
      "grid_auto_columns": null,
      "grid_auto_flow": null,
      "grid_auto_rows": null,
      "grid_column": null,
      "grid_gap": null,
      "grid_row": null,
      "grid_template_areas": null,
      "grid_template_columns": null,
      "grid_template_rows": null,
      "height": null,
      "justify_content": null,
      "justify_items": null,
      "left": null,
      "margin": null,
      "max_height": null,
      "max_width": null,
      "min_height": null,
      "min_width": null,
      "object_fit": null,
      "object_position": null,
      "order": null,
      "overflow": null,
      "overflow_x": null,
      "overflow_y": null,
      "padding": null,
      "right": null,
      "top": null,
      "visibility": null,
      "width": null
     }
    },
    "c2c490ca81fc4e469cb0938349a7280c": {
     "model_module": "@jupyter-widgets/controls",
     "model_module_version": "1.5.0",
     "model_name": "FloatProgressModel",
     "state": {
      "_dom_classes": [],
      "_model_module": "@jupyter-widgets/controls",
      "_model_module_version": "1.5.0",
      "_model_name": "FloatProgressModel",
      "_view_count": null,
      "_view_module": "@jupyter-widgets/controls",
      "_view_module_version": "1.5.0",
      "_view_name": "ProgressView",
      "bar_style": "success",
      "description": "",
      "description_tooltip": null,
      "layout": "IPY_MODEL_503b9ee6f5fb47a394a58dde85f68d03",
      "max": 14166,
      "min": 0,
      "orientation": "horizontal",
      "style": "IPY_MODEL_10c31d17c5734fefa20ce8a61bf8aae3",
      "value": 14166
     }
    },
    "c32d03c0e1364d5e8a8b2d8a330b5b6e": {
     "model_module": "@jupyter-widgets/base",
     "model_module_version": "1.2.0",
     "model_name": "LayoutModel",
     "state": {
      "_model_module": "@jupyter-widgets/base",
      "_model_module_version": "1.2.0",
      "_model_name": "LayoutModel",
      "_view_count": null,
      "_view_module": "@jupyter-widgets/base",
      "_view_module_version": "1.2.0",
      "_view_name": "LayoutView",
      "align_content": null,
      "align_items": null,
      "align_self": null,
      "border": null,
      "bottom": null,
      "display": null,
      "flex": null,
      "flex_flow": null,
      "grid_area": null,
      "grid_auto_columns": null,
      "grid_auto_flow": null,
      "grid_auto_rows": null,
      "grid_column": null,
      "grid_gap": null,
      "grid_row": null,
      "grid_template_areas": null,
      "grid_template_columns": null,
      "grid_template_rows": null,
      "height": null,
      "justify_content": null,
      "justify_items": null,
      "left": null,
      "margin": null,
      "max_height": null,
      "max_width": null,
      "min_height": null,
      "min_width": null,
      "object_fit": null,
      "object_position": null,
      "order": null,
      "overflow": null,
      "overflow_x": null,
      "overflow_y": null,
      "padding": null,
      "right": null,
      "top": null,
      "visibility": null,
      "width": null
     }
    },
    "c41324fcbd7c4bf0bf061ba10c65c31d": {
     "model_module": "@jupyter-widgets/controls",
     "model_module_version": "1.5.0",
     "model_name": "DescriptionStyleModel",
     "state": {
      "_model_module": "@jupyter-widgets/controls",
      "_model_module_version": "1.5.0",
      "_model_name": "DescriptionStyleModel",
      "_view_count": null,
      "_view_module": "@jupyter-widgets/base",
      "_view_module_version": "1.2.0",
      "_view_name": "StyleView",
      "description_width": ""
     }
    },
    "c44fc88dd4e04998b64b18d577368c34": {
     "model_module": "@jupyter-widgets/controls",
     "model_module_version": "1.5.0",
     "model_name": "FloatProgressModel",
     "state": {
      "_dom_classes": [],
      "_model_module": "@jupyter-widgets/controls",
      "_model_module_version": "1.5.0",
      "_model_name": "FloatProgressModel",
      "_view_count": null,
      "_view_module": "@jupyter-widgets/controls",
      "_view_module_version": "1.5.0",
      "_view_name": "ProgressView",
      "bar_style": "success",
      "description": "",
      "description_tooltip": null,
      "layout": "IPY_MODEL_c5e54257f65a431398f38d58eaa196ff",
      "max": 201,
      "min": 0,
      "orientation": "horizontal",
      "style": "IPY_MODEL_da6eadebe77c4ce2a1aedd975b8b00a5",
      "value": 201
     }
    },
    "c4ef8194810d4343bd109c9d44bc0fdf": {
     "model_module": "@jupyter-widgets/controls",
     "model_module_version": "1.5.0",
     "model_name": "HBoxModel",
     "state": {
      "_dom_classes": [],
      "_model_module": "@jupyter-widgets/controls",
      "_model_module_version": "1.5.0",
      "_model_name": "HBoxModel",
      "_view_count": null,
      "_view_module": "@jupyter-widgets/controls",
      "_view_module_version": "1.5.0",
      "_view_name": "HBoxView",
      "box_style": "",
      "children": [
       "IPY_MODEL_5e5b0e75a6674001b11655f68abd8a3a",
       "IPY_MODEL_8de0b8acc20947228c24adb7cea078bf",
       "IPY_MODEL_ab838c2ad42b467ead3b108f0c8f803e"
      ],
      "layout": "IPY_MODEL_e8b512c6b97d4635b00a759048094984"
     }
    },
    "c5e54257f65a431398f38d58eaa196ff": {
     "model_module": "@jupyter-widgets/base",
     "model_module_version": "1.2.0",
     "model_name": "LayoutModel",
     "state": {
      "_model_module": "@jupyter-widgets/base",
      "_model_module_version": "1.2.0",
      "_model_name": "LayoutModel",
      "_view_count": null,
      "_view_module": "@jupyter-widgets/base",
      "_view_module_version": "1.2.0",
      "_view_name": "LayoutView",
      "align_content": null,
      "align_items": null,
      "align_self": null,
      "border": null,
      "bottom": null,
      "display": null,
      "flex": null,
      "flex_flow": null,
      "grid_area": null,
      "grid_auto_columns": null,
      "grid_auto_flow": null,
      "grid_auto_rows": null,
      "grid_column": null,
      "grid_gap": null,
      "grid_row": null,
      "grid_template_areas": null,
      "grid_template_columns": null,
      "grid_template_rows": null,
      "height": null,
      "justify_content": null,
      "justify_items": null,
      "left": null,
      "margin": null,
      "max_height": null,
      "max_width": null,
      "min_height": null,
      "min_width": null,
      "object_fit": null,
      "object_position": null,
      "order": null,
      "overflow": null,
      "overflow_x": null,
      "overflow_y": null,
      "padding": null,
      "right": null,
      "top": null,
      "visibility": null,
      "width": null
     }
    },
    "c6a15006165444a88409775cd443f409": {
     "model_module": "@jupyter-widgets/controls",
     "model_module_version": "1.5.0",
     "model_name": "DescriptionStyleModel",
     "state": {
      "_model_module": "@jupyter-widgets/controls",
      "_model_module_version": "1.5.0",
      "_model_name": "DescriptionStyleModel",
      "_view_count": null,
      "_view_module": "@jupyter-widgets/base",
      "_view_module_version": "1.2.0",
      "_view_name": "StyleView",
      "description_width": ""
     }
    },
    "c89a9ded61b44740b1fa077fa6176fe8": {
     "model_module": "@jupyter-widgets/controls",
     "model_module_version": "1.5.0",
     "model_name": "DescriptionStyleModel",
     "state": {
      "_model_module": "@jupyter-widgets/controls",
      "_model_module_version": "1.5.0",
      "_model_name": "DescriptionStyleModel",
      "_view_count": null,
      "_view_module": "@jupyter-widgets/base",
      "_view_module_version": "1.2.0",
      "_view_name": "StyleView",
      "description_width": ""
     }
    },
    "ca35e1e449a04360bb813ba8e8f108b3": {
     "model_module": "@jupyter-widgets/base",
     "model_module_version": "1.2.0",
     "model_name": "LayoutModel",
     "state": {
      "_model_module": "@jupyter-widgets/base",
      "_model_module_version": "1.2.0",
      "_model_name": "LayoutModel",
      "_view_count": null,
      "_view_module": "@jupyter-widgets/base",
      "_view_module_version": "1.2.0",
      "_view_name": "LayoutView",
      "align_content": null,
      "align_items": null,
      "align_self": null,
      "border": null,
      "bottom": null,
      "display": null,
      "flex": null,
      "flex_flow": null,
      "grid_area": null,
      "grid_auto_columns": null,
      "grid_auto_flow": null,
      "grid_auto_rows": null,
      "grid_column": null,
      "grid_gap": null,
      "grid_row": null,
      "grid_template_areas": null,
      "grid_template_columns": null,
      "grid_template_rows": null,
      "height": null,
      "justify_content": null,
      "justify_items": null,
      "left": null,
      "margin": null,
      "max_height": null,
      "max_width": null,
      "min_height": null,
      "min_width": null,
      "object_fit": null,
      "object_position": null,
      "order": null,
      "overflow": null,
      "overflow_x": null,
      "overflow_y": null,
      "padding": null,
      "right": null,
      "top": null,
      "visibility": null,
      "width": null
     }
    },
    "cb6c3a89f79e459095a66efb7eee3e1e": {
     "model_module": "@jupyter-widgets/controls",
     "model_module_version": "1.5.0",
     "model_name": "ProgressStyleModel",
     "state": {
      "_model_module": "@jupyter-widgets/controls",
      "_model_module_version": "1.5.0",
      "_model_name": "ProgressStyleModel",
      "_view_count": null,
      "_view_module": "@jupyter-widgets/base",
      "_view_module_version": "1.2.0",
      "_view_name": "StyleView",
      "bar_color": null,
      "description_width": ""
     }
    },
    "cc1cbf52387c4b70b6b418e403f17cdc": {
     "model_module": "@jupyter-widgets/controls",
     "model_module_version": "1.5.0",
     "model_name": "HBoxModel",
     "state": {
      "_dom_classes": [],
      "_model_module": "@jupyter-widgets/controls",
      "_model_module_version": "1.5.0",
      "_model_name": "HBoxModel",
      "_view_count": null,
      "_view_module": "@jupyter-widgets/controls",
      "_view_module_version": "1.5.0",
      "_view_name": "HBoxView",
      "box_style": "",
      "children": [
       "IPY_MODEL_a5e3546dbb984273b3edd490be017305",
       "IPY_MODEL_d799f3461d6144119960dbee822a8be1",
       "IPY_MODEL_d25a81aca0414a8e949669bc5d1fbea8"
      ],
      "layout": "IPY_MODEL_542b45b91e194ab0a910dcf2c44124e5"
     }
    },
    "ce1ba9c8fddf44f0bf5357988c12c3dd": {
     "model_module": "@jupyter-widgets/controls",
     "model_module_version": "1.5.0",
     "model_name": "FloatProgressModel",
     "state": {
      "_dom_classes": [],
      "_model_module": "@jupyter-widgets/controls",
      "_model_module_version": "1.5.0",
      "_model_name": "FloatProgressModel",
      "_view_count": null,
      "_view_module": "@jupyter-widgets/controls",
      "_view_module_version": "1.5.0",
      "_view_name": "ProgressView",
      "bar_style": "success",
      "description": "",
      "description_tooltip": null,
      "layout": "IPY_MODEL_7d0b9e22dcdf412cae3c6d0a5f70a02c",
      "max": 201,
      "min": 0,
      "orientation": "horizontal",
      "style": "IPY_MODEL_38b3f9a6e5d44592ab6c695f9d6e098b",
      "value": 201
     }
    },
    "d0e4f8c1997a47778242096569f4eb90": {
     "model_module": "@jupyter-widgets/base",
     "model_module_version": "1.2.0",
     "model_name": "LayoutModel",
     "state": {
      "_model_module": "@jupyter-widgets/base",
      "_model_module_version": "1.2.0",
      "_model_name": "LayoutModel",
      "_view_count": null,
      "_view_module": "@jupyter-widgets/base",
      "_view_module_version": "1.2.0",
      "_view_name": "LayoutView",
      "align_content": null,
      "align_items": null,
      "align_self": null,
      "border": null,
      "bottom": null,
      "display": null,
      "flex": null,
      "flex_flow": null,
      "grid_area": null,
      "grid_auto_columns": null,
      "grid_auto_flow": null,
      "grid_auto_rows": null,
      "grid_column": null,
      "grid_gap": null,
      "grid_row": null,
      "grid_template_areas": null,
      "grid_template_columns": null,
      "grid_template_rows": null,
      "height": null,
      "justify_content": null,
      "justify_items": null,
      "left": null,
      "margin": null,
      "max_height": null,
      "max_width": null,
      "min_height": null,
      "min_width": null,
      "object_fit": null,
      "object_position": null,
      "order": null,
      "overflow": null,
      "overflow_x": null,
      "overflow_y": null,
      "padding": null,
      "right": null,
      "top": null,
      "visibility": null,
      "width": null
     }
    },
    "d0ea688098bd4e9d8392e1cb56f482be": {
     "model_module": "@jupyter-widgets/base",
     "model_module_version": "1.2.0",
     "model_name": "LayoutModel",
     "state": {
      "_model_module": "@jupyter-widgets/base",
      "_model_module_version": "1.2.0",
      "_model_name": "LayoutModel",
      "_view_count": null,
      "_view_module": "@jupyter-widgets/base",
      "_view_module_version": "1.2.0",
      "_view_name": "LayoutView",
      "align_content": null,
      "align_items": null,
      "align_self": null,
      "border": null,
      "bottom": null,
      "display": null,
      "flex": null,
      "flex_flow": null,
      "grid_area": null,
      "grid_auto_columns": null,
      "grid_auto_flow": null,
      "grid_auto_rows": null,
      "grid_column": null,
      "grid_gap": null,
      "grid_row": null,
      "grid_template_areas": null,
      "grid_template_columns": null,
      "grid_template_rows": null,
      "height": null,
      "justify_content": null,
      "justify_items": null,
      "left": null,
      "margin": null,
      "max_height": null,
      "max_width": null,
      "min_height": null,
      "min_width": null,
      "object_fit": null,
      "object_position": null,
      "order": null,
      "overflow": null,
      "overflow_x": null,
      "overflow_y": null,
      "padding": null,
      "right": null,
      "top": null,
      "visibility": null,
      "width": null
     }
    },
    "d1f0c5f3758f46daaac483ee333bad12": {
     "model_module": "@jupyter-widgets/controls",
     "model_module_version": "1.5.0",
     "model_name": "HTMLModel",
     "state": {
      "_dom_classes": [],
      "_model_module": "@jupyter-widgets/controls",
      "_model_module_version": "1.5.0",
      "_model_name": "HTMLModel",
      "_view_count": null,
      "_view_module": "@jupyter-widgets/controls",
      "_view_module_version": "1.5.0",
      "_view_name": "HTMLView",
      "description": "",
      "description_tooltip": null,
      "layout": "IPY_MODEL_11ce03a5c350437a827600dc410448e3",
      "placeholder": "​",
      "style": "IPY_MODEL_29e48a877ac742c79a28cb27de480e99",
      "value": "0000.parquet: 100%"
     }
    },
    "d25a81aca0414a8e949669bc5d1fbea8": {
     "model_module": "@jupyter-widgets/controls",
     "model_module_version": "1.5.0",
     "model_name": "HTMLModel",
     "state": {
      "_dom_classes": [],
      "_model_module": "@jupyter-widgets/controls",
      "_model_module_version": "1.5.0",
      "_model_name": "HTMLModel",
      "_view_count": null,
      "_view_module": "@jupyter-widgets/controls",
      "_view_module_version": "1.5.0",
      "_view_name": "HTMLView",
      "description": "",
      "description_tooltip": null,
      "layout": "IPY_MODEL_57ff8b33fc9a47c6aecb04aa084abe8c",
      "placeholder": "​",
      "style": "IPY_MODEL_260452e5822c47fc8d22acf1b274d11a",
      "value": " 1.67k/1.67k [00:00&lt;00:00, 105kB/s]"
     }
    },
    "d3b31e6e568e487697755cf60d38855a": {
     "model_module": "@jupyter-widgets/controls",
     "model_module_version": "1.5.0",
     "model_name": "HTMLModel",
     "state": {
      "_dom_classes": [],
      "_model_module": "@jupyter-widgets/controls",
      "_model_module_version": "1.5.0",
      "_model_name": "HTMLModel",
      "_view_count": null,
      "_view_module": "@jupyter-widgets/controls",
      "_view_module_version": "1.5.0",
      "_view_name": "HTMLView",
      "description": "",
      "description_tooltip": null,
      "layout": "IPY_MODEL_d69a76535f094d0ebf251609470dfe3e",
      "placeholder": "​",
      "style": "IPY_MODEL_16aa2d6965784ba4acb80ef4c8349ce7",
      "value": "README.md: 100%"
     }
    },
    "d58bdf16014e4ce5b278f53f9e75240a": {
     "model_module": "@jupyter-widgets/base",
     "model_module_version": "1.2.0",
     "model_name": "LayoutModel",
     "state": {
      "_model_module": "@jupyter-widgets/base",
      "_model_module_version": "1.2.0",
      "_model_name": "LayoutModel",
      "_view_count": null,
      "_view_module": "@jupyter-widgets/base",
      "_view_module_version": "1.2.0",
      "_view_name": "LayoutView",
      "align_content": null,
      "align_items": null,
      "align_self": null,
      "border": null,
      "bottom": null,
      "display": null,
      "flex": null,
      "flex_flow": null,
      "grid_area": null,
      "grid_auto_columns": null,
      "grid_auto_flow": null,
      "grid_auto_rows": null,
      "grid_column": null,
      "grid_gap": null,
      "grid_row": null,
      "grid_template_areas": null,
      "grid_template_columns": null,
      "grid_template_rows": null,
      "height": null,
      "justify_content": null,
      "justify_items": null,
      "left": null,
      "margin": null,
      "max_height": null,
      "max_width": null,
      "min_height": null,
      "min_width": null,
      "object_fit": null,
      "object_position": null,
      "order": null,
      "overflow": null,
      "overflow_x": null,
      "overflow_y": null,
      "padding": null,
      "right": null,
      "top": null,
      "visibility": null,
      "width": null
     }
    },
    "d69a76535f094d0ebf251609470dfe3e": {
     "model_module": "@jupyter-widgets/base",
     "model_module_version": "1.2.0",
     "model_name": "LayoutModel",
     "state": {
      "_model_module": "@jupyter-widgets/base",
      "_model_module_version": "1.2.0",
      "_model_name": "LayoutModel",
      "_view_count": null,
      "_view_module": "@jupyter-widgets/base",
      "_view_module_version": "1.2.0",
      "_view_name": "LayoutView",
      "align_content": null,
      "align_items": null,
      "align_self": null,
      "border": null,
      "bottom": null,
      "display": null,
      "flex": null,
      "flex_flow": null,
      "grid_area": null,
      "grid_auto_columns": null,
      "grid_auto_flow": null,
      "grid_auto_rows": null,
      "grid_column": null,
      "grid_gap": null,
      "grid_row": null,
      "grid_template_areas": null,
      "grid_template_columns": null,
      "grid_template_rows": null,
      "height": null,
      "justify_content": null,
      "justify_items": null,
      "left": null,
      "margin": null,
      "max_height": null,
      "max_width": null,
      "min_height": null,
      "min_width": null,
      "object_fit": null,
      "object_position": null,
      "order": null,
      "overflow": null,
      "overflow_x": null,
      "overflow_y": null,
      "padding": null,
      "right": null,
      "top": null,
      "visibility": null,
      "width": null
     }
    },
    "d799f3461d6144119960dbee822a8be1": {
     "model_module": "@jupyter-widgets/controls",
     "model_module_version": "1.5.0",
     "model_name": "FloatProgressModel",
     "state": {
      "_dom_classes": [],
      "_model_module": "@jupyter-widgets/controls",
      "_model_module_version": "1.5.0",
      "_model_name": "FloatProgressModel",
      "_view_count": null,
      "_view_module": "@jupyter-widgets/controls",
      "_view_module_version": "1.5.0",
      "_view_name": "ProgressView",
      "bar_style": "success",
      "description": "",
      "description_tooltip": null,
      "layout": "IPY_MODEL_a3aea67f98664eefabfd1a427f559c8c",
      "max": 1668,
      "min": 0,
      "orientation": "horizontal",
      "style": "IPY_MODEL_827edaa014a14ffd92739ad2834fcef3",
      "value": 1668
     }
    },
    "d8bebb533e3f4b3d9381dc147c4b894c": {
     "model_module": "@jupyter-widgets/controls",
     "model_module_version": "1.5.0",
     "model_name": "HTMLModel",
     "state": {
      "_dom_classes": [],
      "_model_module": "@jupyter-widgets/controls",
      "_model_module_version": "1.5.0",
      "_model_name": "HTMLModel",
      "_view_count": null,
      "_view_module": "@jupyter-widgets/controls",
      "_view_module_version": "1.5.0",
      "_view_name": "HTMLView",
      "description": "",
      "description_tooltip": null,
      "layout": "IPY_MODEL_2b9eb69292374298925c35e18a075664",
      "placeholder": "​",
      "style": "IPY_MODEL_88804b0b944749028469dc243d352d0e",
      "value": " 18.3k/18.3k [00:00&lt;00:00, 1.02MB/s]"
     }
    },
    "da6eadebe77c4ce2a1aedd975b8b00a5": {
     "model_module": "@jupyter-widgets/controls",
     "model_module_version": "1.5.0",
     "model_name": "ProgressStyleModel",
     "state": {
      "_model_module": "@jupyter-widgets/controls",
      "_model_module_version": "1.5.0",
      "_model_name": "ProgressStyleModel",
      "_view_count": null,
      "_view_module": "@jupyter-widgets/base",
      "_view_module_version": "1.2.0",
      "_view_name": "StyleView",
      "bar_color": null,
      "description_width": ""
     }
    },
    "e0fe9a713dd44827a3fef81755d7f999": {
     "model_module": "@jupyter-widgets/controls",
     "model_module_version": "1.5.0",
     "model_name": "FloatProgressModel",
     "state": {
      "_dom_classes": [],
      "_model_module": "@jupyter-widgets/controls",
      "_model_module_version": "1.5.0",
      "_model_name": "FloatProgressModel",
      "_view_count": null,
      "_view_module": "@jupyter-widgets/controls",
      "_view_module_version": "1.5.0",
      "_view_name": "ProgressView",
      "bar_style": "success",
      "description": "",
      "description_tooltip": null,
      "layout": "IPY_MODEL_b6b20293693a4fadb28dce75a5290c4b",
      "max": 18327,
      "min": 0,
      "orientation": "horizontal",
      "style": "IPY_MODEL_187729371c244d3980d56dd88ea4983f",
      "value": 18327
     }
    },
    "e12bf894dd574912950ae2c7e9372464": {
     "model_module": "@jupyter-widgets/controls",
     "model_module_version": "1.5.0",
     "model_name": "ProgressStyleModel",
     "state": {
      "_model_module": "@jupyter-widgets/controls",
      "_model_module_version": "1.5.0",
      "_model_name": "ProgressStyleModel",
      "_view_count": null,
      "_view_module": "@jupyter-widgets/base",
      "_view_module_version": "1.2.0",
      "_view_name": "StyleView",
      "bar_color": null,
      "description_width": ""
     }
    },
    "e12f552af14d45308cd16b7fd4c349a2": {
     "model_module": "@jupyter-widgets/base",
     "model_module_version": "1.2.0",
     "model_name": "LayoutModel",
     "state": {
      "_model_module": "@jupyter-widgets/base",
      "_model_module_version": "1.2.0",
      "_model_name": "LayoutModel",
      "_view_count": null,
      "_view_module": "@jupyter-widgets/base",
      "_view_module_version": "1.2.0",
      "_view_name": "LayoutView",
      "align_content": null,
      "align_items": null,
      "align_self": null,
      "border": null,
      "bottom": null,
      "display": null,
      "flex": null,
      "flex_flow": null,
      "grid_area": null,
      "grid_auto_columns": null,
      "grid_auto_flow": null,
      "grid_auto_rows": null,
      "grid_column": null,
      "grid_gap": null,
      "grid_row": null,
      "grid_template_areas": null,
      "grid_template_columns": null,
      "grid_template_rows": null,
      "height": null,
      "justify_content": null,
      "justify_items": null,
      "left": null,
      "margin": null,
      "max_height": null,
      "max_width": null,
      "min_height": null,
      "min_width": null,
      "object_fit": null,
      "object_position": null,
      "order": null,
      "overflow": null,
      "overflow_x": null,
      "overflow_y": null,
      "padding": null,
      "right": null,
      "top": null,
      "visibility": null,
      "width": null
     }
    },
    "e3ce81eca39e498f90ed719030982ca1": {
     "model_module": "@jupyter-widgets/controls",
     "model_module_version": "1.5.0",
     "model_name": "HTMLModel",
     "state": {
      "_dom_classes": [],
      "_model_module": "@jupyter-widgets/controls",
      "_model_module_version": "1.5.0",
      "_model_name": "HTMLModel",
      "_view_count": null,
      "_view_module": "@jupyter-widgets/controls",
      "_view_module_version": "1.5.0",
      "_view_name": "HTMLView",
      "description": "",
      "description_tooltip": null,
      "layout": "IPY_MODEL_6329a12329e64cb2af9af9d617e962ce",
      "placeholder": "​",
      "style": "IPY_MODEL_b6d99431e81f43f7b096c4763259ace0",
      "value": "README.md: 100%"
     }
    },
    "e5592d2539354681be532b37530f844a": {
     "model_module": "@jupyter-widgets/controls",
     "model_module_version": "1.5.0",
     "model_name": "HTMLModel",
     "state": {
      "_dom_classes": [],
      "_model_module": "@jupyter-widgets/controls",
      "_model_module_version": "1.5.0",
      "_model_name": "HTMLModel",
      "_view_count": null,
      "_view_module": "@jupyter-widgets/controls",
      "_view_module_version": "1.5.0",
      "_view_name": "HTMLView",
      "description": "",
      "description_tooltip": null,
      "layout": "IPY_MODEL_02f3bc4a22304c8993d8e17101e00f6c",
      "placeholder": "​",
      "style": "IPY_MODEL_5ab4cbd2dec346bb80e28748450a0cc0",
      "value": " 6.77k/6.77k [00:00&lt;00:00, 156kB/s]"
     }
    },
    "e55dd3b7fa564625a6233bd6b21fd2d8": {
     "model_module": "@jupyter-widgets/base",
     "model_module_version": "1.2.0",
     "model_name": "LayoutModel",
     "state": {
      "_model_module": "@jupyter-widgets/base",
      "_model_module_version": "1.2.0",
      "_model_name": "LayoutModel",
      "_view_count": null,
      "_view_module": "@jupyter-widgets/base",
      "_view_module_version": "1.2.0",
      "_view_name": "LayoutView",
      "align_content": null,
      "align_items": null,
      "align_self": null,
      "border": null,
      "bottom": null,
      "display": null,
      "flex": null,
      "flex_flow": null,
      "grid_area": null,
      "grid_auto_columns": null,
      "grid_auto_flow": null,
      "grid_auto_rows": null,
      "grid_column": null,
      "grid_gap": null,
      "grid_row": null,
      "grid_template_areas": null,
      "grid_template_columns": null,
      "grid_template_rows": null,
      "height": null,
      "justify_content": null,
      "justify_items": null,
      "left": null,
      "margin": null,
      "max_height": null,
      "max_width": null,
      "min_height": null,
      "min_width": null,
      "object_fit": null,
      "object_position": null,
      "order": null,
      "overflow": null,
      "overflow_x": null,
      "overflow_y": null,
      "padding": null,
      "right": null,
      "top": null,
      "visibility": null,
      "width": null
     }
    },
    "e7905f6a202844678996a99d0448cd2e": {
     "model_module": "@jupyter-widgets/controls",
     "model_module_version": "1.5.0",
     "model_name": "HBoxModel",
     "state": {
      "_dom_classes": [],
      "_model_module": "@jupyter-widgets/controls",
      "_model_module_version": "1.5.0",
      "_model_name": "HBoxModel",
      "_view_count": null,
      "_view_module": "@jupyter-widgets/controls",
      "_view_module_version": "1.5.0",
      "_view_name": "HBoxView",
      "box_style": "",
      "children": [
       "IPY_MODEL_1e666cd4d2ac44b4ac48be6505b94e47",
       "IPY_MODEL_472df9ee8416465bb16439aa05f260d5",
       "IPY_MODEL_980a7bd1d35f4f0e8629dc325974a524"
      ],
      "layout": "IPY_MODEL_51b7b121ce1c43499c7b533b37ef7dcc"
     }
    },
    "e7ec87d45ebd4e3e9cb5bc7d4435eda9": {
     "model_module": "@jupyter-widgets/base",
     "model_module_version": "1.2.0",
     "model_name": "LayoutModel",
     "state": {
      "_model_module": "@jupyter-widgets/base",
      "_model_module_version": "1.2.0",
      "_model_name": "LayoutModel",
      "_view_count": null,
      "_view_module": "@jupyter-widgets/base",
      "_view_module_version": "1.2.0",
      "_view_name": "LayoutView",
      "align_content": null,
      "align_items": null,
      "align_self": null,
      "border": null,
      "bottom": null,
      "display": null,
      "flex": null,
      "flex_flow": null,
      "grid_area": null,
      "grid_auto_columns": null,
      "grid_auto_flow": null,
      "grid_auto_rows": null,
      "grid_column": null,
      "grid_gap": null,
      "grid_row": null,
      "grid_template_areas": null,
      "grid_template_columns": null,
      "grid_template_rows": null,
      "height": null,
      "justify_content": null,
      "justify_items": null,
      "left": null,
      "margin": null,
      "max_height": null,
      "max_width": null,
      "min_height": null,
      "min_width": null,
      "object_fit": null,
      "object_position": null,
      "order": null,
      "overflow": null,
      "overflow_x": null,
      "overflow_y": null,
      "padding": null,
      "right": null,
      "top": null,
      "visibility": null,
      "width": null
     }
    },
    "e8b512c6b97d4635b00a759048094984": {
     "model_module": "@jupyter-widgets/base",
     "model_module_version": "1.2.0",
     "model_name": "LayoutModel",
     "state": {
      "_model_module": "@jupyter-widgets/base",
      "_model_module_version": "1.2.0",
      "_model_name": "LayoutModel",
      "_view_count": null,
      "_view_module": "@jupyter-widgets/base",
      "_view_module_version": "1.2.0",
      "_view_name": "LayoutView",
      "align_content": null,
      "align_items": null,
      "align_self": null,
      "border": null,
      "bottom": null,
      "display": null,
      "flex": null,
      "flex_flow": null,
      "grid_area": null,
      "grid_auto_columns": null,
      "grid_auto_flow": null,
      "grid_auto_rows": null,
      "grid_column": null,
      "grid_gap": null,
      "grid_row": null,
      "grid_template_areas": null,
      "grid_template_columns": null,
      "grid_template_rows": null,
      "height": null,
      "justify_content": null,
      "justify_items": null,
      "left": null,
      "margin": null,
      "max_height": null,
      "max_width": null,
      "min_height": null,
      "min_width": null,
      "object_fit": null,
      "object_position": null,
      "order": null,
      "overflow": null,
      "overflow_x": null,
      "overflow_y": null,
      "padding": null,
      "right": null,
      "top": null,
      "visibility": null,
      "width": null
     }
    },
    "eae676ce0a494e1c97ed8957d31b31ca": {
     "model_module": "@jupyter-widgets/base",
     "model_module_version": "1.2.0",
     "model_name": "LayoutModel",
     "state": {
      "_model_module": "@jupyter-widgets/base",
      "_model_module_version": "1.2.0",
      "_model_name": "LayoutModel",
      "_view_count": null,
      "_view_module": "@jupyter-widgets/base",
      "_view_module_version": "1.2.0",
      "_view_name": "LayoutView",
      "align_content": null,
      "align_items": null,
      "align_self": null,
      "border": null,
      "bottom": null,
      "display": null,
      "flex": null,
      "flex_flow": null,
      "grid_area": null,
      "grid_auto_columns": null,
      "grid_auto_flow": null,
      "grid_auto_rows": null,
      "grid_column": null,
      "grid_gap": null,
      "grid_row": null,
      "grid_template_areas": null,
      "grid_template_columns": null,
      "grid_template_rows": null,
      "height": null,
      "justify_content": null,
      "justify_items": null,
      "left": null,
      "margin": null,
      "max_height": null,
      "max_width": null,
      "min_height": null,
      "min_width": null,
      "object_fit": null,
      "object_position": null,
      "order": null,
      "overflow": null,
      "overflow_x": null,
      "overflow_y": null,
      "padding": null,
      "right": null,
      "top": null,
      "visibility": null,
      "width": null
     }
    },
    "ecca979bd0fe4acca961d96c9b1c984a": {
     "model_module": "@jupyter-widgets/controls",
     "model_module_version": "1.5.0",
     "model_name": "ProgressStyleModel",
     "state": {
      "_model_module": "@jupyter-widgets/controls",
      "_model_module_version": "1.5.0",
      "_model_name": "ProgressStyleModel",
      "_view_count": null,
      "_view_module": "@jupyter-widgets/base",
      "_view_module_version": "1.2.0",
      "_view_name": "StyleView",
      "bar_color": null,
      "description_width": ""
     }
    },
    "ee5ff0e20fee4d069dc83e8cb9ebf91e": {
     "model_module": "@jupyter-widgets/base",
     "model_module_version": "1.2.0",
     "model_name": "LayoutModel",
     "state": {
      "_model_module": "@jupyter-widgets/base",
      "_model_module_version": "1.2.0",
      "_model_name": "LayoutModel",
      "_view_count": null,
      "_view_module": "@jupyter-widgets/base",
      "_view_module_version": "1.2.0",
      "_view_name": "LayoutView",
      "align_content": null,
      "align_items": null,
      "align_self": null,
      "border": null,
      "bottom": null,
      "display": null,
      "flex": null,
      "flex_flow": null,
      "grid_area": null,
      "grid_auto_columns": null,
      "grid_auto_flow": null,
      "grid_auto_rows": null,
      "grid_column": null,
      "grid_gap": null,
      "grid_row": null,
      "grid_template_areas": null,
      "grid_template_columns": null,
      "grid_template_rows": null,
      "height": null,
      "justify_content": null,
      "justify_items": null,
      "left": null,
      "margin": null,
      "max_height": null,
      "max_width": null,
      "min_height": null,
      "min_width": null,
      "object_fit": null,
      "object_position": null,
      "order": null,
      "overflow": null,
      "overflow_x": null,
      "overflow_y": null,
      "padding": null,
      "right": null,
      "top": null,
      "visibility": null,
      "width": null
     }
    },
    "ef7892e8d3e5404db4413961765ac204": {
     "model_module": "@jupyter-widgets/controls",
     "model_module_version": "1.5.0",
     "model_name": "DescriptionStyleModel",
     "state": {
      "_model_module": "@jupyter-widgets/controls",
      "_model_module_version": "1.5.0",
      "_model_name": "DescriptionStyleModel",
      "_view_count": null,
      "_view_module": "@jupyter-widgets/base",
      "_view_module_version": "1.2.0",
      "_view_name": "StyleView",
      "description_width": ""
     }
    },
    "f03ea36c68514a97bb6776d5ec851ea8": {
     "model_module": "@jupyter-widgets/controls",
     "model_module_version": "1.5.0",
     "model_name": "HBoxModel",
     "state": {
      "_dom_classes": [],
      "_model_module": "@jupyter-widgets/controls",
      "_model_module_version": "1.5.0",
      "_model_name": "HBoxModel",
      "_view_count": null,
      "_view_module": "@jupyter-widgets/controls",
      "_view_module_version": "1.5.0",
      "_view_name": "HBoxView",
      "box_style": "",
      "children": [
       "IPY_MODEL_4106f7d0d7e745efabee5a4d2f2f21f2",
       "IPY_MODEL_25b30e28179f4f78b07c2ab4397bc427",
       "IPY_MODEL_fd378b8036d04e4c87acf60c79260458"
      ],
      "layout": "IPY_MODEL_bec787deafec48efbe15c045cb8068fb"
     }
    },
    "f10d1bf9fffd4498bf388a91923c614f": {
     "model_module": "@jupyter-widgets/controls",
     "model_module_version": "1.5.0",
     "model_name": "DescriptionStyleModel",
     "state": {
      "_model_module": "@jupyter-widgets/controls",
      "_model_module_version": "1.5.0",
      "_model_name": "DescriptionStyleModel",
      "_view_count": null,
      "_view_module": "@jupyter-widgets/base",
      "_view_module_version": "1.2.0",
      "_view_name": "StyleView",
      "description_width": ""
     }
    },
    "f1dbdd8f0f4a49df9ad8bfafdf09c4ac": {
     "model_module": "@jupyter-widgets/base",
     "model_module_version": "1.2.0",
     "model_name": "LayoutModel",
     "state": {
      "_model_module": "@jupyter-widgets/base",
      "_model_module_version": "1.2.0",
      "_model_name": "LayoutModel",
      "_view_count": null,
      "_view_module": "@jupyter-widgets/base",
      "_view_module_version": "1.2.0",
      "_view_name": "LayoutView",
      "align_content": null,
      "align_items": null,
      "align_self": null,
      "border": null,
      "bottom": null,
      "display": null,
      "flex": null,
      "flex_flow": null,
      "grid_area": null,
      "grid_auto_columns": null,
      "grid_auto_flow": null,
      "grid_auto_rows": null,
      "grid_column": null,
      "grid_gap": null,
      "grid_row": null,
      "grid_template_areas": null,
      "grid_template_columns": null,
      "grid_template_rows": null,
      "height": null,
      "justify_content": null,
      "justify_items": null,
      "left": null,
      "margin": null,
      "max_height": null,
      "max_width": null,
      "min_height": null,
      "min_width": null,
      "object_fit": null,
      "object_position": null,
      "order": null,
      "overflow": null,
      "overflow_x": null,
      "overflow_y": null,
      "padding": null,
      "right": null,
      "top": null,
      "visibility": null,
      "width": null
     }
    },
    "f3d49899844d4acea30d96e2e715e519": {
     "model_module": "@jupyter-widgets/controls",
     "model_module_version": "1.5.0",
     "model_name": "ProgressStyleModel",
     "state": {
      "_model_module": "@jupyter-widgets/controls",
      "_model_module_version": "1.5.0",
      "_model_name": "ProgressStyleModel",
      "_view_count": null,
      "_view_module": "@jupyter-widgets/base",
      "_view_module_version": "1.2.0",
      "_view_name": "StyleView",
      "bar_color": null,
      "description_width": ""
     }
    },
    "f52649f7d5624d53a7600962cb996345": {
     "model_module": "@jupyter-widgets/base",
     "model_module_version": "1.2.0",
     "model_name": "LayoutModel",
     "state": {
      "_model_module": "@jupyter-widgets/base",
      "_model_module_version": "1.2.0",
      "_model_name": "LayoutModel",
      "_view_count": null,
      "_view_module": "@jupyter-widgets/base",
      "_view_module_version": "1.2.0",
      "_view_name": "LayoutView",
      "align_content": null,
      "align_items": null,
      "align_self": null,
      "border": null,
      "bottom": null,
      "display": null,
      "flex": null,
      "flex_flow": null,
      "grid_area": null,
      "grid_auto_columns": null,
      "grid_auto_flow": null,
      "grid_auto_rows": null,
      "grid_column": null,
      "grid_gap": null,
      "grid_row": null,
      "grid_template_areas": null,
      "grid_template_columns": null,
      "grid_template_rows": null,
      "height": null,
      "justify_content": null,
      "justify_items": null,
      "left": null,
      "margin": null,
      "max_height": null,
      "max_width": null,
      "min_height": null,
      "min_width": null,
      "object_fit": null,
      "object_position": null,
      "order": null,
      "overflow": null,
      "overflow_x": null,
      "overflow_y": null,
      "padding": null,
      "right": null,
      "top": null,
      "visibility": null,
      "width": null
     }
    },
    "f6ee1f5d0a8c45fa8c225105855cb7f2": {
     "model_module": "@jupyter-widgets/controls",
     "model_module_version": "1.5.0",
     "model_name": "HTMLModel",
     "state": {
      "_dom_classes": [],
      "_model_module": "@jupyter-widgets/controls",
      "_model_module_version": "1.5.0",
      "_model_name": "HTMLModel",
      "_view_count": null,
      "_view_module": "@jupyter-widgets/controls",
      "_view_module_version": "1.5.0",
      "_view_name": "HTMLView",
      "description": "",
      "description_tooltip": null,
      "layout": "IPY_MODEL_96db99f8964e4c1aa67482bdbf95eb96",
      "placeholder": "​",
      "style": "IPY_MODEL_f10d1bf9fffd4498bf388a91923c614f",
      "value": " 1706/1706 [00:00&lt;00:00, 62500.94 examples/s]"
     }
    },
    "fa38a88951824d37a668dfd80c88e249": {
     "model_module": "@jupyter-widgets/controls",
     "model_module_version": "1.5.0",
     "model_name": "FloatProgressModel",
     "state": {
      "_dom_classes": [],
      "_model_module": "@jupyter-widgets/controls",
      "_model_module_version": "1.5.0",
      "_model_name": "FloatProgressModel",
      "_view_count": null,
      "_view_module": "@jupyter-widgets/controls",
      "_view_module_version": "1.5.0",
      "_view_name": "ProgressView",
      "bar_style": "success",
      "description": "",
      "description_tooltip": null,
      "layout": "IPY_MODEL_2ba91d2ca338442b82054ce5e6b847a4",
      "max": 6771,
      "min": 0,
      "orientation": "horizontal",
      "style": "IPY_MODEL_e12bf894dd574912950ae2c7e9372464",
      "value": 6771
     }
    },
    "fa60a03da87848fbbd238db76acb30e7": {
     "model_module": "@jupyter-widgets/controls",
     "model_module_version": "1.5.0",
     "model_name": "DescriptionStyleModel",
     "state": {
      "_model_module": "@jupyter-widgets/controls",
      "_model_module_version": "1.5.0",
      "_model_name": "DescriptionStyleModel",
      "_view_count": null,
      "_view_module": "@jupyter-widgets/base",
      "_view_module_version": "1.2.0",
      "_view_name": "StyleView",
      "description_width": ""
     }
    },
    "fb452b3759da415a86be41e01edd3229": {
     "model_module": "@jupyter-widgets/controls",
     "model_module_version": "1.5.0",
     "model_name": "ProgressStyleModel",
     "state": {
      "_model_module": "@jupyter-widgets/controls",
      "_model_module_version": "1.5.0",
      "_model_name": "ProgressStyleModel",
      "_view_count": null,
      "_view_module": "@jupyter-widgets/base",
      "_view_module_version": "1.2.0",
      "_view_name": "StyleView",
      "bar_color": null,
      "description_width": ""
     }
    },
    "fb6f4ca39e8b4fea9453b32980ffdc06": {
     "model_module": "@jupyter-widgets/controls",
     "model_module_version": "1.5.0",
     "model_name": "DescriptionStyleModel",
     "state": {
      "_model_module": "@jupyter-widgets/controls",
      "_model_module_version": "1.5.0",
      "_model_name": "DescriptionStyleModel",
      "_view_count": null,
      "_view_module": "@jupyter-widgets/base",
      "_view_module_version": "1.2.0",
      "_view_name": "StyleView",
      "description_width": ""
     }
    },
    "fd378b8036d04e4c87acf60c79260458": {
     "model_module": "@jupyter-widgets/controls",
     "model_module_version": "1.5.0",
     "model_name": "HTMLModel",
     "state": {
      "_dom_classes": [],
      "_model_module": "@jupyter-widgets/controls",
      "_model_module_version": "1.5.0",
      "_model_name": "HTMLModel",
      "_view_count": null,
      "_view_module": "@jupyter-widgets/controls",
      "_view_module_version": "1.5.0",
      "_view_name": "HTMLView",
      "description": "",
      "description_tooltip": null,
      "layout": "IPY_MODEL_04b2ddf2a11a4f3889f8bcf7428c32fc",
      "placeholder": "​",
      "style": "IPY_MODEL_50189f753cbb4a238221c74aed543fc5",
      "value": " 57638/57638 [00:00&lt;00:00, 135915.46 examples/s]"
     }
    }
   }
  }
 },
 "nbformat": 4,
 "nbformat_minor": 5
}
