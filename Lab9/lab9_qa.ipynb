{
 "cells": [
  {
   "cell_type": "markdown",
   "id": "40c7c38f-fedb-442f-97b1-2b8698cac928",
   "metadata": {},
   "source": [
    "# NLP Lab9 - Contextual question answering\n",
    "\n",
    "**Author: Bartłomiej Jamiołkowski**"
   ]
  },
  {
   "cell_type": "markdown",
   "id": "707e9e24-9eb9-4479-8c68-084eeda505ec",
   "metadata": {},
   "source": [
    "The aim of this exercise is building a neural model able to answer contextual questions in the legal domain."
   ]
  },
  {
   "cell_type": "code",
   "execution_count": 1,
   "id": "bb1769c3-11bf-4734-876b-550e2d1b6c8d",
   "metadata": {},
   "outputs": [],
   "source": [
    "from datasets import load_dataset\n",
    "from transformers import AutoTokenizer, AutoModelForSeq2SeqLM\n",
    "from collections import Counter\n",
    "from random import sample\n",
    "from tabulate import tabulate\n",
    "from tqdm import tqdm\n",
    "\n",
    "import pandas as pd\n",
    "import numpy as np\n",
    "import string\n",
    "import re\n",
    "import json\n",
    "import warnings\n",
    "warnings.filterwarnings('ignore')"
   ]
  },
  {
   "cell_type": "markdown",
   "id": "7694b9b3-61d1-40b2-a4af-0936595bf981",
   "metadata": {},
   "source": [
    "## Tasks 1 and 3"
   ]
  },
  {
   "cell_type": "markdown",
   "id": "cb8850a0-9dff-4dce-a24a-94b611c8f9e1",
   "metadata": {},
   "source": [
    "Get acquainted with the [Simple legal questions dataset](https://github.com/apohllo/simple-legal-questions-pl) (you need to send your github login to gain access to the dataset).\n",
    "\n",
    "The legal questions dataset is your **test dataset**."
   ]
  },
  {
   "cell_type": "code",
   "execution_count": 2,
   "id": "fbac8916-40c8-467a-af80-fff77ff8bbd3",
   "metadata": {},
   "outputs": [
    {
     "data": {
      "text/html": [
       "<div>\n",
       "<style scoped>\n",
       "    .dataframe tbody tr th:only-of-type {\n",
       "        vertical-align: middle;\n",
       "    }\n",
       "\n",
       "    .dataframe tbody tr th {\n",
       "        vertical-align: top;\n",
       "    }\n",
       "\n",
       "    .dataframe thead th {\n",
       "        text-align: right;\n",
       "    }\n",
       "</style>\n",
       "<table border=\"1\" class=\"dataframe\">\n",
       "  <thead>\n",
       "    <tr style=\"text-align: right;\">\n",
       "      <th></th>\n",
       "      <th>text</th>\n",
       "    </tr>\n",
       "    <tr>\n",
       "      <th>_id</th>\n",
       "      <th></th>\n",
       "    </tr>\n",
       "  </thead>\n",
       "  <tbody>\n",
       "    <tr>\n",
       "      <th>1</th>\n",
       "      <td>Czy żołnierz, który dopuszcza się czynnej napa...</td>\n",
       "    </tr>\n",
       "    <tr>\n",
       "      <th>2</th>\n",
       "      <td>Z ilu osób składa się komisja przetargowa?</td>\n",
       "    </tr>\n",
       "    <tr>\n",
       "      <th>3</th>\n",
       "      <td>Do jakiej wysokości za zobowiązania spółki odp...</td>\n",
       "    </tr>\n",
       "    <tr>\n",
       "      <th>4</th>\n",
       "      <td>Kiedy ustala się wartość majątku obrotowego, k...</td>\n",
       "    </tr>\n",
       "    <tr>\n",
       "      <th>5</th>\n",
       "      <td>Jakiej karze podlega armator, który wykonuje r...</td>\n",
       "    </tr>\n",
       "  </tbody>\n",
       "</table>\n",
       "</div>"
      ],
      "text/plain": [
       "                                                  text\n",
       "_id                                                   \n",
       "1    Czy żołnierz, który dopuszcza się czynnej napa...\n",
       "2           Z ilu osób składa się komisja przetargowa?\n",
       "3    Do jakiej wysokości za zobowiązania spółki odp...\n",
       "4    Kiedy ustala się wartość majątku obrotowego, k...\n",
       "5    Jakiej karze podlega armator, który wykonuje r..."
      ]
     },
     "execution_count": 2,
     "metadata": {},
     "output_type": "execute_result"
    }
   ],
   "source": [
    "test_queries_df = pd.read_json('./data/questions.jl', lines = True).set_index('_id').sort_index()\n",
    "test_queries_df.head()"
   ]
  },
  {
   "cell_type": "code",
   "execution_count": 3,
   "id": "1a0ab556-c233-4cc9-9273-ff005df0156f",
   "metadata": {},
   "outputs": [
    {
     "data": {
      "text/html": [
       "<div>\n",
       "<style scoped>\n",
       "    .dataframe tbody tr th:only-of-type {\n",
       "        vertical-align: middle;\n",
       "    }\n",
       "\n",
       "    .dataframe tbody tr th {\n",
       "        vertical-align: top;\n",
       "    }\n",
       "\n",
       "    .dataframe thead th {\n",
       "        text-align: right;\n",
       "    }\n",
       "</style>\n",
       "<table border=\"1\" class=\"dataframe\">\n",
       "  <thead>\n",
       "    <tr style=\"text-align: right;\">\n",
       "      <th></th>\n",
       "      <th>title</th>\n",
       "      <th>text</th>\n",
       "    </tr>\n",
       "    <tr>\n",
       "      <th>_id</th>\n",
       "      <th></th>\n",
       "      <th></th>\n",
       "    </tr>\n",
       "  </thead>\n",
       "  <tbody>\n",
       "    <tr>\n",
       "      <th>1993_599_1</th>\n",
       "      <td>Ustawa z dnia 9 grudnia 1993 r. o zmianie usta...</td>\n",
       "      <td>Art. 1. W ustawie z dnia 8 stycznia 1993 r. o ...</td>\n",
       "    </tr>\n",
       "    <tr>\n",
       "      <th>1993_599_2</th>\n",
       "      <td>Ustawa z dnia 9 grudnia 1993 r. o zmianie usta...</td>\n",
       "      <td>Art. 2. W okresie od dnia wejścia w życie usta...</td>\n",
       "    </tr>\n",
       "    <tr>\n",
       "      <th>1993_599_3</th>\n",
       "      <td>Ustawa z dnia 9 grudnia 1993 r. o zmianie usta...</td>\n",
       "      <td>Art. 3. Minister Finansów ogłosi w Dzienniku U...</td>\n",
       "    </tr>\n",
       "    <tr>\n",
       "      <th>1993_599_4</th>\n",
       "      <td>Ustawa z dnia 9 grudnia 1993 r. o zmianie usta...</td>\n",
       "      <td>Art. 4. Ustawa wchodzi w życie z dniem 1 stycz...</td>\n",
       "    </tr>\n",
       "    <tr>\n",
       "      <th>1993_602_1</th>\n",
       "      <td>Ustawa z dnia 10 grudnia 1993 r. o zmianie nie...</td>\n",
       "      <td>Art. 1. W ustawie z dnia 29 maja 1974 r. o zao...</td>\n",
       "    </tr>\n",
       "  </tbody>\n",
       "</table>\n",
       "</div>"
      ],
      "text/plain": [
       "                                                        title  \\\n",
       "_id                                                             \n",
       "1993_599_1  Ustawa z dnia 9 grudnia 1993 r. o zmianie usta...   \n",
       "1993_599_2  Ustawa z dnia 9 grudnia 1993 r. o zmianie usta...   \n",
       "1993_599_3  Ustawa z dnia 9 grudnia 1993 r. o zmianie usta...   \n",
       "1993_599_4  Ustawa z dnia 9 grudnia 1993 r. o zmianie usta...   \n",
       "1993_602_1  Ustawa z dnia 10 grudnia 1993 r. o zmianie nie...   \n",
       "\n",
       "                                                         text  \n",
       "_id                                                            \n",
       "1993_599_1  Art. 1. W ustawie z dnia 8 stycznia 1993 r. o ...  \n",
       "1993_599_2  Art. 2. W okresie od dnia wejścia w życie usta...  \n",
       "1993_599_3  Art. 3. Minister Finansów ogłosi w Dzienniku U...  \n",
       "1993_599_4  Art. 4. Ustawa wchodzi w życie z dniem 1 stycz...  \n",
       "1993_602_1  Art. 1. W ustawie z dnia 29 maja 1974 r. o zao...  "
      ]
     },
     "execution_count": 3,
     "metadata": {},
     "output_type": "execute_result"
    }
   ],
   "source": [
    "test_passages_df = pd.read_json('./data/passages.jl', lines = True).set_index('_id').sort_index()\n",
    "test_passages_df.head()"
   ]
  },
  {
   "cell_type": "code",
   "execution_count": 4,
   "id": "ccd9637f-39a0-4cee-83e7-faefc88050d3",
   "metadata": {},
   "outputs": [
    {
     "data": {
      "text/html": [
       "<div>\n",
       "<style scoped>\n",
       "    .dataframe tbody tr th:only-of-type {\n",
       "        vertical-align: middle;\n",
       "    }\n",
       "\n",
       "    .dataframe tbody tr th {\n",
       "        vertical-align: top;\n",
       "    }\n",
       "\n",
       "    .dataframe thead th {\n",
       "        text-align: right;\n",
       "    }\n",
       "</style>\n",
       "<table border=\"1\" class=\"dataframe\">\n",
       "  <thead>\n",
       "    <tr style=\"text-align: right;\">\n",
       "      <th></th>\n",
       "      <th>score</th>\n",
       "      <th>answer</th>\n",
       "    </tr>\n",
       "    <tr>\n",
       "      <th>question-id</th>\n",
       "      <th></th>\n",
       "      <th></th>\n",
       "    </tr>\n",
       "  </thead>\n",
       "  <tbody>\n",
       "    <tr>\n",
       "      <th>1</th>\n",
       "      <td>1.0</td>\n",
       "      <td>Tak, podlega karze aresztu wojskowego albo poz...</td>\n",
       "    </tr>\n",
       "    <tr>\n",
       "      <th>2</th>\n",
       "      <td>1.0</td>\n",
       "      <td>Komisja przetargowa składa się z co najmniej t...</td>\n",
       "    </tr>\n",
       "    <tr>\n",
       "      <th>3</th>\n",
       "      <td>1.0</td>\n",
       "      <td>Komandytariusz odpowiada za zobowiązania spółk...</td>\n",
       "    </tr>\n",
       "    <tr>\n",
       "      <th>4</th>\n",
       "      <td>1.0</td>\n",
       "      <td>Wartość rzeczowych składników majątku obrotowe...</td>\n",
       "    </tr>\n",
       "    <tr>\n",
       "      <th>5</th>\n",
       "      <td>1.0</td>\n",
       "      <td>Podlega karze pieniężnej do wysokości 1 000 00...</td>\n",
       "    </tr>\n",
       "  </tbody>\n",
       "</table>\n",
       "</div>"
      ],
      "text/plain": [
       "             score                                             answer\n",
       "question-id                                                          \n",
       "1              1.0  Tak, podlega karze aresztu wojskowego albo poz...\n",
       "2              1.0  Komisja przetargowa składa się z co najmniej t...\n",
       "3              1.0  Komandytariusz odpowiada za zobowiązania spółk...\n",
       "4              1.0  Wartość rzeczowych składników majątku obrotowe...\n",
       "5              1.0  Podlega karze pieniężnej do wysokości 1 000 00..."
      ]
     },
     "execution_count": 4,
     "metadata": {},
     "output_type": "execute_result"
    }
   ],
   "source": [
    "test_answers_df = pd.read_json('./data/answers.jl', lines = True).set_index('question-id').sort_index()\n",
    "test_answers_df.head()"
   ]
  },
  {
   "cell_type": "code",
   "execution_count": 5,
   "id": "371f0431-15f4-4dc6-9a8e-681fee033819",
   "metadata": {},
   "outputs": [
    {
     "data": {
      "text/html": [
       "<div>\n",
       "<style scoped>\n",
       "    .dataframe tbody tr th:only-of-type {\n",
       "        vertical-align: middle;\n",
       "    }\n",
       "\n",
       "    .dataframe tbody tr th {\n",
       "        vertical-align: top;\n",
       "    }\n",
       "\n",
       "    .dataframe thead th {\n",
       "        text-align: right;\n",
       "    }\n",
       "</style>\n",
       "<table border=\"1\" class=\"dataframe\">\n",
       "  <thead>\n",
       "    <tr style=\"text-align: right;\">\n",
       "      <th></th>\n",
       "      <th>passage-id</th>\n",
       "      <th>score</th>\n",
       "    </tr>\n",
       "    <tr>\n",
       "      <th>question-id</th>\n",
       "      <th></th>\n",
       "      <th></th>\n",
       "    </tr>\n",
       "  </thead>\n",
       "  <tbody>\n",
       "    <tr>\n",
       "      <th>1</th>\n",
       "      <td>1997_553_345</td>\n",
       "      <td>1</td>\n",
       "    </tr>\n",
       "    <tr>\n",
       "      <th>2</th>\n",
       "      <td>2004_177_21</td>\n",
       "      <td>1</td>\n",
       "    </tr>\n",
       "    <tr>\n",
       "      <th>3</th>\n",
       "      <td>1996_465_111</td>\n",
       "      <td>1</td>\n",
       "    </tr>\n",
       "    <tr>\n",
       "      <th>4</th>\n",
       "      <td>1994_591_35</td>\n",
       "      <td>1</td>\n",
       "    </tr>\n",
       "    <tr>\n",
       "      <th>5</th>\n",
       "      <td>2001_1441_74</td>\n",
       "      <td>1</td>\n",
       "    </tr>\n",
       "  </tbody>\n",
       "</table>\n",
       "</div>"
      ],
      "text/plain": [
       "               passage-id  score\n",
       "question-id                     \n",
       "1            1997_553_345      1\n",
       "2             2004_177_21      1\n",
       "3            1996_465_111      1\n",
       "4             1994_591_35      1\n",
       "5            2001_1441_74      1"
      ]
     },
     "execution_count": 5,
     "metadata": {},
     "output_type": "execute_result"
    }
   ],
   "source": [
    "test_relevant_df = pd.read_json('./data/relevant.jl', lines = True).set_index('question-id').sort_index()\n",
    "test_relevant_df.head()"
   ]
  },
  {
   "cell_type": "markdown",
   "id": "d5204627-469e-4fe7-82b7-f106df41e4d3",
   "metadata": {},
   "source": [
    "## Tasks 4 - 5"
   ]
  },
  {
   "cell_type": "markdown",
   "id": "3c910a5c-4bd8-4eae-80ac-dcc076ef7b14",
   "metadata": {},
   "source": [
    "[PoQuAD](https://huggingface.co/datasets/clarin-pl/poquad) is your **train and validation dataset** (use the splits from the repo)."
   ]
  },
  {
   "cell_type": "markdown",
   "id": "2aa3df3f-de31-41f0-a8fa-1e152ebd5c1b",
   "metadata": {},
   "source": [
    "**Warning** PoQuAD has a python API compatible with the `datasets` library, but it only provides the **extractive answers**, even\r\n",
    "   though the abstractive answers are available in the JSON files. So you have to read the JSON files directly."
   ]
  },
  {
   "cell_type": "code",
   "execution_count": 6,
   "id": "8ce8b622-313e-456a-a559-2eb737a74038",
   "metadata": {},
   "outputs": [
    {
     "data": {
      "text/html": [
       "<div>\n",
       "<style scoped>\n",
       "    .dataframe tbody tr th:only-of-type {\n",
       "        vertical-align: middle;\n",
       "    }\n",
       "\n",
       "    .dataframe tbody tr th {\n",
       "        vertical-align: top;\n",
       "    }\n",
       "\n",
       "    .dataframe thead th {\n",
       "        text-align: right;\n",
       "    }\n",
       "</style>\n",
       "<table border=\"1\" class=\"dataframe\">\n",
       "  <thead>\n",
       "    <tr style=\"text-align: right;\">\n",
       "      <th></th>\n",
       "      <th>id</th>\n",
       "      <th>title</th>\n",
       "      <th>summary</th>\n",
       "      <th>url</th>\n",
       "      <th>paragraphs</th>\n",
       "    </tr>\n",
       "  </thead>\n",
       "  <tbody>\n",
       "    <tr>\n",
       "      <th>0</th>\n",
       "      <td>7609</td>\n",
       "      <td>Konfederacja polsko-czechosłowacka</td>\n",
       "      <td>Konfederacja polsko-czechosłowacka – koncepcja...</td>\n",
       "      <td>https://pl.wikipedia.org/wiki/Konfederacja_pol...</td>\n",
       "      <td>[{'context': 'Projekty konfederacji zaczęły si...</td>\n",
       "    </tr>\n",
       "    <tr>\n",
       "      <th>1</th>\n",
       "      <td>8420</td>\n",
       "      <td>Pomilio PD/PE</td>\n",
       "      <td>Pomilio PD/PE – rodzina włoskich samolotów roz...</td>\n",
       "      <td>https://pl.wikipedia.org/wiki/Pomilio_PD/PE</td>\n",
       "      <td>[{'context': 'Samoloty Pomilio PD weszły na wy...</td>\n",
       "    </tr>\n",
       "    <tr>\n",
       "      <th>2</th>\n",
       "      <td>9163</td>\n",
       "      <td>Edmund Kowal</td>\n",
       "      <td>Edmund Karol Kowal, w latach 1931–1949 Erwin E...</td>\n",
       "      <td>https://pl.wikipedia.org/wiki/Edmund_Kowal</td>\n",
       "      <td>[{'context': 'Kowal trafił do wojska jesienią ...</td>\n",
       "    </tr>\n",
       "    <tr>\n",
       "      <th>3</th>\n",
       "      <td>7492</td>\n",
       "      <td>Sejm Rzeczypospolitej Polskiej</td>\n",
       "      <td>Sejm Rzeczypospolitej Polskiej (Sejm RP), Sejm...</td>\n",
       "      <td>https://pl.wikipedia.org/wiki/Sejm_Rzeczypospo...</td>\n",
       "      <td>[{'context': 'Zgodnie z Regulaminem Sejmu i za...</td>\n",
       "    </tr>\n",
       "    <tr>\n",
       "      <th>4</th>\n",
       "      <td>9713</td>\n",
       "      <td>Amanda Lear</td>\n",
       "      <td>Amanda Lear – francuska piosenkarka, autorka t...</td>\n",
       "      <td>https://pl.wikipedia.org/wiki/Amanda_Lear</td>\n",
       "      <td>[{'context': 'W 2006 otworzyła wystawę malarsk...</td>\n",
       "    </tr>\n",
       "  </tbody>\n",
       "</table>\n",
       "</div>"
      ],
      "text/plain": [
       "     id                               title  \\\n",
       "0  7609  Konfederacja polsko-czechosłowacka   \n",
       "1  8420                       Pomilio PD/PE   \n",
       "2  9163                        Edmund Kowal   \n",
       "3  7492      Sejm Rzeczypospolitej Polskiej   \n",
       "4  9713                         Amanda Lear   \n",
       "\n",
       "                                             summary  \\\n",
       "0  Konfederacja polsko-czechosłowacka – koncepcja...   \n",
       "1  Pomilio PD/PE – rodzina włoskich samolotów roz...   \n",
       "2  Edmund Karol Kowal, w latach 1931–1949 Erwin E...   \n",
       "3  Sejm Rzeczypospolitej Polskiej (Sejm RP), Sejm...   \n",
       "4  Amanda Lear – francuska piosenkarka, autorka t...   \n",
       "\n",
       "                                                 url  \\\n",
       "0  https://pl.wikipedia.org/wiki/Konfederacja_pol...   \n",
       "1        https://pl.wikipedia.org/wiki/Pomilio_PD/PE   \n",
       "2         https://pl.wikipedia.org/wiki/Edmund_Kowal   \n",
       "3  https://pl.wikipedia.org/wiki/Sejm_Rzeczypospo...   \n",
       "4          https://pl.wikipedia.org/wiki/Amanda_Lear   \n",
       "\n",
       "                                          paragraphs  \n",
       "0  [{'context': 'Projekty konfederacji zaczęły si...  \n",
       "1  [{'context': 'Samoloty Pomilio PD weszły na wy...  \n",
       "2  [{'context': 'Kowal trafił do wojska jesienią ...  \n",
       "3  [{'context': 'Zgodnie z Regulaminem Sejmu i za...  \n",
       "4  [{'context': 'W 2006 otworzyła wystawę malarsk...  "
      ]
     },
     "execution_count": 6,
     "metadata": {},
     "output_type": "execute_result"
    }
   ],
   "source": [
    "with open('./data/poquad-train.json', 'r', encoding = 'utf-8') as file:\n",
    "    train_data = json.load(file)['data']\n",
    "\n",
    "train_data_df = pd.DataFrame(train_data)\n",
    "train_data_df.head()"
   ]
  },
  {
   "cell_type": "code",
   "execution_count": 7,
   "id": "ee516b13-d4fb-4e86-9e1d-aa5924f3aeb2",
   "metadata": {},
   "outputs": [
    {
     "data": {
      "text/html": [
       "<div>\n",
       "<style scoped>\n",
       "    .dataframe tbody tr th:only-of-type {\n",
       "        vertical-align: middle;\n",
       "    }\n",
       "\n",
       "    .dataframe tbody tr th {\n",
       "        vertical-align: top;\n",
       "    }\n",
       "\n",
       "    .dataframe thead th {\n",
       "        text-align: right;\n",
       "    }\n",
       "</style>\n",
       "<table border=\"1\" class=\"dataframe\">\n",
       "  <thead>\n",
       "    <tr style=\"text-align: right;\">\n",
       "      <th></th>\n",
       "      <th>id</th>\n",
       "      <th>title</th>\n",
       "      <th>summary</th>\n",
       "      <th>url</th>\n",
       "      <th>paragraphs</th>\n",
       "    </tr>\n",
       "  </thead>\n",
       "  <tbody>\n",
       "    <tr>\n",
       "      <th>0</th>\n",
       "      <td>9773</td>\n",
       "      <td>Miszna</td>\n",
       "      <td>Miszna (hebr. ‏משנה‎ miszna „nauczać”, „ustnie...</td>\n",
       "      <td>https://pl.wikipedia.org/wiki/Miszna</td>\n",
       "      <td>[{'context': 'Pisma rabiniczne – w tym Miszna ...</td>\n",
       "    </tr>\n",
       "    <tr>\n",
       "      <th>1</th>\n",
       "      <td>7478</td>\n",
       "      <td>Emilia Plater</td>\n",
       "      <td>Emilia Broel-Plater herbu Plater (ur. 13 listo...</td>\n",
       "      <td>https://pl.wikipedia.org/wiki/Emilia_Plater</td>\n",
       "      <td>[{'context': 'Sformowany przez nią oddział par...</td>\n",
       "    </tr>\n",
       "    <tr>\n",
       "      <th>2</th>\n",
       "      <td>7699</td>\n",
       "      <td>Peter Phillips</td>\n",
       "      <td>Peter Phillips (Peter Mark Andrew Phillips, ur...</td>\n",
       "      <td>https://pl.wikipedia.org/wiki/Peter_Phillips</td>\n",
       "      <td>[{'context': 'Zaręczyny pary ogłoszono 28 lipc...</td>\n",
       "    </tr>\n",
       "    <tr>\n",
       "      <th>3</th>\n",
       "      <td>7815</td>\n",
       "      <td>Karnawał</td>\n",
       "      <td>Karnawał, zapusty – okres zimowych balów, mask...</td>\n",
       "      <td>https://pl.wikipedia.org/wiki/Karnawał</td>\n",
       "      <td>[{'context': 'Dawniej w zapusty jedzono dużo t...</td>\n",
       "    </tr>\n",
       "    <tr>\n",
       "      <th>4</th>\n",
       "      <td>7588</td>\n",
       "      <td>Superpuchar Polski w piłce nożnej</td>\n",
       "      <td>Superpuchar Polski w piłce nożnej (w latach 20...</td>\n",
       "      <td>https://pl.wikipedia.org/wiki/Superpuchar_Pols...</td>\n",
       "      <td>[{'context': 'Od 2014 roku w Superpucharze, z ...</td>\n",
       "    </tr>\n",
       "  </tbody>\n",
       "</table>\n",
       "</div>"
      ],
      "text/plain": [
       "     id                              title  \\\n",
       "0  9773                             Miszna   \n",
       "1  7478                      Emilia Plater   \n",
       "2  7699                     Peter Phillips   \n",
       "3  7815                           Karnawał   \n",
       "4  7588  Superpuchar Polski w piłce nożnej   \n",
       "\n",
       "                                             summary  \\\n",
       "0  Miszna (hebr. ‏משנה‎ miszna „nauczać”, „ustnie...   \n",
       "1  Emilia Broel-Plater herbu Plater (ur. 13 listo...   \n",
       "2  Peter Phillips (Peter Mark Andrew Phillips, ur...   \n",
       "3  Karnawał, zapusty – okres zimowych balów, mask...   \n",
       "4  Superpuchar Polski w piłce nożnej (w latach 20...   \n",
       "\n",
       "                                                 url  \\\n",
       "0               https://pl.wikipedia.org/wiki/Miszna   \n",
       "1        https://pl.wikipedia.org/wiki/Emilia_Plater   \n",
       "2       https://pl.wikipedia.org/wiki/Peter_Phillips   \n",
       "3             https://pl.wikipedia.org/wiki/Karnawał   \n",
       "4  https://pl.wikipedia.org/wiki/Superpuchar_Pols...   \n",
       "\n",
       "                                          paragraphs  \n",
       "0  [{'context': 'Pisma rabiniczne – w tym Miszna ...  \n",
       "1  [{'context': 'Sformowany przez nią oddział par...  \n",
       "2  [{'context': 'Zaręczyny pary ogłoszono 28 lipc...  \n",
       "3  [{'context': 'Dawniej w zapusty jedzono dużo t...  \n",
       "4  [{'context': 'Od 2014 roku w Superpucharze, z ...  "
      ]
     },
     "execution_count": 7,
     "metadata": {},
     "output_type": "execute_result"
    }
   ],
   "source": [
    "with open('./data/poquad-dev.json', 'r', encoding = 'utf-8') as file:\n",
    "    validation_data = json.load(file)['data']\n",
    "\n",
    "validation_data_df = pd.DataFrame(validation_data)\n",
    "validation_data_df.head()"
   ]
  },
  {
   "cell_type": "markdown",
   "id": "a7e0d080-7651-4671-86d6-02c6bfd51049",
   "metadata": {},
   "source": [
    "## Task 8"
   ]
  },
  {
   "cell_type": "markdown",
   "id": "caf3b3ef-f993-4062-945b-b67728e0a096",
   "metadata": {},
   "source": [
    "If you have problems training the model, you can use [apohllo/plt5-base-poquad](https://huggingface.co/apohllo/plt5-base-poquad) which was trained on PoQuAD."
   ]
  },
  {
   "cell_type": "code",
   "execution_count": 8,
   "id": "7caf273b-74e0-485e-9387-fc65c172838e",
   "metadata": {},
   "outputs": [],
   "source": [
    "tokenizer = AutoTokenizer.from_pretrained('apohllo/plt5-base-poquad')\n",
    "model = AutoModelForSeq2SeqLM.from_pretrained('apohllo/plt5-base-poquad')"
   ]
  },
  {
   "cell_type": "markdown",
   "id": "c3f8e357-8e45-4d3a-87e4-d80cbe4089b9",
   "metadata": {},
   "source": [
    "## Tasks 9 - 10"
   ]
  },
  {
   "cell_type": "markdown",
   "id": "7c871bbb-74da-4bb4-8761-0c5dab7bbd49",
   "metadata": {},
   "source": [
    "Report the obtained performance of the model (in the form of a table). The report should include *exact match* and *F1 score* \r\n",
    "   for the tokens appearing both in the reference and the predicted answer.\r\n",
    "\r\n",
    "Report the best results obtained on the validation dataset and the corresponding results on your test dataset. The results on the \r\n",
    "   test set have to be obtained for the model that yield the best result on the validation dataset."
   ]
  },
  {
   "cell_type": "markdown",
   "id": "77f4b74f-5371-4517-9041-746b21fd2576",
   "metadata": {},
   "source": [
    "First, I need to normalize textual data, because: records are from distinct datasets and some columns are not necessary. I hope these process will allow me to save computational resources."
   ]
  },
  {
   "cell_type": "code",
   "execution_count": 9,
   "id": "8d004ec0-a1a0-4c1f-8fa8-b48e52e3ad15",
   "metadata": {},
   "outputs": [],
   "source": [
    "def normalize_data(data: pd.DataFrame) -> pd.DataFrame:\n",
    "    normalized_data_df = pd.DataFrame(columns = ['queries', 'context', 'answers'])\n",
    "\n",
    "    for id, row in data.iterrows():\n",
    "        for paragraph in row['paragraphs']:\n",
    "            for qa in paragraph['qas']:\n",
    "                new_row = {\n",
    "                    'queries': qa['question'],\n",
    "                    'context': paragraph['context'],\n",
    "                    'answers': (qa['answers'][0]['generative_answer'] if 'answers' in qa.keys() else qa['plausible_answers'][0]['generative_answer'])\n",
    "                }\n",
    "            \n",
    "                normalized_data_df = pd.concat([normalized_data_df, pd.DataFrame([new_row])], ignore_index = True)\n",
    "\n",
    "    return normalized_data_df"
   ]
  },
  {
   "cell_type": "code",
   "execution_count": 10,
   "id": "05a031b4-f6a5-45c6-9b93-e962ef0b501e",
   "metadata": {},
   "outputs": [
    {
     "data": {
      "text/html": [
       "<div>\n",
       "<style scoped>\n",
       "    .dataframe tbody tr th:only-of-type {\n",
       "        vertical-align: middle;\n",
       "    }\n",
       "\n",
       "    .dataframe tbody tr th {\n",
       "        vertical-align: top;\n",
       "    }\n",
       "\n",
       "    .dataframe thead th {\n",
       "        text-align: right;\n",
       "    }\n",
       "</style>\n",
       "<table border=\"1\" class=\"dataframe\">\n",
       "  <thead>\n",
       "    <tr style=\"text-align: right;\">\n",
       "      <th></th>\n",
       "      <th>queries</th>\n",
       "      <th>context</th>\n",
       "      <th>answers</th>\n",
       "    </tr>\n",
       "  </thead>\n",
       "  <tbody>\n",
       "    <tr>\n",
       "      <th>0</th>\n",
       "      <td>Co było powodem powrócenia konceptu porozumien...</td>\n",
       "      <td>Projekty konfederacji zaczęły się załamywać 5 ...</td>\n",
       "      <td>wymiana listów Ripka – Stroński</td>\n",
       "    </tr>\n",
       "    <tr>\n",
       "      <th>1</th>\n",
       "      <td>Pomiędzy jakimi stronami odbyło się zgromadzen...</td>\n",
       "      <td>Projekty konfederacji zaczęły się załamywać 5 ...</td>\n",
       "      <td>E. Beneš i J. Masaryk a Wł. Sikorski i E. Racz...</td>\n",
       "    </tr>\n",
       "    <tr>\n",
       "      <th>2</th>\n",
       "      <td>O co ubiegali się polscy przedstawiciele podcz...</td>\n",
       "      <td>Projekty konfederacji zaczęły się załamywać 5 ...</td>\n",
       "      <td>podpisanie układu konfederacyjnego</td>\n",
       "    </tr>\n",
       "    <tr>\n",
       "      <th>3</th>\n",
       "      <td>Który z dyplomatów sprzeciwił się konceptowi k...</td>\n",
       "      <td>Projekty konfederacji zaczęły się załamywać 5 ...</td>\n",
       "      <td>E. Beneš</td>\n",
       "    </tr>\n",
       "    <tr>\n",
       "      <th>4</th>\n",
       "      <td>Kiedy oficjalnie doszło do zawarcia porozumienia?</td>\n",
       "      <td>Projekty konfederacji zaczęły się załamywać 5 ...</td>\n",
       "      <td>20 listopada 1942</td>\n",
       "    </tr>\n",
       "  </tbody>\n",
       "</table>\n",
       "</div>"
      ],
      "text/plain": [
       "                                             queries  \\\n",
       "0  Co było powodem powrócenia konceptu porozumien...   \n",
       "1  Pomiędzy jakimi stronami odbyło się zgromadzen...   \n",
       "2  O co ubiegali się polscy przedstawiciele podcz...   \n",
       "3  Który z dyplomatów sprzeciwił się konceptowi k...   \n",
       "4  Kiedy oficjalnie doszło do zawarcia porozumienia?   \n",
       "\n",
       "                                             context  \\\n",
       "0  Projekty konfederacji zaczęły się załamywać 5 ...   \n",
       "1  Projekty konfederacji zaczęły się załamywać 5 ...   \n",
       "2  Projekty konfederacji zaczęły się załamywać 5 ...   \n",
       "3  Projekty konfederacji zaczęły się załamywać 5 ...   \n",
       "4  Projekty konfederacji zaczęły się załamywać 5 ...   \n",
       "\n",
       "                                             answers  \n",
       "0                    wymiana listów Ripka – Stroński  \n",
       "1  E. Beneš i J. Masaryk a Wł. Sikorski i E. Racz...  \n",
       "2                 podpisanie układu konfederacyjnego  \n",
       "3                                           E. Beneš  \n",
       "4                                  20 listopada 1942  "
      ]
     },
     "execution_count": 10,
     "metadata": {},
     "output_type": "execute_result"
    }
   ],
   "source": [
    "train_data_df = normalize_data(train_data_df)\n",
    "train_data_df.head()"
   ]
  },
  {
   "cell_type": "code",
   "execution_count": 11,
   "id": "4e9cc234-61a3-427a-8e57-74854450f888",
   "metadata": {},
   "outputs": [
    {
     "data": {
      "text/html": [
       "<div>\n",
       "<style scoped>\n",
       "    .dataframe tbody tr th:only-of-type {\n",
       "        vertical-align: middle;\n",
       "    }\n",
       "\n",
       "    .dataframe tbody tr th {\n",
       "        vertical-align: top;\n",
       "    }\n",
       "\n",
       "    .dataframe thead th {\n",
       "        text-align: right;\n",
       "    }\n",
       "</style>\n",
       "<table border=\"1\" class=\"dataframe\">\n",
       "  <thead>\n",
       "    <tr style=\"text-align: right;\">\n",
       "      <th></th>\n",
       "      <th>queries</th>\n",
       "      <th>context</th>\n",
       "      <th>answers</th>\n",
       "    </tr>\n",
       "  </thead>\n",
       "  <tbody>\n",
       "    <tr>\n",
       "      <th>0</th>\n",
       "      <td>Czym są pisma rabiniczne?</td>\n",
       "      <td>Pisma rabiniczne – w tym Miszna – stanowią kom...</td>\n",
       "      <td>kompilacją poglądów różnych rabinów na określo...</td>\n",
       "    </tr>\n",
       "    <tr>\n",
       "      <th>1</th>\n",
       "      <td>Z ilu komponentów składała się Tora przekazana...</td>\n",
       "      <td>Pisma rabiniczne – w tym Miszna – stanowią kom...</td>\n",
       "      <td>dwóch</td>\n",
       "    </tr>\n",
       "    <tr>\n",
       "      <th>2</th>\n",
       "      <td>W jakich formach występowała Tora przekazana M...</td>\n",
       "      <td>Pisma rabiniczne – w tym Miszna – stanowią kom...</td>\n",
       "      <td>pisanej, ustnej</td>\n",
       "    </tr>\n",
       "    <tr>\n",
       "      <th>3</th>\n",
       "      <td>W jakiej formie przekazana została Miszna?</td>\n",
       "      <td>Pisma rabiniczne – w tym Miszna – stanowią kom...</td>\n",
       "      <td>ustnej</td>\n",
       "    </tr>\n",
       "    <tr>\n",
       "      <th>4</th>\n",
       "      <td>Kto napisał Torę?</td>\n",
       "      <td>Pisma rabiniczne – w tym Miszna – stanowią kom...</td>\n",
       "      <td>Bóg</td>\n",
       "    </tr>\n",
       "  </tbody>\n",
       "</table>\n",
       "</div>"
      ],
      "text/plain": [
       "                                             queries  \\\n",
       "0                          Czym są pisma rabiniczne?   \n",
       "1  Z ilu komponentów składała się Tora przekazana...   \n",
       "2  W jakich formach występowała Tora przekazana M...   \n",
       "3         W jakiej formie przekazana została Miszna?   \n",
       "4                                  Kto napisał Torę?   \n",
       "\n",
       "                                             context  \\\n",
       "0  Pisma rabiniczne – w tym Miszna – stanowią kom...   \n",
       "1  Pisma rabiniczne – w tym Miszna – stanowią kom...   \n",
       "2  Pisma rabiniczne – w tym Miszna – stanowią kom...   \n",
       "3  Pisma rabiniczne – w tym Miszna – stanowią kom...   \n",
       "4  Pisma rabiniczne – w tym Miszna – stanowią kom...   \n",
       "\n",
       "                                             answers  \n",
       "0  kompilacją poglądów różnych rabinów na określo...  \n",
       "1                                              dwóch  \n",
       "2                                    pisanej, ustnej  \n",
       "3                                             ustnej  \n",
       "4                                                Bóg  "
      ]
     },
     "execution_count": 11,
     "metadata": {},
     "output_type": "execute_result"
    }
   ],
   "source": [
    "val_data_df = normalize_data(validation_data_df)\n",
    "val_data_df.head()"
   ]
  },
  {
   "cell_type": "markdown",
   "id": "ca300c19-79c7-4a8d-aa07-e90fa1f180c7",
   "metadata": {},
   "source": [
    "Unfortunately, test data is provided in different order. Therefore, I cannot use previous normalize_data function."
   ]
  },
  {
   "cell_type": "code",
   "execution_count": 12,
   "id": "aeb75923-eec4-491c-ac35-2d79911ad6d0",
   "metadata": {},
   "outputs": [],
   "source": [
    "test_data_df = pd.DataFrame(columns = ['queries', 'context', 'answers'])\n",
    "\n",
    "for query_id, row in test_relevant_df.iterrows():\n",
    "    try:\n",
    "        new_row = {\n",
    "            'queries': test_queries_df.loc[query_id]['text'],\n",
    "            'context': test_passages_df.loc[row['passage-id']]['text'],\n",
    "            'answers': test_answers_df.loc[query_id]['answer']\n",
    "        }\n",
    "    \n",
    "        test_data_df = pd.concat([test_data_df, pd.DataFrame([new_row])], ignore_index = True)\n",
    "    except:\n",
    "        pass"
   ]
  },
  {
   "cell_type": "markdown",
   "id": "6414c324-04d5-49b9-994d-ebaab907d48d",
   "metadata": {},
   "source": [
    "Below, are created functions responsible for conducting model evaluation."
   ]
  },
  {
   "cell_type": "code",
   "execution_count": 13,
   "id": "5db77df7-75a1-4427-8e55-2469397b6585",
   "metadata": {},
   "outputs": [],
   "source": [
    "def generate_answer(query: str, context: str) -> str:\n",
    "    tokens = tokenizer.encode(f'Query: {query}. Context: {context}', return_tensors = 'pt').to('cpu')\n",
    "    answer = model.generate(tokens, max_length = 1000, do_sample = True, top_p = 0.9, top_k = 50)\n",
    "    answer = tokenizer.decode(answer[0], skip_special_tokens = True)\n",
    "    return answer\n",
    "\n",
    "def normalize_answer(answer: str) -> str:\n",
    "    return ' '.join(re.sub(f'[{string.punctuation}]', '', answer.lower()).split())\n",
    "\n",
    "def exact_match(pred_answer: str, true_answer: str) -> bool:\n",
    "    return normalize_answer(pred_answer) == normalize_answer(true_answer)\n",
    "\n",
    "def f1_score(pred_answer: str, true_answer: str) -> float:\n",
    "    pred_answer_tokens = normalize_answer(pred_answer).split()\n",
    "    truth_answer_tokens = normalize_answer(true_answer).split()\n",
    "\n",
    "    same_tokens = Counter(pred_answer_tokens) & Counter(truth_answer_tokens)\n",
    "    same_tokens_sum = sum(same_tokens.values())\n",
    "    \n",
    "    precision = same_tokens_sum / len(pred_answer_tokens) if len(pred_answer_tokens) > 0 else 0\n",
    "    recall = same_tokens_sum / len(truth_answer_tokens) if len(truth_answer_tokens) > 0 else 0\n",
    "    \n",
    "    if precision == 0 and recall == 0:\n",
    "        return 0.0\n",
    "    \n",
    "    return (2 * precision * recall) / (precision + recall)\n",
    "\n",
    "def evaluate_model(data: pd.DataFrame) -> tuple[float, float]:\n",
    "    exact_matches, f1_scores = [], []\n",
    "    \n",
    "    for _, row in tqdm(data.iterrows(), desc = 'Evaluating'):\n",
    "        pred_answer = generate_answer(row['queries'], row['context'])\n",
    "        exact_matches.append(int(exact_match(pred_answer, row['answers'])))\n",
    "        f1_scores.append(f1_score(pred_answer, row['answers']))\n",
    "    \n",
    "    return np.mean(exact_matches), np.mean(f1_scores)"
   ]
  },
  {
   "cell_type": "code",
   "execution_count": 14,
   "id": "3b59e157-e5d1-46bd-a37b-d8e6dcce02c6",
   "metadata": {},
   "outputs": [
    {
     "name": "stderr",
     "output_type": "stream",
     "text": [
      "Evaluating: 680it [04:32,  2.50it/s]\n"
     ]
    }
   ],
   "source": [
    "test_exact_match, test_f1_score = evaluate_model(test_data_df)"
   ]
  },
  {
   "cell_type": "code",
   "execution_count": 15,
   "id": "125ff9b5-95b2-4e1e-9952-c869e9c933f3",
   "metadata": {},
   "outputs": [
    {
     "name": "stdout",
     "output_type": "stream",
     "text": [
      "Model performance for test dataset\n",
      "+---------------+------------+\n",
      "|   Exact match |   F1 score |\n",
      "+===============+============+\n",
      "|      0.252941 |     0.4415 |\n",
      "+---------------+------------+\n"
     ]
    }
   ],
   "source": [
    "print(f\"Model performance for test dataset\\n{tabulate([[test_exact_match, test_f1_score]], headers = ['Exact match', 'F1 score'], tablefmt = 'grid')}\")"
   ]
  },
  {
   "cell_type": "code",
   "execution_count": 16,
   "id": "9422698e-ccbe-4fd1-b765-732a3d11e3d5",
   "metadata": {},
   "outputs": [
    {
     "name": "stderr",
     "output_type": "stream",
     "text": [
      "Evaluating: 7060it [44:06,  2.67it/s]\n"
     ]
    }
   ],
   "source": [
    "val_exact_match, val_f1_score = evaluate_model(val_data_df)"
   ]
  },
  {
   "cell_type": "code",
   "execution_count": 17,
   "id": "53898e7b-d463-4969-b042-1b5e6a8fa04c",
   "metadata": {},
   "outputs": [
    {
     "name": "stdout",
     "output_type": "stream",
     "text": [
      "Model performance for validation dataset\n",
      "+---------------+------------+\n",
      "|   Exact match |   F1 score |\n",
      "+===============+============+\n",
      "|      0.506657 |    0.68258 |\n",
      "+---------------+------------+\n"
     ]
    }
   ],
   "source": [
    "print(f\"Model performance for validation dataset\\n{tabulate([[val_exact_match, val_f1_score]], headers = ['Exact match', 'F1 score'], tablefmt='grid')}\")"
   ]
  },
  {
   "cell_type": "markdown",
   "id": "94d6ccee-b2c0-4e0d-82c8-3ce66badeb7f",
   "metadata": {},
   "source": [
    "## Task 11"
   ]
  },
  {
   "cell_type": "markdown",
   "id": "971706b9-1fc0-481b-a13a-ccd42acd82c3",
   "metadata": {},
   "source": [
    "Generate, report and analyze the answers for at least 10 questions provided by the best model on you test dataset."
   ]
  },
  {
   "cell_type": "markdown",
   "id": "dbe44c87-96e4-41d3-b965-97fbcbba27de",
   "metadata": {},
   "source": [
    "I decided to generate 15 answers in the frame of this task. However, they will disappear if code is run again."
   ]
  },
  {
   "cell_type": "code",
   "execution_count": 20,
   "id": "4709ee16-3181-46b2-8d0f-15d2ab359096",
   "metadata": {},
   "outputs": [],
   "source": [
    "def print_queries_with_answers(data: pd.DataFrame, n: int) -> None:\n",
    "    for _, row in data.sample(n = n).iterrows():\n",
    "        pred_answer = generate_answer(row['queries'], row['context'])\n",
    "        print(f\"Query: {row['queries']}\")\n",
    "        print(f\"True answer: {row['answers']}\")\n",
    "        print(f\"Predicted answer: {pred_answer}\\n{'-' * 45}\")"
   ]
  },
  {
   "cell_type": "code",
   "execution_count": 32,
   "id": "d72e716e-71c9-4597-bac6-70b7d20298ff",
   "metadata": {},
   "outputs": [
    {
     "name": "stdout",
     "output_type": "stream",
     "text": [
      "Query: Kiedy artykuły spożywcze przywiezione z zagranicy mogą być objętą procedurą dopuszczenia do obrotu?\n",
      "True answer: Pod wpływem przeprowadzenia kontroli jakości\n",
      "Predicted answer: pod warunkiem przeprowadzenia kontroli jakości handlowej przez organ Inspekcji Jakości Handlowej Artykułów Rolno-Spożywczych i sporządzeniu protokołu z tej kontroli\n",
      "---------------------------------------------\n",
      "Query: Gdzie mogą być przekazywana zatrzymane żywe zwierzęta?\n",
      "True answer: do ogrodów botanicznych, ogrodów zoologicznych lub ośrodków rehabilitacji zwierząt\n",
      "Predicted answer: do ogrodów botanicznych, ogrodów zoologicznych lub ośrodków rehabilitacji zwierząt\n",
      "---------------------------------------------\n",
      "Query: Jakie dane obejmuje rejestr detektywów?\n",
      "True answer: imię i nazwisko, adres zamieszkania , numer licencji i datę jej wydania, datę zawieszenia lub cofnięcia licencji\n",
      "Predicted answer: imię i nazwisko, 2) adres zamieszkania, 3) numer licencji i datę jej wydania, 4) datę zawieszenia lub cofnięcia licencji\n",
      "---------------------------------------------\n",
      "Query: Jakie instytucje są organami dochodzenia w sprawach o przestępstwa skarbowe i wykroczenia?\n",
      "True answer: Straż Graniczna, Policja, Urząd Ochrony Państwa, Żandarmeria Wojskowa\n",
      "Predicted answer: Straż Graniczna i Policja\n",
      "---------------------------------------------\n",
      "Query: Kto wykonuje funkcje konsula?\n",
      "True answer: członek personelu dyplomatyczno-konsularnego, który złożył egzamin konsularny\n",
      "Predicted answer: członek personelu dyplomatyczno-konsularnego\n",
      "---------------------------------------------\n",
      "Query: Jakiej karze podlega osoba wybierająca jaja ptaków łownych?\n",
      "True answer: Taka osoba podlega karze grzywny lub nagany.\n",
      "Predicted answer: pozbawienia wolności do lat 5\n",
      "---------------------------------------------\n",
      "Query: W jaki sposób odpowiada sędzia za wykroczenia?\n",
      "True answer: za swoje postępowanie przed objęciem stanowiska jeżeli przez nie uchybił obowiązkowi piastowanego wówczas urzędu państwowego lub okazał się niegodnym urzędu sędziego\n",
      "Predicted answer: dyscyplinarnie\n",
      "---------------------------------------------\n",
      "Query: Czy żołnierze przy wykonaniu czynności służbowej nie muszą się przedstawiać?\n",
      "True answer: eie umundurowany funkcjonariusz jest obowiązany na żądanie obywatela, wobec którego wykonuje czynność służbową, okazać legitymację służbową\n",
      "Predicted answer: nie\n",
      "---------------------------------------------\n",
      "Query: Czy na rozprawie mogą być obecne osoby w stanie nie licującym z powagą sądu?\n",
      "True answer: nie\n",
      "Predicted answer: nie\n",
      "---------------------------------------------\n",
      "Query: Do czego jest obowiązany inspektor w przypadku, gdy w wyniku użycia broni palnej doszło do wyrządzenia szkody w mieniu?\n",
      "True answer: Inspektor jest obowiązany do zabezpieczenia śladów na miejscu zdarzenia i niedopuszczenia na to miejsce osób trzecich oraz jeżeli jest to możliwe, ustalenia świadków zdarzenia.\n",
      "Predicted answer: do zabezpieczenia śladów na miejscu zdarzenia i niedopuszczenia na to miejsce osób trzecich oraz jeżeli jest to możliwe \" ustalenia świadków zdarzenia\"\n",
      "---------------------------------------------\n",
      "Query: Co się stanie jeżeli nie zostanie uiszczona opłata dla wniosku patentowego?\n",
      "True answer: Urząd Patentowy wyda decyzję o odmowie udzielenia patentu.\n",
      "Predicted answer: decyzję o odmowie jego udzielenia\n",
      "---------------------------------------------\n",
      "Query: Od czego rozpoczyna się przewód sądowy?\n",
      "True answer: Postępowanie sądowe zaczyna się od chwili, gdy któraś ze stron złoży pozew albo gdy sąd samodzielnie wszcznie postępowanie.\n",
      "Predicted answer: ustnego sprawozdania\n",
      "---------------------------------------------\n",
      "Query: Czy udziałowcy mogą ponieść  odpowiedzialność za straty powstałe w banku?\n",
      "True answer: tak\n",
      "Predicted answer: nie\n",
      "---------------------------------------------\n",
      "Query: Czy w każdej gminie znajduje się wojewódzka biblioteka publiczna?\n",
      "True answer: Nie, nie w każdej gminie znajduje się wojewódzka biblioteka publiczna.\n",
      "Predicted answer: tak\n",
      "---------------------------------------------\n",
      "Query: Co grozi osobie, która prowadzi obrót detaliczny produktami leczniczymi weterynaryjnymi wydawanymi bez przepisu lekarza?\n",
      "True answer: podlega grzywnie, karze ograniczenia wolności albo pozbawienia wolności do roku\n",
      "Predicted answer: karę ograniczenia wolności albo pozbawienia wolności do roku\n",
      "---------------------------------------------\n"
     ]
    }
   ],
   "source": [
    "print_queries_with_answers(test_data_df, 15)"
   ]
  },
  {
   "cell_type": "markdown",
   "id": "12c5acbd-79b6-4d57-9b51-8f9ba4547f70",
   "metadata": {},
   "source": [
    "An analysis of these results is written under Question 2."
   ]
  },
  {
   "cell_type": "markdown",
   "id": "93aca32e-f5c4-4312-86ec-9d9c3531e79e",
   "metadata": {},
   "source": [
    "### Question 1"
   ]
  },
  {
   "cell_type": "markdown",
   "id": "be94a715-05e8-45a4-abbb-21156c7fd944",
   "metadata": {},
   "source": [
    "Does the performance on the validation dataset reflects the performance on your test set?"
   ]
  },
  {
   "cell_type": "markdown",
   "id": "c4b3e16f-7156-464b-a97e-2bd9d4159ee8",
   "metadata": {},
   "source": [
    "The performance on the validation dataset is better than the performance on the test set. This is particularly noticeable in the exact match scores, where the difference between the two scores is significant. Weaker performance was observed on the test dataset because it is specific to a single domain. Perhaps dataset size also played important role."
   ]
  },
  {
   "cell_type": "markdown",
   "id": "eddfb737-8ea1-419f-bb21-2561cc949974",
   "metadata": {},
   "source": [
    "### Question 2"
   ]
  },
  {
   "cell_type": "markdown",
   "id": "2b406e67-f9bc-40a4-a163-c7b6a2443c2c",
   "metadata": {},
   "source": [
    "What are the outcomes of the model on your test questions? Are they satisfying? If not, what might be the reason for that?"
   ]
  },
  {
   "cell_type": "markdown",
   "id": "b3c2a4dc-4292-48c0-a7b3-8a520cd0a2ce",
   "metadata": {},
   "source": [
    "Outcomes of the model differ a lot. ome of them are short answers, whereas the others are complex answers. It is worth to mention, that in 15 analyzed answers. I found 7 wrong or partially proper answers. There are many details to discuss so I am going to list them:\r\n",
    "\r\n",
    "- Jakie instytucje są organami dochodzenia w sprawach o przestępstwa skarbowe i wykroczenia? - for this query model returned 2 from 4 expected answers,\r\n",
    "- Jakiej karze podlega osoba wybierająca jaja ptaków łownych? - for this query model returned wrong answer, because the punishment is not 5 years of prison, but rather so called 'grzywna' or 'nagana',\r\n",
    "- W jaki sposób odpowiada sędzia za wykroczenia? - surprisingly model returned better answer than provided answer, because 'dyscyplinarnie' is an exact answers, whereas provided answer is not exactly an answer itself,\r\n",
    "- Od czego rozpoczyna się przewód sądowy? - model returned wrong answer,\r\n",
    "- Czy udziałowcy mogą ponieść  odpowiedzialność za straty powstałe w banku? - model returned wrong answer,\r\n",
    "- Czy w każdej gminie znajduje się wojewódzka biblioteka publiczna? - model returned wrong answer, comparing to provided answer and my general knowledge,\r\n",
    "- Co grozi osobie, która prowadzi obrót detaliczny produktami leczniczymi weterynaryjnymi wydawanymi bez przepisu lekarza? - model returned partially proper answer.\r\n",
    "\r\n",
    "Overall, I am satisfied with the outcomes, despite minor mistakes. Perhaps model parameters have impact on obtained results."
   ]
  },
  {
   "cell_type": "markdown",
   "id": "2b52f642-7d93-45f7-b9f5-75d98513d888",
   "metadata": {},
   "source": [
    "### Question 3"
   ]
  },
  {
   "cell_type": "markdown",
   "id": "f7555f8e-48a6-4ffa-a022-c01af5dfc626",
   "metadata": {},
   "source": [
    "Why extractive question answering is not well suited for inflectional languages?"
   ]
  },
  {
   "cell_type": "markdown",
   "id": "137be24c-98c8-4b34-9a3a-411e82e73473",
   "metadata": {},
   "source": [
    "Extractive question answering is not well suited for inflectional languages due to their complex word forms and extensive grammatical variations. In these languages, a single word can take many forms depending on its grammatical role. This variability makes aligning questions with answers in the text\n",
    "difficullt for extractive systems, because they rely on exact or near-exact keyword matching. As a result, direct keyword matching becomes unreliable."
   ]
  }
 ],
 "metadata": {
  "kernelspec": {
   "display_name": "nlp_venv",
   "language": "python",
   "name": "nlp_venv"
  },
  "language_info": {
   "codemirror_mode": {
    "name": "ipython",
    "version": 3
   },
   "file_extension": ".py",
   "mimetype": "text/x-python",
   "name": "python",
   "nbconvert_exporter": "python",
   "pygments_lexer": "ipython3",
   "version": "3.9.20"
  }
 },
 "nbformat": 4,
 "nbformat_minor": 5
}
