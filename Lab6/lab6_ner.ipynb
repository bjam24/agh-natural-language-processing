{
 "cells": [
  {
   "cell_type": "markdown",
   "id": "044117f5-69c7-4a48-a149-2b759c9a522e",
   "metadata": {},
   "source": [
    "# NLP Lab6 - Named Entity Recognition\n",
    "\n",
    "**Author: Bartłomiej Jamiołkowski**"
   ]
  },
  {
   "cell_type": "markdown",
   "id": "516548f9-e5a2-470b-825d-a22e1b2b779c",
   "metadata": {},
   "source": [
    "The exercise shows how we may extract elements such as names of companies, countries and similar objects from text."
   ]
  },
  {
   "cell_type": "code",
   "execution_count": 1,
   "id": "cf4b7e0b-d337-4bb7-9209-28b550600e21",
   "metadata": {},
   "outputs": [],
   "source": [
    "from datasets import load_dataset\n",
    "from typing import Sequence\n",
    "from collections import Counter\n",
    "import spacy\n",
    "import pandas as pd\n",
    "import numpy as np\n",
    "import seaborn as sns\n",
    "import matplotlib.pyplot as plt\n",
    "import matplotlib.colors as mcolors\n",
    "import warnings\n",
    "warnings.filterwarnings('ignore')"
   ]
  },
  {
   "cell_type": "markdown",
   "id": "7296b378-9945-4cd3-9125-de7fee91fa24",
   "metadata": {},
   "source": [
    "## Tasks 1 - 2"
   ]
  },
  {
   "cell_type": "markdown",
   "id": "05c3774c-cde8-40cc-952c-1f844ed43006",
   "metadata": {},
   "source": [
    "Read the API of [NER](https://spacy.io/api/entityrecognizer) in Spacy\n",
    "\n",
    "Take 1 thousand random passages from the FIQA-PL corpus."
   ]
  },
  {
   "cell_type": "code",
   "execution_count": 2,
   "id": "71235d78-5d77-486c-8e51-9f27c6760bb1",
   "metadata": {},
   "outputs": [],
   "source": [
    "fiqa_pl = load_dataset('clarin-knext/fiqa-pl', 'corpus')\n",
    "fiqa_pl_df = fiqa_pl['corpus'].to_pandas()"
   ]
  },
  {
   "cell_type": "code",
   "execution_count": 3,
   "id": "88194786-b9fb-43c8-a8e5-555349873240",
   "metadata": {},
   "outputs": [
    {
     "data": {
      "text/html": [
       "<div>\n",
       "<style scoped>\n",
       "    .dataframe tbody tr th:only-of-type {\n",
       "        vertical-align: middle;\n",
       "    }\n",
       "\n",
       "    .dataframe tbody tr th {\n",
       "        vertical-align: top;\n",
       "    }\n",
       "\n",
       "    .dataframe thead th {\n",
       "        text-align: right;\n",
       "    }\n",
       "</style>\n",
       "<table border=\"1\" class=\"dataframe\">\n",
       "  <thead>\n",
       "    <tr style=\"text-align: right;\">\n",
       "      <th></th>\n",
       "      <th>_id</th>\n",
       "      <th>title</th>\n",
       "      <th>text</th>\n",
       "    </tr>\n",
       "  </thead>\n",
       "  <tbody>\n",
       "    <tr>\n",
       "      <th>47702</th>\n",
       "      <td>495832</td>\n",
       "      <td></td>\n",
       "      <td>&gt;gdzie ekonomia keynesowska mówi, że nie ma po...</td>\n",
       "    </tr>\n",
       "    <tr>\n",
       "      <th>52674</th>\n",
       "      <td>547866</td>\n",
       "      <td></td>\n",
       "      <td>Zadałem to pytanie w innym subskrypcie, ale po...</td>\n",
       "    </tr>\n",
       "    <tr>\n",
       "      <th>8678</th>\n",
       "      <td>89519</td>\n",
       "      <td></td>\n",
       "      <td>Zmagam się z 0% zainteresowania rzeczami w moi...</td>\n",
       "    </tr>\n",
       "    <tr>\n",
       "      <th>54515</th>\n",
       "      <td>567763</td>\n",
       "      <td></td>\n",
       "      <td>prawie wszystkie związki chcą, aby biznes, w k...</td>\n",
       "    </tr>\n",
       "    <tr>\n",
       "      <th>42801</th>\n",
       "      <td>445461</td>\n",
       "      <td></td>\n",
       "      <td>Transport naziemny limuzyny (Limo Mia GT) Limu...</td>\n",
       "    </tr>\n",
       "  </tbody>\n",
       "</table>\n",
       "</div>"
      ],
      "text/plain": [
       "          _id title                                               text\n",
       "47702  495832        >gdzie ekonomia keynesowska mówi, że nie ma po...\n",
       "52674  547866        Zadałem to pytanie w innym subskrypcie, ale po...\n",
       "8678    89519        Zmagam się z 0% zainteresowania rzeczami w moi...\n",
       "54515  567763        prawie wszystkie związki chcą, aby biznes, w k...\n",
       "42801  445461        Transport naziemny limuzyny (Limo Mia GT) Limu..."
      ]
     },
     "execution_count": 3,
     "metadata": {},
     "output_type": "execute_result"
    }
   ],
   "source": [
    "random_passages_df = fiqa_pl_df.sample(n = 1000)\n",
    "random_passages_df.head()"
   ]
  },
  {
   "cell_type": "markdown",
   "id": "a671fcad-78ed-4de1-8e0a-47848b33dc88",
   "metadata": {},
   "source": [
    "## Task 3"
   ]
  },
  {
   "cell_type": "markdown",
   "id": "c6f9a8e7-e3e5-4e40-9a3e-011dbf6a6efc",
   "metadata": {},
   "source": [
    "Use the lemmatized and sentence split documents (using SpaCy API for [lemmatization](https://spacy.io/api/lemmatizer) and [sentence splitting](https://spacy.io/api/sentencizer)) to identify the expressions that consist of consecutive\r\n",
    "   words starting with a capital letter (you will have to look at the inflected form of the word to check its\r\n",
    "   capitalization) that do not occupy the first position in a sentence. E.g. the sentence:\r\n",
    "   ```\r\n",
    "   Wczoraj w Krakowie miało miejsce spotkanie prezydentów Polski i Stanów Zjednoczonych.\r\n",
    "   ```\r\n",
    "   should yield the following entries: `Kraków`, `Polska`, `Stan Zjednoczony`."
   ]
  },
  {
   "cell_type": "code",
   "execution_count": 4,
   "id": "6eac4e1c-60e6-4e38-b8a4-72e9552922ee",
   "metadata": {},
   "outputs": [],
   "source": [
    "polish_nlp = spacy.load('pl_core_news_sm')"
   ]
  },
  {
   "cell_type": "code",
   "execution_count": 5,
   "id": "13d0dafc-ab3a-4720-be1c-f54c0a8ad6b1",
   "metadata": {},
   "outputs": [],
   "source": [
    "def identify_lemmatized_capitalized_expressions(textual_data: Sequence[str]) -> list:\n",
    "    expressions = []\n",
    "    expression = ''\n",
    "    \n",
    "    for passage in polish_nlp.pipe(textual_data):\n",
    "        for sentence in passage.sents:\n",
    "            for token in sentence[1:]:\n",
    "                if token.text.istitle():\n",
    "                    if expression:\n",
    "                        expression += ' ' + token.lemma_\n",
    "                    else:\n",
    "                        expression = token.lemma_\n",
    "                \n",
    "                elif expression:\n",
    "                    lemmatized_tokens = [expression_token.lemma_ for expression_token in polish_nlp(expression)]\n",
    "                    \n",
    "                    if all(lemmatized_token.istitle() for lemmatized_token in lemmatized_tokens):\n",
    "                        expressions.append(expression)\n",
    "                    \n",
    "                    expression = ''\n",
    "\n",
    "    return expressions"
   ]
  },
  {
   "cell_type": "code",
   "execution_count": 6,
   "id": "4c971d37-6d0c-424f-8aa7-affe735d3328",
   "metadata": {},
   "outputs": [
    {
     "name": "stdout",
     "output_type": "stream",
     "text": [
      "Identified lemmatized capitalized expressions:['Kraków', 'Polska', 'Stany Zjednoczone']\n"
     ]
    }
   ],
   "source": [
    "sentence = 'Wczoraj w Krakowie miało miejsce spotkanie prezydentów Polski i Stanów Zjednoczonych.'\n",
    "print(f'Identified lemmatized capitalized expressions:{identify_lemmatized_capitalized_expressions([sentence])}')"
   ]
  },
  {
   "cell_type": "markdown",
   "id": "539043da-9caa-4e6b-b52e-52f94fecadb0",
   "metadata": {},
   "source": [
    "## Task 4"
   ]
  },
  {
   "cell_type": "markdown",
   "id": "1c007ee2-4207-4320-9521-d0a73a9027db",
   "metadata": {},
   "source": [
    "Compute the frequency of each identified expression and print 50 results with the largest number of occurrences."
   ]
  },
  {
   "cell_type": "code",
   "execution_count": 7,
   "id": "675c1e16-c78f-4382-a206-9cd71954e5bc",
   "metadata": {},
   "outputs": [],
   "source": [
    "full_random_passages_text = ' '.join(random_passages_df['text'])"
   ]
  },
  {
   "cell_type": "code",
   "execution_count": 8,
   "id": "4661d447-3302-4b2a-bce6-50cfa9e3d92c",
   "metadata": {},
   "outputs": [
    {
     "name": "stdout",
     "output_type": "stream",
     "text": [
      "[('Ciebie', 47), ('Roth', 45), ('Stany Zjednoczone', 28), ('K', 22), ('Google', 22), ('S&P', 21), ('Apple', 17), ('Indie', 17), ('Amazon', 16), ('Twojego', 16), ('Trump', 14), ('Twoją', 12), ('Twojej', 12), ('E', 12), ('B', 11), ('Internet', 10), ('Facebook', 9), ('Fed', 9), ('P', 9), ('Boeing', 9), ('Europa', 8), ('Miami', 7), ('Słowo', 7), ('Kalifornia', 7), ('S', 7), ('C', 7), ('Tesla', 7), ('Rosja', 7), ('Ameryka', 7), ('Yahoo', 7), ('Uber', 7), ('Limo Mia', 6), ('Cisco', 6), ('D', 6), ('Vanguard', 6), ('Oregon', 6), ('G', 6), ('Twoich', 5), ('Wikipedia', 5), ('Grecja', 5), ('Twitter', 5), ('China', 5), ('Rozszerzone', 5), ('Indianin', 5), ('Wall Street', 5), ('X', 5), ('Dubaj', 5), ('Rf', 5), ('Najważniejsze', 4), ('Pivot Point', 4)]\n"
     ]
    }
   ],
   "source": [
    "print(Counter(identify_lemmatized_capitalized_expressions([full_random_passages_text])).most_common(50))"
   ]
  },
  {
   "cell_type": "markdown",
   "id": "f89ad65b-1384-4940-94d8-05378b550947",
   "metadata": {},
   "source": [
    "## Task 5"
   ]
  },
  {
   "cell_type": "markdown",
   "id": "f03ca261-4d2d-46eb-8e1a-222cbed57a2e",
   "metadata": {},
   "source": [
    "Apply the NER from SpaCy to identify the named entities in the same set of documents."
   ]
  },
  {
   "cell_type": "code",
   "execution_count": 9,
   "id": "8c90a624-8a69-464d-b112-fdd0c0979ac6",
   "metadata": {},
   "outputs": [
    {
     "data": {
      "text/plain": [
       "[('keynesowska', 'placeName'),\n",
       " ('Paul Krugman', 'persName'),\n",
       " ('USA', 'placeName'),\n",
       " ('USA', 'placeName'),\n",
       " ('lipcu', 'date'),\n",
       " ('czerwcu', 'date'),\n",
       " ('latach 2010', 'date'),\n",
       " ('lipca 2011', 'date'),\n",
       " ('czerwca 2012', 'date'),\n",
       " ('lat 2010', 'date')]"
      ]
     },
     "execution_count": 9,
     "metadata": {},
     "output_type": "execute_result"
    }
   ],
   "source": [
    "named_entities = [(entity.text, entity.label_) for entity in polish_nlp(full_random_passages_text).ents]\n",
    "named_entities[:10]"
   ]
  },
  {
   "cell_type": "markdown",
   "id": "b28ac3f7-34df-443f-b4b9-a4f5460de6e6",
   "metadata": {},
   "source": [
    "## Task 6"
   ]
  },
  {
   "cell_type": "markdown",
   "id": "f9f43dd9-036f-4d30-bf9e-684ea182ff67",
   "metadata": {},
   "source": [
    "Plot the frequency (histogram) of the identified classes."
   ]
  },
  {
   "cell_type": "code",
   "execution_count": 10,
   "id": "d2cdff48-7e4d-4b31-b997-f57ab38cbc87",
   "metadata": {},
   "outputs": [
    {
     "data": {
      "image/png": "[encoded data removed]",
      "text/plain": [
       "<Figure size 640x480 with 1 Axes>"
      ]
     },
     "metadata": {},
     "output_type": "display_data"
    }
   ],
   "source": [
    "classes_counts = Counter([entity[1] for entity in named_entities])\n",
    "colors = plt.cm.plasma(np.linspace(0, 1, len(classes_counts)))\n",
    "\n",
    "plt.bar(classes_counts.keys(), classes_counts.values(), color = colors)\n",
    "plt.xlabel('Class')\n",
    "plt.ylabel('Frequency')\n",
    "plt.title(\"Frequency of the Identified Classes\")\n",
    "plt.xticks(rotation = 60)\n",
    "plt.tight_layout()\n",
    "plt.show()"
   ]
  },
  {
   "cell_type": "markdown",
   "id": "07c7513a-4733-4889-9fa7-76d8b86f8d39",
   "metadata": {},
   "source": [
    "## Task 7"
   ]
  },
  {
   "cell_type": "markdown",
   "id": "b91c3e94-92ae-4af6-89e6-982a6ba1db45",
   "metadata": {},
   "source": [
    "Display 10 most frequent Named Entities for each identified type."
   ]
  },
  {
   "cell_type": "code",
   "execution_count": 11,
   "id": "ec1f9e41-93ea-4bfb-8e60-08eaf67c938a",
   "metadata": {},
   "outputs": [],
   "source": [
    "def display_top_n_entities(n: int) -> None:\n",
    "    top_n_entities_df = pd.DataFrame(columns = list(classes_counts.keys()))\n",
    "\n",
    "    for entity_type in classes_counts.keys():\n",
    "        entities_per_type = list(filter(lambda entity: entity[1] == entity_type, named_entities))\n",
    "        entities_per_type = [entity[0] for entity in entities_per_type]\n",
    "        entities_per_type_counts = list(Counter(entities_per_type).most_common(n))\n",
    "\n",
    "        if len(entities_per_type_counts) != n:\n",
    "            entities_per_type_counts += [np.nan] * (n - len(entities_per_type_counts))\n",
    "        \n",
    "        top_n_entities_df[entity_type] = entities_per_type_counts\n",
    "    \n",
    "    display(top_n_entities_df)"
   ]
  },
  {
   "cell_type": "code",
   "execution_count": 12,
   "id": "626cec56-938b-49b7-9605-284c5e9c0118",
   "metadata": {},
   "outputs": [
    {
     "data": {
      "text/html": [
       "<div>\n",
       "<style scoped>\n",
       "    .dataframe tbody tr th:only-of-type {\n",
       "        vertical-align: middle;\n",
       "    }\n",
       "\n",
       "    .dataframe tbody tr th {\n",
       "        vertical-align: top;\n",
       "    }\n",
       "\n",
       "    .dataframe thead th {\n",
       "        text-align: right;\n",
       "    }\n",
       "</style>\n",
       "<table border=\"1\" class=\"dataframe\">\n",
       "  <thead>\n",
       "    <tr style=\"text-align: right;\">\n",
       "      <th></th>\n",
       "      <th>placeName</th>\n",
       "      <th>persName</th>\n",
       "      <th>date</th>\n",
       "      <th>geogName</th>\n",
       "      <th>orgName</th>\n",
       "      <th>time</th>\n",
       "    </tr>\n",
       "  </thead>\n",
       "  <tbody>\n",
       "    <tr>\n",
       "      <th>0</th>\n",
       "      <td>(USA, 58)</td>\n",
       "      <td>(Amazon, 22)</td>\n",
       "      <td>(1099, 11)</td>\n",
       "      <td>(Europy, 4)</td>\n",
       "      <td>(IRA, 57)</td>\n",
       "      <td>(10, 2)</td>\n",
       "    </tr>\n",
       "    <tr>\n",
       "      <th>1</th>\n",
       "      <td>(Massachusetts, 17)</td>\n",
       "      <td>(OP, 9)</td>\n",
       "      <td>(1040, 8)</td>\n",
       "      <td>(europejski, 3)</td>\n",
       "      <td>(Google, 25)</td>\n",
       "      <td>(30, 2)</td>\n",
       "    </tr>\n",
       "    <tr>\n",
       "      <th>2</th>\n",
       "      <td>(Wielkiej Brytanii, 16)</td>\n",
       "      <td>(salda, 9)</td>\n",
       "      <td>(10., 5)</td>\n",
       "      <td>(Wall Street, 3)</td>\n",
       "      <td>(Apple, 19)</td>\n",
       "      <td>(23, 2)</td>\n",
       "    </tr>\n",
       "    <tr>\n",
       "      <th>3</th>\n",
       "      <td>(Stanach Zjednoczonych, 15)</td>\n",
       "      <td>(Trump, 9)</td>\n",
       "      <td>(lipcu, 4)</td>\n",
       "      <td>(Azji, 2)</td>\n",
       "      <td>(Roth IRA, 19)</td>\n",
       "      <td>(południa, 1)</td>\n",
       "    </tr>\n",
       "    <tr>\n",
       "      <th>4</th>\n",
       "      <td>(Kalifornii, 13)</td>\n",
       "      <td>(Fed, 8)</td>\n",
       "      <td>(2000 roku, 4)</td>\n",
       "      <td>(Tesli, 2)</td>\n",
       "      <td>(ETF, 16)</td>\n",
       "      <td>(16, 1)</td>\n",
       "    </tr>\n",
       "    <tr>\n",
       "      <th>5</th>\n",
       "      <td>(Indiach, 10)</td>\n",
       "      <td>(gdybyś, 7)</td>\n",
       "      <td>(2013 r., 4)</td>\n",
       "      <td>(Afryki, 2)</td>\n",
       "      <td>(IRS, 13)</td>\n",
       "      <td>(25, 1)</td>\n",
       "    </tr>\n",
       "    <tr>\n",
       "      <th>6</th>\n",
       "      <td>(amerykańskie, 9)</td>\n",
       "      <td>(Trumpa, 6)</td>\n",
       "      <td>(2013 roku, 4)</td>\n",
       "      <td>(Ziemia, 2)</td>\n",
       "      <td>(HSA, 13)</td>\n",
       "      <td>(55, 1)</td>\n",
       "    </tr>\n",
       "    <tr>\n",
       "      <th>7</th>\n",
       "      <td>(Stany Zjednoczone, 9)</td>\n",
       "      <td>(Ehrlich, 6)</td>\n",
       "      <td>(10 maja, 4)</td>\n",
       "      <td>(Europie, 2)</td>\n",
       "      <td>(Roth, 13)</td>\n",
       "      <td>(65, 1)</td>\n",
       "    </tr>\n",
       "    <tr>\n",
       "      <th>8</th>\n",
       "      <td>(amerykańskim, 8)</td>\n",
       "      <td>(Vanguard, 5)</td>\n",
       "      <td>(1116, 4)</td>\n",
       "      <td>(McDonald's, 2)</td>\n",
       "      <td>(GBP, 12)</td>\n",
       "      <td>(50, 1)</td>\n",
       "    </tr>\n",
       "    <tr>\n",
       "      <th>9</th>\n",
       "      <td>(Chiny, 8)</td>\n",
       "      <td>(McDonalds, 5)</td>\n",
       "      <td>(wrześniu, 3)</td>\n",
       "      <td>(Stafford, 2)</td>\n",
       "      <td>(UE, 10)</td>\n",
       "      <td>(12., 1)</td>\n",
       "    </tr>\n",
       "  </tbody>\n",
       "</table>\n",
       "</div>"
      ],
      "text/plain": [
       "                     placeName        persName            date  \\\n",
       "0                    (USA, 58)    (Amazon, 22)      (1099, 11)   \n",
       "1          (Massachusetts, 17)         (OP, 9)       (1040, 8)   \n",
       "2      (Wielkiej Brytanii, 16)      (salda, 9)        (10., 5)   \n",
       "3  (Stanach Zjednoczonych, 15)      (Trump, 9)      (lipcu, 4)   \n",
       "4             (Kalifornii, 13)        (Fed, 8)  (2000 roku, 4)   \n",
       "5                (Indiach, 10)     (gdybyś, 7)    (2013 r., 4)   \n",
       "6            (amerykańskie, 9)     (Trumpa, 6)  (2013 roku, 4)   \n",
       "7       (Stany Zjednoczone, 9)    (Ehrlich, 6)    (10 maja, 4)   \n",
       "8            (amerykańskim, 8)   (Vanguard, 5)       (1116, 4)   \n",
       "9                   (Chiny, 8)  (McDonalds, 5)   (wrześniu, 3)   \n",
       "\n",
       "           geogName         orgName           time  \n",
       "0       (Europy, 4)       (IRA, 57)        (10, 2)  \n",
       "1   (europejski, 3)    (Google, 25)        (30, 2)  \n",
       "2  (Wall Street, 3)     (Apple, 19)        (23, 2)  \n",
       "3         (Azji, 2)  (Roth IRA, 19)  (południa, 1)  \n",
       "4        (Tesli, 2)       (ETF, 16)        (16, 1)  \n",
       "5       (Afryki, 2)       (IRS, 13)        (25, 1)  \n",
       "6       (Ziemia, 2)       (HSA, 13)        (55, 1)  \n",
       "7      (Europie, 2)      (Roth, 13)        (65, 1)  \n",
       "8   (McDonald's, 2)       (GBP, 12)        (50, 1)  \n",
       "9     (Stafford, 2)        (UE, 10)       (12., 1)  "
      ]
     },
     "metadata": {},
     "output_type": "display_data"
    }
   ],
   "source": [
    "display_top_n_entities(10)"
   ]
  },
  {
   "cell_type": "markdown",
   "id": "4741bb60-9a3b-4787-9137-3a9031e611a3",
   "metadata": {},
   "source": [
    "## Task 8"
   ]
  },
  {
   "cell_type": "markdown",
   "id": "c0f1f131-a199-4030-9ddc-bc5117cae834",
   "metadata": {},
   "source": [
    "Display 50 most frequent Named Entities including their count and type."
   ]
  },
  {
   "cell_type": "code",
   "execution_count": 13,
   "id": "b1b12ae0-9f5c-478f-ab99-2cd2ccd30bf1",
   "metadata": {},
   "outputs": [
    {
     "data": {
      "text/plain": [
       "[(('USA', 'placeName'), 58),\n",
       " (('IRA', 'orgName'), 57),\n",
       " (('Google', 'orgName'), 25),\n",
       " (('Amazon', 'persName'), 22),\n",
       " (('Apple', 'orgName'), 19),\n",
       " (('Roth IRA', 'orgName'), 19),\n",
       " (('Massachusetts', 'placeName'), 17),\n",
       " (('Wielkiej Brytanii', 'placeName'), 16),\n",
       " (('ETF', 'orgName'), 16),\n",
       " (('Stanach Zjednoczonych', 'placeName'), 15),\n",
       " (('IRS', 'orgName'), 13),\n",
       " (('Kalifornii', 'placeName'), 13),\n",
       " (('HSA', 'orgName'), 13),\n",
       " (('Roth', 'orgName'), 13),\n",
       " (('GBP', 'orgName'), 12),\n",
       " (('1099', 'date'), 11),\n",
       " (('Indiach', 'placeName'), 10),\n",
       " (('UE', 'orgName'), 10),\n",
       " (('OP', 'persName'), 9),\n",
       " (('salda', 'persName'), 9),\n",
       " (('amerykańskie', 'placeName'), 9),\n",
       " (('Trump', 'persName'), 9),\n",
       " (('Stany Zjednoczone', 'placeName'), 9),\n",
       " (('1040', 'date'), 8),\n",
       " (('amerykańskim', 'placeName'), 8),\n",
       " (('Chiny', 'placeName'), 8),\n",
       " (('amerykańskich', 'placeName'), 8),\n",
       " (('Fed', 'persName'), 8),\n",
       " (('Nowy Jork', 'placeName'), 8),\n",
       " (('Miami', 'placeName'), 7),\n",
       " (('HMRC', 'orgName'), 7),\n",
       " (('gdybyś', 'persName'), 7),\n",
       " (('NRO', 'orgName'), 7),\n",
       " (('amerykańskiego', 'placeName'), 7),\n",
       " (('GE', 'orgName'), 7),\n",
       " (('USDA', 'orgName'), 6),\n",
       " (('DTC', 'orgName'), 6),\n",
       " (('Nowym Jorku', 'placeName'), 6),\n",
       " (('Kanadzie', 'placeName'), 6),\n",
       " (('PE', 'orgName'), 6),\n",
       " (('Indii', 'placeName'), 6),\n",
       " (('APY', 'orgName'), 6),\n",
       " (('Amerykanów', 'placeName'), 6),\n",
       " (('Stanów Zjednoczonych', 'placeName'), 6),\n",
       " (('Trumpa', 'persName'), 6),\n",
       " (('Yahoo', 'orgName'), 6),\n",
       " (('Ehrlich', 'persName'), 6),\n",
       " (('10.', 'date'), 5),\n",
       " (('IRR', 'orgName'), 5),\n",
       " (('amerykański', 'placeName'), 5)]"
      ]
     },
     "execution_count": 13,
     "metadata": {},
     "output_type": "execute_result"
    }
   ],
   "source": [
    "top_50_named_entities = Counter([(entity.text, entity.label_) for entity in polish_nlp(full_random_passages_text).ents]).most_common(50)\n",
    "top_50_named_entities"
   ]
  },
  {
   "cell_type": "markdown",
   "id": "1b0d1327-342e-4418-9b2f-7cc38b08f4bc",
   "metadata": {},
   "source": [
    "## Task 9"
   ]
  },
  {
   "cell_type": "markdown",
   "id": "39bd62da-43d0-4a91-8f11-a474e10e34d3",
   "metadata": {},
   "source": [
    "Display 5 sentences containing at least 2 recognized named entities with different types. Highlight the recognized spans with color.  (For demo application [Streamlit](https://streamlit.io/) might be useful for displaying NER results)."
   ]
  },
  {
   "cell_type": "code",
   "execution_count": 14,
   "id": "00956356-684f-4d6e-ad87-809e973723ef",
   "metadata": {},
   "outputs": [],
   "source": [
    "options = {'colors': dict(zip(classes_counts.keys(), [mcolors.to_hex(c) for c in sns.color_palette('Pastel2', n_colors = len(classes_counts.keys()))]))}\n",
    "\n",
    "def display_sentences_with_many_entities(textual_data: Sequence[str], min_types: int, n: int) -> None:\n",
    "    stop_search = False\n",
    "    counter = 0\n",
    "    \n",
    "    for passage in textual_data:\n",
    "        for sentence in polish_nlp(passage).sents:\n",
    "            entity_types = set(entity.label_ for entity in sentence.ents)\n",
    "                \n",
    "            if len(entity_types) >= min_types:\n",
    "                spacy.displacy.render(sentence, style = 'ent', options = options, jupyter = True)\n",
    "                counter += 1\n",
    "\n",
    "            if counter == n:\n",
    "                stop_search = True\n",
    "                break\n",
    "\n",
    "        if stop_search:\n",
    "            break"
   ]
  },
  {
   "cell_type": "code",
   "execution_count": 15,
   "id": "f437d66a-b551-4441-9624-944f8d6471c8",
   "metadata": {},
   "outputs": [
    {
     "data": {
      "text/html": [
       "<span class=\"tex2jax_ignore\"><div class=\"entities\" style=\"line-height: 2.5; direction: ltr\">Transport naziemny limuzyny (Limo Mia GT) \n",
       "<mark class=\"entity\" style=\"background: #fdcdac; padding: 0.45em 0.6em; margin: 0 0.25em; line-height: 1; border-radius: 0.35em;\">\n",
       "    Limuzyna\n",
       "    <span style=\"font-size: 0.8em; font-weight: bold; line-height: 1; border-radius: 0.35em; vertical-align: middle; margin-left: 0.5rem\">persName</span>\n",
       "</mark>\n",
       " na lotnisku w \n",
       "<mark class=\"entity\" style=\"background: #b3e2cd; padding: 0.45em 0.6em; margin: 0 0.25em; line-height: 1; border-radius: 0.35em;\">\n",
       "    Miami\n",
       "    <span style=\"font-size: 0.8em; font-weight: bold; line-height: 1; border-radius: 0.35em; vertical-align: middle; margin-left: 0.5rem\">placeName</span>\n",
       "</mark>\n",
       " Specjaliści od transportu szoferami dla limuzyn na lotnisku w \n",
       "<mark class=\"entity\" style=\"background: #b3e2cd; padding: 0.45em 0.6em; margin: 0 0.25em; line-height: 1; border-radius: 0.35em;\">\n",
       "    Miami\n",
       "    <span style=\"font-size: 0.8em; font-weight: bold; line-height: 1; border-radius: 0.35em; vertical-align: middle; margin-left: 0.5rem\">placeName</span>\n",
       "</mark>\n",
       " i limuzyn na lotnisku \n",
       "<mark class=\"entity\" style=\"background: #f4cae4; padding: 0.45em 0.6em; margin: 0 0.25em; line-height: 1; border-radius: 0.35em;\">\n",
       "    Fort Lauderdale\n",
       "    <span style=\"font-size: 0.8em; font-weight: bold; line-height: 1; border-radius: 0.35em; vertical-align: middle; margin-left: 0.5rem\">geogName</span>\n",
       "</mark>\n",
       ", w Miami AirportTransportation. </div></span>"
      ],
      "text/plain": [
       "<IPython.core.display.HTML object>"
      ]
     },
     "metadata": {},
     "output_type": "display_data"
    },
    {
     "data": {
      "text/html": [
       "<span class=\"tex2jax_ignore\"><div class=\"entities\" style=\"line-height: 2.5; direction: ltr\">\n",
       "<mark class=\"entity\" style=\"background: #b3e2cd; padding: 0.45em 0.6em; margin: 0 0.25em; line-height: 1; border-radius: 0.35em;\">\n",
       "    Port\n",
       "    <span style=\"font-size: 0.8em; font-weight: bold; line-height: 1; border-radius: 0.35em; vertical-align: middle; margin-left: 0.5rem\">placeName</span>\n",
       "</mark>\n",
       " w \n",
       "<mark class=\"entity\" style=\"background: #b3e2cd; padding: 0.45em 0.6em; margin: 0 0.25em; line-height: 1; border-radius: 0.35em;\">\n",
       "    Miami\n",
       "    <span style=\"font-size: 0.8em; font-weight: bold; line-height: 1; border-radius: 0.35em; vertical-align: middle; margin-left: 0.5rem\">placeName</span>\n",
       "</mark>\n",
       " i \n",
       "<mark class=\"entity\" style=\"background: #f4cae4; padding: 0.45em 0.6em; margin: 0 0.25em; line-height: 1; border-radius: 0.35em;\">\n",
       "    Port Everglades\n",
       "    <span style=\"font-size: 0.8em; font-weight: bold; line-height: 1; border-radius: 0.35em; vertical-align: middle; margin-left: 0.5rem\">geogName</span>\n",
       "</mark>\n",
       ", Codzienna prywatna wycieczka, Spotkania firmowe, \n",
       "<mark class=\"entity\" style=\"background: #fdcdac; padding: 0.45em 0.6em; margin: 0 0.25em; line-height: 1; border-radius: 0.35em;\">\n",
       "    Roadshow\n",
       "    <span style=\"font-size: 0.8em; font-weight: bold; line-height: 1; border-radius: 0.35em; vertical-align: middle; margin-left: 0.5rem\">persName</span>\n",
       "</mark>\n",
       ", Spotkania dla kadry kierowniczej, </div></span>"
      ],
      "text/plain": [
       "<IPython.core.display.HTML object>"
      ]
     },
     "metadata": {},
     "output_type": "display_data"
    },
    {
     "data": {
      "text/html": [
       "<span class=\"tex2jax_ignore\"><div class=\"entities\" style=\"line-height: 2.5; direction: ltr\">\n",
       "<mark class=\"entity\" style=\"background: #e6f5c9; padding: 0.45em 0.6em; margin: 0 0.25em; line-height: 1; border-radius: 0.35em;\">\n",
       "    Miami Airport Car Services\n",
       "    <span style=\"font-size: 0.8em; font-weight: bold; line-height: 1; border-radius: 0.35em; vertical-align: middle; margin-left: 0.5rem\">orgName</span>\n",
       "</mark>\n",
       ", \n",
       "<mark class=\"entity\" style=\"background: #e6f5c9; padding: 0.45em 0.6em; margin: 0 0.25em; line-height: 1; border-radius: 0.35em;\">\n",
       "    Fort Lauderdale Airport Car Service Sedan\n",
       "    <span style=\"font-size: 0.8em; font-weight: bold; line-height: 1; border-radius: 0.35em; vertical-align: middle; margin-left: 0.5rem\">orgName</span>\n",
       "</mark>\n",
       ", \n",
       "<mark class=\"entity\" style=\"background: #f4cae4; padding: 0.45em 0.6em; margin: 0 0.25em; line-height: 1; border-radius: 0.35em;\">\n",
       "    Suv\n",
       "    <span style=\"font-size: 0.8em; font-weight: bold; line-height: 1; border-radius: 0.35em; vertical-align: middle; margin-left: 0.5rem\">geogName</span>\n",
       "</mark>\n",
       ", \n",
       "<mark class=\"entity\" style=\"background: #fdcdac; padding: 0.45em 0.6em; margin: 0 0.25em; line-height: 1; border-radius: 0.35em;\">\n",
       "    Passenger Van Group\n",
       "    <span style=\"font-size: 0.8em; font-weight: bold; line-height: 1; border-radius: 0.35em; vertical-align: middle; margin-left: 0.5rem\">persName</span>\n",
       "</mark>\n",
       " i \n",
       "<mark class=\"entity\" style=\"background: #fdcdac; padding: 0.45em 0.6em; margin: 0 0.25em; line-height: 1; border-radius: 0.35em;\">\n",
       "    Party\n",
       "    <span style=\"font-size: 0.8em; font-weight: bold; line-height: 1; border-radius: 0.35em; vertical-align: middle; margin-left: 0.5rem\">persName</span>\n",
       "</mark>\n",
       " limuzyny i limuzyny. </div></span>"
      ],
      "text/plain": [
       "<IPython.core.display.HTML object>"
      ]
     },
     "metadata": {},
     "output_type": "display_data"
    },
    {
     "data": {
      "text/html": [
       "<span class=\"tex2jax_ignore\"><div class=\"entities\" style=\"line-height: 2.5; direction: ltr\">Niezależnie od tego, czy podróżujesz sam, czy z grupą, \n",
       "<mark class=\"entity\" style=\"background: #fdcdac; padding: 0.45em 0.6em; margin: 0 0.25em; line-height: 1; border-radius: 0.35em;\">\n",
       "    Limo Mia GT\n",
       "    <span style=\"font-size: 0.8em; font-weight: bold; line-height: 1; border-radius: 0.35em; vertical-align: middle; margin-left: 0.5rem\">persName</span>\n",
       "</mark>\n",
       " bezpiecznie dowiezie Ciebie i Twoich gości do miejsca docelowego na czas limuzyną i limuzyną w \n",
       "<mark class=\"entity\" style=\"background: #b3e2cd; padding: 0.45em 0.6em; margin: 0 0.25em; line-height: 1; border-radius: 0.35em;\">\n",
       "    Miami\n",
       "    <span style=\"font-size: 0.8em; font-weight: bold; line-height: 1; border-radius: 0.35em; vertical-align: middle; margin-left: 0.5rem\">placeName</span>\n",
       "</mark>\n",
       ". </div></span>"
      ],
      "text/plain": [
       "<IPython.core.display.HTML object>"
      ]
     },
     "metadata": {},
     "output_type": "display_data"
    },
    {
     "data": {
      "text/html": [
       "<span class=\"tex2jax_ignore\"><div class=\"entities\" style=\"line-height: 2.5; direction: ltr\">Nie ma nic gorszego niż wytrzymanie długi lot i lądowanie w \n",
       "<mark class=\"entity\" style=\"background: #b3e2cd; padding: 0.45em 0.6em; margin: 0 0.25em; line-height: 1; border-radius: 0.35em;\">\n",
       "    Miami\n",
       "    <span style=\"font-size: 0.8em; font-weight: bold; line-height: 1; border-radius: 0.35em; vertical-align: middle; margin-left: 0.5rem\">placeName</span>\n",
       "</mark>\n",
       ", \n",
       "<mark class=\"entity\" style=\"background: #e6f5c9; padding: 0.45em 0.6em; margin: 0 0.25em; line-height: 1; border-radius: 0.35em;\">\n",
       "    Fort Lauderdale\n",
       "    <span style=\"font-size: 0.8em; font-weight: bold; line-height: 1; border-radius: 0.35em; vertical-align: middle; margin-left: 0.5rem\">orgName</span>\n",
       "</mark>\n",
       " tylko po to, by czekać w swojej notorycznie długiej kolejce taksówek lub czekać na wspólne przejazdy. </div></span>"
      ],
      "text/plain": [
       "<IPython.core.display.HTML object>"
      ]
     },
     "metadata": {},
     "output_type": "display_data"
    }
   ],
   "source": [
    "display_sentences_with_many_entities(random_passages_df['text'], 2, 5)"
   ]
  },
  {
   "cell_type": "markdown",
   "id": "5a13ac8c-364e-488d-8823-0abde68a17a0",
   "metadata": {},
   "source": [
    "## Questions"
   ]
  },
  {
   "cell_type": "markdown",
   "id": "53a8680d-ae13-4bb7-83c0-e4b5adbf2926",
   "metadata": {},
   "source": [
    "### Question 1"
   ]
  },
  {
   "cell_type": "markdown",
   "id": "3bccea6d-0a79-4eb4-b1fe-33b277cbc7df",
   "metadata": {},
   "source": [
    "Which of the method (counting expressions with capital letters vs. NER) worked better for the task concerned with identification of the proper names?"
   ]
  },
  {
   "cell_type": "markdown",
   "id": "b57e5bcd-2ad2-42a3-a7cf-89cc1c909f04",
   "metadata": {},
   "source": [
    "The NER method worked better for the task of identifying proper names. The obtained named entities were grouped, which made them easier to analyze. In contrast to the method of counting expressions with capital letters, it returned fewer examples that were not proper names e.g. 'Twojego', but they were too capitalized."
   ]
  },
  {
   "cell_type": "markdown",
   "id": "15f27c4d-c255-4b75-a08b-bb67e65b2a29",
   "metadata": {},
   "source": [
    "### Question 2"
   ]
  },
  {
   "cell_type": "markdown",
   "id": "dc8c9c6c-8a05-4e2c-9dc1-3602d63c34a3",
   "metadata": {},
   "source": [
    "What are the drawbacks of the method based on capital letters?"
   ]
  },
  {
   "cell_type": "markdown",
   "id": "be49a5ad-9091-49c4-9301-f3e9a7c7076f",
   "metadata": {},
   "source": [
    "The main disadvantage of the method based on capital letters is that it mistakenly identifies examples that are not named entities. This occurs in situations where the example is a polite phrase like 'Twojego.' What's more, if a named entity consists of lowercase characters, it can be split into two parts and therefore the original meaning is lost."
   ]
  },
  {
   "cell_type": "markdown",
   "id": "a1f5bf46-fa20-468c-9a4d-86f3ad14d2a5",
   "metadata": {},
   "source": [
    "### Question 3"
   ]
  },
  {
   "cell_type": "markdown",
   "id": "8370181c-cd9d-486d-814a-6f7b78109555",
   "metadata": {},
   "source": [
    "What are the drawbacks of the method based on NER?"
   ]
  },
  {
   "cell_type": "markdown",
   "id": "829862c2-4cb7-499f-a97e-7dcdf78f9e2c",
   "metadata": {},
   "source": [
    "The main disadvantage of the method based on NER is that it cannot deal with expressions with the same meaning, such as 'USA' and 'Stany Zjednoczone'. What's more, it incorrectly assigns expressions to classes."
   ]
  },
  {
   "cell_type": "markdown",
   "id": "6b87f7c6-7343-4f47-aeef-13736d9012f9",
   "metadata": {},
   "source": [
    "### Question 4"
   ]
  },
  {
   "cell_type": "markdown",
   "id": "05b014d0-be3c-45a7-bc71-32bb9e0410f3",
   "metadata": {},
   "source": [
    "Which of the coarse-grained NER groups has the best and which has the worst results? Try to justify this observation."
   ]
  },
  {
   "cell_type": "markdown",
   "id": "1fd6a126-4c6b-4d29-9a5a-960bfbf194a5",
   "metadata": {},
   "source": [
    "In my opinion, the obtained results do not allow me to draw conclusions without any doubts. By relying on the table created in task 7, I can say that the orgName group has the best results because all the provided names and shortcuts are indeed organization names. I suspect that there are so many organizations in the world identifying themselves with printed letters. On the other hand, there are groups with poor results, such as date or time, where NER could not distinguish between numbers, dates or times e.g. 1040 or 16 x 60."
   ]
  },
  {
   "cell_type": "markdown",
   "id": "c041aea8-765b-44d9-a54e-9d4b91f1b948",
   "metadata": {},
   "source": [
    "### Question 5"
   ]
  },
  {
   "cell_type": "markdown",
   "id": "3afa5d48-c112-4dcf-8ffe-9c122801ac25",
   "metadata": {},
   "source": [
    "Do you think NER is sufficient for identifying different occurrences of the same entity (i.e. consider \"USA\" and \"Stany Zjednoczone\" and \"Stany Zjednoczone Ameryki Północnej\")? If not, can you suggest an algorithm or a tool that would be able to group such names together?"
   ]
  },
  {
   "cell_type": "markdown",
   "id": "7021fd4f-5a1e-4270-b65e-5f28d39757cf",
   "metadata": {},
   "source": [
    "In my opinion, NER is insufficient for identifying different occurrences of the same entity because it does not inherently resolve different mentions to the same canonical entity. In such situations, I would like to recommend a tool called Named Entity Linking (NEL) that can group such names together. NEL extends NER by linking recognized entities to a knowledge base, for example by extending the spaCy pipeline with NEL or using other libraries."
   ]
  },
  {
   "cell_type": "markdown",
   "id": "db8fd08e-fcc3-466f-ac7a-b71a5ac75abb",
   "metadata": {},
   "source": [
    "### Question 6"
   ]
  },
  {
   "cell_type": "markdown",
   "id": "9c0216f3-b12e-40ad-9d81-35f6ceb33b4d",
   "metadata": {},
   "source": [
    "Can you think of a real world problem that would benefit the most from application of Named Entity Recognition algorithm?"
   ]
  },
  {
   "cell_type": "markdown",
   "id": "ad4f5aeb-6a18-4c69-b094-f9a12faf404e",
   "metadata": {},
   "source": [
    "From my perspective, Named Entity Recognition (NER) could be highly beneficial in trading, with numerous applications to consider. For example, NER could be combined with sentiment analysis to gauge market sentiment for specific companies or sectors. A case in point would be identifying negative sentiment about a company’s product, which could impact its stock price.\r\n",
    "\r\n",
    "Another idea is using NER to detect events that can serve as trading signals. Imagine an article about an upcoming natural disaster in an area where oil wells are located. A trading algorithm could interpret this information and generate a signal to anticipate market movements based on the potential impact on oil production and price.\n",
    ".\n",
    "\n",
    "\n"
   ]
  }
 ],
 "metadata": {
  "kernelspec": {
   "display_name": "nlp_venv",
   "language": "python",
   "name": "nlp_venv"
  },
  "language_info": {
   "codemirror_mode": {
    "name": "ipython",
    "version": 3
   },
   "file_extension": ".py",
   "mimetype": "text/x-python",
   "name": "python",
   "nbconvert_exporter": "python",
   "pygments_lexer": "ipython3",
   "version": "3.9.20"
  }
 },
 "nbformat": 4,
 "nbformat_minor": 5
}
