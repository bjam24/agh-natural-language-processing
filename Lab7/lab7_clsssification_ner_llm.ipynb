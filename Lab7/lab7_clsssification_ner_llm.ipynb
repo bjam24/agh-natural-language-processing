{
 "cells": [
  {
   "cell_type": "markdown",
   "id": "6bd1b783-95f8-41b8-a3c6-7032e634dd65",
   "metadata": {},
   "source": [
    "# NLP Lab7 - NER and Classification with LLMs\n",
    "\n",
    "**Author: Bartłomiej Jamiołkowski**"
   ]
  },
  {
   "cell_type": "markdown",
   "id": "9d45b73d-12fd-4a6f-9fef-2c2eb6f1bd75",
   "metadata": {},
   "source": [
    "The exercise demonstrates how to leverage Large Language Models for NER and text classification tasks, comparing their performance with traditional approaches."
   ]
  },
  {
   "cell_type": "code",
   "execution_count": 1,
   "id": "53242893-65fc-43ff-a218-c78355aa2aec",
   "metadata": {},
   "outputs": [],
   "source": [
    "from datasets import load_dataset\n",
    "from langchain.llms import Ollama\n",
    "from langchain import PromptTemplate, FewShotPromptTemplate\n",
    "from tqdm import tqdm\n",
    "\n",
    "import spacy\n",
    "import numpy as np\n",
    "import pandas as pd\n",
    "import matplotlib.pyplot as plt\n",
    "import regex as re\n",
    "import psutil\n",
    "import json\n",
    "import time\n",
    "\n",
    "import warnings\n",
    "warnings.filterwarnings('ignore')"
   ]
  },
  {
   "cell_type": "markdown",
   "id": "56418843-49bf-47c5-a877-db6f84b3da11",
   "metadata": {},
   "source": [
    "## Task 1"
   ]
  },
  {
   "cell_type": "markdown",
   "id": "b46924fa-e553-41bd-94ec-14bf81dfbf28",
   "metadata": {},
   "source": [
    "Install and configure [OLLama](https://ollama.com/) with an appropriate LLM model (e.g. models from: Llama, Mistral, Bielik, Phi families). Rather not use models above 10B paramters.\r\n",
    "Sample LLM run command, when OLLama is installed: `ollama run phi3:3.8b`"
   ]
  },
  {
   "cell_type": "code",
   "execution_count": 2,
   "id": "99836b71-6dda-43dc-a6fb-a09f0c9372c7",
   "metadata": {},
   "outputs": [],
   "source": [
    "ollama = Ollama(base_url = 'http://localhost:11434', model = 'gemma2')"
   ]
  },
  {
   "cell_type": "markdown",
   "id": "24c81578-2e97-435c-bd7c-9c9720745800",
   "metadata": {},
   "source": [
    "## Task 2"
   ]
  },
  {
   "cell_type": "markdown",
   "id": "c9c07b7b-e424-4c41-8c51-70367b265856",
   "metadata": {},
   "source": [
    "Take 1 thousand random passages from the FIQA-PL corpus. INFO: You can play with new dataset, but it will be necessary to create baseline results (next excersise)."
   ]
  },
  {
   "cell_type": "code",
   "execution_count": 3,
   "id": "02cead10-60fe-4563-ab73-c9f4ad9ae52e",
   "metadata": {},
   "outputs": [],
   "source": [
    "fiqa_pl = load_dataset('clarin-knext/fiqa-pl', 'corpus')\n",
    "fiqa_pl_df = fiqa_pl['corpus'].to_pandas()"
   ]
  },
  {
   "cell_type": "code",
   "execution_count": 4,
   "id": "b5a9fd14-4897-432c-8043-8f833005943d",
   "metadata": {},
   "outputs": [
    {
     "data": {
      "text/html": [
       "<div>\n",
       "<style scoped>\n",
       "    .dataframe tbody tr th:only-of-type {\n",
       "        vertical-align: middle;\n",
       "    }\n",
       "\n",
       "    .dataframe tbody tr th {\n",
       "        vertical-align: top;\n",
       "    }\n",
       "\n",
       "    .dataframe thead th {\n",
       "        text-align: right;\n",
       "    }\n",
       "</style>\n",
       "<table border=\"1\" class=\"dataframe\">\n",
       "  <thead>\n",
       "    <tr style=\"text-align: right;\">\n",
       "      <th></th>\n",
       "      <th>_id</th>\n",
       "      <th>text</th>\n",
       "    </tr>\n",
       "  </thead>\n",
       "  <tbody>\n",
       "    <tr>\n",
       "      <th>13320</th>\n",
       "      <td>137078</td>\n",
       "      <td>„Oto, co się wydarzy: w ostatniej chwili „odkr...</td>\n",
       "    </tr>\n",
       "    <tr>\n",
       "      <th>17674</th>\n",
       "      <td>182930</td>\n",
       "      <td>„Jak wcześniej odpowiedziałem, rozwiązaniem je...</td>\n",
       "    </tr>\n",
       "    <tr>\n",
       "      <th>41776</th>\n",
       "      <td>435060</td>\n",
       "      <td>„X-Post, do którego odwołuje się [/r/irstudies...</td>\n",
       "    </tr>\n",
       "    <tr>\n",
       "      <th>57613</th>\n",
       "      <td>599715</td>\n",
       "      <td>„To najlepszy tl;dr, jaki mogłem stworzyć, [or...</td>\n",
       "    </tr>\n",
       "    <tr>\n",
       "      <th>3784</th>\n",
       "      <td>39436</td>\n",
       "      <td>„Najbardziej podstawową odpowiedzią jest to, ż...</td>\n",
       "    </tr>\n",
       "  </tbody>\n",
       "</table>\n",
       "</div>"
      ],
      "text/plain": [
       "          _id                                               text\n",
       "13320  137078  „Oto, co się wydarzy: w ostatniej chwili „odkr...\n",
       "17674  182930  „Jak wcześniej odpowiedziałem, rozwiązaniem je...\n",
       "41776  435060  „X-Post, do którego odwołuje się [/r/irstudies...\n",
       "57613  599715  „To najlepszy tl;dr, jaki mogłem stworzyć, [or...\n",
       "3784    39436  „Najbardziej podstawową odpowiedzią jest to, ż..."
      ]
     },
     "execution_count": 4,
     "metadata": {},
     "output_type": "execute_result"
    }
   ],
   "source": [
    "random_passages_df = fiqa_pl_df.drop(columns = ['title']).sample(n = 1000)\n",
    "random_passages_df.head()"
   ]
  },
  {
   "cell_type": "markdown",
   "id": "3ec155ea-67ed-4083-b1b9-ec6f8d28a5bd",
   "metadata": {},
   "source": [
    "At this point, I am saving random passages in Parquet format because every time I run the notebook, I change the random passages. If I did not do that, I would constantly have to recreate the ground truth dataset."
   ]
  },
  {
   "cell_type": "code",
   "execution_count": 5,
   "id": "5fa0b8c9-594b-42b9-ad45-6f300e814078",
   "metadata": {},
   "outputs": [],
   "source": [
    "# random_passages_df.to_parquet('random_passages.parquet')"
   ]
  },
  {
   "cell_type": "code",
   "execution_count": 6,
   "id": "448dbb5e-5858-41fe-9df1-cbdf110d66a3",
   "metadata": {},
   "outputs": [
    {
     "data": {
      "text/html": [
       "<div>\n",
       "<style scoped>\n",
       "    .dataframe tbody tr th:only-of-type {\n",
       "        vertical-align: middle;\n",
       "    }\n",
       "\n",
       "    .dataframe tbody tr th {\n",
       "        vertical-align: top;\n",
       "    }\n",
       "\n",
       "    .dataframe thead th {\n",
       "        text-align: right;\n",
       "    }\n",
       "</style>\n",
       "<table border=\"1\" class=\"dataframe\">\n",
       "  <thead>\n",
       "    <tr style=\"text-align: right;\">\n",
       "      <th></th>\n",
       "      <th>_id</th>\n",
       "      <th>text</th>\n",
       "    </tr>\n",
       "  </thead>\n",
       "  <tbody>\n",
       "    <tr>\n",
       "      <th>17601</th>\n",
       "      <td>182065</td>\n",
       "      <td>Przykro z powodu twojej straty. Jeśli pieniądz...</td>\n",
       "    </tr>\n",
       "    <tr>\n",
       "      <th>36684</th>\n",
       "      <td>381489</td>\n",
       "      <td>Och, więc nienawidzę biednych, bo chcę tworzyć...</td>\n",
       "    </tr>\n",
       "    <tr>\n",
       "      <th>15623</th>\n",
       "      <td>161155</td>\n",
       "      <td>Czy zasada prania ma do tego zastosowanie? Nie...</td>\n",
       "    </tr>\n",
       "    <tr>\n",
       "      <th>10665</th>\n",
       "      <td>109837</td>\n",
       "      <td>„hahah” „Delta nazwała 737-7 MAX nieekonomiczn...</td>\n",
       "    </tr>\n",
       "    <tr>\n",
       "      <th>15566</th>\n",
       "      <td>160611</td>\n",
       "      <td>Tylko do Twojej wiadomości z korzyścią dla prz...</td>\n",
       "    </tr>\n",
       "  </tbody>\n",
       "</table>\n",
       "</div>"
      ],
      "text/plain": [
       "          _id                                               text\n",
       "17601  182065  Przykro z powodu twojej straty. Jeśli pieniądz...\n",
       "36684  381489  Och, więc nienawidzę biednych, bo chcę tworzyć...\n",
       "15623  161155  Czy zasada prania ma do tego zastosowanie? Nie...\n",
       "10665  109837  „hahah” „Delta nazwała 737-7 MAX nieekonomiczn...\n",
       "15566  160611  Tylko do Twojej wiadomości z korzyścią dla prz..."
      ]
     },
     "execution_count": 6,
     "metadata": {},
     "output_type": "execute_result"
    }
   ],
   "source": [
    "random_passages_df = pd.read_parquet('random_passages.parquet')\n",
    "random_passages_df.head()"
   ]
  },
  {
   "cell_type": "markdown",
   "id": "abc38ae0-a4cb-4153-b00c-13749d242852",
   "metadata": {},
   "source": [
    "## Task 3"
   ]
  },
  {
   "cell_type": "markdown",
   "id": "d91b42e5-a653-42bb-986b-3ab165fb9566",
   "metadata": {},
   "source": [
    "As baseline use traditional NER methods from lab 7 - SpaCy."
   ]
  },
  {
   "cell_type": "code",
   "execution_count": 7,
   "id": "53a245d9-a6df-449c-9f31-5ee17cc322db",
   "metadata": {},
   "outputs": [],
   "source": [
    "polish_nlp = spacy.load('pl_core_news_sm')"
   ]
  },
  {
   "cell_type": "code",
   "execution_count": 8,
   "id": "f6283267-fdea-40c9-9eb1-d677a941c780",
   "metadata": {},
   "outputs": [],
   "source": [
    "full_random_passages_text_20 = ' '.join(random_passages_df['text'][:20])"
   ]
  },
  {
   "cell_type": "markdown",
   "id": "a77b795c-975d-4b2b-bca5-1707ad88919f",
   "metadata": {},
   "source": [
    "At this part of the laboratory, I have to refer to **Task 7**, because I need to start calculating and gathering performance metrics such as accuracy, speed and resource usage. Therefore, I am going to: manually annotate 20 passages for ground truth, create a function to calculate memory usage and implement time measurement."
   ]
  },
  {
   "cell_type": "code",
   "execution_count": 9,
   "id": "b30cf772-fe98-412d-b72f-2e619f543603",
   "metadata": {},
   "outputs": [],
   "source": [
    "ground_truth = [{'entity': '30 dni', 'category': 'time'}, {'entity': 'Delta', 'category': 'orgName'}, {'entity': 'kanadyjskim', 'category': 'placeName'},\n",
    "                {'entity': 'Sears', 'category': 'orgName'}, {'entity': 'Kanadzie', 'category': 'placeName'}, {'entity': 'Sears', 'category': 'orgName'},\n",
    "                {'entity': 'ostatnich trzech lat', 'category': 'time'}, {'entity': 'Sears', 'category': 'orgName'},\n",
    "                {'entity': 'SEC', 'category': 'orgName'}, {'entity': 'Dwuletni', 'category': 'time'}, {'entity': 'Group Homes', 'category': 'orgName'},\n",
    "                {'entity': 'Halfway Homes', 'category': 'orgName'}, {'entity': 'ICF / MR Homes', 'category': 'orgName'}, \n",
    "                {'entity': ' Disability Homes', 'category': 'orgName'}, {'entity': 'rocznie', 'category': 'time'}, \n",
    "                {'entity': 'Searsa', 'category': 'orgName'}, {'entity': 'Amazon', 'category': 'orgName'}, {'entity': 'w ciągu roku', 'category': 'time'},\n",
    "                {'entity': 'Kansas', 'category': 'placeName'}, {'entity': 'BA (Executive Club)', 'category': 'orgName'}, \n",
    "                {'entity': 'Air Berlin', 'category': 'orgName'}, {'entity': 'American Airlines', 'category': 'orgName'}, \n",
    "                {'entity': 'Iberia', 'category': 'orgName'}, {'entity': 'USA', 'category': 'placeName'}, {'entity': 'UE', 'category': 'orgName'}, \n",
    "                {'entity': 'BA', 'category': 'orgName'}, {'entity': 'American Airlines', 'category': 'orgName'}, \n",
    "                {'entity': 'USA', 'category': 'placeName'}, {'entity': 'Qantas', 'category': 'orgName'}, \n",
    "                {'entity': 'Daleki Wschód', 'category': 'geogName'}, {'entity': 'BA', 'category': 'orgName'}, {'entity': 'IRS', 'category': 'orgName'},\n",
    "                {'entity': 'rok podatkowy', 'category': 'time'}, {'entity': 'roku podatkowego', 'category': 'time'}, \n",
    "                {'entity': 'rok kalendarzowy', 'category': 'time'}, {'entity': '500', 'category': 'time'}, \n",
    "                {'entity': '100 lat temu', 'category': 'time'}, {'entity': '100-500 lat', 'category': 'time'}, \n",
    "                {'entity': 'ostatnich 100 latach', 'category': 'time'}, {'entity': 'ostatnich 30-40 latach', 'category': 'time'}]"
   ]
  },
  {
   "cell_type": "code",
   "execution_count": 10,
   "id": "2d4450e9-8433-4e95-b2d9-f8e5a5d82b66",
   "metadata": {},
   "outputs": [],
   "source": [
    "def find_start_end_indices(ner_json, fulltext):\n",
    "    ner_json_with_indices = []\n",
    "    current_index = 0\n",
    "\n",
    "    for entity_dict in ner_json:\n",
    "        start_char = fulltext.find(entity_dict['entity'], current_index)\n",
    "        updated_entity_dict = entity_dict.copy()\n",
    "\n",
    "        if start_char == -1:\n",
    "            updated_entity_dict['start_char'] = np.nan\n",
    "            updated_entity_dict['end_char'] = np.nan\n",
    "        else:\n",
    "            end_char = start_char + len(entity_dict['entity'])\n",
    "            updated_entity_dict['start_char'] = start_char\n",
    "            updated_entity_dict['end_char'] = end_char\n",
    "            current_index = end_char\n",
    "\n",
    "        ner_json_with_indices.append(updated_entity_dict)\n",
    "\n",
    "    return ner_json_with_indices"
   ]
  },
  {
   "cell_type": "code",
   "execution_count": 11,
   "id": "950efc8b-34fa-4859-9558-f454e9be5cc0",
   "metadata": {},
   "outputs": [
    {
     "name": "stdout",
     "output_type": "stream",
     "text": [
      "[{'entity': '30 dni', 'category': 'time', 'start_char': 888, 'end_char': 894}, {'entity': 'Delta', 'category': 'orgName', 'start_char': 976, 'end_char': 981}, {'entity': 'kanadyjskim', 'category': 'placeName', 'start_char': 1174, 'end_char': 1185}, {'entity': 'Sears', 'category': 'orgName', 'start_char': 2454, 'end_char': 2459}, {'entity': 'Kanadzie', 'category': 'placeName', 'start_char': 2528, 'end_char': 2536}, {'entity': 'Sears', 'category': 'orgName', 'start_char': 2596, 'end_char': 2601}, {'entity': 'ostatnich trzech lat', 'category': 'time', 'start_char': 2663, 'end_char': 2683}, {'entity': 'Sears', 'category': 'orgName', 'start_char': 2713, 'end_char': 2718}, {'entity': 'SEC', 'category': 'orgName', 'start_char': 3623, 'end_char': 3626}, {'entity': 'Dwuletni', 'category': 'time', 'start_char': 3900, 'end_char': 3908}, {'entity': 'Group Homes', 'category': 'orgName', 'start_char': 4106, 'end_char': 4117}, {'entity': 'Halfway Homes', 'category': 'orgName', 'start_char': 4119, 'end_char': 4132}, {'entity': 'ICF / MR Homes', 'category': 'orgName', 'start_char': 4134, 'end_char': 4148}, {'entity': ' Disability Homes', 'category': 'orgName', 'start_char': 4149, 'end_char': 4166}, {'entity': 'rocznie', 'category': 'time', 'start_char': 4820, 'end_char': 4827}, {'entity': 'Searsa', 'category': 'orgName', 'start_char': 7211, 'end_char': 7217}, {'entity': 'Amazon', 'category': 'orgName', 'start_char': 7454, 'end_char': 7460}, {'entity': 'w ciągu roku', 'category': 'time', 'start_char': 7690, 'end_char': 7702}, {'entity': 'Kansas', 'category': 'placeName', 'start_char': 8327, 'end_char': 8333}, {'entity': 'BA (Executive Club)', 'category': 'orgName', 'start_char': 8680, 'end_char': 8699}, {'entity': 'Air Berlin', 'category': 'orgName', 'start_char': 8844, 'end_char': 8854}, {'entity': 'American Airlines', 'category': 'orgName', 'start_char': 8856, 'end_char': 8873}, {'entity': 'Iberia', 'category': 'orgName', 'start_char': 8876, 'end_char': 8882}, {'entity': 'USA', 'category': 'placeName', 'start_char': 9010, 'end_char': 9013}, {'entity': 'UE', 'category': 'orgName', 'start_char': 9016, 'end_char': 9018}, {'entity': 'BA', 'category': 'orgName', 'start_char': 9039, 'end_char': 9041}, {'entity': 'American Airlines', 'category': 'orgName', 'start_char': 9208, 'end_char': 9225}, {'entity': 'USA', 'category': 'placeName', 'start_char': 9252, 'end_char': 9255}, {'entity': 'Qantas', 'category': 'orgName', 'start_char': 9261, 'end_char': 9267}, {'entity': 'Daleki Wschód', 'category': 'geogName', 'start_char': 9290, 'end_char': 9303}, {'entity': 'BA', 'category': 'orgName', 'start_char': 9524, 'end_char': 9526}, {'entity': 'IRS', 'category': 'orgName', 'start_char': 9789, 'end_char': 9792}, {'entity': 'rok podatkowy', 'category': 'time', 'start_char': 9803, 'end_char': 9816}, {'entity': 'roku podatkowego', 'category': 'time', 'start_char': 9973, 'end_char': 9989}, {'entity': 'rok kalendarzowy', 'category': 'time', 'start_char': 10001, 'end_char': 10017}, {'entity': '500', 'category': 'time', 'start_char': 11240, 'end_char': 11243}, {'entity': '100 lat temu', 'category': 'time', 'start_char': 11254, 'end_char': 11266}, {'entity': '100-500 lat', 'category': 'time', 'start_char': 11274, 'end_char': 11285}, {'entity': 'ostatnich 100 latach', 'category': 'time', 'start_char': 11329, 'end_char': 11349}, {'entity': 'ostatnich 30-40 latach', 'category': 'time', 'start_char': 11359, 'end_char': 11381}]\n"
     ]
    }
   ],
   "source": [
    "ground_truth = find_start_end_indices(ground_truth, full_random_passages_text_20)\n",
    "print(ground_truth)"
   ]
  },
  {
   "cell_type": "markdown",
   "id": "3d3f9728-b5dd-448e-be06-5902543f476b",
   "metadata": {},
   "source": [
    "The above list of tuples contains the first 20 manually annotated passages from random texts. I carefully studied each sentence with the assistance of an LLM to avoid human errors."
   ]
  },
  {
   "cell_type": "code",
   "execution_count": 12,
   "id": "f59502cb-9dfe-4e35-832b-741d4569a8a6",
   "metadata": {},
   "outputs": [
    {
     "data": {
      "text/html": [
       "<div>\n",
       "<style scoped>\n",
       "    .dataframe tbody tr th:only-of-type {\n",
       "        vertical-align: middle;\n",
       "    }\n",
       "\n",
       "    .dataframe tbody tr th {\n",
       "        vertical-align: top;\n",
       "    }\n",
       "\n",
       "    .dataframe thead th {\n",
       "        text-align: right;\n",
       "    }\n",
       "</style>\n",
       "<table border=\"1\" class=\"dataframe\">\n",
       "  <thead>\n",
       "    <tr style=\"text-align: right;\">\n",
       "      <th></th>\n",
       "      <th>entity_true</th>\n",
       "      <th>label_true</th>\n",
       "      <th>start_char</th>\n",
       "      <th>end_char</th>\n",
       "    </tr>\n",
       "  </thead>\n",
       "  <tbody>\n",
       "    <tr>\n",
       "      <th>0</th>\n",
       "      <td>30 dni</td>\n",
       "      <td>time</td>\n",
       "      <td>888</td>\n",
       "      <td>894</td>\n",
       "    </tr>\n",
       "    <tr>\n",
       "      <th>1</th>\n",
       "      <td>Delta</td>\n",
       "      <td>orgName</td>\n",
       "      <td>976</td>\n",
       "      <td>981</td>\n",
       "    </tr>\n",
       "    <tr>\n",
       "      <th>2</th>\n",
       "      <td>kanadyjskim</td>\n",
       "      <td>placeName</td>\n",
       "      <td>1174</td>\n",
       "      <td>1185</td>\n",
       "    </tr>\n",
       "    <tr>\n",
       "      <th>3</th>\n",
       "      <td>Sears</td>\n",
       "      <td>orgName</td>\n",
       "      <td>2454</td>\n",
       "      <td>2459</td>\n",
       "    </tr>\n",
       "    <tr>\n",
       "      <th>4</th>\n",
       "      <td>Kanadzie</td>\n",
       "      <td>placeName</td>\n",
       "      <td>2528</td>\n",
       "      <td>2536</td>\n",
       "    </tr>\n",
       "  </tbody>\n",
       "</table>\n",
       "</div>"
      ],
      "text/plain": [
       "   entity_true label_true  start_char  end_char\n",
       "0       30 dni       time         888       894\n",
       "1        Delta    orgName         976       981\n",
       "2  kanadyjskim  placeName        1174      1185\n",
       "3        Sears    orgName        2454      2459\n",
       "4     Kanadzie  placeName        2528      2536"
      ]
     },
     "execution_count": 12,
     "metadata": {},
     "output_type": "execute_result"
    }
   ],
   "source": [
    "ground_truth_df = pd.DataFrame(ground_truth).rename(columns = {'entity': 'entity_true', 'category': 'label_true'})\n",
    "ground_truth_df.head()"
   ]
  },
  {
   "cell_type": "markdown",
   "id": "7332c164-af3a-48d0-8295-b0612f73cb1e",
   "metadata": {},
   "source": [
    "I am going to use this list in evaluation function created from scratch. I enhance evaluation approach known as: 'Strict Evaluation Method' theoretically desribed in this [Medium article](https://rumn.medium.com/nervaluate-the-ultimate-way-for-benchmarking-ner-models-b29e83fbae95). This approach is very strict, meaning that a result is marked as correct (COR) only, when all entities and labels are the same. Therefore, I do not expect high accuracies."
   ]
  },
  {
   "cell_type": "code",
   "execution_count": 13,
   "id": "0df57ded-21dc-4449-8479-c2d469fbb3cf",
   "metadata": {},
   "outputs": [],
   "source": [
    "def strict_evaluation_ner(ground_truth_df: pd.DataFrame, predictions_df: pd.DataFrame) -> dict:\n",
    "    evaluation_df = pd.merge(\n",
    "        ground_truth_df, \n",
    "        predictions_df,\n",
    "        left_on = ['start_char', 'end_char'], \n",
    "        right_on = ['start_char', 'end_char'], \n",
    "        how = 'outer').sort_values(by = 'start_char').drop(columns = ['start_char', 'end_char'])\n",
    "\n",
    "    display(evaluation_df.head())\n",
    "    \n",
    "    metrics = {'COR': 0, 'INC': 0, 'MIS': 0, 'SPU': 0, 'POS': 0, 'ACT': 0, 'Precision': None, 'Recall': None, 'F1': None}\n",
    "\n",
    "    for _, row in evaluation_df.iterrows():\n",
    "        if row['entity_true'] == row['entity_pred'] and row['label_true'] == row['label_pred']:\n",
    "            metrics['COR'] += 1\n",
    "        elif pd.isna(row['entity_true']) and pd.isna(row['label_true']):\n",
    "            metrics['SPU'] += 1\n",
    "        elif pd.isna(row['entity_pred']) or pd.isna(row['label_pred']):\n",
    "            metrics['MIS'] += 1\n",
    "        else:\n",
    "            metrics['INC'] += 1\n",
    "\n",
    "    metrics['POS'] = metrics['COR'] + metrics['INC'] + metrics['MIS']\n",
    "    metrics['ACT'] = metrics['COR'] + metrics['INC'] + metrics['SPU']\n",
    "    metrics['Precision'] = metrics['COR'] / metrics['ACT']\n",
    "    metrics['Recall'] = metrics['COR'] / metrics['POS']\n",
    "    metrics['F1'] = 2 * metrics['Precision'] * metrics['Recall'] / (metrics['Precision'] + metrics['Recall'])\n",
    "    \n",
    "    return metrics"
   ]
  },
  {
   "cell_type": "markdown",
   "id": "d5f57e7a-2baa-4fde-8c20-829d7fba559a",
   "metadata": {},
   "source": [
    "Below is an implemented function that returns the measured memory usage in KB."
   ]
  },
  {
   "cell_type": "code",
   "execution_count": 14,
   "id": "e581efe5-7643-420b-aa2c-5d195e09166d",
   "metadata": {},
   "outputs": [],
   "source": [
    "def memory_usage():\n",
    "    process = psutil.Process()\n",
    "    return process.memory_info().rss / 1024"
   ]
  },
  {
   "cell_type": "markdown",
   "id": "f919aa48-d550-427a-b476-11068a210cb7",
   "metadata": {},
   "source": [
    "First, Taditional NER (SpaCy) speed and memory usage are measured."
   ]
  },
  {
   "cell_type": "code",
   "execution_count": 83,
   "id": "d0fc47c7-8c21-4048-9d52-0e6c3ae2d6ed",
   "metadata": {},
   "outputs": [],
   "source": [
    "start_time = time.time()\n",
    "start_memory = memory_usage()\n",
    "named_entities_spacy = [{'entity': entity.text, 'category': entity.label_} for entity in polish_nlp(full_random_passages_text_20).ents]\n",
    "end_memory = memory_usage()\n",
    "end_time = time.time()\n",
    "\n",
    "total_time = end_time - start_time\n",
    "used_memory = end_memory - start_memory"
   ]
  },
  {
   "cell_type": "code",
   "execution_count": 84,
   "id": "e2bcd543-13ed-425b-b8c4-e7ff10f1b47c",
   "metadata": {},
   "outputs": [
    {
     "data": {
      "text/html": [
       "<div>\n",
       "<style scoped>\n",
       "    .dataframe tbody tr th:only-of-type {\n",
       "        vertical-align: middle;\n",
       "    }\n",
       "\n",
       "    .dataframe tbody tr th {\n",
       "        vertical-align: top;\n",
       "    }\n",
       "\n",
       "    .dataframe thead th {\n",
       "        text-align: right;\n",
       "    }\n",
       "</style>\n",
       "<table border=\"1\" class=\"dataframe\">\n",
       "  <thead>\n",
       "    <tr style=\"text-align: right;\">\n",
       "      <th></th>\n",
       "      <th>entity_pred</th>\n",
       "      <th>label_pred</th>\n",
       "      <th>start_char</th>\n",
       "      <th>end_char</th>\n",
       "    </tr>\n",
       "  </thead>\n",
       "  <tbody>\n",
       "    <tr>\n",
       "      <th>0</th>\n",
       "      <td>Sears</td>\n",
       "      <td>placeName</td>\n",
       "      <td>2454</td>\n",
       "      <td>2459</td>\n",
       "    </tr>\n",
       "    <tr>\n",
       "      <th>1</th>\n",
       "      <td>Kanadzie</td>\n",
       "      <td>placeName</td>\n",
       "      <td>2528</td>\n",
       "      <td>2536</td>\n",
       "    </tr>\n",
       "    <tr>\n",
       "      <th>2</th>\n",
       "      <td>Sears</td>\n",
       "      <td>persName</td>\n",
       "      <td>2596</td>\n",
       "      <td>2601</td>\n",
       "    </tr>\n",
       "    <tr>\n",
       "      <th>3</th>\n",
       "      <td>Sears</td>\n",
       "      <td>placeName</td>\n",
       "      <td>2713</td>\n",
       "      <td>2718</td>\n",
       "    </tr>\n",
       "    <tr>\n",
       "      <th>4</th>\n",
       "      <td>NQO</td>\n",
       "      <td>persName</td>\n",
       "      <td>3265</td>\n",
       "      <td>3268</td>\n",
       "    </tr>\n",
       "  </tbody>\n",
       "</table>\n",
       "</div>"
      ],
      "text/plain": [
       "  entity_pred label_pred  start_char  end_char\n",
       "0       Sears  placeName        2454      2459\n",
       "1    Kanadzie  placeName        2528      2536\n",
       "2       Sears   persName        2596      2601\n",
       "3       Sears  placeName        2713      2718\n",
       "4         NQO   persName        3265      3268"
      ]
     },
     "execution_count": 84,
     "metadata": {},
     "output_type": "execute_result"
    }
   ],
   "source": [
    "named_entities_spacy = find_start_end_indices(named_entities_spacy, full_random_passages_text_20)\n",
    "named_entities_spacy_df = pd.DataFrame(named_entities_spacy).rename(columns = {'entity': 'entity_pred', 'category': 'label_pred'})\n",
    "named_entities_spacy_df.to_parquet('named_entities_spacy_results.parquet')\n",
    "named_entities_spacy_df.head()"
   ]
  },
  {
   "cell_type": "code",
   "execution_count": 85,
   "id": "bf836e2d-7353-42cc-870f-4366b08cd716",
   "metadata": {},
   "outputs": [],
   "source": [
    "named_entities_spacy_df = pd.read_parquet('named_entities_spacy_results.parquet')"
   ]
  },
  {
   "cell_type": "code",
   "execution_count": 86,
   "id": "6e110a57-caef-4103-abb2-97714f55cbbb",
   "metadata": {},
   "outputs": [
    {
     "data": {
      "text/html": [
       "<div>\n",
       "<style scoped>\n",
       "    .dataframe tbody tr th:only-of-type {\n",
       "        vertical-align: middle;\n",
       "    }\n",
       "\n",
       "    .dataframe tbody tr th {\n",
       "        vertical-align: top;\n",
       "    }\n",
       "\n",
       "    .dataframe thead th {\n",
       "        text-align: right;\n",
       "    }\n",
       "</style>\n",
       "<table border=\"1\" class=\"dataframe\">\n",
       "  <thead>\n",
       "    <tr style=\"text-align: right;\">\n",
       "      <th></th>\n",
       "      <th>entity_true</th>\n",
       "      <th>label_true</th>\n",
       "      <th>entity_pred</th>\n",
       "      <th>label_pred</th>\n",
       "    </tr>\n",
       "  </thead>\n",
       "  <tbody>\n",
       "    <tr>\n",
       "      <th>0</th>\n",
       "      <td>30 dni</td>\n",
       "      <td>time</td>\n",
       "      <td>NaN</td>\n",
       "      <td>NaN</td>\n",
       "    </tr>\n",
       "    <tr>\n",
       "      <th>1</th>\n",
       "      <td>Delta</td>\n",
       "      <td>orgName</td>\n",
       "      <td>NaN</td>\n",
       "      <td>NaN</td>\n",
       "    </tr>\n",
       "    <tr>\n",
       "      <th>2</th>\n",
       "      <td>kanadyjskim</td>\n",
       "      <td>placeName</td>\n",
       "      <td>NaN</td>\n",
       "      <td>NaN</td>\n",
       "    </tr>\n",
       "    <tr>\n",
       "      <th>3</th>\n",
       "      <td>Sears</td>\n",
       "      <td>orgName</td>\n",
       "      <td>Sears</td>\n",
       "      <td>placeName</td>\n",
       "    </tr>\n",
       "    <tr>\n",
       "      <th>4</th>\n",
       "      <td>Kanadzie</td>\n",
       "      <td>placeName</td>\n",
       "      <td>Kanadzie</td>\n",
       "      <td>placeName</td>\n",
       "    </tr>\n",
       "  </tbody>\n",
       "</table>\n",
       "</div>"
      ],
      "text/plain": [
       "   entity_true label_true entity_pred label_pred\n",
       "0       30 dni       time         NaN        NaN\n",
       "1        Delta    orgName         NaN        NaN\n",
       "2  kanadyjskim  placeName         NaN        NaN\n",
       "3        Sears    orgName       Sears  placeName\n",
       "4     Kanadzie  placeName    Kanadzie  placeName"
      ]
     },
     "metadata": {},
     "output_type": "display_data"
    },
    {
     "name": "stdout",
     "output_type": "stream",
     "text": [
      "Performance of Traditional NER (SpaCy): {'speed': 0.26978087425231934, 'resource usage': 20.0, 'COR': 10, 'INC': 6, 'MIS': 24, 'SPU': 13, 'POS': 40, 'ACT': 29, 'Precision': 0.3448275862068966, 'Recall': 0.25, 'F1': 0.2898550724637681}\n"
     ]
    }
   ],
   "source": [
    "named_entities_spacy_performance = {'speed': total_time, 'resource usage': used_memory}\n",
    "named_entities_spacy_performance.update(strict_evaluation_ner(ground_truth_df, named_entities_spacy_df))\n",
    "print(f'Performance of Traditional NER (SpaCy): {named_entities_spacy_performance}')"
   ]
  },
  {
   "cell_type": "markdown",
   "id": "c9e4265a-244c-4f95-b6f3-fcf3576cb787",
   "metadata": {},
   "source": [
    "## Task 4"
   ]
  },
  {
   "cell_type": "markdown",
   "id": "22995c36-bbae-48af-ad8a-67fcd7634e74",
   "metadata": {},
   "source": [
    "Design prompts for the LLM to:\r\n",
    "   * Identify named entities in text\r\n",
    "   * Classify them into predefined categories (person, organization, location, e.)"
   ]
  },
  {
   "cell_type": "markdown",
   "id": "d1cbe1af-2913-4121-b6be-dcce01ce83e3",
   "metadata": {},
   "source": [
    "First, I design a zero-shot prompt, which will serve as a baseline for further prompt development. In this prompt, I am applying a combination of techniques, including Clear Instructions, Domain Prompts, and Chain-of-Thought.\r\n",
    "\r\n",
    "The technique known as Clear Instructions is based on two or three prompts:\r\n",
    "- System: This prompt is used to provide instructions,\r\n",
    "- User: This prompt provides context and data,\r\n",
    "- Assistant: This prompt is optional (used in few-shot prompting) and is responsible for providing examples.\r\n",
    "\r\n",
    "The Domain Prompts technique allows the user to include domain-specific instructions.\r\n",
    "\r\n",
    "Chain-of-Thought is a prompting technique in which each given task is followed by an intermediate reasoning step that leads to the final answer."
   ]
  },
  {
   "cell_type": "code",
   "execution_count": 87,
   "id": "e34321b0-81ae-45b3-a355-1773b3b0ab2d",
   "metadata": {},
   "outputs": [],
   "source": [
    "zero_shot_template = '''\n",
    "<start_of_turn>user\n",
    "You are an AI assistant with expertise in Named Entity Recognition (NER). Find named entities as they appear in the given text. \n",
    "Every found named entity must be given with only one predefined category: 'date', 'geogName', 'orgName', 'persName', 'placeName' or 'time'.\n",
    "Return results in JSON format.\n",
    "\n",
    "See further instructions below for each category:\n",
    "\n",
    "- 'date': Refers to specific calendar points or periods such as day, month, year, season, etc.\n",
    "- 'geogName': Refers to geographical names like continents, regions, oceans, rivers, seas, mountains, etc.\n",
    "- 'orgName': Refers to names of organizations, companies, brands, institutions, government bodies, federations, agencies, associations, etc.\n",
    "- 'persName': Refers to personal names such as first names, last names, full names, etc.\n",
    "- 'placeName': Refers to names of locations such as countries, cities, towns, streets, districts, etc.\n",
    "- 'time': Refers to any references to hours, minutes, seconds, periods of time, or time intervals.\n",
    "\n",
    "Let's think step-by-step.\n",
    "\n",
    "The expected result should look like this:\n",
    "1. Extract named entities exactly as they appear in the given text.\n",
    "2. You are forbidden to create new categories.\n",
    "3. You are forbidden to comment or retun anything else than result in JSON format. \n",
    "4. Provide the results in JSON format, where each element in the list is a dictionary with the following structure:\n",
    "   - \"entity\": The exact text of the one named entity.\n",
    "   - \"category\": The predefined one category of the one named entity.\n",
    "\n",
    "Given text: {text}\n",
    "<end_of_turn>\n",
    "<start_of_turn>model\n",
    "'''"
   ]
  },
  {
   "cell_type": "markdown",
   "id": "de548778-d9b0-4613-873f-af8bebd07d62",
   "metadata": {},
   "source": [
    "Below are examples and fragments of a Few-shot prompt gathered together to maintain order. For the Few-shot prompt, I have to split the original prompt into parts, because the langchain prompt template requires this. \n",
    "\n",
    "I also selected examples from a subset of the FIQUA-PL dataset, which is distinct from the random passages subdataset. \r\n",
    "The selected examples are interesting, as they allow me to create answers for multiple categories. In these tasks, I am using the same categories returned by spaCy for comparison purposes."
   ]
  },
  {
   "cell_type": "code",
   "execution_count": 88,
   "id": "30d2edd8-c887-4b78-b4a8-e9470107dccc",
   "metadata": {},
   "outputs": [],
   "source": [
    "examples = [\n",
    "    {\n",
    "        'text': '''Tak, instynktownie wiedziałem, że Bliski Wschód prawdopodobnie nie będzie tym, nawet bez znajomości Jacka o finansach. Więc z punktu\n",
    "        widzenia Europy patrzymy na Frankfurt i Londyn? A co z Azją, co z Hongkongiem? Biorąc pod uwagę, że już teraz staje się centrum instrumentacji\n",
    "        między różnymi systemami finansowymi i bliskością Azji Południowo-Wschodniej (także jest częścią ChRL umożliwiającą bezpośredni dostęp do Chin,\n",
    "        ale nie działa zgodnie z takimi samymi ograniczeniami, jak Szanghaj w ramach umowy „Dwa kraje, jeden system”, czy postrzegasz to jako przyszłe\n",
    "        główne centrum islamskich finansów? A może to wszystko będzie stłoczone w Singapurze?''', \n",
    "        'output':'''\n",
    "        [\n",
    "            {{\n",
    "                \"entity\": \"Bliski Wschód\",\n",
    "                \"category\": \"geogName\"\n",
    "            }}, \n",
    "            {{\n",
    "                \"entity\": \"Jacka\",\n",
    "                \"category\": \"persName\"\n",
    "            }}, \n",
    "            {{\n",
    "                \"entity\": \"Europy\",\n",
    "                \"category\": \"geogName\"\n",
    "            }}, \n",
    "            {{\n",
    "                \"entity\": \"Frankfurt\",\n",
    "                \"category\": \"placeName\"\n",
    "            }}, \n",
    "            {{\n",
    "                \"entity\": \"Londyn\",\n",
    "                \"category\": \"placeName\"\n",
    "            }},\n",
    "            {{\n",
    "                \"entity\": \"Azją\",\n",
    "                \"category\": \"geogName\"\n",
    "            }}, \n",
    "            {{\n",
    "                \"entity\": \"Hongkongiem\",\n",
    "                \"category\": \"placeName\"\n",
    "            }}, \n",
    "            {{\n",
    "                \"entity\": \"Azji Południowo-Wschodniej\",\n",
    "                \"category\": \"geogName\"\n",
    "            }}, \n",
    "            {{\n",
    "                \"entity\": \"ChRL\",\n",
    "                \"category\": \"placeName\"\n",
    "            }}, \n",
    "            {{\n",
    "                \"entity\": \"Chin\",\n",
    "                \"category\": \"placeName\"\n",
    "            }}, \n",
    "            {{\n",
    "                \"entity\": \"Szanghaj\",\n",
    "                \"category\": \"placeName\"\n",
    "            }}, \n",
    "            {{\n",
    "                \"entity\": \"Singapurze\",\n",
    "                \"category\": \"placeName\"\n",
    "            }}\n",
    "        ]'''\n",
    "    }, \n",
    "    {\n",
    "        'text': '''Nie ma ceny, którą którakolwiek z dwóch stron płaci z góry za zawarcie\n",
    "        umowy. Użyty język jest taki, że agent, który zobowiązał się do otrzymania dostawy aktywów bazowych, miał kupić kontrakt. Mówi się, że agent,\n",
    "        który zobowiązuje się dokonać dostawy, sprzedał umowę. Odpowiedz więc na swoje pytanie, kupując 1 czerwca kontrakt futures po cenie 100 USD,\n",
    "        z terminem zapadalności 1 sierpnia, oznacza to, że zobowiązujesz się zapłacić 100 USD za aktywa bazowe 1 sierpnia. Nie musisz nic płacić z góry.\n",
    "        Cena kontraktu futures jest po prostu tym, co kontrakt przewiduje, że aktywa bazowe będą wymieniać ręce.''', \n",
    "        'output':'''\n",
    "        [\n",
    "            {{\n",
    "                \"entity\": \"1 czerwca\", \n",
    "                \"category\": \"date\"\n",
    "            }}, \n",
    "            {{\n",
    "                \"entity\": \"1 sierpnia\",\n",
    "                \"category\": \"date\"\n",
    "            }}, \n",
    "            {{\n",
    "                \"entity\": \"1 sierpnia\",\n",
    "                \"category\": \"date\"\n",
    "            }}\n",
    "        ]'''\n",
    "    },\n",
    "    {\n",
    "        'text': '''W zależności od tego, w jakim stanie mieszkasz w Stanach Zjednoczonych, Twój kanadyjski broker może być w stanie sprzedawać produkty\n",
    "        w ramach istniejącego RRSP. Mam RRSP w Kanadzie za pośrednictwem TD Waterhouse, a oni właśnie wysłali mi ostatni list wyjaśniający, że mogą\n",
    "        obsługiwać moje kanadyjskie RRSP zgodnie z prawem stanu Tennessee (gdzie mieszkam). Notatka dalej wyraźnie stwierdzała, że nie podlegają\n",
    "        one amerykańskim regulacjom maklerów-dealerów ani ustawom o papierach wartościowych/przepisom ustawy TN o papierach wartościowych.\n",
    "        Ponadto stwierdzają, że kanadyjskie RRSP nie są regulowane przez amerykańskie przepisy dotyczące papierów wartościowych, a papiery wartościowe\n",
    "        oferowane i sprzedawane kanadyjskim planom są zwolnione z rejestracji w SEC. Kiedy dzwonię do TD w celu dokonania transakcji, po prostu pytam\n",
    "        o brokera z Kanady/USA i to on zawiera dla mnie sprzedaż. Corocznie deklaruję moje RRSP zarówno do IRS w ramach traktatu RRSP, jak i poprzez\n",
    "        raportowanie FBAR.''', \n",
    "        'output':'''\n",
    "        [\n",
    "            {{\n",
    "                \"entity\": \"Stanach Zjednoczonych\",\n",
    "                \"category\": \"placeName\"\n",
    "            }}, \n",
    "            {{\n",
    "                \"entity\": \"Kanadzie\", \n",
    "                \"category\": \"placeName\"\n",
    "            }}, \n",
    "            {{\n",
    "                \"entity\": \"TD Waterhouse\",\n",
    "                \"category\": \"orgName\"\n",
    "            }}, \n",
    "            {{\n",
    "                \"entity\": \"Tennessee\",\n",
    "                \"category\": \"placeName\"\n",
    "            }}, \n",
    "            {{\n",
    "                \"entity\": \"SEC\", \n",
    "                \"category\": \"orgName\"\n",
    "            }}, \n",
    "            {{\n",
    "                \"entity\": \"TD\",\n",
    "                \"category\": \"orgName\"\n",
    "            }}, \n",
    "            {{\n",
    "                \"entity\": \"Kanady\",\n",
    "                \"category\": \"placeName\"\n",
    "            }}, \n",
    "            {{\n",
    "                \"entity\": \"USA\",\n",
    "                \"category\": \"placeName\"\n",
    "            }}, \n",
    "            {{\n",
    "                \"entity\": \"IRS\", \n",
    "                \"category\": \"orgName\"\n",
    "            }}\n",
    "        ]'''\n",
    "    },\n",
    "    {\n",
    "        'text': '''Aby to zrobić, musisz kupić kartę podarunkową Amazon od innego sprzedawcy internetowego, który akceptuje PayPal, a następnie użyć\n",
    "        karty podarunkowej Amazon na stronie Amazon. Istnieją dziesiątki (jeśli nie setki) witryn, które sprzedają karty podarunkowe Amazon online,\n",
    "        które akceptują PayPal.''',\n",
    "        'output': '''\n",
    "        [\n",
    "            {{\n",
    "                \"entity\": \"Amazon\", \n",
    "                \"category\": \"orgName\"\n",
    "            }}, \n",
    "            {{\n",
    "                \"entity\": \"PayPal\", \n",
    "                \"category\": \"orgName\"\n",
    "            }}, \n",
    "            {{\n",
    "                \"entity\": \"Amazon\",\n",
    "                \"category\": \"orgName\"\n",
    "            }}, \n",
    "            {{\n",
    "                \"entity\": \"Amazon\",\n",
    "                \"category\": \"orgName\"\n",
    "            }}, \n",
    "            {{\n",
    "                \"entity\": \"Amazon\",\n",
    "                \"category\": \"orgName\"\n",
    "            }},\n",
    "            {{\n",
    "                \"entity\": \"PayPal\",\n",
    "                \"category\": \"orgName\"\n",
    "            }}\n",
    "        ]'''\n",
    "    }\n",
    "]"
   ]
  },
  {
   "cell_type": "markdown",
   "id": "473cef56-36f7-444a-ba20-9dcf1ee12290",
   "metadata": {},
   "source": [
    "The FewShotPromptTemplate from LangChain requires several parameters, such as: examples (listed above), example_prompt, prefix and suffix. The rest of these parameter templates are defined below. Some of the prompts need to be modified because the LLM behaves differently when using Few-shot compared to Zero-shot prompts."
   ]
  },
  {
   "cell_type": "code",
   "execution_count": 89,
   "id": "a16b76a0-99cf-4cef-9206-919ae70471c1",
   "metadata": {},
   "outputs": [],
   "source": [
    "example_template = '''\n",
    "Example\n",
    "Text: {text}\n",
    "Output: {output}\n",
    "'''"
   ]
  },
  {
   "cell_type": "code",
   "execution_count": 90,
   "id": "1db0f8fa-3a66-4d38-b69e-470711fe244d",
   "metadata": {},
   "outputs": [],
   "source": [
    "prefix = '''\n",
    "<start_of_turn>user\n",
    "You are an AI assistant with expertise in Named Entity Recognition (NER). Find named entities as they appear in the given text. \n",
    "Every found named entity must be given with only one predefined category: 'date', 'geogName', 'orgName', 'persName', 'placeName' or 'time'.\n",
    "Return results in JSON format.\n",
    "\n",
    "See further instructions below for each category:\n",
    "\n",
    "- 'date': Refers to specific calendar points or periods such as day, month, year, season, etc.\n",
    "- 'geogName': Refers to geographical names like continents, regions, oceans, rivers, seas, mountains, etc.\n",
    "- 'orgName': Refers to names of organizations, companies, brands, institutions, government bodies, federations, agencies, associations, etc.\n",
    "- 'persName': Refers to personal names such as first names, last names, full names, etc.\n",
    "- 'placeName': Refers to names of locations such as countries, cities, towns, streets, districts, etc.\n",
    "- 'time': Refers to any references to hours, minutes, seconds, periods of time, or time intervals.\n",
    "\n",
    "Let's think step-by-step.\n",
    "\n",
    "The expected result should look like this:\n",
    "1. Extract named entities exactly as they appear in the given text.\n",
    "2. You are forbidden to create new categories.\n",
    "3. You are forbidden to comment or retun anything else than result in JSON format. \n",
    "4. Provide the results in JSON format, where each element in the list is a dictionary with the following structure:\n",
    "   - \"entity\": The exact text of the one named entity.\n",
    "   - \"category\": The predefined one category of the one named entity.\n",
    "\n",
    "Examples:\n",
    "'''"
   ]
  },
  {
   "cell_type": "code",
   "execution_count": 91,
   "id": "153cd06f-bea9-4e76-8a30-bcce826de741",
   "metadata": {},
   "outputs": [],
   "source": [
    "suffix = '''\n",
    "Given text: {text}\n",
    "<end_of_turn>\n",
    "<start_of_turn>model\n",
    "'''"
   ]
  },
  {
   "cell_type": "markdown",
   "id": "f2070477-72ce-4fcd-840a-6282f73aefeb",
   "metadata": {},
   "source": [
    "## Task 5"
   ]
  },
  {
   "cell_type": "markdown",
   "id": "527cb25e-2b80-437b-8283-c3663d962fe3",
   "metadata": {},
   "source": [
    "Implement prompt variations to compare performance:\n",
    "   * Zero-shot prompting\n",
    "   * Few-shot prompting with 3-5 examples.)"
   ]
  },
  {
   "cell_type": "code",
   "execution_count": 92,
   "id": "77ee5003-6d9c-4f5e-8405-f322ae933df6",
   "metadata": {},
   "outputs": [],
   "source": [
    "def ollama_ner(prompt_template, textual_data: pd.DataFrame) -> list:\n",
    "    named_entities_llm = []\n",
    "    \n",
    "    for index, row in tqdm(textual_data.iterrows(), total = len(textual_data), desc = 'Searching...'):\n",
    "        response = ollama.invoke(prompt_template.format(text = row['text']), temperature = 0.0)\n",
    "        \n",
    "        if not response.strip():\n",
    "            print(f'Warning: Empty response for DataFrame index {index}. Skipping.')\n",
    "            continue\n",
    "        \n",
    "        try:\n",
    "            named_entities_row = json.loads(response)\n",
    "            named_entities_llm += named_entities_row\n",
    "        except json.JSONDecodeError:\n",
    "            pass\n",
    "    \n",
    "    return named_entities_llm"
   ]
  },
  {
   "cell_type": "markdown",
   "id": "b556d346-cc09-4e8f-afb8-10cad6be3da7",
   "metadata": {},
   "source": [
    "First, I create a Zero-shot prompt using the zero_shot_template developed in the previous task."
   ]
  },
  {
   "cell_type": "code",
   "execution_count": 93,
   "id": "6c4d53f7-5a01-46e4-b31c-bae8a9d492fc",
   "metadata": {},
   "outputs": [],
   "source": [
    "zero_shot_prompt_template = PromptTemplate(input_variables = ['text'], template = zero_shot_template)"
   ]
  },
  {
   "cell_type": "code",
   "execution_count": 94,
   "id": "f8dc0141-2ced-4372-956d-bd2ad0a726d7",
   "metadata": {},
   "outputs": [
    {
     "name": "stderr",
     "output_type": "stream",
     "text": [
      "Searching...: 100%|██████████| 20/20 [05:25<00:00, 16.26s/it]\n"
     ]
    }
   ],
   "source": [
    "start_time = time.time()\n",
    "start_memory = memory_usage()\n",
    "named_entities_zero_shot_llm = ollama_ner(zero_shot_prompt_template, random_passages_df[:20])\n",
    "end_memory = memory_usage()\n",
    "end_time = time.time()\n",
    "\n",
    "total_time = end_time - start_time\n",
    "used_memory = end_memory - start_memory"
   ]
  },
  {
   "cell_type": "code",
   "execution_count": 95,
   "id": "24d3c813-d15f-4c08-8ebd-3c925b9ae5b0",
   "metadata": {},
   "outputs": [
    {
     "data": {
      "text/html": [
       "<div>\n",
       "<style scoped>\n",
       "    .dataframe tbody tr th:only-of-type {\n",
       "        vertical-align: middle;\n",
       "    }\n",
       "\n",
       "    .dataframe tbody tr th {\n",
       "        vertical-align: top;\n",
       "    }\n",
       "\n",
       "    .dataframe thead th {\n",
       "        text-align: right;\n",
       "    }\n",
       "</style>\n",
       "<table border=\"1\" class=\"dataframe\">\n",
       "  <thead>\n",
       "    <tr style=\"text-align: right;\">\n",
       "      <th></th>\n",
       "      <th>entity_pred</th>\n",
       "      <th>label_pred</th>\n",
       "      <th>start_char</th>\n",
       "      <th>end_char</th>\n",
       "    </tr>\n",
       "  </thead>\n",
       "  <tbody>\n",
       "    <tr>\n",
       "      <th>0</th>\n",
       "      <td>EDYCJA</td>\n",
       "      <td>orgName</td>\n",
       "      <td>211.0</td>\n",
       "      <td>217.0</td>\n",
       "    </tr>\n",
       "    <tr>\n",
       "      <th>1</th>\n",
       "      <td>księgowości</td>\n",
       "      <td>orgName</td>\n",
       "      <td>522.0</td>\n",
       "      <td>533.0</td>\n",
       "    </tr>\n",
       "    <tr>\n",
       "      <th>2</th>\n",
       "      <td>biznesie</td>\n",
       "      <td>orgName</td>\n",
       "      <td>536.0</td>\n",
       "      <td>544.0</td>\n",
       "    </tr>\n",
       "    <tr>\n",
       "      <th>3</th>\n",
       "      <td>13 500 USD</td>\n",
       "      <td>date</td>\n",
       "      <td>748.0</td>\n",
       "      <td>758.0</td>\n",
       "    </tr>\n",
       "    <tr>\n",
       "      <th>4</th>\n",
       "      <td>14 250 USD</td>\n",
       "      <td>date</td>\n",
       "      <td>787.0</td>\n",
       "      <td>797.0</td>\n",
       "    </tr>\n",
       "  </tbody>\n",
       "</table>\n",
       "</div>"
      ],
      "text/plain": [
       "   entity_pred label_pred  start_char  end_char\n",
       "0       EDYCJA    orgName       211.0     217.0\n",
       "1  księgowości    orgName       522.0     533.0\n",
       "2     biznesie    orgName       536.0     544.0\n",
       "3   13 500 USD       date       748.0     758.0\n",
       "4   14 250 USD       date       787.0     797.0"
      ]
     },
     "execution_count": 95,
     "metadata": {},
     "output_type": "execute_result"
    }
   ],
   "source": [
    "named_entities_zero_shot_llm = find_start_end_indices(named_entities_zero_shot_llm, full_random_passages_text_20)\n",
    "named_entities_zero_shot_llm_df = pd.DataFrame(named_entities_zero_shot_llm).rename(columns = {'entity': 'entity_pred', 'category': 'label_pred'})\n",
    "named_entities_zero_shot_llm_df.to_parquet('named_entities_zero_shot_llm_results.parquet')\n",
    "named_entities_zero_shot_llm_df.head()"
   ]
  },
  {
   "cell_type": "code",
   "execution_count": 96,
   "id": "a7e17998-e4c2-4d4d-901f-83883a02f398",
   "metadata": {},
   "outputs": [
    {
     "data": {
      "text/html": [
       "<div>\n",
       "<style scoped>\n",
       "    .dataframe tbody tr th:only-of-type {\n",
       "        vertical-align: middle;\n",
       "    }\n",
       "\n",
       "    .dataframe tbody tr th {\n",
       "        vertical-align: top;\n",
       "    }\n",
       "\n",
       "    .dataframe thead th {\n",
       "        text-align: right;\n",
       "    }\n",
       "</style>\n",
       "<table border=\"1\" class=\"dataframe\">\n",
       "  <thead>\n",
       "    <tr style=\"text-align: right;\">\n",
       "      <th></th>\n",
       "      <th>entity_true</th>\n",
       "      <th>label_true</th>\n",
       "      <th>entity_pred</th>\n",
       "      <th>label_pred</th>\n",
       "    </tr>\n",
       "  </thead>\n",
       "  <tbody>\n",
       "    <tr>\n",
       "      <th>0</th>\n",
       "      <td>NaN</td>\n",
       "      <td>NaN</td>\n",
       "      <td>EDYCJA</td>\n",
       "      <td>orgName</td>\n",
       "    </tr>\n",
       "    <tr>\n",
       "      <th>1</th>\n",
       "      <td>NaN</td>\n",
       "      <td>NaN</td>\n",
       "      <td>księgowości</td>\n",
       "      <td>orgName</td>\n",
       "    </tr>\n",
       "    <tr>\n",
       "      <th>2</th>\n",
       "      <td>NaN</td>\n",
       "      <td>NaN</td>\n",
       "      <td>biznesie</td>\n",
       "      <td>orgName</td>\n",
       "    </tr>\n",
       "    <tr>\n",
       "      <th>3</th>\n",
       "      <td>NaN</td>\n",
       "      <td>NaN</td>\n",
       "      <td>13 500 USD</td>\n",
       "      <td>date</td>\n",
       "    </tr>\n",
       "    <tr>\n",
       "      <th>4</th>\n",
       "      <td>NaN</td>\n",
       "      <td>NaN</td>\n",
       "      <td>14 250 USD</td>\n",
       "      <td>date</td>\n",
       "    </tr>\n",
       "  </tbody>\n",
       "</table>\n",
       "</div>"
      ],
      "text/plain": [
       "  entity_true label_true  entity_pred label_pred\n",
       "0         NaN        NaN       EDYCJA    orgName\n",
       "1         NaN        NaN  księgowości    orgName\n",
       "2         NaN        NaN     biznesie    orgName\n",
       "3         NaN        NaN   13 500 USD       date\n",
       "4         NaN        NaN   14 250 USD       date"
      ]
     },
     "metadata": {},
     "output_type": "display_data"
    },
    {
     "name": "stdout",
     "output_type": "stream",
     "text": [
      "Performance of Zero-shot prompting in LLM: {'speed': 325.2818932533264, 'resource usage': 44.0, 'COR': 16, 'INC': 3, 'MIS': 21, 'SPU': 34, 'POS': 40, 'ACT': 53, 'Precision': 0.3018867924528302, 'Recall': 0.4, 'F1': 0.3440860215053763}\n"
     ]
    }
   ],
   "source": [
    "named_entities_zero_shot_llm_performance = {'speed': total_time, 'resource usage': used_memory}\n",
    "named_entities_zero_shot_llm_performance.update(strict_evaluation_ner(ground_truth_df, named_entities_zero_shot_llm_df))\n",
    "print(f'Performance of Zero-shot prompting in LLM: {named_entities_zero_shot_llm_performance}')"
   ]
  },
  {
   "cell_type": "code",
   "execution_count": 98,
   "id": "fde4c2af-94b4-4ca9-b845-8df0122732aa",
   "metadata": {},
   "outputs": [],
   "source": [
    "# with open('named_entities_zero_shot_llm_performance.json', 'w', encoding = 'utf-8') as json_file:\n",
    "#     json.dump(named_entities_zero_shot_llm_performance, json_file, ensure_ascii = False, indent = 4)"
   ]
  },
  {
   "cell_type": "code",
   "execution_count": 99,
   "id": "9b59b575-2bf7-4727-8400-d1e44211392f",
   "metadata": {},
   "outputs": [],
   "source": [
    "with open('named_entities_zero_shot_llm_performance.json', 'r', encoding = 'utf-8') as json_file:\n",
    "    named_entities_zero_shot_llm_performance = json.load(json_file)"
   ]
  },
  {
   "cell_type": "code",
   "execution_count": 100,
   "id": "195d9691-0169-461a-87ec-776a18494ae7",
   "metadata": {},
   "outputs": [
    {
     "name": "stdout",
     "output_type": "stream",
     "text": [
      "{'speed': 325.2818932533264, 'resource usage': 44.0, 'COR': 16, 'INC': 3, 'MIS': 21, 'SPU': 34, 'POS': 40, 'ACT': 53, 'Precision': 0.3018867924528302, 'Recall': 0.4, 'F1': 0.3440860215053763}\n"
     ]
    }
   ],
   "source": [
    "print(named_entities_zero_shot_llm_performance)"
   ]
  },
  {
   "cell_type": "markdown",
   "id": "bf98e465-ab55-4300-860f-091c08aaa933",
   "metadata": {},
   "source": [
    "Then, I crete Few-shot prompt using predefined templates placed in previous task."
   ]
  },
  {
   "cell_type": "code",
   "execution_count": 101,
   "id": "d662e1f0-6e09-4233-8648-2e54a02dc779",
   "metadata": {},
   "outputs": [],
   "source": [
    "example_prompt = PromptTemplate(input_variables = ['text', 'output'], template = example_template)"
   ]
  },
  {
   "cell_type": "code",
   "execution_count": 102,
   "id": "5610e54d-3754-4451-bc78-098cb5ef65e3",
   "metadata": {},
   "outputs": [],
   "source": [
    "few_shot_prompt_template = FewShotPromptTemplate(\n",
    "    examples = examples,\n",
    "    example_prompt = example_prompt,\n",
    "    prefix = prefix,\n",
    "    suffix = suffix,\n",
    "    input_variables = ['text'],\n",
    "    example_separator = ''\n",
    ")"
   ]
  },
  {
   "cell_type": "code",
   "execution_count": 103,
   "id": "a322c136-1a8f-430a-844e-dd6241f8780a",
   "metadata": {},
   "outputs": [
    {
     "name": "stderr",
     "output_type": "stream",
     "text": [
      "Searching...: 100%|██████████| 20/20 [09:52<00:00, 29.60s/it]\n"
     ]
    }
   ],
   "source": [
    "start_time = time.time()\n",
    "start_memory = memory_usage()\n",
    "named_entities_few_shot_llm = ollama_ner(few_shot_prompt_template, random_passages_df[:20])\n",
    "end_memory = memory_usage()\n",
    "end_time = time.time()\n",
    "\n",
    "total_time = end_time - start_time\n",
    "used_memory = end_memory - start_memory"
   ]
  },
  {
   "cell_type": "code",
   "execution_count": 104,
   "id": "a14ad8d5-b0ee-4037-9951-b87577a546f3",
   "metadata": {},
   "outputs": [
    {
     "data": {
      "text/html": [
       "<div>\n",
       "<style scoped>\n",
       "    .dataframe tbody tr th:only-of-type {\n",
       "        vertical-align: middle;\n",
       "    }\n",
       "\n",
       "    .dataframe tbody tr th {\n",
       "        vertical-align: top;\n",
       "    }\n",
       "\n",
       "    .dataframe thead th {\n",
       "        text-align: right;\n",
       "    }\n",
       "</style>\n",
       "<table border=\"1\" class=\"dataframe\">\n",
       "  <thead>\n",
       "    <tr style=\"text-align: right;\">\n",
       "      <th></th>\n",
       "      <th>entity_pred</th>\n",
       "      <th>label_pred</th>\n",
       "      <th>start_char</th>\n",
       "      <th>end_char</th>\n",
       "    </tr>\n",
       "  </thead>\n",
       "  <tbody>\n",
       "    <tr>\n",
       "      <th>0</th>\n",
       "      <td>EDYCJA</td>\n",
       "      <td>time</td>\n",
       "      <td>211.0</td>\n",
       "      <td>217.0</td>\n",
       "    </tr>\n",
       "    <tr>\n",
       "      <th>1</th>\n",
       "      <td>księgowości</td>\n",
       "      <td>placeName</td>\n",
       "      <td>522.0</td>\n",
       "      <td>533.0</td>\n",
       "    </tr>\n",
       "    <tr>\n",
       "      <th>2</th>\n",
       "      <td>biznesie</td>\n",
       "      <td>placeName</td>\n",
       "      <td>536.0</td>\n",
       "      <td>544.0</td>\n",
       "    </tr>\n",
       "    <tr>\n",
       "      <th>3</th>\n",
       "      <td>13 500 USD</td>\n",
       "      <td>time</td>\n",
       "      <td>748.0</td>\n",
       "      <td>758.0</td>\n",
       "    </tr>\n",
       "    <tr>\n",
       "      <th>4</th>\n",
       "      <td>14 250 USD</td>\n",
       "      <td>time</td>\n",
       "      <td>787.0</td>\n",
       "      <td>797.0</td>\n",
       "    </tr>\n",
       "  </tbody>\n",
       "</table>\n",
       "</div>"
      ],
      "text/plain": [
       "   entity_pred label_pred  start_char  end_char\n",
       "0       EDYCJA       time       211.0     217.0\n",
       "1  księgowości  placeName       522.0     533.0\n",
       "2     biznesie  placeName       536.0     544.0\n",
       "3   13 500 USD       time       748.0     758.0\n",
       "4   14 250 USD       time       787.0     797.0"
      ]
     },
     "execution_count": 104,
     "metadata": {},
     "output_type": "execute_result"
    }
   ],
   "source": [
    "named_entities_few_shot_llm = find_start_end_indices(named_entities_few_shot_llm, full_random_passages_text_20)\n",
    "named_entities_few_shot_llm_df = pd.DataFrame(named_entities_few_shot_llm).rename(columns = {'entity': 'entity_pred', 'category': 'label_pred'})\n",
    "named_entities_few_shot_llm_df.to_parquet('named_entities_few_shot_llm_results.parquet')\n",
    "named_entities_few_shot_llm_df.head()"
   ]
  },
  {
   "cell_type": "code",
   "execution_count": 105,
   "id": "f00f91af-b3c6-4edc-b6d5-056618711557",
   "metadata": {},
   "outputs": [
    {
     "data": {
      "text/html": [
       "<div>\n",
       "<style scoped>\n",
       "    .dataframe tbody tr th:only-of-type {\n",
       "        vertical-align: middle;\n",
       "    }\n",
       "\n",
       "    .dataframe tbody tr th {\n",
       "        vertical-align: top;\n",
       "    }\n",
       "\n",
       "    .dataframe thead th {\n",
       "        text-align: right;\n",
       "    }\n",
       "</style>\n",
       "<table border=\"1\" class=\"dataframe\">\n",
       "  <thead>\n",
       "    <tr style=\"text-align: right;\">\n",
       "      <th></th>\n",
       "      <th>entity_true</th>\n",
       "      <th>label_true</th>\n",
       "      <th>entity_pred</th>\n",
       "      <th>label_pred</th>\n",
       "    </tr>\n",
       "  </thead>\n",
       "  <tbody>\n",
       "    <tr>\n",
       "      <th>0</th>\n",
       "      <td>NaN</td>\n",
       "      <td>NaN</td>\n",
       "      <td>EDYCJA</td>\n",
       "      <td>time</td>\n",
       "    </tr>\n",
       "    <tr>\n",
       "      <th>1</th>\n",
       "      <td>NaN</td>\n",
       "      <td>NaN</td>\n",
       "      <td>księgowości</td>\n",
       "      <td>placeName</td>\n",
       "    </tr>\n",
       "    <tr>\n",
       "      <th>2</th>\n",
       "      <td>NaN</td>\n",
       "      <td>NaN</td>\n",
       "      <td>biznesie</td>\n",
       "      <td>placeName</td>\n",
       "    </tr>\n",
       "    <tr>\n",
       "      <th>3</th>\n",
       "      <td>NaN</td>\n",
       "      <td>NaN</td>\n",
       "      <td>13 500 USD</td>\n",
       "      <td>time</td>\n",
       "    </tr>\n",
       "    <tr>\n",
       "      <th>4</th>\n",
       "      <td>NaN</td>\n",
       "      <td>NaN</td>\n",
       "      <td>14 250 USD</td>\n",
       "      <td>time</td>\n",
       "    </tr>\n",
       "  </tbody>\n",
       "</table>\n",
       "</div>"
      ],
      "text/plain": [
       "  entity_true label_true  entity_pred label_pred\n",
       "0         NaN        NaN       EDYCJA       time\n",
       "1         NaN        NaN  księgowości  placeName\n",
       "2         NaN        NaN     biznesie  placeName\n",
       "3         NaN        NaN   13 500 USD       time\n",
       "4         NaN        NaN   14 250 USD       time"
      ]
     },
     "metadata": {},
     "output_type": "display_data"
    },
    {
     "name": "stdout",
     "output_type": "stream",
     "text": [
      "Performance of Few-shot prompting in LLM: {'speed': 592.0699348449707, 'resource usage': 16.0, 'COR': 10, 'INC': 3, 'MIS': 27, 'SPU': 17, 'POS': 40, 'ACT': 30, 'Precision': 0.3333333333333333, 'Recall': 0.25, 'F1': 0.28571428571428575}\n"
     ]
    }
   ],
   "source": [
    "named_entities_few_shot_llm_performance = {'speed': total_time, 'resource usage': used_memory}\n",
    "named_entities_few_shot_llm_performance.update(strict_evaluation_ner(ground_truth_df, named_entities_few_shot_llm_df))\n",
    "print(f'Performance of Few-shot prompting in LLM: {named_entities_few_shot_llm_performance}')"
   ]
  },
  {
   "cell_type": "code",
   "execution_count": 107,
   "id": "4d2b1290-7b8f-4212-9945-d589d9b014af",
   "metadata": {},
   "outputs": [],
   "source": [
    "# with open('named_entities_few_shot_llm_performance.json', 'w', encoding = 'utf-8') as json_file:\n",
    "#     json.dump(named_entities_few_shot_llm_performance, json_file, ensure_ascii = False, indent = 4)"
   ]
  },
  {
   "cell_type": "code",
   "execution_count": 108,
   "id": "75b6902b-24ed-46cc-823f-336ec9e72faa",
   "metadata": {},
   "outputs": [],
   "source": [
    "with open('named_entities_few_shot_llm_performance.json', 'r', encoding = 'utf-8') as json_file:\n",
    "    named_entities_few_shot_llm_performance = json.load(json_file)"
   ]
  },
  {
   "cell_type": "code",
   "execution_count": 109,
   "id": "d742129a-ffdc-41a3-a370-d4a37e003723",
   "metadata": {},
   "outputs": [
    {
     "name": "stdout",
     "output_type": "stream",
     "text": [
      "{'speed': 592.0699348449707, 'resource usage': 16.0, 'COR': 10, 'INC': 3, 'MIS': 27, 'SPU': 17, 'POS': 40, 'ACT': 30, 'Precision': 0.3333333333333333, 'Recall': 0.25, 'F1': 0.28571428571428575}\n"
     ]
    }
   ],
   "source": [
    "print(named_entities_few_shot_llm_performance)"
   ]
  },
  {
   "cell_type": "markdown",
   "id": "81b6137c-4037-43a9-a504-ebc721fcb2af",
   "metadata": {},
   "source": [
    "Having obtained performance results for Zero-shot prompting and Few-shot prompting, I conduct a comparison of both methods."
   ]
  },
  {
   "cell_type": "code",
   "execution_count": 110,
   "id": "210093dc-046f-4160-8465-6f31bfb457eb",
   "metadata": {},
   "outputs": [],
   "source": [
    "models_performances = {\n",
    "    'SpaCy': named_entities_spacy_performance,\n",
    "    'Zero-shot LLM': named_entities_zero_shot_llm_performance,\n",
    "    'Few-shot LLM': named_entities_few_shot_llm_performance\n",
    "}"
   ]
  },
  {
   "cell_type": "code",
   "execution_count": 111,
   "id": "9a5d13b4-0f51-4203-aa19-cc7feb18d488",
   "metadata": {},
   "outputs": [],
   "source": [
    "models_performances_df = pd.DataFrame(models_performances)"
   ]
  },
  {
   "cell_type": "code",
   "execution_count": 112,
   "id": "22a16d98-7ac1-44bb-bd26-fc9166ba283a",
   "metadata": {},
   "outputs": [],
   "source": [
    "def visualize_comparision(model_names: list, vizualization_labels: dict, colors: list, rows: int, cols: int) -> None:\n",
    "    plt.rcParams['figure.figsize'] = [14, 8]\n",
    "\n",
    "    for metric in vizualization_labels.keys():\n",
    "        plt.subplot(rows, cols, vizualization_labels[metric]['plot_num'])\n",
    "        plt.bar(np.array(model_names), np.array(models_performances_df.loc[metric, model_names]), color = colors)\n",
    "        plt.xlabel('Models') \n",
    "        plt.ylabel(vizualization_labels[metric]['y']) \n",
    "        plt.title(vizualization_labels[metric]['title']) \n",
    "\n",
    "    plt.subplots_adjust(hspace = 0.3, wspace = 0.3)\n",
    "    plt.show()"
   ]
  },
  {
   "cell_type": "code",
   "execution_count": 113,
   "id": "72f01d0c-e834-466b-87f4-52d8e04f353c",
   "metadata": {},
   "outputs": [
    {
     "data": {
      "image/png": "[encoded data removed]",
      "text/plain": [
       "<Figure size 1400x800 with 5 Axes>"
      ]
     },
     "metadata": {},
     "output_type": "display_data"
    }
   ],
   "source": [
    "vizualization_labels = {'speed': {'title': 'Speed Comparison', 'y': 'Speed (s)', 'plot_num': 1},\n",
    "                        'resource usage': {'title': 'Resource Usage Comparison', 'y': 'Memory usage (KB)', 'plot_num': 2}, \n",
    "                        'Precision': {'title': 'Precision Comparison', 'y': 'Precision', 'plot_num': 3},\n",
    "                        'Recall': {'title':  'Recall Comparison', 'y': 'Recall', 'plot_num': 4},\n",
    "                        'F1': {'title': 'F1 Comparison', 'y': 'F1', 'plot_num': 5}}\n",
    "\n",
    "model_names = ['Zero-shot LLM', 'Few-shot LLM']\n",
    "colors = ['#00447c', '#fdb913']\n",
    "\n",
    "visualize_comparision(model_names, vizualization_labels, colors, rows = 2, cols = 3)"
   ]
  },
  {
   "cell_type": "markdown",
   "id": "c5bdc3c8-1532-4c56-a1e9-93e7adbfde69",
   "metadata": {},
   "source": [
    "Obtained results indicate that in this case:\n",
    "- The Zero-shot LLM was faster than the Few-shot LLM. It had less commands to analyze,\n",
    "- The Zero-shot LLM used more resources (KB) compared to the Few-shot LLM. This could be due to the Zero-shot model using more memory to handle the raw complexity of performing the task without prior examples,\n",
    "- The Few-shot LLM had higher precision than the Zero-shot LLM. The Few-shot model might perform better because the examples provided in the prompt help the model to better understand the context and make more accurate predictions.\n",
    "- The Zero-shot LLM had higher recall than the Few-shot LLM,\n",
    "- The Zero-shot LLM had a higher F1 score than the Few-shot LLM.\n",
    "\n",
    "Summarizing all the compared metrics, a conclusion can be made that the Zero-shot model was faster and tended to find more relevant entities, but it may be more prone to false positives. In contrast, the Few-shot model was more accurate, when it came to precision, but it missed some relevant entities. \r\n",
    "The higher F1 score for the Zero-shot model indicates that, despite having lower precision, it strides a better balance between precision and recall in this particular task."
   ]
  },
  {
   "cell_type": "markdown",
   "id": "221472f1-9fdf-4514-82ab-faa69e6d5fd2",
   "metadata": {},
   "source": [
    "## Task 6"
   ]
  },
  {
   "cell_type": "markdown",
   "id": "96153c2a-98da-48b1-8320-c4fc6b87c9e9",
   "metadata": {},
   "source": [
    "Compare results between:\r\n",
    "   * Traditional NER (SpaCy)\r\n",
    "   * Pure LLM-based approach"
   ]
  },
  {
   "cell_type": "code",
   "execution_count": 114,
   "id": "e537abc0-5e32-4b9f-a167-275e8dbfb804",
   "metadata": {},
   "outputs": [
    {
     "data": {
      "text/html": [
       "<div>\n",
       "<style scoped>\n",
       "    .dataframe tbody tr th:only-of-type {\n",
       "        vertical-align: middle;\n",
       "    }\n",
       "\n",
       "    .dataframe tbody tr th {\n",
       "        vertical-align: top;\n",
       "    }\n",
       "\n",
       "    .dataframe thead th {\n",
       "        text-align: right;\n",
       "    }\n",
       "</style>\n",
       "<table border=\"1\" class=\"dataframe\">\n",
       "  <thead>\n",
       "    <tr style=\"text-align: right;\">\n",
       "      <th></th>\n",
       "      <th>SpaCy</th>\n",
       "      <th>Zero-shot LLM</th>\n",
       "      <th>Few-shot LLM</th>\n",
       "    </tr>\n",
       "  </thead>\n",
       "  <tbody>\n",
       "    <tr>\n",
       "      <th>speed</th>\n",
       "      <td>0.269781</td>\n",
       "      <td>325.281893</td>\n",
       "      <td>592.069935</td>\n",
       "    </tr>\n",
       "    <tr>\n",
       "      <th>resource usage</th>\n",
       "      <td>20.000000</td>\n",
       "      <td>44.000000</td>\n",
       "      <td>16.000000</td>\n",
       "    </tr>\n",
       "    <tr>\n",
       "      <th>COR</th>\n",
       "      <td>10.000000</td>\n",
       "      <td>16.000000</td>\n",
       "      <td>10.000000</td>\n",
       "    </tr>\n",
       "    <tr>\n",
       "      <th>INC</th>\n",
       "      <td>6.000000</td>\n",
       "      <td>3.000000</td>\n",
       "      <td>3.000000</td>\n",
       "    </tr>\n",
       "    <tr>\n",
       "      <th>MIS</th>\n",
       "      <td>24.000000</td>\n",
       "      <td>21.000000</td>\n",
       "      <td>27.000000</td>\n",
       "    </tr>\n",
       "    <tr>\n",
       "      <th>SPU</th>\n",
       "      <td>13.000000</td>\n",
       "      <td>34.000000</td>\n",
       "      <td>17.000000</td>\n",
       "    </tr>\n",
       "    <tr>\n",
       "      <th>POS</th>\n",
       "      <td>40.000000</td>\n",
       "      <td>40.000000</td>\n",
       "      <td>40.000000</td>\n",
       "    </tr>\n",
       "    <tr>\n",
       "      <th>ACT</th>\n",
       "      <td>29.000000</td>\n",
       "      <td>53.000000</td>\n",
       "      <td>30.000000</td>\n",
       "    </tr>\n",
       "    <tr>\n",
       "      <th>Precision</th>\n",
       "      <td>0.344828</td>\n",
       "      <td>0.301887</td>\n",
       "      <td>0.333333</td>\n",
       "    </tr>\n",
       "    <tr>\n",
       "      <th>Recall</th>\n",
       "      <td>0.250000</td>\n",
       "      <td>0.400000</td>\n",
       "      <td>0.250000</td>\n",
       "    </tr>\n",
       "    <tr>\n",
       "      <th>F1</th>\n",
       "      <td>0.289855</td>\n",
       "      <td>0.344086</td>\n",
       "      <td>0.285714</td>\n",
       "    </tr>\n",
       "  </tbody>\n",
       "</table>\n",
       "</div>"
      ],
      "text/plain": [
       "                    SpaCy  Zero-shot LLM  Few-shot LLM\n",
       "speed            0.269781     325.281893    592.069935\n",
       "resource usage  20.000000      44.000000     16.000000\n",
       "COR             10.000000      16.000000     10.000000\n",
       "INC              6.000000       3.000000      3.000000\n",
       "MIS             24.000000      21.000000     27.000000\n",
       "SPU             13.000000      34.000000     17.000000\n",
       "POS             40.000000      40.000000     40.000000\n",
       "ACT             29.000000      53.000000     30.000000\n",
       "Precision        0.344828       0.301887      0.333333\n",
       "Recall           0.250000       0.400000      0.250000\n",
       "F1               0.289855       0.344086      0.285714"
      ]
     },
     "execution_count": 114,
     "metadata": {},
     "output_type": "execute_result"
    }
   ],
   "source": [
    "models_performances_df"
   ]
  },
  {
   "cell_type": "code",
   "execution_count": 115,
   "id": "cbfb61c1-9ba6-4698-8422-1f6987bd8e6c",
   "metadata": {},
   "outputs": [
    {
     "data": {
      "image/png": "[encoded data removed]",
      "text/plain": [
       "<Figure size 1400x800 with 5 Axes>"
      ]
     },
     "metadata": {},
     "output_type": "display_data"
    }
   ],
   "source": [
    "model_names = ['SpaCy', 'Zero-shot LLM', 'Few-shot LLM']\n",
    "colors = ['#e36f1e', '#00447c', '#fdb913']\n",
    "visualize_comparision(model_names, vizualization_labels, colors, rows = 2, cols = 3)"
   ]
  },
  {
   "cell_type": "markdown",
   "id": "de0b720f-1d51-4691-a82c-97a7b50e88dc",
   "metadata": {},
   "source": [
    "In this task, I compare results between Traditional NER (SpaCy) and both variants of LLM (Gemma2). I assume these variants fall under the term 'Pure LLM-based approach'.\r\n",
    "\r\n",
    "The obtained results indicate that, in this case:\r\n",
    "- Traditional NER (SpaCy) significantly outperformed both LLM models in terms of speed (the measurement is so small that it is barely noticeable). It is normal situation, because SpaCy is a task-specific model fine-tuned for NER, which makes it optimized and efficient for this task. In contrast gemma2 s  general-purpose mo, what resulted in worser resultsdel,\r\n",
    "- Traditional NER (SpaCy) with Few-shot LLM used least resources among the compared models. The difference between Traditional NER (SpaCy) and the Zero-shot LLM is significant.\r\n",
    "- Traditional NER (SpaCy) achieved the highest precision among the compared models, being more precise than the Few-shot LLM. It is easy explainable as SpaCy is a specialized model for NER,\r\n",
    "- Surprisingly, Traditional NER (SpaCy) returned a lower recall than the Zero-shot LLM. It seems that Zero-shot LLM caught more entities due to its general undestanding of language,\r\n",
    "- In terms of F1 score, Traditional NER (SpaCy) and the Few-shot LLM had similar results lower than Zero-shot LLM."
   ]
  },
  {
   "cell_type": "markdown",
   "id": "85ff52a7-2497-43de-aa81-a521dec00b89",
   "metadata": {},
   "source": [
    "## Task 7"
   ]
  },
  {
   "cell_type": "markdown",
   "id": "b33e0af8-2d5d-4bcd-a50c-ce198f0d3125",
   "metadata": {},
   "source": [
    "Build a simple evaluation pipeline:\r\n",
    "   * Manually annotate 20 passages for ground truth (ideally, share those annotated passages in the group, so everyone have much more than 20)\r\n",
    "   * Compute precision, recall, and F1 score for each approach\r\n",
    "   * Analyze error patterns and classification mistakes"
   ]
  },
  {
   "cell_type": "markdown",
   "id": "db20a4be-8335-4764-b5ea-5ed8a72e29e3",
   "metadata": {},
   "source": [
    "I have already manually annotated 20 passages for the ground truth in Task 3. I have also computed: precision, recall and F1 score for each approach. Now, I am going to focus on error pattern analysis and classification mistakes. Some of the previously gathered results may be helpful."
   ]
  },
  {
   "cell_type": "code",
   "execution_count": 116,
   "id": "62c3da0e-8202-4130-9643-a13fdb7d93fe",
   "metadata": {},
   "outputs": [
    {
     "data": {
      "image/png": "[encoded data removed]",
      "text/plain": [
       "<Figure size 1000x800 with 1 Axes>"
      ]
     },
     "metadata": {},
     "output_type": "display_data"
    },
    {
     "data": {
      "image/png": "[encoded data removed]",
      "text/plain": [
       "<Figure size 1000x800 with 1 Axes>"
      ]
     },
     "metadata": {},
     "output_type": "display_data"
    },
    {
     "data": {
      "image/png": "[encoded data removed]",
      "text/plain": [
       "<Figure size 1000x800 with 1 Axes>"
      ]
     },
     "metadata": {},
     "output_type": "display_data"
    }
   ],
   "source": [
    "model_names = ['SpaCy', 'Zero-shot LLM', 'Few-shot LLM']\n",
    "metrics = ['correct', 'incorrect', 'missed', 'spurious', 'possible', 'actual']\n",
    "colors = ['#514134', '#e35839', '#d28d4f', '#dbae1d', '#477187', '#323a3f']\n",
    "plt.rcParams['figure.figsize'] = [10, 8]\n",
    "\n",
    "for model_name in model_names:\n",
    "    plt.subplot(3, 1, model_names.index(model_name) + 1)\n",
    "    plt.bar(metrics, [int(x) for x in models_performances_df[model_name][2:8]], color = colors)\n",
    "    plt.xlabel('Metrics') \n",
    "    plt.ylabel('Count') \n",
    "    plt.title(f'Metrics for Categorizing Errors and Evaluating the NER {model_name} model') \n",
    "    plt.subplots_adjust(hspace = 0.3)\n",
    "    plt.show()"
   ]
  },
  {
   "cell_type": "markdown",
   "id": "caa45bb5-22b9-46b1-bbae-aeba5ecca1eb",
   "metadata": {},
   "source": [
    "The analysis of error patterns and classification mistakes reveals several important insights. Across all models, the number of incorrect classifications (INC) was the lowest among the metrics suggesting errors. It was uncommon for a situation to arise where both a ground truth entity and a predicted entity were present but not exactly the same. The results show that the primary issue was not the mismatch of similar entities, but rather the models inability to correctly identify true entities.\r\n",
    "\r\n",
    "High missed classifications (MIS) demonstrate that many true entities were not captured at all. At the same time, the models frequently identified entities that did not correspond to any true entities, as reflected in the high number of spurious classifications (SPU). This over-predictive behavior was particularly notable in the Zero-shot LLM, which tended to generate false positives by identifying non-existent entities.\r\n",
    "\r\n",
    "Summarizing theses findings, the models faced two major challenges: failing to detect true entities and predicting non-existent entition."
   ]
  },
  {
   "cell_type": "markdown",
   "id": "d4502c59-6dfd-4bc0-bb17-b8b5f3449891",
   "metadata": {},
   "source": [
    "## Questions"
   ]
  },
  {
   "cell_type": "markdown",
   "id": "88336edc-8af3-4947-9df1-63bff0194f1f",
   "metadata": {},
   "source": [
    "### Question 1"
   ]
  },
  {
   "cell_type": "markdown",
   "id": "38b3a3c3-412b-4a1c-b8c2-a7587db9595f",
   "metadata": {},
   "source": [
    "How does the performance of LLM-based NER compare to traditional approaches? What are the trade-offs in terms of accuracy, speed, and resource usage?"
   ]
  },
  {
   "cell_type": "markdown",
   "id": "48539aea-f360-4016-9de3-2fe789f99d86",
   "metadata": {},
   "source": [
    "In my opinion, traditional NER (SpaCy) significantly outperformed both LLM models in terms of speed. Resource usage for NER (SpaCy) and Few-shot LLM was lower than Zero-shot LLM. Traditional NER was also quite more precesive than Few-shot LLM. Based on previous interpretations of results, I can conclude that traditional NER offers several trade-offs. Firstly, traditional NER systems are far superior in terms of speed, making them the preferred choice for applications where latency is critical. They are also resource-efficient, which makes them ideal for environments with limited computational capacity. While LLMs tend to have better accuracy in open-domain or low-resource settings, traditional models often outperform them in structured or domain-specific tasks."
   ]
  },
  {
   "cell_type": "markdown",
   "id": "4cc5d8a5-fb62-4c6f-a6de-5aa07d05ac3d",
   "metadata": {},
   "source": [
    "### Question 2"
   ]
  },
  {
   "cell_type": "markdown",
   "id": "621b96a3-2ee0-44a9-b92d-07b05af2e1d7",
   "metadata": {},
   "source": [
    "Which prompting strategy proved most effective for NER and classification tasks? Why?"
   ]
  },
  {
   "cell_type": "markdown",
   "id": "6cb2fe57-390d-40f8-86a1-6ffcd8db964e",
   "metadata": {},
   "source": [
    "Few-shot prompting proved to be the most effective for NER and classification tasks due to its ability to guide the model with clear examples. Although Zero-shot prompting was fast and required no examples, it was often less precesive, especially in complex tasks, where the model needed contextual understanding to correctly identify and classify entities."
   ]
  },
  {
   "cell_type": "markdown",
   "id": "d4176a6c-98e7-4a88-a984-a38b6e341e11",
   "metadata": {},
   "source": [
    "### Question 3"
   ]
  },
  {
   "cell_type": "markdown",
   "id": "867b55a5-f005-4b5f-85df-f97c94a0aba7",
   "metadata": {},
   "source": [
    "What are the limitations and potential biases of using LLMs for NER and classification?"
   ]
  },
  {
   "cell_type": "markdown",
   "id": "767080c2-7008-4b0a-927e-eba012a7ee49",
   "metadata": {},
   "source": [
    "The chosen LLMs for NER turned out to be unstable and unreliable. Responses from LLMs can be inconsistent, even with the same prompt, due to their probabilistic nature. This inconsistency can result in unpredictable behavior that affects running code. LLMs are also resource-intensive, making them costly to use. Another limitation of LLMs is that their performance can degrade, if the input text is too long or contains complex interdependencies. They may generate spurious entities or classifications that are not grounded in the input text. This was a real problem in my model and only a complex prompt partially mitigated the issue. Additionally, customizability is a barrier, as users often have to rely on trial-and-error methods during prompt design without any guarantee of improved results.\n",
    "\n",
    "Several biases are worth mentioning. Firstly, there is language and regional bias, as LLMs tend to perform better in widely spoken languages like English. Moreover, the design of prompts can unintentionally introduce biases. For instance, the phrasing of a prompt might lead the model to focus on certain entity types while ignoring others.\n",
    "\n",
    "Another source of bias stems from the training data. LLMs are trained on vast datasets, but imbalanced data can lead to poor performance on underrepresented entities, topics, or categories. LLMs may also fail to recognize domain-specific entities because their training data prioritizes general knowledge."
   ]
  },
  {
   "cell_type": "markdown",
   "id": "fae23ab8-93a8-42fa-a6b3-8b1abff5f8f9",
   "metadata": {},
   "source": [
    "### Question 4"
   ]
  },
  {
   "cell_type": "markdown",
   "id": "f23bdf43-4666-4824-bf6d-7a025b05f8d2",
   "metadata": {},
   "source": [
    "In what scenarios would you recommend using traditional NER vs. LLM-based approaches?\n"
   ]
  },
  {
   "cell_type": "markdown",
   "id": "7dbcf019-69ba-4cdf-b602-0f56de695fbd",
   "metadata": {},
   "source": [
    "Traditional NER is highly suitable for high-speed applications like real-time chatbots. These models are also a great choice for resource-constrained environments due to their minimal computational requirements. Additionally, traditional NER performs effectively, when extracting entities like names or dates from structured documents.\r\n",
    "\r\n",
    "In contrast, LLM-based approaches have distinct applications compared to traditional NER. LLMs are particularly valuable for tasks requiring multilingual or cross-domain capabilities. They excel in applications such as chatbots, where advanced contextual understanding or handling of ambiguous text is required. Furthermore, in scenarios involving complex or nuanced information, leveraging large, well-trained models becomes a preferable choice."
   ]
  }
 ],
 "metadata": {
  "kernelspec": {
   "display_name": "nlp_venv",
   "language": "python",
   "name": "nlp_venv"
  },
  "language_info": {
   "codemirror_mode": {
    "name": "ipython",
    "version": 3
   },
   "file_extension": ".py",
   "mimetype": "text/x-python",
   "name": "python",
   "nbconvert_exporter": "python",
   "pygments_lexer": "ipython3",
   "version": "3.9.20"
  }
 },
 "nbformat": 4,
 "nbformat_minor": 5
}
